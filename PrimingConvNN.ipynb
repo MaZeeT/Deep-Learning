{
 "cells": [
  {
   "cell_type": "code",
   "execution_count": 1,
   "metadata": {},
   "outputs": [
    {
     "data": {
      "text/plain": [
       "'2.3.1'"
      ]
     },
     "execution_count": 1,
     "metadata": {},
     "output_type": "execute_result"
    }
   ],
   "source": [
    "import os\n",
    "import keras\n",
    "\n",
    "from keras.preprocessing.image import ImageDataGenerator\n",
    "\n",
    "keras.__version__"
   ]
  },
  {
   "cell_type": "code",
   "execution_count": 2,
   "metadata": {},
   "outputs": [],
   "source": [
    "from tensorflow.compat.v1 import ConfigProto\n",
    "from tensorflow.compat.v1 import InteractiveSession\n",
    "# Limits GPU-RAM usage\n",
    "config = ConfigProto()\n",
    "config.gpu_options.allow_growth = True\n",
    "session = InteractiveSession(config=config)"
   ]
  },
  {
   "cell_type": "code",
   "execution_count": 3,
   "metadata": {},
   "outputs": [],
   "source": [
    "# import and \"clean\" data"
   ]
  },
  {
   "cell_type": "code",
   "execution_count": 4,
   "metadata": {},
   "outputs": [],
   "source": [
    "priming_epochs = 100\n",
    "training_epochs = 50\n",
    "batch_size = 5\n",
    "target_width = 150\n",
    "target_height = 150\n",
    "target_size = (target_width, target_height)\n",
    "target_shape = (target_width, target_height, 3) # 3 for color\n",
    "base_dir = 'paintingsPriming'"
   ]
  },
  {
   "cell_type": "code",
   "execution_count": 5,
   "metadata": {},
   "outputs": [],
   "source": [
    "def get_generator(base_dir, folderName):\n",
    "    directory = os.path.join(base_dir, folderName)\n",
    "    return ImageDataGenerator(rescale=1./255).flow_from_directory(\n",
    "        directory, \n",
    "        target_size= target_size, \n",
    "        batch_size= batch_size,\n",
    "        shuffle=True,\n",
    "        class_mode='sparse'\n",
    "    )"
   ]
  },
  {
   "cell_type": "code",
   "execution_count": 6,
   "metadata": {},
   "outputs": [
    {
     "name": "stdout",
     "output_type": "stream",
     "text": [
      "Found 15 images belonging to 3 classes.\n",
      "Found 195 images belonging to 3 classes.\n",
      "Found 30 images belonging to 3 classes.\n",
      "Found 60 images belonging to 3 classes.\n"
     ]
    }
   ],
   "source": [
    "priming_gen = get_generator(base_dir, 'priming')\n",
    "train_gen = get_generator(base_dir, 'train')\n",
    "test_gen = get_generator(base_dir, 'test')\n",
    "validation_gen = get_generator(base_dir, 'validation')"
   ]
  },
  {
   "cell_type": "code",
   "execution_count": 7,
   "metadata": {},
   "outputs": [],
   "source": [
    "numOfClasses = train_gen.num_classes\n",
    "\n",
    "numOfPrimingSamples = priming_gen.n\n",
    "numOfTrainSamples = train_gen.n\n",
    "numOfTestSamples = test_gen.n\n",
    "numOfValSamples = validation_gen.n"
   ]
  },
  {
   "cell_type": "code",
   "execution_count": 8,
   "metadata": {},
   "outputs": [],
   "source": [
    "# Define Conv model"
   ]
  },
  {
   "cell_type": "code",
   "execution_count": 9,
   "metadata": {},
   "outputs": [],
   "source": [
    "from keras.applications import VGG16\n",
    "\n",
    "conv_base = VGG16(weights='imagenet', \n",
    "                  include_top=False, \n",
    "                  input_shape= target_shape) # honestly, I'm not sure whether height or width comes first"
   ]
  },
  {
   "cell_type": "code",
   "execution_count": 10,
   "metadata": {},
   "outputs": [
    {
     "name": "stdout",
     "output_type": "stream",
     "text": [
      "Model: \"vgg16\"\n",
      "_________________________________________________________________\n",
      "Layer (type)                 Output Shape              Param #   \n",
      "=================================================================\n",
      "input_1 (InputLayer)         (None, 150, 150, 3)       0         \n",
      "_________________________________________________________________\n",
      "block1_conv1 (Conv2D)        (None, 150, 150, 64)      1792      \n",
      "_________________________________________________________________\n",
      "block1_conv2 (Conv2D)        (None, 150, 150, 64)      36928     \n",
      "_________________________________________________________________\n",
      "block1_pool (MaxPooling2D)   (None, 75, 75, 64)        0         \n",
      "_________________________________________________________________\n",
      "block2_conv1 (Conv2D)        (None, 75, 75, 128)       73856     \n",
      "_________________________________________________________________\n",
      "block2_conv2 (Conv2D)        (None, 75, 75, 128)       147584    \n",
      "_________________________________________________________________\n",
      "block2_pool (MaxPooling2D)   (None, 37, 37, 128)       0         \n",
      "_________________________________________________________________\n",
      "block3_conv1 (Conv2D)        (None, 37, 37, 256)       295168    \n",
      "_________________________________________________________________\n",
      "block3_conv2 (Conv2D)        (None, 37, 37, 256)       590080    \n",
      "_________________________________________________________________\n",
      "block3_conv3 (Conv2D)        (None, 37, 37, 256)       590080    \n",
      "_________________________________________________________________\n",
      "block3_pool (MaxPooling2D)   (None, 18, 18, 256)       0         \n",
      "_________________________________________________________________\n",
      "block4_conv1 (Conv2D)        (None, 18, 18, 512)       1180160   \n",
      "_________________________________________________________________\n",
      "block4_conv2 (Conv2D)        (None, 18, 18, 512)       2359808   \n",
      "_________________________________________________________________\n",
      "block4_conv3 (Conv2D)        (None, 18, 18, 512)       2359808   \n",
      "_________________________________________________________________\n",
      "block4_pool (MaxPooling2D)   (None, 9, 9, 512)         0         \n",
      "_________________________________________________________________\n",
      "block5_conv1 (Conv2D)        (None, 9, 9, 512)         2359808   \n",
      "_________________________________________________________________\n",
      "block5_conv2 (Conv2D)        (None, 9, 9, 512)         2359808   \n",
      "_________________________________________________________________\n",
      "block5_conv3 (Conv2D)        (None, 9, 9, 512)         2359808   \n",
      "_________________________________________________________________\n",
      "block5_pool (MaxPooling2D)   (None, 4, 4, 512)         0         \n",
      "=================================================================\n",
      "Total params: 14,714,688\n",
      "Trainable params: 14,714,688\n",
      "Non-trainable params: 0\n",
      "_________________________________________________________________\n"
     ]
    }
   ],
   "source": [
    "conv_base.summary()"
   ]
  },
  {
   "cell_type": "code",
   "execution_count": 11,
   "metadata": {},
   "outputs": [],
   "source": [
    "block3_pool_width = 18\n",
    "block3_pool_height = 18\n",
    "block3_pool_area = block3_pool_width * block3_pool_height\n",
    "block3_pool_no_of_filters = 256\n",
    "\n",
    "## Following not used, but included for completeness and your own possible experiments\n",
    "block5_pool_width = 4\n",
    "block5_pool_height = 4\n",
    "block5_pool_area = block5_pool_width * block5_pool_height\n",
    "block5_pool_no_of_filters = 512"
   ]
  },
  {
   "cell_type": "code",
   "execution_count": 12,
   "metadata": {},
   "outputs": [],
   "source": [
    "from keras import Model\n",
    "\n",
    "intermediate_layer_model = Model(inputs=conv_base.input, \n",
    "                                 outputs=conv_base.get_layer('block3_pool').output)\n",
    "no_of_filters_left = 100"
   ]
  },
  {
   "cell_type": "code",
   "execution_count": 13,
   "metadata": {},
   "outputs": [],
   "source": [
    "from keras.utils.np_utils import to_categorical\n",
    "\n",
    "def extract_features(generator, sample_count):\n",
    "    features = np.zeros(shape=(sample_count, block3_pool_width, block3_pool_height, block3_pool_no_of_filters))\n",
    "    labels = np.zeros(shape=(sample_count))\n",
    "    \n",
    "    i = 0\n",
    "    for inputs_batch, labels_batch in generator:\n",
    "        features_batch = intermediate_layer_model.predict(inputs_batch)\n",
    "        features[i * batch_size : (i + 1) * batch_size] = features_batch\n",
    "        labels[i * batch_size : (i + 1) * batch_size] = labels_batch\n",
    "        i += 1\n",
    "        if i * batch_size >= sample_count:\n",
    "            # Note that since generators yield data indefinitely in a loop,\n",
    "            # we must `break` after every image has been seen once.\n",
    "            break\n",
    "\n",
    "    ### Now throwing away most of the features (= results of features)\n",
    "    features = features[:,:,:,0:no_of_filters_left]\n",
    "    ### convert labels 0, 1, and 2 to [1,0,0], [0,1,0] and [0,0,1] \n",
    "    labels = to_categorical(labels)\n",
    "    return features, labels"
   ]
  },
  {
   "cell_type": "code",
   "execution_count": 14,
   "metadata": {},
   "outputs": [],
   "source": [
    "import numpy as np\n",
    "\n",
    "priming_features, priming_labels = extract_features(priming_gen, numOfPrimingSamples)\n",
    "train_features, train_labels = extract_features(train_gen, numOfTrainSamples)\n",
    "validation_features, validation_labels = extract_features(validation_gen, numOfValSamples)\n",
    "test_features, test_labels = extract_features(test_gen, numOfTestSamples)"
   ]
  },
  {
   "cell_type": "code",
   "execution_count": 15,
   "metadata": {},
   "outputs": [],
   "source": [
    "priming_features = np.reshape(priming_features, (numOfPrimingSamples, block3_pool_area * no_of_filters_left))\n",
    "train_features = np.reshape(train_features, (numOfTrainSamples, block3_pool_area * no_of_filters_left))\n",
    "validation_features = np.reshape(validation_features, (numOfValSamples, block3_pool_area * no_of_filters_left))\n",
    "test_features = np.reshape(test_features, (numOfTestSamples, block3_pool_area * no_of_filters_left))"
   ]
  },
  {
   "cell_type": "code",
   "execution_count": 16,
   "metadata": {},
   "outputs": [],
   "source": [
    "# Define Dense model"
   ]
  },
  {
   "cell_type": "code",
   "execution_count": 17,
   "metadata": {},
   "outputs": [],
   "source": [
    "from keras import models\n",
    "from keras.layers import InputLayer, Flatten, Dense, Dropout\n",
    "\n",
    "def get_model(shape, nClasses):\n",
    "    return keras.Sequential([\n",
    "        InputLayer(input_shape=shape),\n",
    "        #Flatten(),    ### Need to flatten if dense NN else if ConvNet no need to flatten.\n",
    "        Dense(32, activation='relu'),\n",
    "        Dropout(0.5),\n",
    "        Dense(8, activation='relu'),\n",
    "        Dense(nClasses, activation='sigmoid'),\n",
    "    ],)"
   ]
  },
  {
   "cell_type": "code",
   "execution_count": 18,
   "metadata": {},
   "outputs": [],
   "source": [
    "input_shape = (block3_pool_area * no_of_filters_left, )\n",
    "model = get_model(input_shape, numOfClasses)"
   ]
  },
  {
   "cell_type": "code",
   "execution_count": 19,
   "metadata": {},
   "outputs": [],
   "source": [
    "# train model"
   ]
  },
  {
   "cell_type": "code",
   "execution_count": 20,
   "metadata": {},
   "outputs": [],
   "source": [
    "from keras import optimizers\n",
    "\n",
    "model.compile(loss=\"binary_crossentropy\", optimizer=optimizers.RMSprop(lr=2e-5), metrics=[\"acc\"])"
   ]
  },
  {
   "cell_type": "code",
   "execution_count": 21,
   "metadata": {},
   "outputs": [
    {
     "name": "stdout",
     "output_type": "stream",
     "text": [
      "Model: \"sequential_1\"\n",
      "_________________________________________________________________\n",
      "Layer (type)                 Output Shape              Param #   \n",
      "=================================================================\n",
      "dense_1 (Dense)              (None, 32)                1036832   \n",
      "_________________________________________________________________\n",
      "dropout_1 (Dropout)          (None, 32)                0         \n",
      "_________________________________________________________________\n",
      "dense_2 (Dense)              (None, 8)                 264       \n",
      "_________________________________________________________________\n",
      "dense_3 (Dense)              (None, 3)                 27        \n",
      "=================================================================\n",
      "Total params: 1,037,123\n",
      "Trainable params: 1,037,123\n",
      "Non-trainable params: 0\n",
      "_________________________________________________________________\n"
     ]
    }
   ],
   "source": [
    "model.summary()"
   ]
  },
  {
   "cell_type": "code",
   "execution_count": 22,
   "metadata": {},
   "outputs": [
    {
     "name": "stdout",
     "output_type": "stream",
     "text": [
      "Epoch 1/100\n",
      "15/15 [==============================] - 0s 9ms/step - loss: 4.6931 - acc: 0.4444\n",
      "Epoch 2/100\n",
      "15/15 [==============================] - 0s 2ms/step - loss: 3.2675 - acc: 0.5778\n",
      "Epoch 3/100\n",
      "15/15 [==============================] - 0s 2ms/step - loss: 1.5155 - acc: 0.5778\n",
      "Epoch 4/100\n",
      "15/15 [==============================] - 0s 2ms/step - loss: 2.7124 - acc: 0.5778\n",
      "Epoch 5/100\n",
      "15/15 [==============================] - 0s 2ms/step - loss: 1.9924 - acc: 0.5556\n",
      "Epoch 6/100\n",
      "15/15 [==============================] - 0s 2ms/step - loss: 1.1105 - acc: 0.6444\n",
      "Epoch 7/100\n",
      "15/15 [==============================] - 0s 2ms/step - loss: 1.6171 - acc: 0.6444\n",
      "Epoch 8/100\n",
      "15/15 [==============================] - 0s 2ms/step - loss: 0.9776 - acc: 0.6222\n",
      "Epoch 9/100\n",
      "15/15 [==============================] - 0s 2ms/step - loss: 1.4182 - acc: 0.5111\n",
      "Epoch 10/100\n",
      "15/15 [==============================] - 0s 2ms/step - loss: 0.9811 - acc: 0.6222\n",
      "Epoch 11/100\n",
      "15/15 [==============================] - 0s 2ms/step - loss: 0.7320 - acc: 0.6000\n",
      "Epoch 12/100\n",
      "15/15 [==============================] - 0s 2ms/step - loss: 0.7155 - acc: 0.6222\n",
      "Epoch 13/100\n",
      "15/15 [==============================] - 0s 2ms/step - loss: 0.6198 - acc: 0.7111\n",
      "Epoch 14/100\n",
      "15/15 [==============================] - 0s 2ms/step - loss: 0.5931 - acc: 0.7333\n",
      "Epoch 15/100\n",
      "15/15 [==============================] - 0s 2ms/step - loss: 0.5765 - acc: 0.6889\n",
      "Epoch 16/100\n",
      "15/15 [==============================] - 0s 2ms/step - loss: 0.5625 - acc: 0.6889\n",
      "Epoch 17/100\n",
      "15/15 [==============================] - 0s 2ms/step - loss: 0.6120 - acc: 0.5778\n",
      "Epoch 18/100\n",
      "15/15 [==============================] - 0s 2ms/step - loss: 0.5188 - acc: 0.7111\n",
      "Epoch 19/100\n",
      "15/15 [==============================] - 0s 2ms/step - loss: 0.5872 - acc: 0.7333\n",
      "Epoch 20/100\n",
      "15/15 [==============================] - 0s 2ms/step - loss: 0.5065 - acc: 0.7111\n",
      "Epoch 21/100\n",
      "15/15 [==============================] - 0s 2ms/step - loss: 0.5240 - acc: 0.6889\n",
      "Epoch 22/100\n",
      "15/15 [==============================] - 0s 2ms/step - loss: 0.5429 - acc: 0.7111\n",
      "Epoch 23/100\n",
      "15/15 [==============================] - 0s 2ms/step - loss: 0.5029 - acc: 0.8444\n",
      "Epoch 24/100\n",
      "15/15 [==============================] - 0s 2ms/step - loss: 0.4948 - acc: 0.8444\n",
      "Epoch 25/100\n",
      "15/15 [==============================] - 0s 2ms/step - loss: 0.5183 - acc: 0.7111\n",
      "Epoch 26/100\n",
      "15/15 [==============================] - 0s 2ms/step - loss: 0.4608 - acc: 0.7333\n",
      "Epoch 27/100\n",
      "15/15 [==============================] - 0s 2ms/step - loss: 0.5450 - acc: 0.7111\n",
      "Epoch 28/100\n",
      "15/15 [==============================] - 0s 2ms/step - loss: 0.5086 - acc: 0.7778\n",
      "Epoch 29/100\n",
      "15/15 [==============================] - 0s 2ms/step - loss: 0.4759 - acc: 0.6889\n",
      "Epoch 30/100\n",
      "15/15 [==============================] - 0s 2ms/step - loss: 0.4660 - acc: 0.7556\n",
      "Epoch 31/100\n",
      "15/15 [==============================] - 0s 2ms/step - loss: 0.4505 - acc: 0.8222\n",
      "Epoch 32/100\n",
      "15/15 [==============================] - 0s 2ms/step - loss: 0.4712 - acc: 0.8222\n",
      "Epoch 33/100\n",
      "15/15 [==============================] - 0s 2ms/step - loss: 0.5288 - acc: 0.8000\n",
      "Epoch 34/100\n",
      "15/15 [==============================] - 0s 2ms/step - loss: 0.4403 - acc: 0.8444\n",
      "Epoch 35/100\n",
      "15/15 [==============================] - 0s 2ms/step - loss: 0.4743 - acc: 0.7556\n",
      "Epoch 36/100\n",
      "15/15 [==============================] - 0s 2ms/step - loss: 0.4742 - acc: 0.8000\n",
      "Epoch 37/100\n",
      "15/15 [==============================] - 0s 2ms/step - loss: 0.5310 - acc: 0.7333\n",
      "Epoch 38/100\n",
      "15/15 [==============================] - 0s 2ms/step - loss: 0.5607 - acc: 0.7333\n",
      "Epoch 39/100\n",
      "15/15 [==============================] - 0s 2ms/step - loss: 0.4642 - acc: 0.7333\n",
      "Epoch 40/100\n",
      "15/15 [==============================] - 0s 2ms/step - loss: 0.5564 - acc: 0.8000\n",
      "Epoch 41/100\n",
      "15/15 [==============================] - 0s 2ms/step - loss: 0.4747 - acc: 0.8222\n",
      "Epoch 42/100\n",
      "15/15 [==============================] - 0s 2ms/step - loss: 0.4242 - acc: 0.8444\n",
      "Epoch 43/100\n",
      "15/15 [==============================] - 0s 2ms/step - loss: 0.4553 - acc: 0.7778\n",
      "Epoch 44/100\n",
      "15/15 [==============================] - 0s 2ms/step - loss: 0.4951 - acc: 0.7333\n",
      "Epoch 45/100\n",
      "15/15 [==============================] - 0s 2ms/step - loss: 0.4877 - acc: 0.8222\n",
      "Epoch 46/100\n",
      "15/15 [==============================] - 0s 2ms/step - loss: 0.5539 - acc: 0.7778\n",
      "Epoch 47/100\n",
      "15/15 [==============================] - 0s 2ms/step - loss: 0.4074 - acc: 0.8444\n",
      "Epoch 48/100\n",
      "15/15 [==============================] - 0s 2ms/step - loss: 0.4222 - acc: 0.8667\n",
      "Epoch 49/100\n",
      "15/15 [==============================] - 0s 2ms/step - loss: 0.5821 - acc: 0.8000\n",
      "Epoch 50/100\n",
      "15/15 [==============================] - 0s 2ms/step - loss: 0.4957 - acc: 0.8222\n",
      "Epoch 51/100\n",
      "15/15 [==============================] - 0s 2ms/step - loss: 0.5280 - acc: 0.7778\n",
      "Epoch 52/100\n",
      "15/15 [==============================] - 0s 2ms/step - loss: 0.4584 - acc: 0.8222\n",
      "Epoch 53/100\n",
      "15/15 [==============================] - 0s 2ms/step - loss: 0.4766 - acc: 0.8000\n",
      "Epoch 54/100\n",
      "15/15 [==============================] - 0s 2ms/step - loss: 0.5205 - acc: 0.8000\n",
      "Epoch 55/100\n",
      "15/15 [==============================] - 0s 2ms/step - loss: 0.4543 - acc: 0.8444\n",
      "Epoch 56/100\n",
      "15/15 [==============================] - 0s 3ms/step - loss: 0.5257 - acc: 0.7778\n",
      "Epoch 57/100\n",
      "15/15 [==============================] - 0s 2ms/step - loss: 0.6639 - acc: 0.8000\n",
      "Epoch 58/100\n",
      "15/15 [==============================] - 0s 2ms/step - loss: 0.4572 - acc: 0.8222\n",
      "Epoch 59/100\n",
      "15/15 [==============================] - 0s 2ms/step - loss: 0.4615 - acc: 0.8444\n",
      "Epoch 60/100\n",
      "15/15 [==============================] - 0s 2ms/step - loss: 0.4328 - acc: 0.8222\n",
      "Epoch 61/100\n",
      "15/15 [==============================] - 0s 2ms/step - loss: 0.4363 - acc: 0.8222\n",
      "Epoch 62/100\n",
      "15/15 [==============================] - 0s 2ms/step - loss: 0.4781 - acc: 0.8444\n",
      "Epoch 63/100\n",
      "15/15 [==============================] - 0s 2ms/step - loss: 0.4857 - acc: 0.8000\n",
      "Epoch 64/100\n",
      "15/15 [==============================] - 0s 2ms/step - loss: 0.4518 - acc: 0.8222\n",
      "Epoch 65/100\n",
      "15/15 [==============================] - 0s 2ms/step - loss: 0.4790 - acc: 0.8222\n",
      "Epoch 66/100\n",
      "15/15 [==============================] - 0s 3ms/step - loss: 0.3828 - acc: 0.8889\n",
      "Epoch 67/100\n",
      "15/15 [==============================] - 0s 2ms/step - loss: 0.5352 - acc: 0.7333\n",
      "Epoch 68/100\n",
      "15/15 [==============================] - 0s 2ms/step - loss: 0.4934 - acc: 0.7778\n",
      "Epoch 69/100\n",
      "15/15 [==============================] - 0s 2ms/step - loss: 0.4717 - acc: 0.8000\n",
      "Epoch 70/100\n",
      "15/15 [==============================] - 0s 2ms/step - loss: 0.4502 - acc: 0.8222\n",
      "Epoch 71/100\n",
      "15/15 [==============================] - 0s 2ms/step - loss: 0.4552 - acc: 0.8000\n",
      "Epoch 72/100\n",
      "15/15 [==============================] - 0s 2ms/step - loss: 0.4406 - acc: 0.8667\n",
      "Epoch 73/100\n",
      "15/15 [==============================] - 0s 2ms/step - loss: 0.4281 - acc: 0.8444\n",
      "Epoch 74/100\n",
      "15/15 [==============================] - 0s 2ms/step - loss: 0.4500 - acc: 0.8222\n",
      "Epoch 75/100\n",
      "15/15 [==============================] - 0s 2ms/step - loss: 0.5374 - acc: 0.7778\n",
      "Epoch 76/100\n",
      "15/15 [==============================] - 0s 2ms/step - loss: 0.4882 - acc: 0.7778\n",
      "Epoch 77/100\n",
      "15/15 [==============================] - 0s 2ms/step - loss: 0.5931 - acc: 0.7556\n",
      "Epoch 78/100\n",
      "15/15 [==============================] - 0s 2ms/step - loss: 0.4596 - acc: 0.6889\n",
      "Epoch 79/100\n",
      "15/15 [==============================] - 0s 2ms/step - loss: 0.4020 - acc: 0.8444\n",
      "Epoch 80/100\n",
      "15/15 [==============================] - 0s 2ms/step - loss: 0.4303 - acc: 0.8444\n",
      "Epoch 81/100\n",
      "15/15 [==============================] - 0s 2ms/step - loss: 0.4648 - acc: 0.7778\n",
      "Epoch 82/100\n",
      "15/15 [==============================] - 0s 2ms/step - loss: 0.5744 - acc: 0.8000\n",
      "Epoch 83/100\n",
      "15/15 [==============================] - 0s 2ms/step - loss: 0.4022 - acc: 0.8444\n",
      "Epoch 84/100\n",
      "15/15 [==============================] - 0s 2ms/step - loss: 0.6248 - acc: 0.7333\n",
      "Epoch 85/100\n",
      "15/15 [==============================] - 0s 2ms/step - loss: 0.4648 - acc: 0.8444\n",
      "Epoch 86/100\n",
      "15/15 [==============================] - 0s 2ms/step - loss: 0.4163 - acc: 0.8667\n",
      "Epoch 87/100\n",
      "15/15 [==============================] - 0s 2ms/step - loss: 0.4451 - acc: 0.8222\n",
      "Epoch 88/100\n",
      "15/15 [==============================] - 0s 2ms/step - loss: 0.4505 - acc: 0.8222\n",
      "Epoch 89/100\n",
      "15/15 [==============================] - 0s 2ms/step - loss: 0.5063 - acc: 0.7556\n",
      "Epoch 90/100\n",
      "15/15 [==============================] - 0s 2ms/step - loss: 0.4787 - acc: 0.7778\n",
      "Epoch 91/100\n",
      "15/15 [==============================] - 0s 2ms/step - loss: 0.4467 - acc: 0.8222\n",
      "Epoch 92/100\n",
      "15/15 [==============================] - 0s 2ms/step - loss: 0.4371 - acc: 0.8222\n",
      "Epoch 93/100\n",
      "15/15 [==============================] - 0s 2ms/step - loss: 0.4238 - acc: 0.8667\n",
      "Epoch 94/100\n",
      "15/15 [==============================] - 0s 2ms/step - loss: 0.4497 - acc: 0.8444\n",
      "Epoch 95/100\n",
      "15/15 [==============================] - 0s 2ms/step - loss: 0.5455 - acc: 0.7333\n",
      "Epoch 96/100\n",
      "15/15 [==============================] - 0s 2ms/step - loss: 0.4503 - acc: 0.8444\n",
      "Epoch 97/100\n",
      "15/15 [==============================] - 0s 2ms/step - loss: 0.4577 - acc: 0.8222\n",
      "Epoch 98/100\n",
      "15/15 [==============================] - 0s 2ms/step - loss: 0.4116 - acc: 0.8444\n",
      "Epoch 99/100\n",
      "15/15 [==============================] - 0s 2ms/step - loss: 0.5374 - acc: 0.8222\n",
      "Epoch 100/100\n",
      "15/15 [==============================] - 0s 2ms/step - loss: 0.5136 - acc: 0.8222\n"
     ]
    }
   ],
   "source": [
    "historyP = model.fit(\n",
    "    priming_features, \n",
    "    priming_labels,\n",
    "    epochs=priming_epochs,\n",
    "    batch_size=batch_size#,\n",
    "    #validation_data=(validation_features, validation_labels)\n",
    ")"
   ]
  },
  {
   "cell_type": "code",
   "execution_count": 23,
   "metadata": {},
   "outputs": [
    {
     "name": "stdout",
     "output_type": "stream",
     "text": [
      "Train on 195 samples, validate on 60 samples\n",
      "Epoch 1/50\n",
      "195/195 [==============================] - 0s 2ms/step - loss: 0.9958 - acc: 0.5316 - val_loss: 0.6423 - val_acc: 0.5833\n",
      "Epoch 2/50\n",
      "195/195 [==============================] - 0s 2ms/step - loss: 0.6820 - acc: 0.6376 - val_loss: 0.6304 - val_acc: 0.6111\n",
      "Epoch 3/50\n",
      "195/195 [==============================] - 0s 2ms/step - loss: 0.6554 - acc: 0.6769 - val_loss: 0.6193 - val_acc: 0.6444\n",
      "Epoch 4/50\n",
      "195/195 [==============================] - 0s 2ms/step - loss: 0.6388 - acc: 0.6462 - val_loss: 0.6186 - val_acc: 0.5944\n",
      "Epoch 5/50\n",
      "195/195 [==============================] - 0s 2ms/step - loss: 0.6204 - acc: 0.6735 - val_loss: 0.6187 - val_acc: 0.6056\n",
      "Epoch 6/50\n",
      "195/195 [==============================] - 0s 2ms/step - loss: 0.6329 - acc: 0.6752 - val_loss: 0.5961 - val_acc: 0.6333\n",
      "Epoch 7/50\n",
      "195/195 [==============================] - 0s 2ms/step - loss: 0.6104 - acc: 0.6667 - val_loss: 0.6014 - val_acc: 0.6556\n",
      "Epoch 8/50\n",
      "195/195 [==============================] - 0s 2ms/step - loss: 0.5817 - acc: 0.6735 - val_loss: 0.5941 - val_acc: 0.6778\n",
      "Epoch 9/50\n",
      "195/195 [==============================] - 1s 3ms/step - loss: 0.5686 - acc: 0.6906 - val_loss: 0.5733 - val_acc: 0.6889\n",
      "Epoch 10/50\n",
      "195/195 [==============================] - 0s 2ms/step - loss: 0.5785 - acc: 0.6872 - val_loss: 0.5689 - val_acc: 0.6889\n",
      "Epoch 11/50\n",
      "195/195 [==============================] - 0s 2ms/step - loss: 0.5730 - acc: 0.6735 - val_loss: 0.5800 - val_acc: 0.6556\n",
      "Epoch 12/50\n",
      "195/195 [==============================] - 0s 2ms/step - loss: 0.5514 - acc: 0.6855 - val_loss: 0.5997 - val_acc: 0.6167\n",
      "Epoch 13/50\n",
      "195/195 [==============================] - 0s 2ms/step - loss: 0.5436 - acc: 0.6906 - val_loss: 0.5916 - val_acc: 0.5833\n",
      "Epoch 14/50\n",
      "195/195 [==============================] - 0s 2ms/step - loss: 0.5730 - acc: 0.6821 - val_loss: 0.5802 - val_acc: 0.6167\n",
      "Epoch 15/50\n",
      "195/195 [==============================] - 0s 2ms/step - loss: 0.5280 - acc: 0.6974 - val_loss: 0.5884 - val_acc: 0.6333\n",
      "Epoch 16/50\n",
      "195/195 [==============================] - 0s 2ms/step - loss: 0.5314 - acc: 0.7026 - val_loss: 0.5491 - val_acc: 0.6722\n",
      "Epoch 17/50\n",
      "195/195 [==============================] - 0s 2ms/step - loss: 0.5254 - acc: 0.7043 - val_loss: 0.5554 - val_acc: 0.6222\n",
      "Epoch 18/50\n",
      "195/195 [==============================] - 0s 2ms/step - loss: 0.5432 - acc: 0.6838 - val_loss: 0.5488 - val_acc: 0.6556\n",
      "Epoch 19/50\n",
      "195/195 [==============================] - 0s 2ms/step - loss: 0.5313 - acc: 0.6974 - val_loss: 0.5498 - val_acc: 0.6389\n",
      "Epoch 20/50\n",
      "195/195 [==============================] - 0s 2ms/step - loss: 0.5039 - acc: 0.6991 - val_loss: 0.5485 - val_acc: 0.6611\n",
      "Epoch 21/50\n",
      "195/195 [==============================] - 0s 2ms/step - loss: 0.5094 - acc: 0.7043 - val_loss: 0.5331 - val_acc: 0.6389\n",
      "Epoch 22/50\n",
      "195/195 [==============================] - 0s 2ms/step - loss: 0.5155 - acc: 0.7111 - val_loss: 0.5587 - val_acc: 0.6500\n",
      "Epoch 23/50\n",
      "195/195 [==============================] - 0s 2ms/step - loss: 0.5188 - acc: 0.6974 - val_loss: 0.5650 - val_acc: 0.5944\n",
      "Epoch 24/50\n",
      "195/195 [==============================] - 0s 2ms/step - loss: 0.4989 - acc: 0.7060 - val_loss: 0.5334 - val_acc: 0.6333\n",
      "Epoch 25/50\n",
      "195/195 [==============================] - 0s 2ms/step - loss: 0.4953 - acc: 0.7162 - val_loss: 0.5270 - val_acc: 0.6167\n",
      "Epoch 26/50\n",
      "195/195 [==============================] - 0s 2ms/step - loss: 0.4876 - acc: 0.7026 - val_loss: 0.5350 - val_acc: 0.6389\n",
      "Epoch 27/50\n",
      "195/195 [==============================] - 0s 2ms/step - loss: 0.4938 - acc: 0.7077 - val_loss: 0.5231 - val_acc: 0.6611\n",
      "Epoch 28/50\n",
      "195/195 [==============================] - 0s 2ms/step - loss: 0.5244 - acc: 0.7077 - val_loss: 0.5290 - val_acc: 0.6278\n",
      "Epoch 29/50\n",
      "195/195 [==============================] - 0s 2ms/step - loss: 0.4709 - acc: 0.7179 - val_loss: 0.5273 - val_acc: 0.6333\n",
      "Epoch 30/50\n",
      "195/195 [==============================] - 0s 2ms/step - loss: 0.4423 - acc: 0.7265 - val_loss: 0.5436 - val_acc: 0.6111\n",
      "Epoch 31/50\n",
      "195/195 [==============================] - 0s 2ms/step - loss: 0.4982 - acc: 0.7043 - val_loss: 0.5492 - val_acc: 0.6333\n",
      "Epoch 32/50\n",
      "195/195 [==============================] - 0s 2ms/step - loss: 0.4768 - acc: 0.6991 - val_loss: 0.5428 - val_acc: 0.6222\n",
      "Epoch 33/50\n",
      "195/195 [==============================] - 0s 2ms/step - loss: 0.4552 - acc: 0.7282 - val_loss: 0.5531 - val_acc: 0.6056\n",
      "Epoch 34/50\n",
      "195/195 [==============================] - 0s 2ms/step - loss: 0.4454 - acc: 0.7487 - val_loss: 0.5487 - val_acc: 0.6000\n",
      "Epoch 35/50\n",
      "195/195 [==============================] - 0s 2ms/step - loss: 0.4505 - acc: 0.7402 - val_loss: 0.5308 - val_acc: 0.6278\n",
      "Epoch 36/50\n",
      "195/195 [==============================] - 0s 2ms/step - loss: 0.4711 - acc: 0.7316 - val_loss: 0.5303 - val_acc: 0.6444\n",
      "Epoch 37/50\n",
      "195/195 [==============================] - 0s 2ms/step - loss: 0.4603 - acc: 0.7419 - val_loss: 0.5563 - val_acc: 0.6389\n",
      "Epoch 38/50\n",
      "195/195 [==============================] - 0s 2ms/step - loss: 0.4518 - acc: 0.7538 - val_loss: 0.5295 - val_acc: 0.6667\n",
      "Epoch 39/50\n",
      "195/195 [==============================] - 0s 2ms/step - loss: 0.4695 - acc: 0.7470 - val_loss: 0.5816 - val_acc: 0.6111\n",
      "Epoch 40/50\n",
      "195/195 [==============================] - 0s 2ms/step - loss: 0.4609 - acc: 0.7282 - val_loss: 0.5489 - val_acc: 0.6500\n",
      "Epoch 41/50\n",
      "195/195 [==============================] - 0s 2ms/step - loss: 0.4252 - acc: 0.7590 - val_loss: 0.5160 - val_acc: 0.6667\n",
      "Epoch 42/50\n",
      "195/195 [==============================] - 0s 2ms/step - loss: 0.4084 - acc: 0.7573 - val_loss: 0.5193 - val_acc: 0.6944\n",
      "Epoch 43/50\n",
      "195/195 [==============================] - 0s 2ms/step - loss: 0.4294 - acc: 0.7504 - val_loss: 0.5321 - val_acc: 0.7000\n",
      "Epoch 44/50\n",
      "195/195 [==============================] - 0s 2ms/step - loss: 0.4186 - acc: 0.7726 - val_loss: 0.5463 - val_acc: 0.6444\n",
      "Epoch 45/50\n",
      "195/195 [==============================] - 0s 2ms/step - loss: 0.4298 - acc: 0.7624 - val_loss: 0.5303 - val_acc: 0.7167\n",
      "Epoch 46/50\n",
      "195/195 [==============================] - 0s 2ms/step - loss: 0.4055 - acc: 0.8085 - val_loss: 0.5243 - val_acc: 0.7333\n",
      "Epoch 47/50\n",
      "195/195 [==============================] - 0s 2ms/step - loss: 0.4243 - acc: 0.8068 - val_loss: 0.5338 - val_acc: 0.7389\n",
      "Epoch 48/50\n",
      "195/195 [==============================] - 0s 2ms/step - loss: 0.4156 - acc: 0.8120 - val_loss: 0.5430 - val_acc: 0.6944\n",
      "Epoch 49/50\n",
      "195/195 [==============================] - 0s 2ms/step - loss: 0.4223 - acc: 0.7880 - val_loss: 0.5390 - val_acc: 0.7056\n",
      "Epoch 50/50\n",
      "195/195 [==============================] - 0s 2ms/step - loss: 0.3961 - acc: 0.8291 - val_loss: 0.5423 - val_acc: 0.6889\n"
     ]
    }
   ],
   "source": [
    "history = model.fit(\n",
    "    train_features, \n",
    "    train_labels,\n",
    "    epochs=training_epochs,\n",
    "    batch_size=batch_size,\n",
    "    validation_data=(validation_features, validation_labels)\n",
    ")"
   ]
  },
  {
   "cell_type": "code",
   "execution_count": 24,
   "metadata": {},
   "outputs": [],
   "source": [
    "#model.save('baseline.h5')"
   ]
  },
  {
   "cell_type": "code",
   "execution_count": 25,
   "metadata": {},
   "outputs": [],
   "source": [
    "# validation"
   ]
  },
  {
   "cell_type": "code",
   "execution_count": 26,
   "metadata": {},
   "outputs": [
    {
     "data": {
      "image/png": "[encoded data removed]",
      "text/plain": [
       "<Figure size 432x288 with 1 Axes>"
      ]
     },
     "metadata": {
      "needs_background": "light"
     },
     "output_type": "display_data"
    },
    {
     "data": {
      "image/png": "[encoded data removed]",
      "text/plain": [
       "<Figure size 432x288 with 1 Axes>"
      ]
     },
     "metadata": {
      "needs_background": "light"
     },
     "output_type": "display_data"
    }
   ],
   "source": [
    "import matplotlib.pyplot as plt\n",
    "\n",
    "acc = historyP.history['acc']\n",
    "loss = historyP.history['loss']\n",
    "\n",
    "epochs = range(len(acc))\n",
    "\n",
    "plt.plot(epochs, acc, 'bo', label='Training acc')\n",
    "plt.title('Training accuracy')\n",
    "plt.legend()\n",
    "\n",
    "plt.figure()\n",
    "\n",
    "plt.plot(epochs, loss, 'bo', label='Training loss')\n",
    "plt.title('Training loss')\n",
    "plt.legend()\n",
    "\n",
    "plt.show()"
   ]
  },
  {
   "cell_type": "code",
   "execution_count": 27,
   "metadata": {},
   "outputs": [
    {
     "data": {
      "image/png": "[encoded data removed]",
      "text/plain": [
       "<Figure size 432x288 with 1 Axes>"
      ]
     },
     "metadata": {
      "needs_background": "light"
     },
     "output_type": "display_data"
    },
    {
     "data": {
      "image/png": "[encoded data removed]",
      "text/plain": [
       "<Figure size 432x288 with 1 Axes>"
      ]
     },
     "metadata": {
      "needs_background": "light"
     },
     "output_type": "display_data"
    }
   ],
   "source": [
    "import matplotlib.pyplot as plt\n",
    "\n",
    "acc = history.history['acc']\n",
    "val_acc = history.history['val_acc']\n",
    "loss = history.history['loss']\n",
    "val_loss = history.history['val_loss']\n",
    "\n",
    "epochs = range(len(acc))\n",
    "\n",
    "plt.plot(epochs, acc, 'bo', label='Training acc')\n",
    "plt.plot(epochs, val_acc, 'b', label='Validation acc')\n",
    "plt.title('Training and validation accuracy')\n",
    "plt.legend()\n",
    "\n",
    "plt.figure()\n",
    "\n",
    "plt.plot(epochs, loss, 'bo', label='Training loss')\n",
    "plt.plot(epochs, val_loss, 'b', label='Validation loss')\n",
    "plt.title('Training and validation loss')\n",
    "plt.legend()\n",
    "\n",
    "plt.show()"
   ]
  }
 ],
 "metadata": {
  "kernelspec": {
   "display_name": "Python 3",
   "language": "python",
   "name": "python3"
  },
  "language_info": {
   "codemirror_mode": {
    "name": "ipython",
    "version": 3
   },
   "file_extension": ".py",
   "mimetype": "text/x-python",
   "name": "python",
   "nbconvert_exporter": "python",
   "pygments_lexer": "ipython3",
   "version": "3.7.9"
  }
 },
 "nbformat": 4,
 "nbformat_minor": 4
}
