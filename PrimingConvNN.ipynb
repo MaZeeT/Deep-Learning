{
 "cells": [
  {
   "cell_type": "code",
   "execution_count": 1,
   "metadata": {},
   "outputs": [
    {
     "name": "stderr",
     "output_type": "stream",
     "text": [
      "Using TensorFlow backend.\n"
     ]
    },
    {
     "data": {
      "text/plain": [
       "'2.3.1'"
      ]
     },
     "execution_count": 1,
     "metadata": {},
     "output_type": "execute_result"
    }
   ],
   "source": [
    "import os\n",
    "import keras\n",
    "\n",
    "from keras.preprocessing.image import ImageDataGenerator\n",
    "\n",
    "keras.__version__"
   ]
  },
  {
   "cell_type": "code",
   "execution_count": 2,
   "metadata": {},
   "outputs": [],
   "source": [
    "from tensorflow.compat.v1 import ConfigProto\n",
    "from tensorflow.compat.v1 import InteractiveSession\n",
    "# Limits GPU-RAM usage\n",
    "config = ConfigProto()\n",
    "config.gpu_options.allow_growth = True\n",
    "session = InteractiveSession(config=config)"
   ]
  },
  {
   "cell_type": "code",
   "execution_count": 3,
   "metadata": {},
   "outputs": [],
   "source": [
    "# import and \"clean\" data"
   ]
  },
  {
   "cell_type": "code",
   "execution_count": 4,
   "metadata": {},
   "outputs": [],
   "source": [
    "priming_epochs = 100\n",
    "training_epochs = 50\n",
    "batch_size = 5\n",
    "target_width = 150\n",
    "target_height = 150\n",
    "target_size = (target_width, target_height)\n",
    "target_shape = (target_width, target_height, 3) # 3 for color\n",
    "base_dir = 'paintingsPriming'"
   ]
  },
  {
   "cell_type": "code",
   "execution_count": 5,
   "metadata": {},
   "outputs": [],
   "source": [
    "def get_generator(base_dir, folderName):\n",
    "    directory = os.path.join(base_dir, folderName)\n",
    "    return ImageDataGenerator(rescale=1./255).flow_from_directory(\n",
    "        directory, \n",
    "        target_size, \n",
    "        batch_size= batch_size,\n",
    "        shuffle=True,\n",
    "        class_mode='sparse'\n",
    "    )"
   ]
  },
  {
   "cell_type": "code",
   "execution_count": 6,
   "metadata": {},
   "outputs": [
    {
     "name": "stdout",
     "output_type": "stream",
     "text": [
      "Found 15 images belonging to 3 classes.\n",
      "Found 195 images belonging to 3 classes.\n",
      "Found 30 images belonging to 3 classes.\n",
      "Found 60 images belonging to 3 classes.\n"
     ]
    }
   ],
   "source": [
    "priming_gen = get_generator(base_dir, 'priming')\n",
    "train_gen = get_generator(base_dir, 'train')\n",
    "test_gen = get_generator(base_dir, 'test')\n",
    "validation_gen = get_generator(base_dir, 'validation')"
   ]
  },
  {
   "cell_type": "code",
   "execution_count": 7,
   "metadata": {},
   "outputs": [],
   "source": [
    "numOfClasses = train_gen.num_classes\n",
    "\n",
    "numOfPrimingSamples = priming_gen.n\n",
    "numOfTrainSamples = train_gen.n\n",
    "numOfTestSamples = test_gen.n\n",
    "numOfValSamples = validation_gen.n"
   ]
  },
  {
   "cell_type": "code",
   "execution_count": 8,
   "metadata": {},
   "outputs": [],
   "source": [
    "# Define Conv model"
   ]
  },
  {
   "cell_type": "code",
   "execution_count": 9,
   "metadata": {},
   "outputs": [],
   "source": [
    "from keras.applications import VGG16\n",
    "\n",
    "conv_base = VGG16(weights='imagenet', \n",
    "                  include_top=False, \n",
    "                  input_shape= target_shape) # honestly, I'm not sure whether height or width comes first"
   ]
  },
  {
   "cell_type": "code",
   "execution_count": 10,
   "metadata": {},
   "outputs": [
    {
     "name": "stdout",
     "output_type": "stream",
     "text": [
      "Model: \"vgg16\"\n",
      "_________________________________________________________________\n",
      "Layer (type)                 Output Shape              Param #   \n",
      "=================================================================\n",
      "input_1 (InputLayer)         (None, 150, 150, 3)       0         \n",
      "_________________________________________________________________\n",
      "block1_conv1 (Conv2D)        (None, 150, 150, 64)      1792      \n",
      "_________________________________________________________________\n",
      "block1_conv2 (Conv2D)        (None, 150, 150, 64)      36928     \n",
      "_________________________________________________________________\n",
      "block1_pool (MaxPooling2D)   (None, 75, 75, 64)        0         \n",
      "_________________________________________________________________\n",
      "block2_conv1 (Conv2D)        (None, 75, 75, 128)       73856     \n",
      "_________________________________________________________________\n",
      "block2_conv2 (Conv2D)        (None, 75, 75, 128)       147584    \n",
      "_________________________________________________________________\n",
      "block2_pool (MaxPooling2D)   (None, 37, 37, 128)       0         \n",
      "_________________________________________________________________\n",
      "block3_conv1 (Conv2D)        (None, 37, 37, 256)       295168    \n",
      "_________________________________________________________________\n",
      "block3_conv2 (Conv2D)        (None, 37, 37, 256)       590080    \n",
      "_________________________________________________________________\n",
      "block3_conv3 (Conv2D)        (None, 37, 37, 256)       590080    \n",
      "_________________________________________________________________\n",
      "block3_pool (MaxPooling2D)   (None, 18, 18, 256)       0         \n",
      "_________________________________________________________________\n",
      "block4_conv1 (Conv2D)        (None, 18, 18, 512)       1180160   \n",
      "_________________________________________________________________\n",
      "block4_conv2 (Conv2D)        (None, 18, 18, 512)       2359808   \n",
      "_________________________________________________________________\n",
      "block4_conv3 (Conv2D)        (None, 18, 18, 512)       2359808   \n",
      "_________________________________________________________________\n",
      "block4_pool (MaxPooling2D)   (None, 9, 9, 512)         0         \n",
      "_________________________________________________________________\n",
      "block5_conv1 (Conv2D)        (None, 9, 9, 512)         2359808   \n",
      "_________________________________________________________________\n",
      "block5_conv2 (Conv2D)        (None, 9, 9, 512)         2359808   \n",
      "_________________________________________________________________\n",
      "block5_conv3 (Conv2D)        (None, 9, 9, 512)         2359808   \n",
      "_________________________________________________________________\n",
      "block5_pool (MaxPooling2D)   (None, 4, 4, 512)         0         \n",
      "=================================================================\n",
      "Total params: 14,714,688\n",
      "Trainable params: 14,714,688\n",
      "Non-trainable params: 0\n",
      "_________________________________________________________________\n"
     ]
    }
   ],
   "source": [
    "conv_base.summary()"
   ]
  },
  {
   "cell_type": "code",
   "execution_count": 11,
   "metadata": {},
   "outputs": [],
   "source": [
    "block3_pool_width = 18\n",
    "block3_pool_height = 18\n",
    "block3_pool_area = block3_pool_width * block3_pool_height\n",
    "block3_pool_no_of_filters = 256\n",
    "\n",
    "## Following not used, but included for completeness and your own possible experiments\n",
    "block5_pool_width = 4\n",
    "block5_pool_height = 4\n",
    "block5_pool_area = block3_pool_width * block3_pool_height\n",
    "block5_pool_no_of_filters = 512"
   ]
  },
  {
   "cell_type": "code",
   "execution_count": 12,
   "metadata": {},
   "outputs": [],
   "source": [
    "from keras import Model\n",
    "\n",
    "intermediate_layer_model = Model(inputs=conv_base.input, \n",
    "                                 outputs=conv_base.get_layer('block3_pool').output)\n",
    "no_of_filters_left = 100"
   ]
  },
  {
   "cell_type": "code",
   "execution_count": 13,
   "metadata": {},
   "outputs": [],
   "source": [
    "from keras.utils.np_utils import to_categorical\n",
    "\n",
    "def extract_features(generator, sample_count):\n",
    "    features = np.zeros(shape=(sample_count, block3_pool_width, block3_pool_height, block3_pool_no_of_filters))\n",
    "    labels = np.zeros(shape=(sample_count))\n",
    "    \n",
    "    i = 0\n",
    "    for inputs_batch, labels_batch in generator:\n",
    "        features_batch = intermediate_layer_model.predict(inputs_batch)\n",
    "        features[i * batch_size : (i + 1) * batch_size] = features_batch\n",
    "        labels[i * batch_size : (i + 1) * batch_size] = labels_batch\n",
    "        i += 1\n",
    "        if i * batch_size >= sample_count:\n",
    "            # Note that since generators yield data indefinitely in a loop,\n",
    "            # we must `break` after every image has been seen once.\n",
    "            break\n",
    "\n",
    "    ### Now throwing away most of the features (= results of features)\n",
    "    features = features[:,:,:,0:no_of_filters_left]\n",
    "    ### convert labels 0, 1, and 2 to [1,0,0], [0,1,0] and [0,0,1] \n",
    "    labels = to_categorical(labels)\n",
    "    return features, labels"
   ]
  },
  {
   "cell_type": "code",
   "execution_count": 14,
   "metadata": {},
   "outputs": [],
   "source": [
    "import numpy as np\n",
    "\n",
    "priming_features, priming_labels = extract_features(priming_gen, numOfPrimingSamples)\n",
    "train_features, train_labels = extract_features(train_gen, numOfTrainSamples)\n",
    "validation_features, validation_labels = extract_features(validation_gen, numOfValSamples)\n",
    "test_features, test_labels = extract_features(test_gen, numOfTestSamples)"
   ]
  },
  {
   "cell_type": "code",
   "execution_count": 15,
   "metadata": {},
   "outputs": [],
   "source": [
    "priming_features = np.reshape(priming_features, (numOfPrimingSamples, block3_pool_area * no_of_filters_left))\n",
    "train_features = np.reshape(train_features, (numOfTrainSamples, block3_pool_area * no_of_filters_left))\n",
    "validation_features = np.reshape(validation_features, (numOfValSamples, block3_pool_area * no_of_filters_left))\n",
    "test_features = np.reshape(test_features, (numOfTestSamples, block3_pool_area * no_of_filters_left))"
   ]
  },
  {
   "cell_type": "code",
   "execution_count": 16,
   "metadata": {},
   "outputs": [],
   "source": [
    "# Define Dense model"
   ]
  },
  {
   "cell_type": "code",
   "execution_count": 17,
   "metadata": {},
   "outputs": [],
   "source": [
    "from keras import models\n",
    "from keras.layers import Flatten, Dense, Dropout\n",
    "\n",
    "def get_model(shape, nClasses):\n",
    "    return models.Sequential([\n",
    "        Dense(16, input_dim= shape),\n",
    "        Dropout(0.5),\n",
    "        Dense(16, activation='relu'),\n",
    "        Dense(8, activation='relu'),\n",
    "        Dense(nClasses, activation='sigmoid'),\n",
    "    ])"
   ]
  },
  {
   "cell_type": "code",
   "execution_count": 18,
   "metadata": {},
   "outputs": [],
   "source": [
    "input_shape = block3_pool_area * no_of_filters_left\n",
    "model = get_model(input_shape, numOfClasses)"
   ]
  },
  {
   "cell_type": "code",
   "execution_count": 19,
   "metadata": {},
   "outputs": [],
   "source": [
    "# train model"
   ]
  },
  {
   "cell_type": "code",
   "execution_count": 20,
   "metadata": {},
   "outputs": [],
   "source": [
    "from keras import optimizers\n",
    "\n",
    "model.compile(loss=\"binary_crossentropy\", optimizer=optimizers.RMSprop(lr=2e-5), metrics=[\"acc\"])"
   ]
  },
  {
   "cell_type": "code",
   "execution_count": 21,
   "metadata": {},
   "outputs": [
    {
     "name": "stdout",
     "output_type": "stream",
     "text": [
      "Model: \"sequential_1\"\n",
      "_________________________________________________________________\n",
      "Layer (type)                 Output Shape              Param #   \n",
      "=================================================================\n",
      "dense_1 (Dense)              (None, 16)                518416    \n",
      "_________________________________________________________________\n",
      "dropout_1 (Dropout)          (None, 16)                0         \n",
      "_________________________________________________________________\n",
      "dense_2 (Dense)              (None, 16)                272       \n",
      "_________________________________________________________________\n",
      "dense_3 (Dense)              (None, 8)                 136       \n",
      "_________________________________________________________________\n",
      "dense_4 (Dense)              (None, 3)                 27        \n",
      "=================================================================\n",
      "Total params: 518,851\n",
      "Trainable params: 518,851\n",
      "Non-trainable params: 0\n",
      "_________________________________________________________________\n"
     ]
    }
   ],
   "source": [
    "model.summary()"
   ]
  },
  {
   "cell_type": "code",
   "execution_count": 22,
   "metadata": {},
   "outputs": [
    {
     "name": "stdout",
     "output_type": "stream",
     "text": [
      "Epoch 1/100\n",
      "15/15 [==============================] - 0s 8ms/step - loss: 8.0745 - acc: 0.3778\n",
      "Epoch 2/100\n",
      "15/15 [==============================] - 0s 2ms/step - loss: 4.1134 - acc: 0.3778\n",
      "Epoch 3/100\n",
      "15/15 [==============================] - 0s 1ms/step - loss: 3.9280 - acc: 0.3778\n",
      "Epoch 4/100\n",
      "15/15 [==============================] - 0s 2ms/step - loss: 2.6518 - acc: 0.4444\n",
      "Epoch 5/100\n",
      "15/15 [==============================] - 0s 1ms/step - loss: 1.9930 - acc: 0.5556\n",
      "Epoch 6/100\n",
      "15/15 [==============================] - 0s 2ms/step - loss: 2.2966 - acc: 0.5333\n",
      "Epoch 7/100\n",
      "15/15 [==============================] - 0s 1ms/step - loss: 2.1731 - acc: 0.3111\n",
      "Epoch 8/100\n",
      "15/15 [==============================] - 0s 1ms/step - loss: 1.3520 - acc: 0.4667\n",
      "Epoch 9/100\n",
      "15/15 [==============================] - 0s 1ms/step - loss: 2.0118 - acc: 0.4222\n",
      "Epoch 10/100\n",
      "15/15 [==============================] - 0s 1ms/step - loss: 1.8104 - acc: 0.5111\n",
      "Epoch 11/100\n",
      "15/15 [==============================] - 0s 1ms/step - loss: 1.7833 - acc: 0.5111\n",
      "Epoch 12/100\n",
      "15/15 [==============================] - 0s 1ms/step - loss: 1.3379 - acc: 0.6000\n",
      "Epoch 13/100\n",
      "15/15 [==============================] - 0s 1ms/step - loss: 1.2416 - acc: 0.6222\n",
      "Epoch 14/100\n",
      "15/15 [==============================] - 0s 1ms/step - loss: 1.6751 - acc: 0.5778\n",
      "Epoch 15/100\n",
      "15/15 [==============================] - 0s 1ms/step - loss: 1.9648 - acc: 0.5333\n",
      "Epoch 16/100\n",
      "15/15 [==============================] - 0s 1ms/step - loss: 1.2091 - acc: 0.5333\n",
      "Epoch 17/100\n",
      "15/15 [==============================] - 0s 1ms/step - loss: 1.1784 - acc: 0.5556\n",
      "Epoch 18/100\n",
      "15/15 [==============================] - 0s 1ms/step - loss: 2.5251 - acc: 0.4667\n",
      "Epoch 19/100\n",
      "15/15 [==============================] - 0s 1ms/step - loss: 1.4516 - acc: 0.5556\n",
      "Epoch 20/100\n",
      "15/15 [==============================] - 0s 1ms/step - loss: 1.4530 - acc: 0.6000\n",
      "Epoch 21/100\n",
      "15/15 [==============================] - 0s 1ms/step - loss: 1.0960 - acc: 0.5333\n",
      "Epoch 22/100\n",
      "15/15 [==============================] - 0s 1ms/step - loss: 2.0796 - acc: 0.5333\n",
      "Epoch 23/100\n",
      "15/15 [==============================] - 0s 1ms/step - loss: 1.4133 - acc: 0.6000\n",
      "Epoch 24/100\n",
      "15/15 [==============================] - 0s 1ms/step - loss: 1.3091 - acc: 0.6000\n",
      "Epoch 25/100\n",
      "15/15 [==============================] - 0s 1ms/step - loss: 1.3067 - acc: 0.4667\n",
      "Epoch 26/100\n",
      "15/15 [==============================] - 0s 2ms/step - loss: 1.4555 - acc: 0.6444\n",
      "Epoch 27/100\n",
      "15/15 [==============================] - 0s 1ms/step - loss: 1.0450 - acc: 0.5333\n",
      "Epoch 28/100\n",
      "15/15 [==============================] - 0s 2ms/step - loss: 1.7618 - acc: 0.5778\n",
      "Epoch 29/100\n",
      "15/15 [==============================] - 0s 1ms/step - loss: 1.1983 - acc: 0.6000\n",
      "Epoch 30/100\n",
      "15/15 [==============================] - 0s 1ms/step - loss: 1.0802 - acc: 0.6667\n",
      "Epoch 31/100\n",
      "15/15 [==============================] - 0s 1ms/step - loss: 1.6016 - acc: 0.5778\n",
      "Epoch 32/100\n",
      "15/15 [==============================] - 0s 1ms/step - loss: 2.2291 - acc: 0.5778\n",
      "Epoch 33/100\n",
      "15/15 [==============================] - 0s 1ms/step - loss: 0.7021 - acc: 0.6222\n",
      "Epoch 34/100\n",
      "15/15 [==============================] - 0s 1ms/step - loss: 1.3467 - acc: 0.6667\n",
      "Epoch 35/100\n",
      "15/15 [==============================] - 0s 1ms/step - loss: 0.9330 - acc: 0.7333\n",
      "Epoch 36/100\n",
      "15/15 [==============================] - 0s 1ms/step - loss: 1.2764 - acc: 0.5778\n",
      "Epoch 37/100\n",
      "15/15 [==============================] - 0s 1ms/step - loss: 1.3458 - acc: 0.5556\n",
      "Epoch 38/100\n",
      "15/15 [==============================] - 0s 1ms/step - loss: 0.8227 - acc: 0.6667\n",
      "Epoch 39/100\n",
      "15/15 [==============================] - 0s 1ms/step - loss: 1.7088 - acc: 0.5556\n",
      "Epoch 40/100\n",
      "15/15 [==============================] - 0s 1ms/step - loss: 1.6871 - acc: 0.5778\n",
      "Epoch 41/100\n",
      "15/15 [==============================] - 0s 1ms/step - loss: 1.1700 - acc: 0.6222\n",
      "Epoch 42/100\n",
      "15/15 [==============================] - 0s 1ms/step - loss: 1.0509 - acc: 0.6000\n",
      "Epoch 43/100\n",
      "15/15 [==============================] - 0s 1ms/step - loss: 1.1053 - acc: 0.7333\n",
      "Epoch 44/100\n",
      "15/15 [==============================] - 0s 1ms/step - loss: 0.7874 - acc: 0.6667\n",
      "Epoch 45/100\n",
      "15/15 [==============================] - 0s 1ms/step - loss: 0.8029 - acc: 0.6444\n",
      "Epoch 46/100\n",
      "15/15 [==============================] - 0s 1ms/step - loss: 1.3542 - acc: 0.6000\n",
      "Epoch 47/100\n",
      "15/15 [==============================] - 0s 1ms/step - loss: 0.6682 - acc: 0.6889\n",
      "Epoch 48/100\n",
      "15/15 [==============================] - 0s 1ms/step - loss: 0.6705 - acc: 0.6000\n",
      "Epoch 49/100\n",
      "15/15 [==============================] - 0s 1ms/step - loss: 1.1364 - acc: 0.5778\n",
      "Epoch 50/100\n",
      "15/15 [==============================] - 0s 1ms/step - loss: 0.6384 - acc: 0.7556\n",
      "Epoch 51/100\n",
      "15/15 [==============================] - 0s 1ms/step - loss: 0.7872 - acc: 0.6667\n",
      "Epoch 52/100\n",
      "15/15 [==============================] - 0s 1ms/step - loss: 1.6296 - acc: 0.5778\n",
      "Epoch 53/100\n",
      "15/15 [==============================] - 0s 1ms/step - loss: 0.6028 - acc: 0.7333\n",
      "Epoch 54/100\n",
      "15/15 [==============================] - 0s 1ms/step - loss: 0.6020 - acc: 0.5778\n",
      "Epoch 55/100\n",
      "15/15 [==============================] - 0s 1ms/step - loss: 0.8521 - acc: 0.6667\n",
      "Epoch 56/100\n",
      "15/15 [==============================] - 0s 1ms/step - loss: 0.7614 - acc: 0.6444\n",
      "Epoch 57/100\n",
      "15/15 [==============================] - 0s 1ms/step - loss: 0.7900 - acc: 0.7111\n",
      "Epoch 58/100\n",
      "15/15 [==============================] - 0s 1ms/step - loss: 0.7368 - acc: 0.7111\n",
      "Epoch 59/100\n",
      "15/15 [==============================] - 0s 1ms/step - loss: 0.6616 - acc: 0.6889\n",
      "Epoch 60/100\n",
      "15/15 [==============================] - 0s 1ms/step - loss: 0.6671 - acc: 0.7111\n",
      "Epoch 61/100\n",
      "15/15 [==============================] - 0s 1ms/step - loss: 1.0188 - acc: 0.6444\n",
      "Epoch 62/100\n",
      "15/15 [==============================] - 0s 1ms/step - loss: 1.3137 - acc: 0.6222\n",
      "Epoch 63/100\n",
      "15/15 [==============================] - 0s 1ms/step - loss: 1.2711 - acc: 0.6444\n",
      "Epoch 64/100\n",
      "15/15 [==============================] - 0s 1ms/step - loss: 0.6899 - acc: 0.6667\n",
      "Epoch 65/100\n",
      "15/15 [==============================] - 0s 1ms/step - loss: 0.6309 - acc: 0.7111\n",
      "Epoch 66/100\n",
      "15/15 [==============================] - 0s 1ms/step - loss: 0.8298 - acc: 0.6444\n",
      "Epoch 67/100\n",
      "15/15 [==============================] - 0s 1ms/step - loss: 0.5450 - acc: 0.7556\n",
      "Epoch 68/100\n",
      "15/15 [==============================] - 0s 1ms/step - loss: 0.8173 - acc: 0.6889\n",
      "Epoch 69/100\n",
      "15/15 [==============================] - 0s 1ms/step - loss: 0.7988 - acc: 0.7778\n",
      "Epoch 70/100\n",
      "15/15 [==============================] - 0s 1ms/step - loss: 0.8764 - acc: 0.6222\n",
      "Epoch 71/100\n",
      "15/15 [==============================] - 0s 1ms/step - loss: 1.2132 - acc: 0.6667\n",
      "Epoch 72/100\n",
      "15/15 [==============================] - 0s 1ms/step - loss: 0.9522 - acc: 0.6222\n",
      "Epoch 73/100\n",
      "15/15 [==============================] - 0s 1ms/step - loss: 0.4504 - acc: 0.7556\n",
      "Epoch 74/100\n",
      "15/15 [==============================] - 0s 1ms/step - loss: 0.5927 - acc: 0.6667\n",
      "Epoch 75/100\n",
      "15/15 [==============================] - 0s 1ms/step - loss: 0.8244 - acc: 0.6667\n",
      "Epoch 76/100\n",
      "15/15 [==============================] - 0s 1ms/step - loss: 0.9845 - acc: 0.7111\n",
      "Epoch 77/100\n",
      "15/15 [==============================] - 0s 1ms/step - loss: 0.8539 - acc: 0.6889\n",
      "Epoch 78/100\n",
      "15/15 [==============================] - 0s 1ms/step - loss: 1.0726 - acc: 0.6222\n",
      "Epoch 79/100\n",
      "15/15 [==============================] - 0s 1ms/step - loss: 0.8776 - acc: 0.6667\n",
      "Epoch 80/100\n",
      "15/15 [==============================] - 0s 1ms/step - loss: 1.1964 - acc: 0.7333\n",
      "Epoch 81/100\n",
      "15/15 [==============================] - 0s 1ms/step - loss: 0.8261 - acc: 0.7111\n",
      "Epoch 82/100\n",
      "15/15 [==============================] - 0s 1ms/step - loss: 0.5734 - acc: 0.6667\n",
      "Epoch 83/100\n",
      "15/15 [==============================] - 0s 1ms/step - loss: 0.9209 - acc: 0.6444\n",
      "Epoch 84/100\n",
      "15/15 [==============================] - 0s 1ms/step - loss: 0.8743 - acc: 0.7333\n",
      "Epoch 85/100\n",
      "15/15 [==============================] - 0s 1ms/step - loss: 1.1209 - acc: 0.6222\n",
      "Epoch 86/100\n",
      "15/15 [==============================] - 0s 1ms/step - loss: 0.8260 - acc: 0.5778\n",
      "Epoch 87/100\n"
     ]
    },
    {
     "name": "stdout",
     "output_type": "stream",
     "text": [
      "15/15 [==============================] - 0s 1ms/step - loss: 0.7613 - acc: 0.7556\n",
      "Epoch 88/100\n",
      "15/15 [==============================] - 0s 1ms/step - loss: 0.6850 - acc: 0.6667\n",
      "Epoch 89/100\n",
      "15/15 [==============================] - 0s 1ms/step - loss: 0.7804 - acc: 0.7333\n",
      "Epoch 90/100\n",
      "15/15 [==============================] - 0s 1ms/step - loss: 0.8429 - acc: 0.7333\n",
      "Epoch 91/100\n",
      "15/15 [==============================] - 0s 1ms/step - loss: 0.7290 - acc: 0.6667\n",
      "Epoch 92/100\n",
      "15/15 [==============================] - 0s 1ms/step - loss: 0.6935 - acc: 0.6000\n",
      "Epoch 93/100\n",
      "15/15 [==============================] - 0s 1ms/step - loss: 0.6533 - acc: 0.6889\n",
      "Epoch 94/100\n",
      "15/15 [==============================] - 0s 1ms/step - loss: 0.5033 - acc: 0.7778\n",
      "Epoch 95/100\n",
      "15/15 [==============================] - 0s 1ms/step - loss: 1.0871 - acc: 0.7333\n",
      "Epoch 96/100\n",
      "15/15 [==============================] - 0s 1ms/step - loss: 1.4414 - acc: 0.6222\n",
      "Epoch 97/100\n",
      "15/15 [==============================] - 0s 1ms/step - loss: 0.6857 - acc: 0.6444\n",
      "Epoch 98/100\n",
      "15/15 [==============================] - 0s 1ms/step - loss: 0.6619 - acc: 0.7111\n",
      "Epoch 99/100\n",
      "15/15 [==============================] - 0s 1ms/step - loss: 0.5344 - acc: 0.7111\n",
      "Epoch 100/100\n",
      "15/15 [==============================] - 0s 1ms/step - loss: 1.1032 - acc: 0.7111\n"
     ]
    }
   ],
   "source": [
    "historyP = model.fit(\n",
    "    priming_features, \n",
    "    priming_labels,\n",
    "    epochs=priming_epochs,\n",
    "    batch_size=batch_size#,\n",
    "    #validation_data=(validation_features, validation_labels)\n",
    ")"
   ]
  },
  {
   "cell_type": "code",
   "execution_count": 23,
   "metadata": {},
   "outputs": [
    {
     "name": "stdout",
     "output_type": "stream",
     "text": [
      "Train on 195 samples, validate on 60 samples\n",
      "Epoch 1/50\n",
      "195/195 [==============================] - 0s 1ms/step - loss: 1.6520 - acc: 0.5709 - val_loss: 0.7009 - val_acc: 0.6667\n",
      "Epoch 2/50\n",
      "195/195 [==============================] - 0s 1ms/step - loss: 1.7353 - acc: 0.5675 - val_loss: 0.5665 - val_acc: 0.6889\n",
      "Epoch 3/50\n",
      "195/195 [==============================] - 0s 1ms/step - loss: 1.9584 - acc: 0.5556 - val_loss: 0.5112 - val_acc: 0.7222\n",
      "Epoch 4/50\n",
      "195/195 [==============================] - 0s 1ms/step - loss: 1.3939 - acc: 0.6017 - val_loss: 0.4766 - val_acc: 0.7444\n",
      "Epoch 5/50\n",
      "195/195 [==============================] - 0s 1ms/step - loss: 1.2180 - acc: 0.6154 - val_loss: 0.4751 - val_acc: 0.7333\n",
      "Epoch 6/50\n",
      "195/195 [==============================] - 0s 1ms/step - loss: 1.3189 - acc: 0.6291 - val_loss: 0.4469 - val_acc: 0.7333\n",
      "Epoch 7/50\n",
      "195/195 [==============================] - 0s 1ms/step - loss: 1.2144 - acc: 0.6274 - val_loss: 0.4500 - val_acc: 0.7556\n",
      "Epoch 8/50\n",
      "195/195 [==============================] - 0s 1ms/step - loss: 1.3551 - acc: 0.6205 - val_loss: 0.4489 - val_acc: 0.7611\n",
      "Epoch 9/50\n",
      "195/195 [==============================] - 0s 1ms/step - loss: 1.1782 - acc: 0.6325 - val_loss: 0.4177 - val_acc: 0.7778\n",
      "Epoch 10/50\n",
      "195/195 [==============================] - 0s 1ms/step - loss: 1.1009 - acc: 0.6513 - val_loss: 0.4180 - val_acc: 0.7556\n",
      "Epoch 11/50\n",
      "195/195 [==============================] - 0s 1ms/step - loss: 1.1740 - acc: 0.6410 - val_loss: 0.4372 - val_acc: 0.7500\n",
      "Epoch 12/50\n",
      "195/195 [==============================] - 0s 1ms/step - loss: 0.9531 - acc: 0.6718 - val_loss: 0.4264 - val_acc: 0.7444\n",
      "Epoch 13/50\n",
      "195/195 [==============================] - 0s 1ms/step - loss: 0.9970 - acc: 0.6684 - val_loss: 0.4243 - val_acc: 0.7500\n",
      "Epoch 14/50\n",
      "195/195 [==============================] - 0s 1ms/step - loss: 0.9016 - acc: 0.6650 - val_loss: 0.4255 - val_acc: 0.7611\n",
      "Epoch 15/50\n",
      "195/195 [==============================] - 0s 1ms/step - loss: 0.9649 - acc: 0.6752 - val_loss: 0.4045 - val_acc: 0.7556\n",
      "Epoch 16/50\n",
      "195/195 [==============================] - 0s 1ms/step - loss: 1.0070 - acc: 0.6598 - val_loss: 0.4021 - val_acc: 0.7389\n",
      "Epoch 17/50\n",
      "195/195 [==============================] - 0s 1ms/step - loss: 0.9701 - acc: 0.6838 - val_loss: 0.4141 - val_acc: 0.7611\n",
      "Epoch 18/50\n",
      "195/195 [==============================] - 0s 1ms/step - loss: 0.9449 - acc: 0.6855 - val_loss: 0.4094 - val_acc: 0.7500\n",
      "Epoch 19/50\n",
      "195/195 [==============================] - 0s 1ms/step - loss: 0.8907 - acc: 0.6974 - val_loss: 0.4031 - val_acc: 0.7778\n",
      "Epoch 20/50\n",
      "195/195 [==============================] - 0s 1ms/step - loss: 0.9723 - acc: 0.6855 - val_loss: 0.4078 - val_acc: 0.7444\n",
      "Epoch 21/50\n",
      "195/195 [==============================] - 0s 1ms/step - loss: 0.9295 - acc: 0.6821 - val_loss: 0.4024 - val_acc: 0.7556\n",
      "Epoch 22/50\n",
      "195/195 [==============================] - 0s 1ms/step - loss: 0.9170 - acc: 0.6838 - val_loss: 0.3955 - val_acc: 0.7611\n",
      "Epoch 23/50\n",
      "195/195 [==============================] - 0s 1ms/step - loss: 0.8474 - acc: 0.7043 - val_loss: 0.4224 - val_acc: 0.7722\n",
      "Epoch 24/50\n",
      "195/195 [==============================] - 0s 1ms/step - loss: 0.7831 - acc: 0.6803 - val_loss: 0.4186 - val_acc: 0.7667\n",
      "Epoch 25/50\n",
      "195/195 [==============================] - 0s 1ms/step - loss: 0.7771 - acc: 0.7128 - val_loss: 0.4018 - val_acc: 0.7556\n",
      "Epoch 26/50\n",
      "195/195 [==============================] - 0s 1ms/step - loss: 0.9253 - acc: 0.6974 - val_loss: 0.4203 - val_acc: 0.7611\n",
      "Epoch 27/50\n",
      "195/195 [==============================] - 0s 1ms/step - loss: 0.9244 - acc: 0.6786 - val_loss: 0.4168 - val_acc: 0.7778\n",
      "Epoch 28/50\n",
      "195/195 [==============================] - 0s 1ms/step - loss: 0.8188 - acc: 0.7009 - val_loss: 0.3984 - val_acc: 0.7778\n",
      "Epoch 29/50\n",
      "195/195 [==============================] - 0s 1ms/step - loss: 0.6278 - acc: 0.7316 - val_loss: 0.4035 - val_acc: 0.7778\n",
      "Epoch 30/50\n",
      "195/195 [==============================] - 0s 1ms/step - loss: 0.7018 - acc: 0.7128 - val_loss: 0.3782 - val_acc: 0.7833\n",
      "Epoch 31/50\n",
      "195/195 [==============================] - 0s 1ms/step - loss: 0.7647 - acc: 0.6957 - val_loss: 0.3888 - val_acc: 0.7667\n",
      "Epoch 32/50\n",
      "195/195 [==============================] - 0s 1ms/step - loss: 0.8172 - acc: 0.7128 - val_loss: 0.3813 - val_acc: 0.7667\n",
      "Epoch 33/50\n",
      "195/195 [==============================] - 0s 1ms/step - loss: 0.7422 - acc: 0.7145 - val_loss: 0.3980 - val_acc: 0.7389\n",
      "Epoch 34/50\n",
      "195/195 [==============================] - 0s 1ms/step - loss: 0.7981 - acc: 0.7060 - val_loss: 0.4095 - val_acc: 0.7611\n",
      "Epoch 35/50\n",
      "195/195 [==============================] - 0s 1ms/step - loss: 0.8235 - acc: 0.7265 - val_loss: 0.4012 - val_acc: 0.7444\n",
      "Epoch 36/50\n",
      "195/195 [==============================] - 0s 1ms/step - loss: 0.6612 - acc: 0.7385 - val_loss: 0.3936 - val_acc: 0.7500\n",
      "Epoch 37/50\n",
      "195/195 [==============================] - 0s 1ms/step - loss: 0.8272 - acc: 0.7111 - val_loss: 0.3831 - val_acc: 0.7722\n",
      "Epoch 38/50\n",
      "195/195 [==============================] - 0s 1ms/step - loss: 0.6538 - acc: 0.7316 - val_loss: 0.3992 - val_acc: 0.7833\n",
      "Epoch 39/50\n",
      "195/195 [==============================] - 0s 1ms/step - loss: 0.6531 - acc: 0.7385 - val_loss: 0.4274 - val_acc: 0.7667\n",
      "Epoch 40/50\n",
      "195/195 [==============================] - 0s 1ms/step - loss: 0.5983 - acc: 0.7316 - val_loss: 0.3791 - val_acc: 0.7667\n",
      "Epoch 41/50\n",
      "195/195 [==============================] - 0s 1ms/step - loss: 0.6145 - acc: 0.7487 - val_loss: 0.3929 - val_acc: 0.7611\n",
      "Epoch 42/50\n",
      "195/195 [==============================] - 0s 1ms/step - loss: 0.7557 - acc: 0.7094 - val_loss: 0.3903 - val_acc: 0.7556\n",
      "Epoch 43/50\n",
      "195/195 [==============================] - 0s 1ms/step - loss: 0.6477 - acc: 0.7162 - val_loss: 0.3841 - val_acc: 0.7500\n",
      "Epoch 44/50\n",
      "195/195 [==============================] - 0s 1ms/step - loss: 0.5774 - acc: 0.7470 - val_loss: 0.3858 - val_acc: 0.7833\n",
      "Epoch 45/50\n",
      "195/195 [==============================] - 0s 1ms/step - loss: 0.5891 - acc: 0.7573 - val_loss: 0.3791 - val_acc: 0.7722\n",
      "Epoch 46/50\n",
      "195/195 [==============================] - 0s 1ms/step - loss: 0.6633 - acc: 0.7094 - val_loss: 0.3894 - val_acc: 0.7722\n",
      "Epoch 47/50\n",
      "195/195 [==============================] - 0s 1ms/step - loss: 0.6527 - acc: 0.7248 - val_loss: 0.4199 - val_acc: 0.7667\n",
      "Epoch 48/50\n",
      "195/195 [==============================] - 0s 1ms/step - loss: 0.6540 - acc: 0.7675 - val_loss: 0.4263 - val_acc: 0.7722\n",
      "Epoch 49/50\n",
      "195/195 [==============================] - 0s 1ms/step - loss: 0.6242 - acc: 0.7504 - val_loss: 0.3854 - val_acc: 0.7611\n",
      "Epoch 50/50\n",
      "195/195 [==============================] - 0s 1ms/step - loss: 0.5911 - acc: 0.7556 - val_loss: 0.4219 - val_acc: 0.7778\n"
     ]
    }
   ],
   "source": [
    "history = model.fit(\n",
    "    train_features, \n",
    "    train_labels,\n",
    "    epochs=training_epochs,\n",
    "    batch_size=batch_size,\n",
    "    validation_data=(validation_features, validation_labels)\n",
    ")"
   ]
  },
  {
   "cell_type": "code",
   "execution_count": 24,
   "metadata": {},
   "outputs": [],
   "source": [
    "#model.save('baseline.h5')"
   ]
  },
  {
   "cell_type": "code",
   "execution_count": 25,
   "metadata": {},
   "outputs": [],
   "source": [
    "# validation"
   ]
  },
  {
   "cell_type": "code",
   "execution_count": 26,
   "metadata": {},
   "outputs": [
    {
     "data": {
      "image/png": "[encoded data removed]",
      "text/plain": [
       "<Figure size 432x288 with 1 Axes>"
      ]
     },
     "metadata": {
      "needs_background": "light"
     },
     "output_type": "display_data"
    },
    {
     "data": {
      "image/png": "[encoded data removed]",
      "text/plain": [
       "<Figure size 432x288 with 1 Axes>"
      ]
     },
     "metadata": {
      "needs_background": "light"
     },
     "output_type": "display_data"
    }
   ],
   "source": [
    "import matplotlib.pyplot as plt\n",
    "\n",
    "acc = historyP.history['acc']\n",
    "loss = historyP.history['loss']\n",
    "\n",
    "epochs = range(len(acc))\n",
    "\n",
    "plt.plot(epochs, acc, 'bo', label='Training acc')\n",
    "plt.title('Training accuracy')\n",
    "plt.legend()\n",
    "\n",
    "plt.figure()\n",
    "\n",
    "plt.plot(epochs, loss, 'bo', label='Training loss')\n",
    "plt.title('Training loss')\n",
    "plt.legend()\n",
    "\n",
    "plt.show()"
   ]
  },
  {
   "cell_type": "code",
   "execution_count": 27,
   "metadata": {},
   "outputs": [
    {
     "data": {
      "image/png": "[encoded data removed]",
      "text/plain": [
       "<Figure size 432x288 with 1 Axes>"
      ]
     },
     "metadata": {
      "needs_background": "light"
     },
     "output_type": "display_data"
    },
    {
     "data": {
      "image/png": "[encoded data removed]",
      "text/plain": [
       "<Figure size 432x288 with 1 Axes>"
      ]
     },
     "metadata": {
      "needs_background": "light"
     },
     "output_type": "display_data"
    }
   ],
   "source": [
    "import matplotlib.pyplot as plt\n",
    "\n",
    "acc = history.history['acc']\n",
    "val_acc = history.history['val_acc']\n",
    "loss = history.history['loss']\n",
    "val_loss = history.history['val_loss']\n",
    "\n",
    "epochs = range(len(acc))\n",
    "\n",
    "plt.plot(epochs, acc, 'bo', label='Training acc')\n",
    "plt.plot(epochs, val_acc, 'b', label='Validation acc')\n",
    "plt.title('Training and validation accuracy')\n",
    "plt.legend()\n",
    "\n",
    "plt.figure()\n",
    "\n",
    "plt.plot(epochs, loss, 'bo', label='Training loss')\n",
    "plt.plot(epochs, val_loss, 'b', label='Validation loss')\n",
    "plt.title('Training and validation loss')\n",
    "plt.legend()\n",
    "\n",
    "plt.show()"
   ]
  }
 ],
 "metadata": {
  "kernelspec": {
   "display_name": "Python 3",
   "language": "python",
   "name": "python3"
  },
  "language_info": {
   "codemirror_mode": {
    "name": "ipython",
    "version": 3
   },
   "file_extension": ".py",
   "mimetype": "text/x-python",
   "name": "python",
   "nbconvert_exporter": "python",
   "pygments_lexer": "ipython3",
   "version": "3.7.9"
  }
 },
 "nbformat": 4,
 "nbformat_minor": 4
}
