{
 "cells": [
  {
   "cell_type": "code",
   "execution_count": 1,
   "metadata": {},
   "outputs": [
    {
     "name": "stderr",
     "output_type": "stream",
     "text": [
      "Using TensorFlow backend.\n"
     ]
    },
    {
     "data": {
      "text/plain": [
       "'2.3.1'"
      ]
     },
     "execution_count": 1,
     "metadata": {},
     "output_type": "execute_result"
    }
   ],
   "source": [
    "import os\n",
    "import keras\n",
    "\n",
    "from keras.preprocessing.image import ImageDataGenerator\n",
    "\n",
    "keras.__version__"
   ]
  },
  {
   "cell_type": "code",
   "execution_count": 2,
   "metadata": {},
   "outputs": [],
   "source": [
    "from tensorflow.compat.v1 import ConfigProto\n",
    "from tensorflow.compat.v1 import InteractiveSession\n",
    "# Limits GPU-RAM usage\n",
    "config = ConfigProto()\n",
    "config.gpu_options.allow_growth = True\n",
    "session = InteractiveSession(config=config)"
   ]
  },
  {
   "cell_type": "code",
   "execution_count": 3,
   "metadata": {},
   "outputs": [],
   "source": [
    "# import and \"clean\" data"
   ]
  },
  {
   "cell_type": "code",
   "execution_count": 4,
   "metadata": {},
   "outputs": [],
   "source": [
    "def get_generator(base_dir, folderName):\n",
    "    directory = os.path.join(base_dir, folderName)\n",
    "    return ImageDataGenerator(rescale=1./255).flow_from_directory(\n",
    "        directory, \n",
    "        target_size, \n",
    "        batch_size= batch_size,\n",
    "        shuffle=True,\n",
    "        class_mode='sparse'\n",
    "    )"
   ]
  },
  {
   "cell_type": "code",
   "execution_count": 5,
   "metadata": {},
   "outputs": [
    {
     "name": "stdout",
     "output_type": "stream",
     "text": [
      "Found 15 images belonging to 3 classes.\n",
      "Found 195 images belonging to 3 classes.\n",
      "Found 30 images belonging to 3 classes.\n",
      "Found 60 images belonging to 3 classes.\n"
     ]
    }
   ],
   "source": [
    "priming_epochs = 100\n",
    "training_epochs = 50\n",
    "batch_size = 5\n",
    "target_width = 150\n",
    "target_height = 150\n",
    "target_size = (target_width, target_height)\n",
    "target_shape = (target_width, target_height, 3) # 3 for color\n",
    "base_dir = 'paintingsPriming'\n",
    "\n",
    "priming_gen = get_generator(base_dir, 'priming')\n",
    "train_gen = get_generator(base_dir, 'train')\n",
    "test_gen = get_generator(base_dir, 'test')\n",
    "validation_gen = get_generator(base_dir, 'validation')"
   ]
  },
  {
   "cell_type": "code",
   "execution_count": 6,
   "metadata": {},
   "outputs": [],
   "source": [
    "numOfClasses = train_gen.num_classes\n",
    "\n",
    "numOfPrimingSamples = priming_gen.n\n",
    "numOfTrainSamples = train_gen.n\n",
    "numOfTestSamples = test_gen.n\n",
    "numOfValSamples = validation_gen.n"
   ]
  },
  {
   "cell_type": "code",
   "execution_count": 7,
   "metadata": {},
   "outputs": [],
   "source": [
    "# Define Conv model"
   ]
  },
  {
   "cell_type": "code",
   "execution_count": 8,
   "metadata": {},
   "outputs": [],
   "source": [
    "from keras.applications import VGG16\n",
    "\n",
    "conv_base = VGG16(weights='imagenet', \n",
    "                  include_top=False, \n",
    "                  input_shape= target_shape) # honestly, I'm not sure whether height or width comes first"
   ]
  },
  {
   "cell_type": "code",
   "execution_count": 9,
   "metadata": {},
   "outputs": [
    {
     "name": "stdout",
     "output_type": "stream",
     "text": [
      "Model: \"vgg16\"\n",
      "_________________________________________________________________\n",
      "Layer (type)                 Output Shape              Param #   \n",
      "=================================================================\n",
      "input_1 (InputLayer)         (None, 150, 150, 3)       0         \n",
      "_________________________________________________________________\n",
      "block1_conv1 (Conv2D)        (None, 150, 150, 64)      1792      \n",
      "_________________________________________________________________\n",
      "block1_conv2 (Conv2D)        (None, 150, 150, 64)      36928     \n",
      "_________________________________________________________________\n",
      "block1_pool (MaxPooling2D)   (None, 75, 75, 64)        0         \n",
      "_________________________________________________________________\n",
      "block2_conv1 (Conv2D)        (None, 75, 75, 128)       73856     \n",
      "_________________________________________________________________\n",
      "block2_conv2 (Conv2D)        (None, 75, 75, 128)       147584    \n",
      "_________________________________________________________________\n",
      "block2_pool (MaxPooling2D)   (None, 37, 37, 128)       0         \n",
      "_________________________________________________________________\n",
      "block3_conv1 (Conv2D)        (None, 37, 37, 256)       295168    \n",
      "_________________________________________________________________\n",
      "block3_conv2 (Conv2D)        (None, 37, 37, 256)       590080    \n",
      "_________________________________________________________________\n",
      "block3_conv3 (Conv2D)        (None, 37, 37, 256)       590080    \n",
      "_________________________________________________________________\n",
      "block3_pool (MaxPooling2D)   (None, 18, 18, 256)       0         \n",
      "_________________________________________________________________\n",
      "block4_conv1 (Conv2D)        (None, 18, 18, 512)       1180160   \n",
      "_________________________________________________________________\n",
      "block4_conv2 (Conv2D)        (None, 18, 18, 512)       2359808   \n",
      "_________________________________________________________________\n",
      "block4_conv3 (Conv2D)        (None, 18, 18, 512)       2359808   \n",
      "_________________________________________________________________\n",
      "block4_pool (MaxPooling2D)   (None, 9, 9, 512)         0         \n",
      "_________________________________________________________________\n",
      "block5_conv1 (Conv2D)        (None, 9, 9, 512)         2359808   \n",
      "_________________________________________________________________\n",
      "block5_conv2 (Conv2D)        (None, 9, 9, 512)         2359808   \n",
      "_________________________________________________________________\n",
      "block5_conv3 (Conv2D)        (None, 9, 9, 512)         2359808   \n",
      "_________________________________________________________________\n",
      "block5_pool (MaxPooling2D)   (None, 4, 4, 512)         0         \n",
      "=================================================================\n",
      "Total params: 14,714,688\n",
      "Trainable params: 14,714,688\n",
      "Non-trainable params: 0\n",
      "_________________________________________________________________\n"
     ]
    }
   ],
   "source": [
    "conv_base.summary()"
   ]
  },
  {
   "cell_type": "code",
   "execution_count": 10,
   "metadata": {},
   "outputs": [],
   "source": [
    "block3_pool_width = 18\n",
    "block3_pool_height = 18\n",
    "block3_pool_area = block3_pool_width * block3_pool_height\n",
    "block3_pool_no_of_filters = 256\n",
    "\n",
    "## Following not used, but included for completeness and your own possible experiments\n",
    "block5_pool_width = 4\n",
    "block5_pool_height = 4\n",
    "block5_pool_area = block3_pool_width * block3_pool_height\n",
    "block5_pool_no_of_filters = 512"
   ]
  },
  {
   "cell_type": "code",
   "execution_count": 11,
   "metadata": {},
   "outputs": [],
   "source": [
    "from keras import Model\n",
    "\n",
    "intermediate_layer_model = Model(inputs=conv_base.input, \n",
    "                                 outputs=conv_base.get_layer('block3_pool').output)\n",
    "no_of_filters_left = 100"
   ]
  },
  {
   "cell_type": "code",
   "execution_count": 12,
   "metadata": {},
   "outputs": [],
   "source": [
    "from keras.utils.np_utils import to_categorical\n",
    "\n",
    "def extract_features(generator, sample_count):\n",
    "    features = np.zeros(shape=(sample_count, block3_pool_width, block3_pool_height, block3_pool_no_of_filters))\n",
    "    labels = np.zeros(shape=(sample_count))\n",
    "    \n",
    "    i = 0\n",
    "    for inputs_batch, labels_batch in generator:\n",
    "        features_batch = intermediate_layer_model.predict(inputs_batch)\n",
    "        features[i * batch_size : (i + 1) * batch_size] = features_batch\n",
    "        labels[i * batch_size : (i + 1) * batch_size] = labels_batch\n",
    "        i += 1\n",
    "        if i * batch_size >= sample_count:\n",
    "            # Note that since generators yield data indefinitely in a loop,\n",
    "            # we must `break` after every image has been seen once.\n",
    "            break\n",
    "\n",
    "    ### Now throwing away most of the features (= results of features)\n",
    "    features = features[:,:,:,0:no_of_filters_left]\n",
    "    ### convert labels 0, 1, and 2 to [1,0,0], [0,1,0] and [0,0,1] \n",
    "    labels = to_categorical(labels)\n",
    "    return features, labels"
   ]
  },
  {
   "cell_type": "code",
   "execution_count": 13,
   "metadata": {},
   "outputs": [],
   "source": [
    "import numpy as np\n",
    "\n",
    "priming_features, priming_labels = extract_features(priming_gen, numOfPrimingSamples)\n",
    "train_features, train_labels = extract_features(train_gen, numOfTrainSamples)\n",
    "validation_features, validation_labels = extract_features(validation_gen, numOfValSamples)\n",
    "test_features, test_labels = extract_features(test_gen, numOfTestSamples)"
   ]
  },
  {
   "cell_type": "code",
   "execution_count": 14,
   "metadata": {},
   "outputs": [],
   "source": [
    "priming_features = np.reshape(priming_features, (numOfPrimingSamples, block3_pool_area * no_of_filters_left))\n",
    "train_features = np.reshape(train_features, (numOfTrainSamples, block3_pool_area * no_of_filters_left))\n",
    "validation_features = np.reshape(validation_features, (numOfValSamples, block3_pool_area * no_of_filters_left))\n",
    "test_features = np.reshape(test_features, (numOfTestSamples, block3_pool_area * no_of_filters_left))"
   ]
  },
  {
   "cell_type": "code",
   "execution_count": 15,
   "metadata": {},
   "outputs": [],
   "source": [
    "# Define Dense model"
   ]
  },
  {
   "cell_type": "code",
   "execution_count": 16,
   "metadata": {},
   "outputs": [],
   "source": [
    "from keras import models\n",
    "from keras import layers\n",
    "\n",
    "model = models.Sequential()\n",
    "model.add(layers.Dense(16, input_dim= block3_pool_area * no_of_filters_left))\n",
    "model.add(layers.Dropout(0.5))\n",
    "model.add(layers.Dense(16, activation='relu'))\n",
    "model.add(layers.Dense(8, activation='relu'))\n",
    "model.add(layers.Dense(numOfClasses, activation='sigmoid'))"
   ]
  },
  {
   "cell_type": "code",
   "execution_count": 17,
   "metadata": {},
   "outputs": [],
   "source": [
    "# train model"
   ]
  },
  {
   "cell_type": "code",
   "execution_count": 18,
   "metadata": {},
   "outputs": [],
   "source": [
    "from keras import optimizers\n",
    "\n",
    "model.compile(loss=\"binary_crossentropy\", optimizer=optimizers.RMSprop(lr=2e-5), metrics=[\"acc\"])"
   ]
  },
  {
   "cell_type": "code",
   "execution_count": 19,
   "metadata": {},
   "outputs": [
    {
     "name": "stdout",
     "output_type": "stream",
     "text": [
      "Model: \"sequential_1\"\n",
      "_________________________________________________________________\n",
      "Layer (type)                 Output Shape              Param #   \n",
      "=================================================================\n",
      "dense_1 (Dense)              (None, 16)                518416    \n",
      "_________________________________________________________________\n",
      "dropout_1 (Dropout)          (None, 16)                0         \n",
      "_________________________________________________________________\n",
      "dense_2 (Dense)              (None, 16)                272       \n",
      "_________________________________________________________________\n",
      "dense_3 (Dense)              (None, 8)                 136       \n",
      "_________________________________________________________________\n",
      "dense_4 (Dense)              (None, 3)                 27        \n",
      "=================================================================\n",
      "Total params: 518,851\n",
      "Trainable params: 518,851\n",
      "Non-trainable params: 0\n",
      "_________________________________________________________________\n"
     ]
    }
   ],
   "source": [
    "model.summary()"
   ]
  },
  {
   "cell_type": "code",
   "execution_count": 20,
   "metadata": {},
   "outputs": [
    {
     "name": "stdout",
     "output_type": "stream",
     "text": [
      "Epoch 1/100\n",
      "15/15 [==============================] - 0s 7ms/step - loss: 4.7442 - acc: 0.4889\n",
      "Epoch 2/100\n",
      "15/15 [==============================] - 0s 1ms/step - loss: 4.3479 - acc: 0.4889\n",
      "Epoch 3/100\n",
      "15/15 [==============================] - 0s 1ms/step - loss: 3.7808 - acc: 0.6222\n",
      "Epoch 4/100\n",
      "15/15 [==============================] - 0s 1ms/step - loss: 2.9403 - acc: 0.5111\n",
      "Epoch 5/100\n",
      "15/15 [==============================] - 0s 1ms/step - loss: 2.2305 - acc: 0.6444\n",
      "Epoch 6/100\n",
      "15/15 [==============================] - 0s 1ms/step - loss: 2.7995 - acc: 0.6444\n",
      "Epoch 7/100\n",
      "15/15 [==============================] - 0s 1ms/step - loss: 3.1380 - acc: 0.6444\n",
      "Epoch 8/100\n",
      "15/15 [==============================] - 0s 1ms/step - loss: 2.5321 - acc: 0.5556\n",
      "Epoch 9/100\n",
      "15/15 [==============================] - 0s 1ms/step - loss: 1.7358 - acc: 0.6667\n",
      "Epoch 10/100\n",
      "15/15 [==============================] - 0s 1ms/step - loss: 1.9113 - acc: 0.6222\n",
      "Epoch 11/100\n",
      "15/15 [==============================] - 0s 1ms/step - loss: 2.0505 - acc: 0.6444\n",
      "Epoch 12/100\n",
      "15/15 [==============================] - 0s 1ms/step - loss: 1.7899 - acc: 0.6000\n",
      "Epoch 13/100\n",
      "15/15 [==============================] - 0s 1ms/step - loss: 0.6044 - acc: 0.8444\n",
      "Epoch 14/100\n",
      "15/15 [==============================] - 0s 1ms/step - loss: 1.6826 - acc: 0.6667\n",
      "Epoch 15/100\n",
      "15/15 [==============================] - 0s 1ms/step - loss: 0.5993 - acc: 0.8444\n",
      "Epoch 16/100\n",
      "15/15 [==============================] - 0s 1ms/step - loss: 0.8058 - acc: 0.7778\n",
      "Epoch 17/100\n",
      "15/15 [==============================] - 0s 1ms/step - loss: 1.3575 - acc: 0.7778\n",
      "Epoch 18/100\n",
      "15/15 [==============================] - 0s 1ms/step - loss: 1.2616 - acc: 0.7333\n",
      "Epoch 19/100\n",
      "15/15 [==============================] - 0s 1ms/step - loss: 1.0583 - acc: 0.8444\n",
      "Epoch 20/100\n",
      "15/15 [==============================] - 0s 1ms/step - loss: 1.3150 - acc: 0.7556\n",
      "Epoch 21/100\n",
      "15/15 [==============================] - 0s 1ms/step - loss: 0.6306 - acc: 0.8889\n",
      "Epoch 22/100\n",
      "15/15 [==============================] - 0s 1ms/step - loss: 0.8750 - acc: 0.8444\n",
      "Epoch 23/100\n",
      "15/15 [==============================] - 0s 1ms/step - loss: 0.5404 - acc: 0.8444\n",
      "Epoch 24/100\n",
      "15/15 [==============================] - 0s 1ms/step - loss: 0.6933 - acc: 0.8222\n",
      "Epoch 25/100\n",
      "15/15 [==============================] - 0s 1ms/step - loss: 0.4297 - acc: 0.9333\n",
      "Epoch 26/100\n",
      "15/15 [==============================] - 0s 1ms/step - loss: 0.9769 - acc: 0.7556\n",
      "Epoch 27/100\n",
      "15/15 [==============================] - 0s 1ms/step - loss: 0.5491 - acc: 0.8667\n",
      "Epoch 28/100\n",
      "15/15 [==============================] - 0s 1ms/step - loss: 0.4920 - acc: 0.8889\n",
      "Epoch 29/100\n",
      "15/15 [==============================] - 0s 1ms/step - loss: 0.7563 - acc: 0.8222\n",
      "Epoch 30/100\n",
      "15/15 [==============================] - 0s 1ms/step - loss: 0.6410 - acc: 0.8000\n",
      "Epoch 31/100\n",
      "15/15 [==============================] - 0s 1ms/step - loss: 0.9774 - acc: 0.8444\n",
      "Epoch 32/100\n",
      "15/15 [==============================] - 0s 1ms/step - loss: 0.5344 - acc: 0.8444\n",
      "Epoch 33/100\n",
      "15/15 [==============================] - 0s 1ms/step - loss: 0.3725 - acc: 0.8889\n",
      "Epoch 34/100\n",
      "15/15 [==============================] - 0s 1ms/step - loss: 0.7625 - acc: 0.8444\n",
      "Epoch 35/100\n",
      "15/15 [==============================] - 0s 1ms/step - loss: 0.3863 - acc: 0.8889\n",
      "Epoch 36/100\n",
      "15/15 [==============================] - 0s 1ms/step - loss: 0.0826 - acc: 0.9556\n",
      "Epoch 37/100\n",
      "15/15 [==============================] - 0s 1ms/step - loss: 0.6322 - acc: 0.8667\n",
      "Epoch 38/100\n",
      "15/15 [==============================] - 0s 1ms/step - loss: 0.6290 - acc: 0.8667\n",
      "Epoch 39/100\n",
      "15/15 [==============================] - 0s 1ms/step - loss: 1.4573 - acc: 0.7556\n",
      "Epoch 40/100\n",
      "15/15 [==============================] - 0s 1ms/step - loss: 0.4275 - acc: 0.9333\n",
      "Epoch 41/100\n",
      "15/15 [==============================] - 0s 1ms/step - loss: 1.1135 - acc: 0.7778\n",
      "Epoch 42/100\n",
      "15/15 [==============================] - 0s 1ms/step - loss: 0.3918 - acc: 0.9556\n",
      "Epoch 43/100\n",
      "15/15 [==============================] - 0s 1ms/step - loss: 0.1381 - acc: 0.9778\n",
      "Epoch 44/100\n",
      "15/15 [==============================] - 0s 1ms/step - loss: 0.6664 - acc: 0.8444\n",
      "Epoch 45/100\n",
      "15/15 [==============================] - 0s 1ms/step - loss: 0.3584 - acc: 0.9333\n",
      "Epoch 46/100\n",
      "15/15 [==============================] - 0s 1ms/step - loss: 1.1330 - acc: 0.8000\n",
      "Epoch 47/100\n",
      "15/15 [==============================] - 0s 1ms/step - loss: 0.4751 - acc: 0.8667\n",
      "Epoch 48/100\n",
      "15/15 [==============================] - 0s 1ms/step - loss: 0.3048 - acc: 0.9111\n",
      "Epoch 49/100\n",
      "15/15 [==============================] - 0s 1ms/step - loss: 0.8675 - acc: 0.8444\n",
      "Epoch 50/100\n",
      "15/15 [==============================] - 0s 1ms/step - loss: 0.7027 - acc: 0.9111\n",
      "Epoch 51/100\n",
      "15/15 [==============================] - 0s 1ms/step - loss: 0.5119 - acc: 0.8889\n",
      "Epoch 52/100\n",
      "15/15 [==============================] - 0s 1ms/step - loss: 0.3817 - acc: 0.8889\n",
      "Epoch 53/100\n",
      "15/15 [==============================] - 0s 1ms/step - loss: 0.2421 - acc: 0.8889\n",
      "Epoch 54/100\n",
      "15/15 [==============================] - 0s 1ms/step - loss: 0.7227 - acc: 0.8000\n",
      "Epoch 55/100\n",
      "15/15 [==============================] - 0s 1ms/step - loss: 0.6139 - acc: 0.8444\n",
      "Epoch 56/100\n",
      "15/15 [==============================] - 0s 1ms/step - loss: 0.3522 - acc: 0.9556\n",
      "Epoch 57/100\n",
      "15/15 [==============================] - 0s 1ms/step - loss: 0.1568 - acc: 0.9556\n",
      "Epoch 58/100\n",
      "15/15 [==============================] - 0s 1ms/step - loss: 0.1835 - acc: 0.8889\n",
      "Epoch 59/100\n",
      "15/15 [==============================] - 0s 1ms/step - loss: 0.3495 - acc: 0.8889\n",
      "Epoch 60/100\n",
      "15/15 [==============================] - 0s 1ms/step - loss: 0.1823 - acc: 0.9333\n",
      "Epoch 61/100\n",
      "15/15 [==============================] - 0s 1ms/step - loss: 0.3735 - acc: 0.8444\n",
      "Epoch 62/100\n",
      "15/15 [==============================] - 0s 1ms/step - loss: 0.3329 - acc: 0.9333\n",
      "Epoch 63/100\n",
      "15/15 [==============================] - 0s 1ms/step - loss: 0.2056 - acc: 0.9556\n",
      "Epoch 64/100\n",
      "15/15 [==============================] - 0s 1ms/step - loss: 0.8617 - acc: 0.7778\n",
      "Epoch 65/100\n",
      "15/15 [==============================] - 0s 1ms/step - loss: 0.4664 - acc: 0.8889\n",
      "Epoch 66/100\n",
      "15/15 [==============================] - 0s 1ms/step - loss: 0.1164 - acc: 0.9333\n",
      "Epoch 67/100\n",
      "15/15 [==============================] - 0s 1ms/step - loss: 0.0788 - acc: 0.9778\n",
      "Epoch 68/100\n",
      "15/15 [==============================] - 0s 1ms/step - loss: 0.8619 - acc: 0.7778\n",
      "Epoch 69/100\n",
      "15/15 [==============================] - 0s 1ms/step - loss: 1.8434e-04 - acc: 1.0000\n",
      "Epoch 70/100\n",
      "15/15 [==============================] - 0s 1ms/step - loss: 0.1805 - acc: 0.9556\n",
      "Epoch 71/100\n",
      "15/15 [==============================] - 0s 1ms/step - loss: 0.7045 - acc: 0.8667\n",
      "Epoch 72/100\n",
      "15/15 [==============================] - 0s 1ms/step - loss: 0.3428 - acc: 0.8444\n",
      "Epoch 73/100\n",
      "15/15 [==============================] - 0s 1ms/step - loss: 0.1839 - acc: 0.9111\n",
      "Epoch 74/100\n",
      "15/15 [==============================] - 0s 1ms/step - loss: 0.1225 - acc: 0.9556\n",
      "Epoch 75/100\n",
      "15/15 [==============================] - 0s 1ms/step - loss: 0.3759 - acc: 0.8889\n",
      "Epoch 76/100\n",
      "15/15 [==============================] - 0s 1ms/step - loss: 0.7757 - acc: 0.8667\n",
      "Epoch 77/100\n",
      "15/15 [==============================] - 0s 1ms/step - loss: 0.2090 - acc: 0.9111\n",
      "Epoch 78/100\n",
      "15/15 [==============================] - 0s 1ms/step - loss: 0.2254 - acc: 0.8889\n",
      "Epoch 79/100\n",
      "15/15 [==============================] - 0s 1ms/step - loss: 0.2042 - acc: 0.9111\n",
      "Epoch 80/100\n",
      "15/15 [==============================] - 0s 1ms/step - loss: 0.2650 - acc: 0.9111\n",
      "Epoch 81/100\n",
      "15/15 [==============================] - 0s 1ms/step - loss: 0.4742 - acc: 0.9111\n",
      "Epoch 82/100\n",
      "15/15 [==============================] - 0s 1ms/step - loss: 0.3890 - acc: 0.9111\n",
      "Epoch 83/100\n",
      "15/15 [==============================] - 0s 1ms/step - loss: 0.4720 - acc: 0.8889\n",
      "Epoch 84/100\n",
      "15/15 [==============================] - 0s 1ms/step - loss: 0.4940 - acc: 0.8889\n",
      "Epoch 85/100\n",
      "15/15 [==============================] - 0s 1ms/step - loss: 0.1172 - acc: 0.9333\n",
      "Epoch 86/100\n",
      "15/15 [==============================] - 0s 1ms/step - loss: 0.2868 - acc: 0.9556\n",
      "Epoch 87/100\n"
     ]
    },
    {
     "name": "stdout",
     "output_type": "stream",
     "text": [
      "15/15 [==============================] - 0s 1ms/step - loss: 0.1276 - acc: 0.9556\n",
      "Epoch 88/100\n",
      "15/15 [==============================] - 0s 1ms/step - loss: 0.0704 - acc: 0.9556\n",
      "Epoch 89/100\n",
      "15/15 [==============================] - 0s 1ms/step - loss: 0.2096 - acc: 0.9556\n",
      "Epoch 90/100\n",
      "15/15 [==============================] - 0s 1ms/step - loss: 0.1818 - acc: 0.9333\n",
      "Epoch 91/100\n",
      "15/15 [==============================] - 0s 1ms/step - loss: 0.1936 - acc: 0.9778\n",
      "Epoch 92/100\n",
      "15/15 [==============================] - 0s 1ms/step - loss: 0.4685 - acc: 0.8889\n",
      "Epoch 93/100\n",
      "15/15 [==============================] - 0s 1ms/step - loss: 0.8542 - acc: 0.8222\n",
      "Epoch 94/100\n",
      "15/15 [==============================] - 0s 1ms/step - loss: 0.2959 - acc: 0.8889\n",
      "Epoch 95/100\n",
      "15/15 [==============================] - 0s 1ms/step - loss: 0.1474 - acc: 0.9556\n",
      "Epoch 96/100\n",
      "15/15 [==============================] - 0s 1ms/step - loss: 0.1097 - acc: 0.9778\n",
      "Epoch 97/100\n",
      "15/15 [==============================] - 0s 1ms/step - loss: 0.9190 - acc: 0.9111\n",
      "Epoch 98/100\n",
      "15/15 [==============================] - 0s 1ms/step - loss: 0.2227 - acc: 0.8889\n",
      "Epoch 99/100\n",
      "15/15 [==============================] - 0s 1ms/step - loss: 0.5086 - acc: 0.8444\n",
      "Epoch 100/100\n",
      "15/15 [==============================] - 0s 1ms/step - loss: 0.4372 - acc: 0.8667\n"
     ]
    }
   ],
   "source": [
    "historyP = model.fit(\n",
    "    priming_features, \n",
    "    priming_labels,\n",
    "    epochs=priming_epochs,\n",
    "    batch_size=batch_size#,\n",
    "    #validation_data=(validation_features, validation_labels)\n",
    ")"
   ]
  },
  {
   "cell_type": "code",
   "execution_count": 21,
   "metadata": {},
   "outputs": [
    {
     "name": "stdout",
     "output_type": "stream",
     "text": [
      "Train on 195 samples, validate on 60 samples\n",
      "Epoch 1/50\n",
      "195/195 [==============================] - 0s 1ms/step - loss: 3.1244 - acc: 0.6068 - val_loss: 1.8308 - val_acc: 0.7611\n",
      "Epoch 2/50\n",
      "195/195 [==============================] - 0s 1ms/step - loss: 2.6079 - acc: 0.6650 - val_loss: 1.1941 - val_acc: 0.7611\n",
      "Epoch 3/50\n",
      "195/195 [==============================] - 0s 1ms/step - loss: 2.3285 - acc: 0.6632 - val_loss: 1.5176 - val_acc: 0.7778\n",
      "Epoch 4/50\n",
      "195/195 [==============================] - 0s 1ms/step - loss: 2.0390 - acc: 0.6735 - val_loss: 0.9893 - val_acc: 0.7500\n",
      "Epoch 5/50\n",
      "195/195 [==============================] - 0s 1ms/step - loss: 1.7429 - acc: 0.7299 - val_loss: 1.1953 - val_acc: 0.7889\n",
      "Epoch 6/50\n",
      "195/195 [==============================] - 0s 1ms/step - loss: 1.7071 - acc: 0.7231 - val_loss: 1.1362 - val_acc: 0.7778\n",
      "Epoch 7/50\n",
      "195/195 [==============================] - ETA: 0s - loss: 1.1771 - acc: 0.787 - 0s 1ms/step - loss: 1.1723 - acc: 0.7846 - val_loss: 1.2196 - val_acc: 0.7944\n",
      "Epoch 8/50\n",
      "195/195 [==============================] - 0s 1ms/step - loss: 1.1755 - acc: 0.7932 - val_loss: 1.0495 - val_acc: 0.8222\n",
      "Epoch 9/50\n",
      "195/195 [==============================] - 0s 1ms/step - loss: 1.1434 - acc: 0.7795 - val_loss: 1.0294 - val_acc: 0.8500\n",
      "Epoch 10/50\n",
      "195/195 [==============================] - 0s 1ms/step - loss: 0.9915 - acc: 0.7915 - val_loss: 1.1781 - val_acc: 0.8611\n",
      "Epoch 11/50\n",
      "195/195 [==============================] - 0s 1ms/step - loss: 0.7922 - acc: 0.8444 - val_loss: 1.0245 - val_acc: 0.8333\n",
      "Epoch 12/50\n",
      "195/195 [==============================] - 0s 1ms/step - loss: 0.8454 - acc: 0.8274 - val_loss: 0.8855 - val_acc: 0.8444\n",
      "Epoch 13/50\n",
      "195/195 [==============================] - 0s 1ms/step - loss: 0.7980 - acc: 0.8239 - val_loss: 1.1841 - val_acc: 0.8556\n",
      "Epoch 14/50\n",
      "195/195 [==============================] - 0s 1ms/step - loss: 0.6331 - acc: 0.8598 - val_loss: 1.0342 - val_acc: 0.8556\n",
      "Epoch 15/50\n",
      "195/195 [==============================] - 0s 1ms/step - loss: 0.8311 - acc: 0.8444 - val_loss: 0.8211 - val_acc: 0.8278\n",
      "Epoch 16/50\n",
      "195/195 [==============================] - 0s 1ms/step - loss: 0.7261 - acc: 0.8650 - val_loss: 0.7974 - val_acc: 0.8667\n",
      "Epoch 17/50\n",
      "195/195 [==============================] - 0s 1ms/step - loss: 0.4281 - acc: 0.8991 - val_loss: 0.7300 - val_acc: 0.8722\n",
      "Epoch 18/50\n",
      "195/195 [==============================] - 0s 1ms/step - loss: 0.5885 - acc: 0.8632 - val_loss: 0.8985 - val_acc: 0.8278\n",
      "Epoch 19/50\n",
      "195/195 [==============================] - 0s 1ms/step - loss: 0.4574 - acc: 0.8667 - val_loss: 0.9517 - val_acc: 0.8778\n",
      "Epoch 20/50\n",
      "195/195 [==============================] - 0s 1ms/step - loss: 0.7029 - acc: 0.8393 - val_loss: 0.9472 - val_acc: 0.8889\n",
      "Epoch 21/50\n",
      "195/195 [==============================] - 0s 1ms/step - loss: 0.5683 - acc: 0.8735 - val_loss: 0.9552 - val_acc: 0.8611\n",
      "Epoch 22/50\n",
      "195/195 [==============================] - 0s 1ms/step - loss: 0.5881 - acc: 0.8581 - val_loss: 0.8428 - val_acc: 0.8667\n",
      "Epoch 23/50\n",
      "195/195 [==============================] - 0s 1ms/step - loss: 0.5275 - acc: 0.8957 - val_loss: 0.8023 - val_acc: 0.8667\n",
      "Epoch 24/50\n",
      "195/195 [==============================] - 0s 1ms/step - loss: 0.4914 - acc: 0.8974 - val_loss: 0.8761 - val_acc: 0.8778\n",
      "Epoch 25/50\n",
      "195/195 [==============================] - 0s 1ms/step - loss: 0.4962 - acc: 0.8855 - val_loss: 0.6317 - val_acc: 0.9056\n",
      "Epoch 26/50\n",
      "195/195 [==============================] - 0s 1ms/step - loss: 0.4472 - acc: 0.9026 - val_loss: 0.8656 - val_acc: 0.8778\n",
      "Epoch 27/50\n",
      "195/195 [==============================] - 0s 1ms/step - loss: 0.5414 - acc: 0.8889 - val_loss: 0.6494 - val_acc: 0.8778\n",
      "Epoch 28/50\n",
      "195/195 [==============================] - 0s 1ms/step - loss: 0.6386 - acc: 0.8752 - val_loss: 0.7317 - val_acc: 0.8778\n",
      "Epoch 29/50\n",
      "195/195 [==============================] - 0s 1ms/step - loss: 0.3480 - acc: 0.9111 - val_loss: 0.7652 - val_acc: 0.8889\n",
      "Epoch 30/50\n",
      "195/195 [==============================] - 0s 1ms/step - loss: 0.3786 - acc: 0.9231 - val_loss: 0.6665 - val_acc: 0.8667\n",
      "Epoch 31/50\n",
      "195/195 [==============================] - 0s 1ms/step - loss: 0.3933 - acc: 0.9265 - val_loss: 0.7941 - val_acc: 0.9000\n",
      "Epoch 32/50\n",
      "195/195 [==============================] - 0s 1ms/step - loss: 0.4166 - acc: 0.9060 - val_loss: 0.8316 - val_acc: 0.8889\n",
      "Epoch 33/50\n",
      "195/195 [==============================] - 0s 1ms/step - loss: 0.2945 - acc: 0.9265 - val_loss: 1.2605 - val_acc: 0.8389\n",
      "Epoch 34/50\n",
      "195/195 [==============================] - 0s 1ms/step - loss: 0.3609 - acc: 0.8974 - val_loss: 0.7441 - val_acc: 0.8611\n",
      "Epoch 35/50\n",
      "195/195 [==============================] - 0s 1ms/step - loss: 0.4036 - acc: 0.9094 - val_loss: 0.8459 - val_acc: 0.8833\n",
      "Epoch 36/50\n",
      "195/195 [==============================] - 0s 1ms/step - loss: 0.4313 - acc: 0.9043 - val_loss: 0.7903 - val_acc: 0.9000\n",
      "Epoch 37/50\n",
      "195/195 [==============================] - 0s 1ms/step - loss: 0.1942 - acc: 0.9453 - val_loss: 0.7078 - val_acc: 0.8833\n",
      "Epoch 38/50\n",
      "195/195 [==============================] - 0s 1ms/step - loss: 0.4046 - acc: 0.9094 - val_loss: 0.6512 - val_acc: 0.8889\n",
      "Epoch 39/50\n",
      "195/195 [==============================] - 0s 1ms/step - loss: 0.2022 - acc: 0.9419 - val_loss: 0.5457 - val_acc: 0.8944\n",
      "Epoch 40/50\n",
      "195/195 [==============================] - 0s 1ms/step - loss: 0.1961 - acc: 0.9333 - val_loss: 0.6556 - val_acc: 0.9000\n",
      "Epoch 41/50\n",
      "195/195 [==============================] - 0s 1ms/step - loss: 0.3332 - acc: 0.9282 - val_loss: 0.7909 - val_acc: 0.8667\n",
      "Epoch 42/50\n",
      "195/195 [==============================] - 0s 1ms/step - loss: 0.2412 - acc: 0.9316 - val_loss: 0.9273 - val_acc: 0.8667\n",
      "Epoch 43/50\n",
      "195/195 [==============================] - 0s 1ms/step - loss: 0.2520 - acc: 0.9197 - val_loss: 0.7029 - val_acc: 0.8778\n",
      "Epoch 44/50\n",
      "195/195 [==============================] - 0s 1ms/step - loss: 0.2342 - acc: 0.9487 - val_loss: 0.6953 - val_acc: 0.9111\n",
      "Epoch 45/50\n",
      "195/195 [==============================] - 0s 1ms/step - loss: 0.3142 - acc: 0.9231 - val_loss: 0.6735 - val_acc: 0.8889\n",
      "Epoch 46/50\n",
      "195/195 [==============================] - 0s 1ms/step - loss: 0.2612 - acc: 0.9316 - val_loss: 0.8642 - val_acc: 0.9056\n",
      "Epoch 47/50\n",
      "195/195 [==============================] - 0s 1ms/step - loss: 0.2119 - acc: 0.9453 - val_loss: 0.6216 - val_acc: 0.8944\n",
      "Epoch 48/50\n",
      "195/195 [==============================] - 0s 1ms/step - loss: 0.1952 - acc: 0.9538 - val_loss: 0.8137 - val_acc: 0.9056\n",
      "Epoch 49/50\n",
      "195/195 [==============================] - 0s 1ms/step - loss: 0.3522 - acc: 0.9179 - val_loss: 0.5792 - val_acc: 0.9056\n",
      "Epoch 50/50\n",
      "195/195 [==============================] - 0s 1ms/step - loss: 0.2365 - acc: 0.9453 - val_loss: 0.6319 - val_acc: 0.9056\n"
     ]
    }
   ],
   "source": [
    "history = model.fit(\n",
    "    train_features, \n",
    "    train_labels,\n",
    "    epochs=training_epochs,\n",
    "    batch_size=batch_size,\n",
    "    validation_data=(validation_features, validation_labels)\n",
    ")"
   ]
  },
  {
   "cell_type": "code",
   "execution_count": 22,
   "metadata": {},
   "outputs": [],
   "source": [
    "#model.save('baseline.h5')"
   ]
  },
  {
   "cell_type": "code",
   "execution_count": 23,
   "metadata": {},
   "outputs": [],
   "source": [
    "# validation"
   ]
  },
  {
   "cell_type": "code",
   "execution_count": 29,
   "metadata": {},
   "outputs": [
    {
     "data": {
      "image/png": "[encoded data removed]",
      "text/plain": [
       "<Figure size 432x288 with 1 Axes>"
      ]
     },
     "metadata": {
      "needs_background": "light"
     },
     "output_type": "display_data"
    },
    {
     "data": {
      "image/png": "[encoded data removed]",
      "text/plain": [
       "<Figure size 432x288 with 1 Axes>"
      ]
     },
     "metadata": {
      "needs_background": "light"
     },
     "output_type": "display_data"
    }
   ],
   "source": [
    "import matplotlib.pyplot as plt\n",
    "\n",
    "acc = historyP.history['acc']\n",
    "loss = historyP.history['loss']\n",
    "\n",
    "epochs = range(len(acc))\n",
    "\n",
    "plt.plot(epochs, acc, 'bo', label='Training acc')\n",
    "plt.title('Training accuracy')\n",
    "plt.legend()\n",
    "\n",
    "plt.figure()\n",
    "\n",
    "plt.plot(epochs, loss, 'bo', label='Training loss')\n",
    "plt.title('Training loss')\n",
    "plt.legend()\n",
    "\n",
    "plt.show()"
   ]
  },
  {
   "cell_type": "code",
   "execution_count": 25,
   "metadata": {},
   "outputs": [
    {
     "data": {
      "image/png": "[encoded data removed]",
      "text/plain": [
       "<Figure size 432x288 with 1 Axes>"
      ]
     },
     "metadata": {
      "needs_background": "light"
     },
     "output_type": "display_data"
    },
    {
     "data": {
      "image/png": "[encoded data removed]",
      "text/plain": [
       "<Figure size 432x288 with 1 Axes>"
      ]
     },
     "metadata": {
      "needs_background": "light"
     },
     "output_type": "display_data"
    }
   ],
   "source": [
    "import matplotlib.pyplot as plt\n",
    "\n",
    "acc = history.history['acc']\n",
    "val_acc = history.history['val_acc']\n",
    "loss = history.history['loss']\n",
    "val_loss = history.history['val_loss']\n",
    "\n",
    "epochs = range(len(acc))\n",
    "\n",
    "plt.plot(epochs, acc, 'bo', label='Training acc')\n",
    "plt.plot(epochs, val_acc, 'b', label='Validation acc')\n",
    "plt.title('Training and validation accuracy')\n",
    "plt.legend()\n",
    "\n",
    "plt.figure()\n",
    "\n",
    "plt.plot(epochs, loss, 'bo', label='Training loss')\n",
    "plt.plot(epochs, val_loss, 'b', label='Validation loss')\n",
    "plt.title('Training and validation loss')\n",
    "plt.legend()\n",
    "\n",
    "plt.show()"
   ]
  }
 ],
 "metadata": {
  "kernelspec": {
   "display_name": "Python 3",
   "language": "python",
   "name": "python3"
  },
  "language_info": {
   "codemirror_mode": {
    "name": "ipython",
    "version": 3
   },
   "file_extension": ".py",
   "mimetype": "text/x-python",
   "name": "python",
   "nbconvert_exporter": "python",
   "pygments_lexer": "ipython3",
   "version": "3.7.9"
  }
 },
 "nbformat": 4,
 "nbformat_minor": 4
}
