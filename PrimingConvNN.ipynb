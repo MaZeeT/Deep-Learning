{
 "cells": [
  {
   "cell_type": "code",
   "execution_count": 1,
   "metadata": {},
   "outputs": [
    {
     "name": "stderr",
     "output_type": "stream",
     "text": [
      "Using TensorFlow backend.\n"
     ]
    },
    {
     "data": {
      "text/plain": [
       "'2.3.1'"
      ]
     },
     "execution_count": 1,
     "metadata": {},
     "output_type": "execute_result"
    }
   ],
   "source": [
    "import os\n",
    "import keras\n",
    "\n",
    "from keras.preprocessing.image import ImageDataGenerator\n",
    "\n",
    "keras.__version__"
   ]
  },
  {
   "cell_type": "code",
   "execution_count": 2,
   "metadata": {},
   "outputs": [],
   "source": [
    "from tensorflow.compat.v1 import ConfigProto\n",
    "from tensorflow.compat.v1 import InteractiveSession\n",
    "# Limits GPU-RAM usage\n",
    "config = ConfigProto()\n",
    "config.gpu_options.allow_growth = True\n",
    "session = InteractiveSession(config=config)"
   ]
  },
  {
   "cell_type": "code",
   "execution_count": 3,
   "metadata": {},
   "outputs": [],
   "source": [
    "# import and \"clean\" data"
   ]
  },
  {
   "cell_type": "code",
   "execution_count": 4,
   "metadata": {},
   "outputs": [],
   "source": [
    "def get_generator(base_dir, folderName):\n",
    "    directory = os.path.join(base_dir, folderName)\n",
    "    return ImageDataGenerator(rescale=1./255).flow_from_directory(\n",
    "        directory, \n",
    "        target_size, \n",
    "        batch_size= batch_size,\n",
    "        shuffle=True,\n",
    "        class_mode='sparse'\n",
    "    )"
   ]
  },
  {
   "cell_type": "code",
   "execution_count": 5,
   "metadata": {},
   "outputs": [
    {
     "name": "stdout",
     "output_type": "stream",
     "text": [
      "Found 15 images belonging to 3 classes.\n",
      "Found 195 images belonging to 3 classes.\n",
      "Found 30 images belonging to 3 classes.\n",
      "Found 60 images belonging to 3 classes.\n"
     ]
    }
   ],
   "source": [
    "priming_epochs = 50\n",
    "training_epochs = 25\n",
    "batch_size = 5\n",
    "target_width = 150\n",
    "target_height = 150\n",
    "target_size = (target_width, target_height)\n",
    "target_shape = (target_width, target_height, 3) # 3 for color\n",
    "base_dir = 'paintingsPriming'\n",
    "\n",
    "priming_gen = get_generator(base_dir, 'priming')\n",
    "train_gen = get_generator(base_dir, 'train')\n",
    "test_gen = get_generator(base_dir, 'test')\n",
    "validation_gen = get_generator(base_dir, 'validation')"
   ]
  },
  {
   "cell_type": "code",
   "execution_count": 6,
   "metadata": {},
   "outputs": [],
   "source": [
    "numOfClasses = train_gen.num_classes\n",
    "\n",
    "numOfPrimingSamples = priming_gen.n\n",
    "numOfTrainSamples = train_gen.n\n",
    "numOfTestSamples = test_gen.n\n",
    "numOfValSamples = validation_gen.n"
   ]
  },
  {
   "cell_type": "code",
   "execution_count": 7,
   "metadata": {},
   "outputs": [],
   "source": [
    "# Define Conv model"
   ]
  },
  {
   "cell_type": "code",
   "execution_count": 8,
   "metadata": {},
   "outputs": [],
   "source": [
    "from keras.applications import VGG16\n",
    "\n",
    "conv_base = VGG16(weights='imagenet', \n",
    "                  include_top=False, \n",
    "                  input_shape= target_shape) # honestly, I'm not sure whether height or width comes first"
   ]
  },
  {
   "cell_type": "code",
   "execution_count": 9,
   "metadata": {},
   "outputs": [
    {
     "name": "stdout",
     "output_type": "stream",
     "text": [
      "Model: \"vgg16\"\n",
      "_________________________________________________________________\n",
      "Layer (type)                 Output Shape              Param #   \n",
      "=================================================================\n",
      "input_1 (InputLayer)         (None, 150, 150, 3)       0         \n",
      "_________________________________________________________________\n",
      "block1_conv1 (Conv2D)        (None, 150, 150, 64)      1792      \n",
      "_________________________________________________________________\n",
      "block1_conv2 (Conv2D)        (None, 150, 150, 64)      36928     \n",
      "_________________________________________________________________\n",
      "block1_pool (MaxPooling2D)   (None, 75, 75, 64)        0         \n",
      "_________________________________________________________________\n",
      "block2_conv1 (Conv2D)        (None, 75, 75, 128)       73856     \n",
      "_________________________________________________________________\n",
      "block2_conv2 (Conv2D)        (None, 75, 75, 128)       147584    \n",
      "_________________________________________________________________\n",
      "block2_pool (MaxPooling2D)   (None, 37, 37, 128)       0         \n",
      "_________________________________________________________________\n",
      "block3_conv1 (Conv2D)        (None, 37, 37, 256)       295168    \n",
      "_________________________________________________________________\n",
      "block3_conv2 (Conv2D)        (None, 37, 37, 256)       590080    \n",
      "_________________________________________________________________\n",
      "block3_conv3 (Conv2D)        (None, 37, 37, 256)       590080    \n",
      "_________________________________________________________________\n",
      "block3_pool (MaxPooling2D)   (None, 18, 18, 256)       0         \n",
      "_________________________________________________________________\n",
      "block4_conv1 (Conv2D)        (None, 18, 18, 512)       1180160   \n",
      "_________________________________________________________________\n",
      "block4_conv2 (Conv2D)        (None, 18, 18, 512)       2359808   \n",
      "_________________________________________________________________\n",
      "block4_conv3 (Conv2D)        (None, 18, 18, 512)       2359808   \n",
      "_________________________________________________________________\n",
      "block4_pool (MaxPooling2D)   (None, 9, 9, 512)         0         \n",
      "_________________________________________________________________\n",
      "block5_conv1 (Conv2D)        (None, 9, 9, 512)         2359808   \n",
      "_________________________________________________________________\n",
      "block5_conv2 (Conv2D)        (None, 9, 9, 512)         2359808   \n",
      "_________________________________________________________________\n",
      "block5_conv3 (Conv2D)        (None, 9, 9, 512)         2359808   \n",
      "_________________________________________________________________\n",
      "block5_pool (MaxPooling2D)   (None, 4, 4, 512)         0         \n",
      "=================================================================\n",
      "Total params: 14,714,688\n",
      "Trainable params: 14,714,688\n",
      "Non-trainable params: 0\n",
      "_________________________________________________________________\n"
     ]
    }
   ],
   "source": [
    "conv_base.summary()"
   ]
  },
  {
   "cell_type": "code",
   "execution_count": 10,
   "metadata": {},
   "outputs": [],
   "source": [
    "block3_pool_width = 18\n",
    "block3_pool_height = 18\n",
    "block3_pool_area = block3_pool_width * block3_pool_height\n",
    "block3_pool_no_of_filters = 256\n",
    "\n",
    "## Following not used, but included for completeness and your own possible experiments\n",
    "block5_pool_width = 4\n",
    "block5_pool_height = 4\n",
    "block5_pool_area = block3_pool_width * block3_pool_height\n",
    "block5_pool_no_of_filters = 512"
   ]
  },
  {
   "cell_type": "code",
   "execution_count": 11,
   "metadata": {},
   "outputs": [],
   "source": [
    "from keras import Model\n",
    "\n",
    "intermediate_layer_model = Model(inputs=conv_base.input, \n",
    "                                 outputs=conv_base.get_layer('block3_pool').output)\n",
    "no_of_filters_left = 100"
   ]
  },
  {
   "cell_type": "code",
   "execution_count": 12,
   "metadata": {},
   "outputs": [],
   "source": [
    "from keras.utils.np_utils import to_categorical\n",
    "\n",
    "def extract_features(generator, sample_count):\n",
    "    features = np.zeros(shape=(sample_count, block3_pool_width, block3_pool_height, block3_pool_no_of_filters))\n",
    "    labels = np.zeros(shape=(sample_count))\n",
    "    \n",
    "    i = 0\n",
    "    for inputs_batch, labels_batch in generator:\n",
    "        features_batch = intermediate_layer_model.predict(inputs_batch)\n",
    "        features[i * batch_size : (i + 1) * batch_size] = features_batch\n",
    "        labels[i * batch_size : (i + 1) * batch_size] = labels_batch\n",
    "        i += 1\n",
    "        if i * batch_size >= sample_count:\n",
    "            # Note that since generators yield data indefinitely in a loop,\n",
    "            # we must `break` after every image has been seen once.\n",
    "            break\n",
    "\n",
    "    ### Now throwing away most of the features (= results of features)\n",
    "    features = features[:,:,:,0:no_of_filters_left]\n",
    "    ### convert labels 0, 1, and 2 to [1,0,0], [0,1,0] and [0,0,1] \n",
    "    labels = to_categorical(labels)\n",
    "    return features, labels"
   ]
  },
  {
   "cell_type": "code",
   "execution_count": 13,
   "metadata": {},
   "outputs": [],
   "source": [
    "import numpy as np\n",
    "\n",
    "priming_features, priming_labels = extract_features(priming_gen, numOfPrimingSamples)\n",
    "train_features, train_labels = extract_features(train_gen, numOfTrainSamples)\n",
    "validation_features, validation_labels = extract_features(validation_gen, numOfValSamples)\n",
    "test_features, test_labels = extract_features(test_gen, numOfTestSamples)"
   ]
  },
  {
   "cell_type": "code",
   "execution_count": 14,
   "metadata": {},
   "outputs": [],
   "source": [
    "priming_features = np.reshape(priming_features, (numOfPrimingSamples, block3_pool_area * no_of_filters_left))\n",
    "train_features = np.reshape(train_features, (numOfTrainSamples, block3_pool_area * no_of_filters_left))\n",
    "validation_features = np.reshape(validation_features, (numOfValSamples, block3_pool_area * no_of_filters_left))\n",
    "test_features = np.reshape(test_features, (numOfTestSamples, block3_pool_area * no_of_filters_left))"
   ]
  },
  {
   "cell_type": "code",
   "execution_count": 15,
   "metadata": {},
   "outputs": [],
   "source": [
    "# Define Dense model"
   ]
  },
  {
   "cell_type": "code",
   "execution_count": 16,
   "metadata": {},
   "outputs": [],
   "source": [
    "from keras import models\n",
    "from keras import layers\n",
    "\n",
    "model = models.Sequential()\n",
    "model.add(layers.Dense(64, input_dim= block3_pool_area * no_of_filters_left))\n",
    "model.add(layers.Dense(32, activation='relu'))\n",
    "#model.add(layers.Dropout(0.5))\n",
    "model.add(layers.Dense(8, activation='relu'))\n",
    "model.add(layers.Dense(numOfClasses, activation='sigmoid'))"
   ]
  },
  {
   "cell_type": "code",
   "execution_count": 17,
   "metadata": {},
   "outputs": [],
   "source": [
    "# train model"
   ]
  },
  {
   "cell_type": "code",
   "execution_count": 18,
   "metadata": {},
   "outputs": [],
   "source": [
    "from keras import optimizers\n",
    "\n",
    "model.compile(loss=\"binary_crossentropy\", optimizer=optimizers.RMSprop(lr=2e-5), metrics=[\"acc\"])"
   ]
  },
  {
   "cell_type": "code",
   "execution_count": 19,
   "metadata": {},
   "outputs": [
    {
     "name": "stdout",
     "output_type": "stream",
     "text": [
      "Model: \"sequential_1\"\n",
      "_________________________________________________________________\n",
      "Layer (type)                 Output Shape              Param #   \n",
      "=================================================================\n",
      "dense_1 (Dense)              (None, 64)                2073664   \n",
      "_________________________________________________________________\n",
      "dense_2 (Dense)              (None, 32)                2080      \n",
      "_________________________________________________________________\n",
      "dense_3 (Dense)              (None, 8)                 264       \n",
      "_________________________________________________________________\n",
      "dense_4 (Dense)              (None, 3)                 27        \n",
      "=================================================================\n",
      "Total params: 2,076,035\n",
      "Trainable params: 2,076,035\n",
      "Non-trainable params: 0\n",
      "_________________________________________________________________\n"
     ]
    }
   ],
   "source": [
    "model.summary()"
   ]
  },
  {
   "cell_type": "code",
   "execution_count": 20,
   "metadata": {},
   "outputs": [
    {
     "name": "stdout",
     "output_type": "stream",
     "text": [
      "Epoch 1/50\n",
      "15/15 [==============================] - 0s 11ms/step - loss: 3.6366 - acc: 0.5333\n",
      "Epoch 2/50\n",
      "15/15 [==============================] - 0s 4ms/step - loss: 1.1253 - acc: 0.5556\n",
      "Epoch 3/50\n",
      "15/15 [==============================] - 0s 4ms/step - loss: 0.6148 - acc: 0.5778\n",
      "Epoch 4/50\n",
      "15/15 [==============================] - 0s 4ms/step - loss: 0.6042 - acc: 0.5778\n",
      "Epoch 5/50\n",
      "15/15 [==============================] - 0s 4ms/step - loss: 0.5984 - acc: 0.6222\n",
      "Epoch 6/50\n",
      "15/15 [==============================] - 0s 4ms/step - loss: 0.7829 - acc: 0.6889\n",
      "Epoch 7/50\n",
      "15/15 [==============================] - 0s 4ms/step - loss: 0.6085 - acc: 0.7333\n",
      "Epoch 8/50\n",
      "15/15 [==============================] - 0s 4ms/step - loss: 0.7675 - acc: 0.6667\n",
      "Epoch 9/50\n",
      "15/15 [==============================] - 0s 4ms/step - loss: 0.5284 - acc: 0.7333\n",
      "Epoch 10/50\n",
      "15/15 [==============================] - 0s 4ms/step - loss: 0.4976 - acc: 0.7556\n",
      "Epoch 11/50\n",
      "15/15 [==============================] - 0s 4ms/step - loss: 0.6694 - acc: 0.7111\n",
      "Epoch 12/50\n",
      "15/15 [==============================] - 0s 4ms/step - loss: 0.5298 - acc: 0.6889\n",
      "Epoch 13/50\n",
      "15/15 [==============================] - 0s 4ms/step - loss: 0.5273 - acc: 0.7111\n",
      "Epoch 14/50\n",
      "15/15 [==============================] - 0s 4ms/step - loss: 0.5525 - acc: 0.7333\n",
      "Epoch 15/50\n",
      "15/15 [==============================] - 0s 4ms/step - loss: 0.5917 - acc: 0.7111\n",
      "Epoch 16/50\n",
      "15/15 [==============================] - 0s 4ms/step - loss: 0.4880 - acc: 0.7778\n",
      "Epoch 17/50\n",
      "15/15 [==============================] - 0s 4ms/step - loss: 0.5194 - acc: 0.7333\n",
      "Epoch 18/50\n",
      "15/15 [==============================] - 0s 4ms/step - loss: 0.5005 - acc: 0.7333\n",
      "Epoch 19/50\n",
      "15/15 [==============================] - 0s 4ms/step - loss: 0.4978 - acc: 0.7556\n",
      "Epoch 20/50\n",
      "15/15 [==============================] - 0s 4ms/step - loss: 0.5642 - acc: 0.7333\n",
      "Epoch 21/50\n",
      "15/15 [==============================] - 0s 4ms/step - loss: 0.5180 - acc: 0.7333\n",
      "Epoch 22/50\n",
      "15/15 [==============================] - 0s 4ms/step - loss: 0.6128 - acc: 0.7333\n",
      "Epoch 23/50\n",
      "15/15 [==============================] - 0s 4ms/step - loss: 0.5123 - acc: 0.7333\n",
      "Epoch 24/50\n",
      "15/15 [==============================] - 0s 4ms/step - loss: 0.7840 - acc: 0.7778\n",
      "Epoch 25/50\n",
      "15/15 [==============================] - 0s 4ms/step - loss: 0.4760 - acc: 0.7333\n",
      "Epoch 26/50\n",
      "15/15 [==============================] - 0s 4ms/step - loss: 0.5037 - acc: 0.7556\n",
      "Epoch 27/50\n",
      "15/15 [==============================] - 0s 4ms/step - loss: 0.4471 - acc: 0.7556\n",
      "Epoch 28/50\n",
      "15/15 [==============================] - 0s 4ms/step - loss: 0.4000 - acc: 0.7778\n",
      "Epoch 29/50\n",
      "15/15 [==============================] - 0s 4ms/step - loss: 0.4232 - acc: 0.7778\n",
      "Epoch 30/50\n",
      "15/15 [==============================] - 0s 4ms/step - loss: 0.4035 - acc: 0.7778\n",
      "Epoch 31/50\n",
      "15/15 [==============================] - 0s 4ms/step - loss: 0.3973 - acc: 0.7778\n",
      "Epoch 32/50\n",
      "15/15 [==============================] - 0s 4ms/step - loss: 0.4027 - acc: 0.7778\n",
      "Epoch 33/50\n",
      "15/15 [==============================] - 0s 4ms/step - loss: 0.4106 - acc: 0.7778\n",
      "Epoch 34/50\n",
      "15/15 [==============================] - 0s 4ms/step - loss: 0.3988 - acc: 0.7778\n",
      "Epoch 35/50\n",
      "15/15 [==============================] - 0s 4ms/step - loss: 0.4241 - acc: 0.7556\n",
      "Epoch 36/50\n",
      "15/15 [==============================] - 0s 4ms/step - loss: 0.4990 - acc: 0.7556\n",
      "Epoch 37/50\n",
      "15/15 [==============================] - 0s 4ms/step - loss: 0.5981 - acc: 0.7111\n",
      "Epoch 38/50\n",
      "15/15 [==============================] - 0s 4ms/step - loss: 0.4389 - acc: 0.7778\n",
      "Epoch 39/50\n",
      "15/15 [==============================] - 0s 4ms/step - loss: 0.4382 - acc: 0.7333\n",
      "Epoch 40/50\n",
      "15/15 [==============================] - 0s 4ms/step - loss: 0.3980 - acc: 0.7778\n",
      "Epoch 41/50\n",
      "15/15 [==============================] - 0s 4ms/step - loss: 0.3901 - acc: 0.8222\n",
      "Epoch 42/50\n",
      "15/15 [==============================] - 0s 4ms/step - loss: 0.3907 - acc: 0.8667\n",
      "Epoch 43/50\n",
      "15/15 [==============================] - 0s 4ms/step - loss: 0.3910 - acc: 0.8667\n",
      "Epoch 44/50\n",
      "15/15 [==============================] - 0s 4ms/step - loss: 0.3906 - acc: 0.8667\n",
      "Epoch 45/50\n",
      "15/15 [==============================] - 0s 4ms/step - loss: 0.3956 - acc: 0.8667\n",
      "Epoch 46/50\n",
      "15/15 [==============================] - 0s 4ms/step - loss: 0.4017 - acc: 0.8667\n",
      "Epoch 47/50\n",
      "15/15 [==============================] - 0s 4ms/step - loss: 0.3952 - acc: 0.8444\n",
      "Epoch 48/50\n",
      "15/15 [==============================] - 0s 4ms/step - loss: 0.6816 - acc: 0.7333\n",
      "Epoch 49/50\n",
      "15/15 [==============================] - 0s 4ms/step - loss: 0.4693 - acc: 0.8444\n",
      "Epoch 50/50\n",
      "15/15 [==============================] - 0s 4ms/step - loss: 0.5445 - acc: 0.8222\n"
     ]
    }
   ],
   "source": [
    "history = model.fit(\n",
    "    priming_features, \n",
    "    priming_labels,\n",
    "    epochs=priming_epochs,\n",
    "    batch_size=batch_size#,\n",
    "    #validation_data=(validation_features, validation_labels)\n",
    ")"
   ]
  },
  {
   "cell_type": "code",
   "execution_count": 21,
   "metadata": {},
   "outputs": [
    {
     "name": "stdout",
     "output_type": "stream",
     "text": [
      "Train on 195 samples, validate on 60 samples\n",
      "Epoch 1/25\n",
      "195/195 [==============================] - 1s 4ms/step - loss: 0.7303 - acc: 0.5966 - val_loss: 0.6384 - val_acc: 0.6667\n",
      "Epoch 2/25\n",
      "195/195 [==============================] - 1s 4ms/step - loss: 0.6824 - acc: 0.6923 - val_loss: 0.6303 - val_acc: 0.6667\n",
      "Epoch 3/25\n",
      "195/195 [==============================] - 1s 5ms/step - loss: 0.6377 - acc: 0.7026 - val_loss: 0.5905 - val_acc: 0.7444\n",
      "Epoch 4/25\n",
      "195/195 [==============================] - 1s 4ms/step - loss: 0.6136 - acc: 0.7179 - val_loss: 0.6001 - val_acc: 0.7222\n",
      "Epoch 5/25\n",
      "195/195 [==============================] - 1s 4ms/step - loss: 0.6027 - acc: 0.7333 - val_loss: 0.5888 - val_acc: 0.8111\n",
      "Epoch 6/25\n",
      "195/195 [==============================] - 1s 4ms/step - loss: 0.5854 - acc: 0.7692 - val_loss: 0.5831 - val_acc: 0.7944\n",
      "Epoch 7/25\n",
      "195/195 [==============================] - 1s 4ms/step - loss: 0.5661 - acc: 0.8051 - val_loss: 0.6067 - val_acc: 0.8167\n",
      "Epoch 8/25\n",
      "195/195 [==============================] - 1s 4ms/step - loss: 0.5654 - acc: 0.7949 - val_loss: 0.5927 - val_acc: 0.7667\n",
      "Epoch 9/25\n",
      "195/195 [==============================] - 1s 4ms/step - loss: 0.5191 - acc: 0.8239 - val_loss: 0.6017 - val_acc: 0.8056\n",
      "Epoch 10/25\n",
      "195/195 [==============================] - 1s 4ms/step - loss: 0.4338 - acc: 0.8940 - val_loss: 0.5210 - val_acc: 0.8889\n",
      "Epoch 11/25\n",
      "195/195 [==============================] - 1s 4ms/step - loss: 0.3824 - acc: 0.9231 - val_loss: 0.5501 - val_acc: 0.8722\n",
      "Epoch 12/25\n",
      "195/195 [==============================] - 1s 4ms/step - loss: 0.3034 - acc: 0.9590 - val_loss: 0.5634 - val_acc: 0.8167\n",
      "Epoch 13/25\n",
      "195/195 [==============================] - 1s 4ms/step - loss: 0.2903 - acc: 0.9641 - val_loss: 0.6218 - val_acc: 0.8167\n",
      "Epoch 14/25\n",
      "195/195 [==============================] - 1s 4ms/step - loss: 0.2563 - acc: 0.9863 - val_loss: 1.1127 - val_acc: 0.7167\n",
      "Epoch 15/25\n",
      "195/195 [==============================] - 1s 4ms/step - loss: 0.2481 - acc: 0.9863 - val_loss: 0.5821 - val_acc: 0.8889\n",
      "Epoch 16/25\n",
      "195/195 [==============================] - 1s 4ms/step - loss: 0.2417 - acc: 0.9880 - val_loss: 0.7069 - val_acc: 0.8611\n",
      "Epoch 17/25\n",
      "195/195 [==============================] - 1s 4ms/step - loss: 0.2460 - acc: 0.9812 - val_loss: 0.6726 - val_acc: 0.7889\n",
      "Epoch 18/25\n",
      "195/195 [==============================] - 1s 4ms/step - loss: 0.2312 - acc: 0.9932 - val_loss: 1.0221 - val_acc: 0.7333\n",
      "Epoch 19/25\n",
      "195/195 [==============================] - 1s 4ms/step - loss: 0.2526 - acc: 0.9795 - val_loss: 0.5168 - val_acc: 0.9278\n",
      "Epoch 20/25\n",
      "195/195 [==============================] - 1s 4ms/step - loss: 0.2455 - acc: 0.9880 - val_loss: 0.5386 - val_acc: 0.8722\n",
      "Epoch 21/25\n",
      "195/195 [==============================] - 1s 4ms/step - loss: 0.2465 - acc: 0.9915 - val_loss: 0.6756 - val_acc: 0.8667\n",
      "Epoch 22/25\n",
      "195/195 [==============================] - 1s 4ms/step - loss: 0.2271 - acc: 0.9949 - val_loss: 0.6673 - val_acc: 0.8444\n",
      "Epoch 23/25\n",
      "195/195 [==============================] - 1s 4ms/step - loss: 0.2387 - acc: 0.9863 - val_loss: 0.5456 - val_acc: 0.9000\n",
      "Epoch 24/25\n",
      "195/195 [==============================] - 1s 4ms/step - loss: 0.2361 - acc: 0.9915 - val_loss: 0.4501 - val_acc: 0.9389\n",
      "Epoch 25/25\n",
      "195/195 [==============================] - 1s 4ms/step - loss: 0.2318 - acc: 0.9966 - val_loss: 0.5453 - val_acc: 0.8389\n"
     ]
    }
   ],
   "source": [
    "history = model.fit(\n",
    "    train_features, \n",
    "    train_labels,\n",
    "    epochs=training_epochs,\n",
    "    batch_size=batch_size,\n",
    "    validation_data=(validation_features, validation_labels)\n",
    ")"
   ]
  },
  {
   "cell_type": "code",
   "execution_count": 22,
   "metadata": {},
   "outputs": [],
   "source": [
    "#model.save('baseline.h5')"
   ]
  },
  {
   "cell_type": "code",
   "execution_count": 23,
   "metadata": {},
   "outputs": [],
   "source": [
    "# validation"
   ]
  },
  {
   "cell_type": "code",
   "execution_count": 24,
   "metadata": {},
   "outputs": [
    {
     "data": {
      "image/png": "[encoded data removed]",
      "text/plain": [
       "<Figure size 432x288 with 1 Axes>"
      ]
     },
     "metadata": {
      "needs_background": "light"
     },
     "output_type": "display_data"
    },
    {
     "data": {
      "image/png": "[encoded data removed]",
      "text/plain": [
       "<Figure size 432x288 with 1 Axes>"
      ]
     },
     "metadata": {
      "needs_background": "light"
     },
     "output_type": "display_data"
    }
   ],
   "source": [
    "import matplotlib.pyplot as plt\n",
    "\n",
    "acc = history.history['acc']\n",
    "val_acc = history.history['val_acc']\n",
    "loss = history.history['loss']\n",
    "val_loss = history.history['val_loss']\n",
    "\n",
    "epochs = range(len(acc))\n",
    "\n",
    "plt.plot(epochs, acc, 'bo', label='Training acc')\n",
    "plt.plot(epochs, val_acc, 'b', label='Validation acc')\n",
    "plt.title('Training and validation accuracy')\n",
    "plt.legend()\n",
    "\n",
    "plt.figure()\n",
    "\n",
    "plt.plot(epochs, loss, 'bo', label='Training loss')\n",
    "plt.plot(epochs, val_loss, 'b', label='Validation loss')\n",
    "plt.title('Training and validation loss')\n",
    "plt.legend()\n",
    "\n",
    "plt.show()"
   ]
  }
 ],
 "metadata": {
  "kernelspec": {
   "display_name": "Python 3",
   "language": "python",
   "name": "python3"
  },
  "language_info": {
   "codemirror_mode": {
    "name": "ipython",
    "version": 3
   },
   "file_extension": ".py",
   "mimetype": "text/x-python",
   "name": "python",
   "nbconvert_exporter": "python",
   "pygments_lexer": "ipython3",
   "version": "3.7.9"
  }
 },
 "nbformat": 4,
 "nbformat_minor": 4
}
