{
 "cells": [
  {
   "cell_type": "code",
   "execution_count": 1,
   "metadata": {},
   "outputs": [
    {
     "name": "stderr",
     "output_type": "stream",
     "text": [
      "Using TensorFlow backend.\n"
     ]
    },
    {
     "data": {
      "text/plain": [
       "'2.3.1'"
      ]
     },
     "execution_count": 1,
     "metadata": {},
     "output_type": "execute_result"
    }
   ],
   "source": [
    "import os\n",
    "import keras\n",
    "\n",
    "from keras.preprocessing.image import ImageDataGenerator\n",
    "\n",
    "keras.__version__"
   ]
  },
  {
   "cell_type": "code",
   "execution_count": 2,
   "metadata": {},
   "outputs": [],
   "source": [
    "from tensorflow.compat.v1 import ConfigProto\n",
    "from tensorflow.compat.v1 import InteractiveSession\n",
    "# Limits GPU-RAM usage\n",
    "config = ConfigProto()\n",
    "config.gpu_options.allow_growth = True\n",
    "session = InteractiveSession(config=config)"
   ]
  },
  {
   "cell_type": "code",
   "execution_count": 3,
   "metadata": {},
   "outputs": [],
   "source": [
    "epochs = 100\n",
    "batch_size = 5\n",
    "target_width = 150\n",
    "target_height = 150\n",
    "target_size = (target_width, target_height)\n",
    "target_shape = (target_width, target_height, 3) # 3 for color\n",
    "base_dir = 'Course notebooks\\paintings'"
   ]
  },
  {
   "cell_type": "code",
   "execution_count": 4,
   "metadata": {},
   "outputs": [],
   "source": [
    "def get_generator(base_dir, folderName):\n",
    "    directory = os.path.join(base_dir, folderName)\n",
    "    return ImageDataGenerator(rescale=1./255).flow_from_directory(\n",
    "        directory, \n",
    "        target_size, \n",
    "        batch_size= batch_size,\n",
    "        shuffle=True,\n",
    "        class_mode='sparse'\n",
    "    )"
   ]
  },
  {
   "cell_type": "code",
   "execution_count": 5,
   "metadata": {},
   "outputs": [
    {
     "name": "stdout",
     "output_type": "stream",
     "text": [
      "Found 210 images belonging to 3 classes.\n",
      "Found 30 images belonging to 3 classes.\n",
      "Found 60 images belonging to 3 classes.\n"
     ]
    }
   ],
   "source": [
    "train_gen = get_generator(base_dir, 'train')\n",
    "test_gen = get_generator(base_dir, 'test')\n",
    "validation_gen = get_generator(base_dir, 'validation')"
   ]
  },
  {
   "cell_type": "code",
   "execution_count": 6,
   "metadata": {},
   "outputs": [],
   "source": [
    "numOfClasses = train_gen.num_classes\n",
    "\n",
    "numOfTrainSamples = train_gen.n\n",
    "numOfTestSamples = test_gen.n\n",
    "numOfValSamples = validation_gen.n"
   ]
  },
  {
   "cell_type": "code",
   "execution_count": 7,
   "metadata": {},
   "outputs": [],
   "source": [
    "# Define Conv model"
   ]
  },
  {
   "cell_type": "code",
   "execution_count": 8,
   "metadata": {},
   "outputs": [],
   "source": [
    "from keras.applications import VGG16\n",
    "\n",
    "conv_base = VGG16(weights='imagenet', \n",
    "                  include_top=False, \n",
    "                  input_shape= target_shape) # honestly, I'm not sure whether height or width comes first"
   ]
  },
  {
   "cell_type": "code",
   "execution_count": 9,
   "metadata": {},
   "outputs": [
    {
     "name": "stdout",
     "output_type": "stream",
     "text": [
      "Model: \"vgg16\"\n",
      "_________________________________________________________________\n",
      "Layer (type)                 Output Shape              Param #   \n",
      "=================================================================\n",
      "input_1 (InputLayer)         (None, 150, 150, 3)       0         \n",
      "_________________________________________________________________\n",
      "block1_conv1 (Conv2D)        (None, 150, 150, 64)      1792      \n",
      "_________________________________________________________________\n",
      "block1_conv2 (Conv2D)        (None, 150, 150, 64)      36928     \n",
      "_________________________________________________________________\n",
      "block1_pool (MaxPooling2D)   (None, 75, 75, 64)        0         \n",
      "_________________________________________________________________\n",
      "block2_conv1 (Conv2D)        (None, 75, 75, 128)       73856     \n",
      "_________________________________________________________________\n",
      "block2_conv2 (Conv2D)        (None, 75, 75, 128)       147584    \n",
      "_________________________________________________________________\n",
      "block2_pool (MaxPooling2D)   (None, 37, 37, 128)       0         \n",
      "_________________________________________________________________\n",
      "block3_conv1 (Conv2D)        (None, 37, 37, 256)       295168    \n",
      "_________________________________________________________________\n",
      "block3_conv2 (Conv2D)        (None, 37, 37, 256)       590080    \n",
      "_________________________________________________________________\n",
      "block3_conv3 (Conv2D)        (None, 37, 37, 256)       590080    \n",
      "_________________________________________________________________\n",
      "block3_pool (MaxPooling2D)   (None, 18, 18, 256)       0         \n",
      "_________________________________________________________________\n",
      "block4_conv1 (Conv2D)        (None, 18, 18, 512)       1180160   \n",
      "_________________________________________________________________\n",
      "block4_conv2 (Conv2D)        (None, 18, 18, 512)       2359808   \n",
      "_________________________________________________________________\n",
      "block4_conv3 (Conv2D)        (None, 18, 18, 512)       2359808   \n",
      "_________________________________________________________________\n",
      "block4_pool (MaxPooling2D)   (None, 9, 9, 512)         0         \n",
      "_________________________________________________________________\n",
      "block5_conv1 (Conv2D)        (None, 9, 9, 512)         2359808   \n",
      "_________________________________________________________________\n",
      "block5_conv2 (Conv2D)        (None, 9, 9, 512)         2359808   \n",
      "_________________________________________________________________\n",
      "block5_conv3 (Conv2D)        (None, 9, 9, 512)         2359808   \n",
      "_________________________________________________________________\n",
      "block5_pool (MaxPooling2D)   (None, 4, 4, 512)         0         \n",
      "=================================================================\n",
      "Total params: 14,714,688\n",
      "Trainable params: 14,714,688\n",
      "Non-trainable params: 0\n",
      "_________________________________________________________________\n"
     ]
    }
   ],
   "source": [
    "conv_base.summary()"
   ]
  },
  {
   "cell_type": "code",
   "execution_count": 10,
   "metadata": {},
   "outputs": [],
   "source": [
    "block1_pool_width = 75\n",
    "block1_pool_height = 75\n",
    "block1_pool_area = block1_pool_width * block1_pool_height\n",
    "block1_pool_no_of_filters = 64\n",
    "\n",
    "block2_pool_width = 37\n",
    "block2_pool_height = 37\n",
    "block2_pool_area = block2_pool_width * block2_pool_height\n",
    "block2_pool_no_of_filters = 128\n",
    "\n",
    "block3_pool_width = 18\n",
    "block3_pool_height = 18\n",
    "block3_pool_area = block3_pool_width * block3_pool_height\n",
    "block3_pool_no_of_filters = 256\n",
    "\n",
    "block4_pool_width = 9\n",
    "block4_pool_height = 9\n",
    "block4_pool_area = block4_pool_width * block4_pool_height\n",
    "block4_pool_no_of_filters = 512\n",
    "\n",
    "## Following not used, but included for completeness and your own possible experiments\n",
    "block5_pool_width = 4\n",
    "block5_pool_height = 4\n",
    "block5_pool_area = block5_pool_width * block5_pool_height\n",
    "block5_pool_no_of_filters = 512"
   ]
  },
  {
   "cell_type": "code",
   "execution_count": 11,
   "metadata": {},
   "outputs": [],
   "source": [
    "from keras import Model\n",
    "\n",
    "intermediate_layer_model = Model(inputs=conv_base.input, \n",
    "                                 outputs=conv_base.get_layer('block4_pool').output)\n",
    "no_of_filters_left = 10"
   ]
  },
  {
   "cell_type": "code",
   "execution_count": 12,
   "metadata": {},
   "outputs": [],
   "source": [
    "from keras.utils.np_utils import to_categorical\n",
    "\n",
    "def extract_features(generator, sample_count):\n",
    "    features = np.zeros(shape=(sample_count, block4_pool_width, block4_pool_height, block4_pool_no_of_filters))\n",
    "    labels = np.zeros(shape=(sample_count))\n",
    "    \n",
    "    i = 0\n",
    "    for inputs_batch, labels_batch in generator:\n",
    "        features_batch = intermediate_layer_model.predict(inputs_batch)\n",
    "        features[i * batch_size : (i + 1) * batch_size] = features_batch\n",
    "        labels[i * batch_size : (i + 1) * batch_size] = labels_batch\n",
    "        i += 1\n",
    "        if i * batch_size >= sample_count:\n",
    "            # Note that since generators yield data indefinitely in a loop,\n",
    "            # we must `break` after every image has been seen once.\n",
    "            break\n",
    "\n",
    "    ### Now throwing away most of the features (= results of features)\n",
    "    features = features[:,:,:,0:no_of_filters_left]\n",
    "    ### convert labels 0, 1, and 2 to [1,0,0], [0,1,0] and [0,0,1] \n",
    "    labels = to_categorical(labels)\n",
    "    return features, labels"
   ]
  },
  {
   "cell_type": "code",
   "execution_count": 13,
   "metadata": {},
   "outputs": [],
   "source": [
    "import numpy as np\n",
    "\n",
    "train_features, train_labels = extract_features(train_gen, numOfTrainSamples)\n",
    "\n",
    "validation_features, validation_labels = extract_features(validation_gen, numOfValSamples)\n",
    "\n",
    "test_features, test_labels = extract_features(test_gen, numOfTestSamples)"
   ]
  },
  {
   "cell_type": "code",
   "execution_count": 14,
   "metadata": {},
   "outputs": [],
   "source": [
    "train_features = np.reshape(train_features, (numOfTrainSamples, block4_pool_area * no_of_filters_left))\n",
    "validation_features = np.reshape(validation_features, (numOfValSamples, block4_pool_area * no_of_filters_left))\n",
    "test_features = np.reshape(test_features, (numOfTestSamples, block4_pool_area * no_of_filters_left))"
   ]
  },
  {
   "cell_type": "code",
   "execution_count": 15,
   "metadata": {},
   "outputs": [],
   "source": [
    "# Define Dense model"
   ]
  },
  {
   "cell_type": "code",
   "execution_count": 16,
   "metadata": {},
   "outputs": [],
   "source": [
    "from keras import models\n",
    "from keras.layers import InputLayer, Flatten, Dense, Dropout\n",
    "\n",
    "def get_model(shape, nClasses):\n",
    "    return keras.Sequential([\n",
    "        InputLayer(input_shape=shape),\n",
    "        #Flatten(),    ### Need to flatten if dense NN else if ConvNet no need to flatten.\n",
    "        Dense(32, activation='relu'),\n",
    "        Dropout(0.5),\n",
    "        Dense(8, activation='relu'),\n",
    "        Dense(nClasses, activation='sigmoid'),\n",
    "    ],)"
   ]
  },
  {
   "cell_type": "code",
   "execution_count": 17,
   "metadata": {},
   "outputs": [],
   "source": [
    "input_shape = (block4_pool_area * no_of_filters_left, ) # needs the \", \" in the end for the InputLayer in the model\n",
    "model = get_model(input_shape, numOfClasses)"
   ]
  },
  {
   "cell_type": "code",
   "execution_count": 18,
   "metadata": {},
   "outputs": [],
   "source": [
    "# train model"
   ]
  },
  {
   "cell_type": "code",
   "execution_count": 19,
   "metadata": {},
   "outputs": [],
   "source": [
    "from keras import optimizers\n",
    "\n",
    "model.compile(loss=\"binary_crossentropy\", optimizer=optimizers.RMSprop(lr=2e-5), metrics=[\"acc\"])"
   ]
  },
  {
   "cell_type": "code",
   "execution_count": 20,
   "metadata": {},
   "outputs": [
    {
     "name": "stdout",
     "output_type": "stream",
     "text": [
      "Model: \"sequential_1\"\n",
      "_________________________________________________________________\n",
      "Layer (type)                 Output Shape              Param #   \n",
      "=================================================================\n",
      "dense_1 (Dense)              (None, 32)                25952     \n",
      "_________________________________________________________________\n",
      "dropout_1 (Dropout)          (None, 32)                0         \n",
      "_________________________________________________________________\n",
      "dense_2 (Dense)              (None, 8)                 264       \n",
      "_________________________________________________________________\n",
      "dense_3 (Dense)              (None, 3)                 27        \n",
      "=================================================================\n",
      "Total params: 26,243\n",
      "Trainable params: 26,243\n",
      "Non-trainable params: 0\n",
      "_________________________________________________________________\n"
     ]
    }
   ],
   "source": [
    "model.summary()"
   ]
  },
  {
   "cell_type": "code",
   "execution_count": 21,
   "metadata": {},
   "outputs": [
    {
     "name": "stdout",
     "output_type": "stream",
     "text": [
      "Train on 210 samples, validate on 60 samples\n",
      "Epoch 1/100\n",
      "210/210 [==============================] - 0s 610us/step - loss: 1.7025 - acc: 0.4111 - val_loss: 1.3272 - val_acc: 0.4278\n",
      "Epoch 2/100\n",
      "210/210 [==============================] - 0s 167us/step - loss: 1.5822 - acc: 0.4492 - val_loss: 1.2356 - val_acc: 0.4389\n",
      "Epoch 3/100\n",
      "210/210 [==============================] - 0s 167us/step - loss: 1.3902 - acc: 0.4603 - val_loss: 1.1489 - val_acc: 0.4556\n",
      "Epoch 4/100\n",
      "210/210 [==============================] - 0s 162us/step - loss: 1.4443 - acc: 0.4365 - val_loss: 1.0758 - val_acc: 0.4722\n",
      "Epoch 5/100\n",
      "210/210 [==============================] - 0s 171us/step - loss: 1.3204 - acc: 0.4778 - val_loss: 1.0069 - val_acc: 0.4778\n",
      "Epoch 6/100\n",
      "210/210 [==============================] - 0s 171us/step - loss: 1.2109 - acc: 0.4968 - val_loss: 0.9517 - val_acc: 0.4722\n",
      "Epoch 7/100\n",
      "210/210 [==============================] - 0s 181us/step - loss: 1.2345 - acc: 0.4841 - val_loss: 0.9009 - val_acc: 0.4944\n",
      "Epoch 8/100\n",
      "210/210 [==============================] - 0s 167us/step - loss: 1.0482 - acc: 0.5333 - val_loss: 0.8501 - val_acc: 0.5222\n",
      "Epoch 9/100\n",
      "210/210 [==============================] - 0s 167us/step - loss: 1.0304 - acc: 0.5270 - val_loss: 0.8074 - val_acc: 0.5611\n",
      "Epoch 10/100\n",
      "210/210 [==============================] - 0s 162us/step - loss: 1.0493 - acc: 0.5127 - val_loss: 0.7713 - val_acc: 0.5722\n",
      "Epoch 11/100\n",
      "210/210 [==============================] - 0s 171us/step - loss: 1.0881 - acc: 0.5079 - val_loss: 0.7375 - val_acc: 0.6056\n",
      "Epoch 12/100\n",
      "210/210 [==============================] - 0s 162us/step - loss: 0.9946 - acc: 0.5444 - val_loss: 0.7072 - val_acc: 0.6222\n",
      "Epoch 13/100\n",
      "210/210 [==============================] - 0s 167us/step - loss: 0.9638 - acc: 0.5286 - val_loss: 0.6795 - val_acc: 0.6556\n",
      "Epoch 14/100\n",
      "210/210 [==============================] - 0s 171us/step - loss: 0.8968 - acc: 0.5698 - val_loss: 0.6589 - val_acc: 0.6611\n",
      "Epoch 15/100\n",
      "210/210 [==============================] - 0s 167us/step - loss: 0.8718 - acc: 0.5667 - val_loss: 0.6364 - val_acc: 0.6556\n",
      "Epoch 16/100\n",
      "210/210 [==============================] - 0s 171us/step - loss: 0.8806 - acc: 0.5762 - val_loss: 0.6164 - val_acc: 0.6722\n",
      "Epoch 17/100\n",
      "210/210 [==============================] - 0s 171us/step - loss: 0.8318 - acc: 0.5619 - val_loss: 0.6006 - val_acc: 0.6889\n",
      "Epoch 18/100\n",
      "210/210 [==============================] - 0s 219us/step - loss: 0.8166 - acc: 0.5730 - val_loss: 0.5862 - val_acc: 0.6833\n",
      "Epoch 19/100\n",
      "210/210 [==============================] - 0s 186us/step - loss: 0.7404 - acc: 0.6079 - val_loss: 0.5742 - val_acc: 0.6944\n",
      "Epoch 20/100\n",
      "210/210 [==============================] - 0s 176us/step - loss: 0.7803 - acc: 0.5905 - val_loss: 0.5619 - val_acc: 0.6944\n",
      "Epoch 21/100\n",
      "210/210 [==============================] - 0s 176us/step - loss: 0.7113 - acc: 0.6127 - val_loss: 0.5497 - val_acc: 0.7000\n",
      "Epoch 22/100\n",
      "210/210 [==============================] - 0s 171us/step - loss: 0.7597 - acc: 0.6079 - val_loss: 0.5403 - val_acc: 0.7056\n",
      "Epoch 23/100\n",
      "210/210 [==============================] - 0s 176us/step - loss: 0.6971 - acc: 0.6111 - val_loss: 0.5312 - val_acc: 0.7111\n",
      "Epoch 24/100\n",
      "210/210 [==============================] - 0s 200us/step - loss: 0.7217 - acc: 0.6238 - val_loss: 0.5212 - val_acc: 0.7278\n",
      "Epoch 25/100\n",
      "210/210 [==============================] - 0s 171us/step - loss: 0.6987 - acc: 0.6159 - val_loss: 0.5118 - val_acc: 0.7333\n",
      "Epoch 26/100\n",
      "210/210 [==============================] - 0s 167us/step - loss: 0.6634 - acc: 0.6365 - val_loss: 0.5036 - val_acc: 0.7333\n",
      "Epoch 27/100\n",
      "210/210 [==============================] - 0s 171us/step - loss: 0.7030 - acc: 0.6317 - val_loss: 0.4961 - val_acc: 0.7278\n",
      "Epoch 28/100\n",
      "210/210 [==============================] - 0s 205us/step - loss: 0.6186 - acc: 0.6524 - val_loss: 0.4894 - val_acc: 0.7333\n",
      "Epoch 29/100\n",
      "210/210 [==============================] - 0s 181us/step - loss: 0.6441 - acc: 0.6508 - val_loss: 0.4844 - val_acc: 0.7444\n",
      "Epoch 30/100\n",
      "210/210 [==============================] - 0s 186us/step - loss: 0.6123 - acc: 0.6587 - val_loss: 0.4795 - val_acc: 0.7500\n",
      "Epoch 31/100\n",
      "210/210 [==============================] - 0s 186us/step - loss: 0.6356 - acc: 0.6714 - val_loss: 0.4739 - val_acc: 0.7556\n",
      "Epoch 32/100\n",
      "210/210 [==============================] - 0s 181us/step - loss: 0.6306 - acc: 0.6444 - val_loss: 0.4696 - val_acc: 0.7500\n",
      "Epoch 33/100\n",
      "210/210 [==============================] - 0s 162us/step - loss: 0.5879 - acc: 0.6714 - val_loss: 0.4661 - val_acc: 0.7556\n",
      "Epoch 34/100\n",
      "210/210 [==============================] - 0s 162us/step - loss: 0.5927 - acc: 0.6873 - val_loss: 0.4630 - val_acc: 0.7556\n",
      "Epoch 35/100\n",
      "210/210 [==============================] - 0s 167us/step - loss: 0.5686 - acc: 0.6762 - val_loss: 0.4591 - val_acc: 0.7556\n",
      "Epoch 36/100\n",
      "210/210 [==============================] - 0s 162us/step - loss: 0.6125 - acc: 0.6698 - val_loss: 0.4552 - val_acc: 0.7500\n",
      "Epoch 37/100\n",
      "210/210 [==============================] - 0s 162us/step - loss: 0.5527 - acc: 0.7048 - val_loss: 0.4497 - val_acc: 0.7500\n",
      "Epoch 38/100\n",
      "210/210 [==============================] - 0s 162us/step - loss: 0.5488 - acc: 0.6952 - val_loss: 0.4461 - val_acc: 0.7611\n",
      "Epoch 39/100\n",
      "210/210 [==============================] - 0s 162us/step - loss: 0.5530 - acc: 0.6921 - val_loss: 0.4420 - val_acc: 0.7611\n",
      "Epoch 40/100\n",
      "210/210 [==============================] - 0s 167us/step - loss: 0.5733 - acc: 0.7048 - val_loss: 0.4399 - val_acc: 0.7611\n",
      "Epoch 41/100\n",
      "210/210 [==============================] - 0s 167us/step - loss: 0.5776 - acc: 0.6825 - val_loss: 0.4369 - val_acc: 0.7611\n",
      "Epoch 42/100\n",
      "210/210 [==============================] - 0s 171us/step - loss: 0.5570 - acc: 0.7095 - val_loss: 0.4349 - val_acc: 0.7611\n",
      "Epoch 43/100\n",
      "210/210 [==============================] - 0s 176us/step - loss: 0.5419 - acc: 0.6937 - val_loss: 0.4329 - val_acc: 0.7611\n",
      "Epoch 44/100\n",
      "210/210 [==============================] - 0s 171us/step - loss: 0.5056 - acc: 0.7286 - val_loss: 0.4290 - val_acc: 0.7611\n",
      "Epoch 45/100\n",
      "210/210 [==============================] - 0s 171us/step - loss: 0.5378 - acc: 0.7000 - val_loss: 0.4261 - val_acc: 0.7556\n",
      "Epoch 46/100\n",
      "210/210 [==============================] - 0s 162us/step - loss: 0.5828 - acc: 0.6984 - val_loss: 0.4244 - val_acc: 0.7611\n",
      "Epoch 47/100\n",
      "210/210 [==============================] - 0s 167us/step - loss: 0.5430 - acc: 0.7159 - val_loss: 0.4207 - val_acc: 0.7611\n",
      "Epoch 48/100\n",
      "210/210 [==============================] - 0s 171us/step - loss: 0.5289 - acc: 0.7238 - val_loss: 0.4182 - val_acc: 0.7722\n",
      "Epoch 49/100\n",
      "210/210 [==============================] - 0s 176us/step - loss: 0.5533 - acc: 0.6905 - val_loss: 0.4161 - val_acc: 0.7667\n",
      "Epoch 50/100\n",
      "210/210 [==============================] - 0s 162us/step - loss: 0.5109 - acc: 0.7175 - val_loss: 0.4130 - val_acc: 0.7778\n",
      "Epoch 51/100\n",
      "210/210 [==============================] - 0s 176us/step - loss: 0.5330 - acc: 0.7175 - val_loss: 0.4108 - val_acc: 0.7778\n",
      "Epoch 52/100\n",
      "210/210 [==============================] - 0s 171us/step - loss: 0.5245 - acc: 0.7206 - val_loss: 0.4080 - val_acc: 0.7833\n",
      "Epoch 53/100\n",
      "210/210 [==============================] - 0s 167us/step - loss: 0.5453 - acc: 0.7063 - val_loss: 0.4063 - val_acc: 0.7778\n",
      "Epoch 54/100\n",
      "210/210 [==============================] - 0s 176us/step - loss: 0.4672 - acc: 0.7587 - val_loss: 0.4035 - val_acc: 0.7778\n",
      "Epoch 55/100\n",
      "210/210 [==============================] - 0s 171us/step - loss: 0.5054 - acc: 0.7460 - val_loss: 0.4001 - val_acc: 0.7667\n",
      "Epoch 56/100\n",
      "210/210 [==============================] - 0s 162us/step - loss: 0.5027 - acc: 0.7349 - val_loss: 0.3971 - val_acc: 0.7667\n",
      "Epoch 57/100\n",
      "210/210 [==============================] - 0s 162us/step - loss: 0.4896 - acc: 0.7365 - val_loss: 0.3951 - val_acc: 0.7778\n",
      "Epoch 58/100\n",
      "210/210 [==============================] - 0s 167us/step - loss: 0.5010 - acc: 0.6952 - val_loss: 0.3919 - val_acc: 0.7667\n",
      "Epoch 59/100\n",
      "210/210 [==============================] - 0s 171us/step - loss: 0.4819 - acc: 0.7413 - val_loss: 0.3887 - val_acc: 0.7667\n",
      "Epoch 60/100\n",
      "210/210 [==============================] - 0s 162us/step - loss: 0.4602 - acc: 0.7603 - val_loss: 0.3850 - val_acc: 0.7778\n"
     ]
    },
    {
     "name": "stdout",
     "output_type": "stream",
     "text": [
      "Epoch 61/100\n",
      "210/210 [==============================] - 0s 162us/step - loss: 0.4786 - acc: 0.7286 - val_loss: 0.3827 - val_acc: 0.7611\n",
      "Epoch 62/100\n",
      "210/210 [==============================] - 0s 157us/step - loss: 0.4845 - acc: 0.7444 - val_loss: 0.3802 - val_acc: 0.7667\n",
      "Epoch 63/100\n",
      "210/210 [==============================] - 0s 162us/step - loss: 0.4672 - acc: 0.7524 - val_loss: 0.3781 - val_acc: 0.7667\n",
      "Epoch 64/100\n",
      "210/210 [==============================] - 0s 167us/step - loss: 0.4735 - acc: 0.7444 - val_loss: 0.3759 - val_acc: 0.7722\n",
      "Epoch 65/100\n",
      "210/210 [==============================] - 0s 176us/step - loss: 0.4557 - acc: 0.7683 - val_loss: 0.3735 - val_acc: 0.7722\n",
      "Epoch 66/100\n",
      "210/210 [==============================] - 0s 171us/step - loss: 0.4588 - acc: 0.7508 - val_loss: 0.3717 - val_acc: 0.7667\n",
      "Epoch 67/100\n",
      "210/210 [==============================] - 0s 167us/step - loss: 0.4900 - acc: 0.7635 - val_loss: 0.3697 - val_acc: 0.7667\n",
      "Epoch 68/100\n",
      "210/210 [==============================] - 0s 162us/step - loss: 0.4704 - acc: 0.7492 - val_loss: 0.3684 - val_acc: 0.7722\n",
      "Epoch 69/100\n",
      "210/210 [==============================] - 0s 162us/step - loss: 0.4674 - acc: 0.7238 - val_loss: 0.3668 - val_acc: 0.7722\n",
      "Epoch 70/100\n",
      "210/210 [==============================] - 0s 162us/step - loss: 0.4597 - acc: 0.7508 - val_loss: 0.3660 - val_acc: 0.7722\n",
      "Epoch 71/100\n",
      "210/210 [==============================] - 0s 162us/step - loss: 0.4565 - acc: 0.7603 - val_loss: 0.3644 - val_acc: 0.7667\n",
      "Epoch 72/100\n",
      "210/210 [==============================] - 0s 162us/step - loss: 0.4526 - acc: 0.7444 - val_loss: 0.3631 - val_acc: 0.7667\n",
      "Epoch 73/100\n",
      "210/210 [==============================] - 0s 162us/step - loss: 0.4398 - acc: 0.7794 - val_loss: 0.3615 - val_acc: 0.7667\n",
      "Epoch 74/100\n",
      "210/210 [==============================] - 0s 162us/step - loss: 0.4702 - acc: 0.7460 - val_loss: 0.3596 - val_acc: 0.7778\n",
      "Epoch 75/100\n",
      "210/210 [==============================] - 0s 157us/step - loss: 0.4677 - acc: 0.7603 - val_loss: 0.3580 - val_acc: 0.7722\n",
      "Epoch 76/100\n",
      "210/210 [==============================] - 0s 162us/step - loss: 0.4191 - acc: 0.7857 - val_loss: 0.3558 - val_acc: 0.7889\n",
      "Epoch 77/100\n",
      "210/210 [==============================] - 0s 162us/step - loss: 0.4506 - acc: 0.7524 - val_loss: 0.3556 - val_acc: 0.7722\n",
      "Epoch 78/100\n",
      "210/210 [==============================] - 0s 157us/step - loss: 0.4353 - acc: 0.7667 - val_loss: 0.3545 - val_acc: 0.7722\n",
      "Epoch 79/100\n",
      "210/210 [==============================] - 0s 167us/step - loss: 0.4605 - acc: 0.7730 - val_loss: 0.3535 - val_acc: 0.7778\n",
      "Epoch 80/100\n",
      "210/210 [==============================] - 0s 157us/step - loss: 0.4553 - acc: 0.7651 - val_loss: 0.3520 - val_acc: 0.7833\n",
      "Epoch 81/100\n",
      "210/210 [==============================] - 0s 157us/step - loss: 0.4073 - acc: 0.7952 - val_loss: 0.3490 - val_acc: 0.7833\n",
      "Epoch 82/100\n",
      "210/210 [==============================] - 0s 162us/step - loss: 0.4337 - acc: 0.7746 - val_loss: 0.3481 - val_acc: 0.7778\n",
      "Epoch 83/100\n",
      "210/210 [==============================] - 0s 157us/step - loss: 0.4204 - acc: 0.7667 - val_loss: 0.3470 - val_acc: 0.7833\n",
      "Epoch 84/100\n",
      "210/210 [==============================] - 0s 157us/step - loss: 0.4249 - acc: 0.7746 - val_loss: 0.3459 - val_acc: 0.7833\n",
      "Epoch 85/100\n",
      "210/210 [==============================] - 0s 157us/step - loss: 0.4312 - acc: 0.7746 - val_loss: 0.3449 - val_acc: 0.7833\n",
      "Epoch 86/100\n",
      "210/210 [==============================] - 0s 162us/step - loss: 0.4208 - acc: 0.7810 - val_loss: 0.3426 - val_acc: 0.7944\n",
      "Epoch 87/100\n",
      "210/210 [==============================] - 0s 162us/step - loss: 0.3987 - acc: 0.8000 - val_loss: 0.3424 - val_acc: 0.7944\n",
      "Epoch 88/100\n",
      "210/210 [==============================] - 0s 167us/step - loss: 0.4314 - acc: 0.7619 - val_loss: 0.3412 - val_acc: 0.7944\n",
      "Epoch 89/100\n",
      "210/210 [==============================] - 0s 167us/step - loss: 0.3875 - acc: 0.8127 - val_loss: 0.3393 - val_acc: 0.7889\n",
      "Epoch 90/100\n",
      "210/210 [==============================] - 0s 171us/step - loss: 0.4185 - acc: 0.7937 - val_loss: 0.3373 - val_acc: 0.7833\n",
      "Epoch 91/100\n",
      "210/210 [==============================] - 0s 171us/step - loss: 0.4161 - acc: 0.7810 - val_loss: 0.3358 - val_acc: 0.7833\n",
      "Epoch 92/100\n",
      "210/210 [==============================] - 0s 171us/step - loss: 0.4208 - acc: 0.7746 - val_loss: 0.3343 - val_acc: 0.7889\n",
      "Epoch 93/100\n",
      "210/210 [==============================] - 0s 167us/step - loss: 0.3955 - acc: 0.7841 - val_loss: 0.3330 - val_acc: 0.7889\n",
      "Epoch 94/100\n",
      "210/210 [==============================] - 0s 167us/step - loss: 0.4063 - acc: 0.7587 - val_loss: 0.3316 - val_acc: 0.8000\n",
      "Epoch 95/100\n",
      "210/210 [==============================] - 0s 167us/step - loss: 0.4235 - acc: 0.7730 - val_loss: 0.3303 - val_acc: 0.8111\n",
      "Epoch 96/100\n",
      "210/210 [==============================] - 0s 162us/step - loss: 0.3803 - acc: 0.8238 - val_loss: 0.3273 - val_acc: 0.8222\n",
      "Epoch 97/100\n",
      "210/210 [==============================] - 0s 171us/step - loss: 0.4097 - acc: 0.7952 - val_loss: 0.3266 - val_acc: 0.8222\n",
      "Epoch 98/100\n",
      "210/210 [==============================] - 0s 171us/step - loss: 0.4081 - acc: 0.8000 - val_loss: 0.3267 - val_acc: 0.8222\n",
      "Epoch 99/100\n",
      "210/210 [==============================] - 0s 171us/step - loss: 0.3837 - acc: 0.7968 - val_loss: 0.3248 - val_acc: 0.8167\n",
      "Epoch 100/100\n",
      "210/210 [==============================] - 0s 171us/step - loss: 0.3882 - acc: 0.7968 - val_loss: 0.3239 - val_acc: 0.8167\n"
     ]
    }
   ],
   "source": [
    "history = model.fit(\n",
    "    train_features, \n",
    "    train_labels,\n",
    "    epochs=epochs,\n",
    "    batch_size=batch_size,\n",
    "    validation_data=(validation_features, validation_labels))"
   ]
  },
  {
   "cell_type": "code",
   "execution_count": 22,
   "metadata": {},
   "outputs": [],
   "source": [
    "#model.save('baseline.h5')"
   ]
  },
  {
   "cell_type": "code",
   "execution_count": 23,
   "metadata": {},
   "outputs": [],
   "source": [
    "# validation"
   ]
  },
  {
   "cell_type": "code",
   "execution_count": 24,
   "metadata": {},
   "outputs": [
    {
     "data": {
      "image/png": "[encoded data removed]",
      "text/plain": [
       "<Figure size 432x288 with 1 Axes>"
      ]
     },
     "metadata": {
      "needs_background": "light"
     },
     "output_type": "display_data"
    },
    {
     "data": {
      "image/png": "[encoded data removed]",
      "text/plain": [
       "<Figure size 432x288 with 1 Axes>"
      ]
     },
     "metadata": {
      "needs_background": "light"
     },
     "output_type": "display_data"
    }
   ],
   "source": [
    "import matplotlib.pyplot as plt\n",
    "\n",
    "acc = history.history['acc']\n",
    "val_acc = history.history['val_acc']\n",
    "loss = history.history['loss']\n",
    "val_loss = history.history['val_loss']\n",
    "\n",
    "epochs = range(len(acc))\n",
    "\n",
    "plt.plot(epochs, acc, 'bo', label='Training acc')\n",
    "plt.plot(epochs, val_acc, 'b', label='Validation acc')\n",
    "plt.title('Training and validation accuracy - block 4')\n",
    "plt.legend()\n",
    "\n",
    "plt.figure()\n",
    "\n",
    "plt.plot(epochs, loss, 'bo', label='Training loss')\n",
    "plt.plot(epochs, val_loss, 'b', label='Validation loss')\n",
    "plt.title('Training and validation loss - block 4')\n",
    "plt.legend()\n",
    "\n",
    "plt.show()"
   ]
  },
  {
   "cell_type": "code",
   "execution_count": null,
   "metadata": {},
   "outputs": [],
   "source": []
  }
 ],
 "metadata": {
  "kernelspec": {
   "display_name": "Python 3",
   "language": "python",
   "name": "python3"
  },
  "language_info": {
   "codemirror_mode": {
    "name": "ipython",
    "version": 3
   },
   "file_extension": ".py",
   "mimetype": "text/x-python",
   "name": "python",
   "nbconvert_exporter": "python",
   "pygments_lexer": "ipython3",
   "version": "3.7.9"
  }
 },
 "nbformat": 4,
 "nbformat_minor": 4
}
