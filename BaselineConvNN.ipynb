{
 "cells": [
  {
   "cell_type": "code",
   "execution_count": 1,
   "metadata": {},
   "outputs": [
    {
     "name": "stderr",
     "output_type": "stream",
     "text": [
      "Using TensorFlow backend.\n"
     ]
    },
    {
     "data": {
      "text/plain": [
       "'2.3.1'"
      ]
     },
     "execution_count": 1,
     "metadata": {},
     "output_type": "execute_result"
    }
   ],
   "source": [
    "import os\n",
    "import keras\n",
    "\n",
    "from keras.preprocessing.image import ImageDataGenerator\n",
    "\n",
    "keras.__version__"
   ]
  },
  {
   "cell_type": "code",
   "execution_count": 2,
   "metadata": {},
   "outputs": [],
   "source": [
    "from tensorflow.compat.v1 import ConfigProto\n",
    "from tensorflow.compat.v1 import InteractiveSession\n",
    "# Limits GPU-RAM usage\n",
    "config = ConfigProto()\n",
    "config.gpu_options.allow_growth = True\n",
    "session = InteractiveSession(config=config)"
   ]
  },
  {
   "cell_type": "code",
   "execution_count": 3,
   "metadata": {},
   "outputs": [],
   "source": [
    "# import and \"clean\" data"
   ]
  },
  {
   "cell_type": "code",
   "execution_count": 4,
   "metadata": {},
   "outputs": [],
   "source": [
    "def get_generator(base_dir, folderName):\n",
    "    directory = os.path.join(base_dir, folderName)\n",
    "    return ImageDataGenerator(rescale=1./255).flow_from_directory(\n",
    "        directory, \n",
    "        target_size, \n",
    "        batch_size= batch_size,\n",
    "        shuffle=True,\n",
    "        class_mode='sparse'\n",
    "    )"
   ]
  },
  {
   "cell_type": "code",
   "execution_count": 5,
   "metadata": {},
   "outputs": [
    {
     "name": "stdout",
     "output_type": "stream",
     "text": [
      "Found 210 images belonging to 3 classes.\n",
      "Found 30 images belonging to 3 classes.\n",
      "Found 60 images belonging to 3 classes.\n"
     ]
    }
   ],
   "source": [
    "epochs = 25\n",
    "batch_size = 5\n",
    "target_width = 150\n",
    "target_height = 150\n",
    "target_size = (target_width, target_height)\n",
    "target_shape = (target_width, target_height, 3) # 3 for color\n",
    "base_dir = 'Course notebooks\\paintings'\n",
    "\n",
    "train_gen = get_generator(base_dir, 'train')\n",
    "test_gen = get_generator(base_dir, 'test')\n",
    "validation_gen = get_generator(base_dir, 'validation')"
   ]
  },
  {
   "cell_type": "code",
   "execution_count": 6,
   "metadata": {},
   "outputs": [],
   "source": [
    "numOfClasses = train_gen.num_classes\n",
    "\n",
    "numOfTrainSamples = train_gen.n\n",
    "numOfTestSamples = test_gen.n\n",
    "numOfValSamples = validation_gen.n"
   ]
  },
  {
   "cell_type": "code",
   "execution_count": 7,
   "metadata": {},
   "outputs": [],
   "source": [
    "# Define Conv model"
   ]
  },
  {
   "cell_type": "code",
   "execution_count": 8,
   "metadata": {},
   "outputs": [],
   "source": [
    "from keras.applications import VGG16\n",
    "\n",
    "input_width = 250\n",
    "input_height = 250\n",
    "input_area = input_width * input_height\n",
    "\n",
    "conv_base = VGG16(weights='imagenet', \n",
    "                  include_top=False, \n",
    "                  input_shape= target_shape) # honestly, I'm not sure whether height or width comes first"
   ]
  },
  {
   "cell_type": "code",
   "execution_count": 9,
   "metadata": {},
   "outputs": [
    {
     "name": "stdout",
     "output_type": "stream",
     "text": [
      "Model: \"vgg16\"\n",
      "_________________________________________________________________\n",
      "Layer (type)                 Output Shape              Param #   \n",
      "=================================================================\n",
      "input_1 (InputLayer)         (None, 150, 150, 3)       0         \n",
      "_________________________________________________________________\n",
      "block1_conv1 (Conv2D)        (None, 150, 150, 64)      1792      \n",
      "_________________________________________________________________\n",
      "block1_conv2 (Conv2D)        (None, 150, 150, 64)      36928     \n",
      "_________________________________________________________________\n",
      "block1_pool (MaxPooling2D)   (None, 75, 75, 64)        0         \n",
      "_________________________________________________________________\n",
      "block2_conv1 (Conv2D)        (None, 75, 75, 128)       73856     \n",
      "_________________________________________________________________\n",
      "block2_conv2 (Conv2D)        (None, 75, 75, 128)       147584    \n",
      "_________________________________________________________________\n",
      "block2_pool (MaxPooling2D)   (None, 37, 37, 128)       0         \n",
      "_________________________________________________________________\n",
      "block3_conv1 (Conv2D)        (None, 37, 37, 256)       295168    \n",
      "_________________________________________________________________\n",
      "block3_conv2 (Conv2D)        (None, 37, 37, 256)       590080    \n",
      "_________________________________________________________________\n",
      "block3_conv3 (Conv2D)        (None, 37, 37, 256)       590080    \n",
      "_________________________________________________________________\n",
      "block3_pool (MaxPooling2D)   (None, 18, 18, 256)       0         \n",
      "_________________________________________________________________\n",
      "block4_conv1 (Conv2D)        (None, 18, 18, 512)       1180160   \n",
      "_________________________________________________________________\n",
      "block4_conv2 (Conv2D)        (None, 18, 18, 512)       2359808   \n",
      "_________________________________________________________________\n",
      "block4_conv3 (Conv2D)        (None, 18, 18, 512)       2359808   \n",
      "_________________________________________________________________\n",
      "block4_pool (MaxPooling2D)   (None, 9, 9, 512)         0         \n",
      "_________________________________________________________________\n",
      "block5_conv1 (Conv2D)        (None, 9, 9, 512)         2359808   \n",
      "_________________________________________________________________\n",
      "block5_conv2 (Conv2D)        (None, 9, 9, 512)         2359808   \n",
      "_________________________________________________________________\n",
      "block5_conv3 (Conv2D)        (None, 9, 9, 512)         2359808   \n",
      "_________________________________________________________________\n",
      "block5_pool (MaxPooling2D)   (None, 4, 4, 512)         0         \n",
      "=================================================================\n",
      "Total params: 14,714,688\n",
      "Trainable params: 14,714,688\n",
      "Non-trainable params: 0\n",
      "_________________________________________________________________\n"
     ]
    }
   ],
   "source": [
    "conv_base.summary()"
   ]
  },
  {
   "cell_type": "code",
   "execution_count": 10,
   "metadata": {},
   "outputs": [],
   "source": [
    "block3_pool_width = 18\n",
    "block3_pool_height = 18\n",
    "block3_pool_area = block3_pool_width * block3_pool_height\n",
    "block3_pool_no_of_filters = 256\n",
    "\n",
    "## Following not used, but included for completeness and your own possible experiments\n",
    "block5_pool_width = 4\n",
    "block5_pool_height = 4\n",
    "block5_pool_area = block3_pool_width * block3_pool_height\n",
    "block5_pool_no_of_filters = 512"
   ]
  },
  {
   "cell_type": "code",
   "execution_count": 11,
   "metadata": {},
   "outputs": [],
   "source": [
    "from keras import Model\n",
    "\n",
    "intermediate_layer_model = Model(inputs=conv_base.input, \n",
    "                                 outputs=conv_base.get_layer('block3_pool').output)\n",
    "no_of_filters_left = 100"
   ]
  },
  {
   "cell_type": "code",
   "execution_count": 12,
   "metadata": {},
   "outputs": [],
   "source": [
    "from keras.utils.np_utils import to_categorical\n",
    "\n",
    "def extract_features(generator, sample_count):\n",
    "    features = np.zeros(shape=(sample_count, block3_pool_width, block3_pool_height, block3_pool_no_of_filters))\n",
    "    labels = np.zeros(shape=(sample_count))\n",
    "    \n",
    "    i = 0\n",
    "    for inputs_batch, labels_batch in generator:\n",
    "        features_batch = intermediate_layer_model.predict(inputs_batch)\n",
    "        features[i * batch_size : (i + 1) * batch_size] = features_batch\n",
    "        labels[i * batch_size : (i + 1) * batch_size] = labels_batch\n",
    "        i += 1\n",
    "        if i * batch_size >= sample_count:\n",
    "            # Note that since generators yield data indefinitely in a loop,\n",
    "            # we must `break` after every image has been seen once.\n",
    "            break\n",
    "\n",
    "    ### Now throwing away most of the features (= results of features)\n",
    "    features = features[:,:,:,0:no_of_filters_left]\n",
    "    ### convert labels 0, 1, and 2 to [1,0,0], [0,1,0] and [0,0,1] \n",
    "    labels = to_categorical(labels)\n",
    "    return features, labels"
   ]
  },
  {
   "cell_type": "code",
   "execution_count": 13,
   "metadata": {},
   "outputs": [],
   "source": [
    "import numpy as np\n",
    "\n",
    "train_features, train_labels = extract_features(train_gen, numOfTrainSamples)\n",
    "\n",
    "validation_features, validation_labels = extract_features(validation_gen, numOfValSamples)\n",
    "\n",
    "test_features, test_labels = extract_features(test_gen, numOfTestSamples)"
   ]
  },
  {
   "cell_type": "code",
   "execution_count": 14,
   "metadata": {},
   "outputs": [],
   "source": [
    "train_features = np.reshape(train_features, (numOfTrainSamples, block3_pool_area * no_of_filters_left))\n",
    "validation_features = np.reshape(validation_features, (numOfValSamples, block3_pool_area * no_of_filters_left))\n",
    "test_features = np.reshape(test_features, (numOfTestSamples, block3_pool_area * no_of_filters_left))"
   ]
  },
  {
   "cell_type": "code",
   "execution_count": 15,
   "metadata": {},
   "outputs": [],
   "source": [
    "# Define Dense model"
   ]
  },
  {
   "cell_type": "code",
   "execution_count": 16,
   "metadata": {},
   "outputs": [],
   "source": [
    "from keras import models\n",
    "from keras import layers\n",
    "\n",
    "model = models.Sequential()\n",
    "model.add(layers.Dense(64, input_dim= block3_pool_area * no_of_filters_left))\n",
    "model.add(layers.Dense(32, activation='relu'))\n",
    "#model.add(layers.Dropout(0.5))\n",
    "model.add(layers.Dense(8, activation='relu'))\n",
    "model.add(layers.Dense(numOfClasses, activation='sigmoid'))"
   ]
  },
  {
   "cell_type": "code",
   "execution_count": 17,
   "metadata": {},
   "outputs": [],
   "source": [
    "# train model"
   ]
  },
  {
   "cell_type": "code",
   "execution_count": 18,
   "metadata": {},
   "outputs": [],
   "source": [
    "from keras import optimizers\n",
    "\n",
    "model.compile(loss=\"binary_crossentropy\", optimizer=optimizers.RMSprop(lr=2e-5), metrics=[\"acc\"])"
   ]
  },
  {
   "cell_type": "code",
   "execution_count": 19,
   "metadata": {},
   "outputs": [
    {
     "name": "stdout",
     "output_type": "stream",
     "text": [
      "Model: \"sequential_1\"\n",
      "_________________________________________________________________\n",
      "Layer (type)                 Output Shape              Param #   \n",
      "=================================================================\n",
      "dense_1 (Dense)              (None, 64)                2073664   \n",
      "_________________________________________________________________\n",
      "dense_2 (Dense)              (None, 32)                2080      \n",
      "_________________________________________________________________\n",
      "dense_3 (Dense)              (None, 8)                 264       \n",
      "_________________________________________________________________\n",
      "dense_4 (Dense)              (None, 3)                 27        \n",
      "=================================================================\n",
      "Total params: 2,076,035\n",
      "Trainable params: 2,076,035\n",
      "Non-trainable params: 0\n",
      "_________________________________________________________________\n"
     ]
    }
   ],
   "source": [
    "model.summary()"
   ]
  },
  {
   "cell_type": "code",
   "execution_count": 20,
   "metadata": {},
   "outputs": [
    {
     "name": "stdout",
     "output_type": "stream",
     "text": [
      "Train on 210 samples, validate on 60 samples\n",
      "Epoch 1/25\n",
      "210/210 [==============================] - 0s 2ms/step - loss: 1.1131 - acc: 0.6841 - val_loss: 0.5130 - val_acc: 0.7833\n",
      "Epoch 2/25\n",
      "210/210 [==============================] - 0s 1ms/step - loss: 0.4709 - acc: 0.7540 - val_loss: 0.4340 - val_acc: 0.7444\n",
      "Epoch 3/25\n",
      "210/210 [==============================] - 0s 1ms/step - loss: 0.3951 - acc: 0.7714 - val_loss: 0.5299 - val_acc: 0.7889\n",
      "Epoch 4/25\n",
      "210/210 [==============================] - 0s 1ms/step - loss: 0.4332 - acc: 0.7619 - val_loss: 0.4677 - val_acc: 0.7500\n",
      "Epoch 5/25\n",
      "210/210 [==============================] - 0s 1ms/step - loss: 0.3713 - acc: 0.7746 - val_loss: 0.3730 - val_acc: 0.7778\n",
      "Epoch 6/25\n",
      "210/210 [==============================] - 0s 1ms/step - loss: 0.3708 - acc: 0.7698 - val_loss: 0.3627 - val_acc: 0.7722\n",
      "Epoch 7/25\n",
      "210/210 [==============================] - 0s 1ms/step - loss: 0.3515 - acc: 0.7873 - val_loss: 0.3646 - val_acc: 0.7778\n",
      "Epoch 8/25\n",
      "210/210 [==============================] - 0s 1ms/step - loss: 0.3753 - acc: 0.7889 - val_loss: 0.3715 - val_acc: 0.8000\n",
      "Epoch 9/25\n",
      "210/210 [==============================] - 0s 1ms/step - loss: 0.4162 - acc: 0.7889 - val_loss: 0.4001 - val_acc: 0.7778\n",
      "Epoch 10/25\n",
      "210/210 [==============================] - 0s 1ms/step - loss: 0.3505 - acc: 0.7937 - val_loss: 0.3926 - val_acc: 0.7667\n",
      "Epoch 11/25\n",
      "210/210 [==============================] - 0s 1ms/step - loss: 0.3946 - acc: 0.7778 - val_loss: 0.3921 - val_acc: 0.7778\n",
      "Epoch 12/25\n",
      "210/210 [==============================] - 0s 1ms/step - loss: 0.3724 - acc: 0.7984 - val_loss: 0.3660 - val_acc: 0.7722\n",
      "Epoch 13/25\n",
      "210/210 [==============================] - 0s 1ms/step - loss: 0.3545 - acc: 0.7952 - val_loss: 0.4264 - val_acc: 0.8111\n",
      "Epoch 14/25\n",
      "210/210 [==============================] - 0s 1ms/step - loss: 0.3015 - acc: 0.8238 - val_loss: 0.3730 - val_acc: 0.7722\n",
      "Epoch 15/25\n",
      "210/210 [==============================] - 0s 1ms/step - loss: 0.2703 - acc: 0.8429 - val_loss: 0.3371 - val_acc: 0.8056\n",
      "Epoch 16/25\n",
      "210/210 [==============================] - 0s 1ms/step - loss: 0.2646 - acc: 0.8413 - val_loss: 0.3075 - val_acc: 0.8167\n",
      "Epoch 17/25\n",
      "210/210 [==============================] - 0s 1ms/step - loss: 0.2432 - acc: 0.8444 - val_loss: 0.3486 - val_acc: 0.7944\n",
      "Epoch 18/25\n",
      "210/210 [==============================] - 0s 1ms/step - loss: 0.2295 - acc: 0.8635 - val_loss: 0.4438 - val_acc: 0.8389\n",
      "Epoch 19/25\n",
      "210/210 [==============================] - 0s 1ms/step - loss: 0.2052 - acc: 0.8746 - val_loss: 0.3059 - val_acc: 0.8278\n",
      "Epoch 20/25\n",
      "210/210 [==============================] - 0s 1ms/step - loss: 0.1976 - acc: 0.8746 - val_loss: 0.7188 - val_acc: 0.8000\n",
      "Epoch 21/25\n",
      "210/210 [==============================] - 0s 1ms/step - loss: 0.2027 - acc: 0.8746 - val_loss: 0.3635 - val_acc: 0.8278\n",
      "Epoch 22/25\n",
      "210/210 [==============================] - 0s 1ms/step - loss: 0.1885 - acc: 0.8730 - val_loss: 0.4187 - val_acc: 0.8167\n",
      "Epoch 23/25\n",
      "210/210 [==============================] - 0s 1ms/step - loss: 0.1821 - acc: 0.8794 - val_loss: 0.3479 - val_acc: 0.8500\n",
      "Epoch 24/25\n",
      "210/210 [==============================] - 0s 1ms/step - loss: 0.1710 - acc: 0.8841 - val_loss: 0.3081 - val_acc: 0.8500\n",
      "Epoch 25/25\n",
      "210/210 [==============================] - 0s 1ms/step - loss: 0.1756 - acc: 0.8810 - val_loss: 0.2804 - val_acc: 0.8333\n"
     ]
    }
   ],
   "source": [
    "history = model.fit(\n",
    "    train_features, \n",
    "    train_labels,\n",
    "    epochs=epochs,\n",
    "    batch_size=batch_size,\n",
    "    validation_data=(validation_features, validation_labels))"
   ]
  },
  {
   "cell_type": "code",
   "execution_count": 21,
   "metadata": {},
   "outputs": [],
   "source": [
    "#model.save('baseline.h5')"
   ]
  },
  {
   "cell_type": "code",
   "execution_count": 22,
   "metadata": {},
   "outputs": [],
   "source": [
    "# validation"
   ]
  },
  {
   "cell_type": "code",
   "execution_count": 23,
   "metadata": {},
   "outputs": [
    {
     "data": {
      "image/png": "[encoded data removed]",
      "text/plain": [
       "<Figure size 432x288 with 1 Axes>"
      ]
     },
     "metadata": {
      "needs_background": "light"
     },
     "output_type": "display_data"
    },
    {
     "data": {
      "image/png": "[encoded data removed]",
      "text/plain": [
       "<Figure size 432x288 with 1 Axes>"
      ]
     },
     "metadata": {
      "needs_background": "light"
     },
     "output_type": "display_data"
    }
   ],
   "source": [
    "import matplotlib.pyplot as plt\n",
    "\n",
    "acc = history.history['acc']\n",
    "val_acc = history.history['val_acc']\n",
    "loss = history.history['loss']\n",
    "val_loss = history.history['val_loss']\n",
    "\n",
    "epochs = range(len(acc))\n",
    "\n",
    "plt.plot(epochs, acc, 'bo', label='Training acc')\n",
    "plt.plot(epochs, val_acc, 'b', label='Validation acc')\n",
    "plt.title('Training and validation accuracy')\n",
    "plt.legend()\n",
    "\n",
    "plt.figure()\n",
    "\n",
    "plt.plot(epochs, loss, 'bo', label='Training loss')\n",
    "plt.plot(epochs, val_loss, 'b', label='Validation loss')\n",
    "plt.title('Training and validation loss')\n",
    "plt.legend()\n",
    "\n",
    "plt.show()"
   ]
  },
  {
   "cell_type": "code",
   "execution_count": null,
   "metadata": {},
   "outputs": [],
   "source": []
  }
 ],
 "metadata": {
  "kernelspec": {
   "display_name": "Python 3",
   "language": "python",
   "name": "python3"
  },
  "language_info": {
   "codemirror_mode": {
    "name": "ipython",
    "version": 3
   },
   "file_extension": ".py",
   "mimetype": "text/x-python",
   "name": "python",
   "nbconvert_exporter": "python",
   "pygments_lexer": "ipython3",
   "version": "3.7.9"
  }
 },
 "nbformat": 4,
 "nbformat_minor": 4
}
