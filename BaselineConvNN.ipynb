{
 "cells": [
  {
   "cell_type": "code",
   "execution_count": 1,
   "metadata": {},
   "outputs": [
    {
     "name": "stderr",
     "output_type": "stream",
     "text": [
      "Using TensorFlow backend.\n"
     ]
    },
    {
     "data": {
      "text/plain": [
       "'2.3.1'"
      ]
     },
     "execution_count": 1,
     "metadata": {},
     "output_type": "execute_result"
    }
   ],
   "source": [
    "import os\n",
    "import keras\n",
    "\n",
    "from keras.preprocessing.image import ImageDataGenerator\n",
    "\n",
    "keras.__version__"
   ]
  },
  {
   "cell_type": "code",
   "execution_count": 2,
   "metadata": {},
   "outputs": [],
   "source": [
    "from tensorflow.compat.v1 import ConfigProto\n",
    "from tensorflow.compat.v1 import InteractiveSession\n",
    "# Limits GPU-RAM usage\n",
    "config = ConfigProto()\n",
    "config.gpu_options.allow_growth = True\n",
    "session = InteractiveSession(config=config)"
   ]
  },
  {
   "cell_type": "code",
   "execution_count": 3,
   "metadata": {},
   "outputs": [],
   "source": [
    "# import and \"clean\" data"
   ]
  },
  {
   "cell_type": "code",
   "execution_count": 4,
   "metadata": {},
   "outputs": [],
   "source": [
    "def get_generator(base_dir, folderName):\n",
    "    directory = os.path.join(base_dir, folderName)\n",
    "    return ImageDataGenerator(rescale=1./255).flow_from_directory(\n",
    "        directory, \n",
    "        target_size, \n",
    "        batch_size= batch_size,\n",
    "        shuffle=True,\n",
    "        class_mode='sparse'\n",
    "    )"
   ]
  },
  {
   "cell_type": "code",
   "execution_count": 5,
   "metadata": {},
   "outputs": [
    {
     "name": "stdout",
     "output_type": "stream",
     "text": [
      "Found 210 images belonging to 3 classes.\n",
      "Found 30 images belonging to 3 classes.\n",
      "Found 60 images belonging to 3 classes.\n"
     ]
    }
   ],
   "source": [
    "epochs = 50\n",
    "batch_size = 5\n",
    "target_width = 150\n",
    "target_height = 150\n",
    "target_size = (target_width, target_height)\n",
    "target_shape = (target_width, target_height, 3) # 3 for color\n",
    "base_dir = 'Course notebooks\\paintings'\n",
    "\n",
    "train_gen = get_generator(base_dir, 'train')\n",
    "test_gen = get_generator(base_dir, 'test')\n",
    "validation_gen = get_generator(base_dir, 'validation')"
   ]
  },
  {
   "cell_type": "code",
   "execution_count": 6,
   "metadata": {},
   "outputs": [],
   "source": [
    "numOfClasses = train_gen.num_classes\n",
    "\n",
    "numOfTrainSamples = train_gen.n\n",
    "numOfTestSamples = test_gen.n\n",
    "numOfValSamples = validation_gen.n"
   ]
  },
  {
   "cell_type": "code",
   "execution_count": 7,
   "metadata": {},
   "outputs": [],
   "source": [
    "# Define Conv model"
   ]
  },
  {
   "cell_type": "code",
   "execution_count": 8,
   "metadata": {},
   "outputs": [],
   "source": [
    "from keras.applications import VGG16\n",
    "\n",
    "conv_base = VGG16(weights='imagenet', \n",
    "                  include_top=False, \n",
    "                  input_shape= target_shape) # honestly, I'm not sure whether height or width comes first"
   ]
  },
  {
   "cell_type": "code",
   "execution_count": 9,
   "metadata": {},
   "outputs": [
    {
     "name": "stdout",
     "output_type": "stream",
     "text": [
      "Model: \"vgg16\"\n",
      "_________________________________________________________________\n",
      "Layer (type)                 Output Shape              Param #   \n",
      "=================================================================\n",
      "input_1 (InputLayer)         (None, 150, 150, 3)       0         \n",
      "_________________________________________________________________\n",
      "block1_conv1 (Conv2D)        (None, 150, 150, 64)      1792      \n",
      "_________________________________________________________________\n",
      "block1_conv2 (Conv2D)        (None, 150, 150, 64)      36928     \n",
      "_________________________________________________________________\n",
      "block1_pool (MaxPooling2D)   (None, 75, 75, 64)        0         \n",
      "_________________________________________________________________\n",
      "block2_conv1 (Conv2D)        (None, 75, 75, 128)       73856     \n",
      "_________________________________________________________________\n",
      "block2_conv2 (Conv2D)        (None, 75, 75, 128)       147584    \n",
      "_________________________________________________________________\n",
      "block2_pool (MaxPooling2D)   (None, 37, 37, 128)       0         \n",
      "_________________________________________________________________\n",
      "block3_conv1 (Conv2D)        (None, 37, 37, 256)       295168    \n",
      "_________________________________________________________________\n",
      "block3_conv2 (Conv2D)        (None, 37, 37, 256)       590080    \n",
      "_________________________________________________________________\n",
      "block3_conv3 (Conv2D)        (None, 37, 37, 256)       590080    \n",
      "_________________________________________________________________\n",
      "block3_pool (MaxPooling2D)   (None, 18, 18, 256)       0         \n",
      "_________________________________________________________________\n",
      "block4_conv1 (Conv2D)        (None, 18, 18, 512)       1180160   \n",
      "_________________________________________________________________\n",
      "block4_conv2 (Conv2D)        (None, 18, 18, 512)       2359808   \n",
      "_________________________________________________________________\n",
      "block4_conv3 (Conv2D)        (None, 18, 18, 512)       2359808   \n",
      "_________________________________________________________________\n",
      "block4_pool (MaxPooling2D)   (None, 9, 9, 512)         0         \n",
      "_________________________________________________________________\n",
      "block5_conv1 (Conv2D)        (None, 9, 9, 512)         2359808   \n",
      "_________________________________________________________________\n",
      "block5_conv2 (Conv2D)        (None, 9, 9, 512)         2359808   \n",
      "_________________________________________________________________\n",
      "block5_conv3 (Conv2D)        (None, 9, 9, 512)         2359808   \n",
      "_________________________________________________________________\n",
      "block5_pool (MaxPooling2D)   (None, 4, 4, 512)         0         \n",
      "=================================================================\n",
      "Total params: 14,714,688\n",
      "Trainable params: 14,714,688\n",
      "Non-trainable params: 0\n",
      "_________________________________________________________________\n"
     ]
    }
   ],
   "source": [
    "conv_base.summary()"
   ]
  },
  {
   "cell_type": "code",
   "execution_count": 10,
   "metadata": {},
   "outputs": [],
   "source": [
    "block3_pool_width = 18\n",
    "block3_pool_height = 18\n",
    "block3_pool_area = block3_pool_width * block3_pool_height\n",
    "block3_pool_no_of_filters = 256\n",
    "\n",
    "## Following not used, but included for completeness and your own possible experiments\n",
    "block5_pool_width = 4\n",
    "block5_pool_height = 4\n",
    "block5_pool_area = block3_pool_width * block3_pool_height\n",
    "block5_pool_no_of_filters = 512"
   ]
  },
  {
   "cell_type": "code",
   "execution_count": 11,
   "metadata": {},
   "outputs": [],
   "source": [
    "from keras import Model\n",
    "\n",
    "intermediate_layer_model = Model(inputs=conv_base.input, \n",
    "                                 outputs=conv_base.get_layer('block3_pool').output)\n",
    "no_of_filters_left = 100"
   ]
  },
  {
   "cell_type": "code",
   "execution_count": 12,
   "metadata": {},
   "outputs": [],
   "source": [
    "from keras.utils.np_utils import to_categorical\n",
    "\n",
    "def extract_features(generator, sample_count):\n",
    "    features = np.zeros(shape=(sample_count, block3_pool_width, block3_pool_height, block3_pool_no_of_filters))\n",
    "    labels = np.zeros(shape=(sample_count))\n",
    "    \n",
    "    i = 0\n",
    "    for inputs_batch, labels_batch in generator:\n",
    "        features_batch = intermediate_layer_model.predict(inputs_batch)\n",
    "        features[i * batch_size : (i + 1) * batch_size] = features_batch\n",
    "        labels[i * batch_size : (i + 1) * batch_size] = labels_batch\n",
    "        i += 1\n",
    "        if i * batch_size >= sample_count:\n",
    "            # Note that since generators yield data indefinitely in a loop,\n",
    "            # we must `break` after every image has been seen once.\n",
    "            break\n",
    "\n",
    "    ### Now throwing away most of the features (= results of features)\n",
    "    features = features[:,:,:,0:no_of_filters_left]\n",
    "    ### convert labels 0, 1, and 2 to [1,0,0], [0,1,0] and [0,0,1] \n",
    "    labels = to_categorical(labels)\n",
    "    return features, labels"
   ]
  },
  {
   "cell_type": "code",
   "execution_count": 13,
   "metadata": {},
   "outputs": [],
   "source": [
    "import numpy as np\n",
    "\n",
    "train_features, train_labels = extract_features(train_gen, numOfTrainSamples)\n",
    "\n",
    "validation_features, validation_labels = extract_features(validation_gen, numOfValSamples)\n",
    "\n",
    "test_features, test_labels = extract_features(test_gen, numOfTestSamples)"
   ]
  },
  {
   "cell_type": "code",
   "execution_count": 14,
   "metadata": {},
   "outputs": [],
   "source": [
    "train_features = np.reshape(train_features, (numOfTrainSamples, block3_pool_area * no_of_filters_left))\n",
    "validation_features = np.reshape(validation_features, (numOfValSamples, block3_pool_area * no_of_filters_left))\n",
    "test_features = np.reshape(test_features, (numOfTestSamples, block3_pool_area * no_of_filters_left))"
   ]
  },
  {
   "cell_type": "code",
   "execution_count": 15,
   "metadata": {},
   "outputs": [],
   "source": [
    "# Define Dense model"
   ]
  },
  {
   "cell_type": "code",
   "execution_count": 16,
   "metadata": {},
   "outputs": [],
   "source": [
    "from keras import models\n",
    "from keras import layers\n",
    "\n",
    "model = models.Sequential()\n",
    "model.add(layers.Dense(16, input_dim= block3_pool_area * no_of_filters_left))\n",
    "model.add(layers.Dropout(0.5))\n",
    "model.add(layers.Dense(16, activation='relu'))\n",
    "model.add(layers.Dense(8, activation='relu'))\n",
    "model.add(layers.Dense(numOfClasses, activation='sigmoid'))"
   ]
  },
  {
   "cell_type": "code",
   "execution_count": 17,
   "metadata": {},
   "outputs": [],
   "source": [
    "# train model"
   ]
  },
  {
   "cell_type": "code",
   "execution_count": 18,
   "metadata": {},
   "outputs": [],
   "source": [
    "from keras import optimizers\n",
    "\n",
    "model.compile(loss=\"binary_crossentropy\", optimizer=optimizers.RMSprop(lr=2e-5), metrics=[\"acc\"])"
   ]
  },
  {
   "cell_type": "code",
   "execution_count": 19,
   "metadata": {},
   "outputs": [
    {
     "name": "stdout",
     "output_type": "stream",
     "text": [
      "Model: \"sequential_1\"\n",
      "_________________________________________________________________\n",
      "Layer (type)                 Output Shape              Param #   \n",
      "=================================================================\n",
      "dense_1 (Dense)              (None, 16)                518416    \n",
      "_________________________________________________________________\n",
      "dropout_1 (Dropout)          (None, 16)                0         \n",
      "_________________________________________________________________\n",
      "dense_2 (Dense)              (None, 16)                272       \n",
      "_________________________________________________________________\n",
      "dense_3 (Dense)              (None, 8)                 136       \n",
      "_________________________________________________________________\n",
      "dense_4 (Dense)              (None, 3)                 27        \n",
      "=================================================================\n",
      "Total params: 518,851\n",
      "Trainable params: 518,851\n",
      "Non-trainable params: 0\n",
      "_________________________________________________________________\n"
     ]
    }
   ],
   "source": [
    "model.summary()"
   ]
  },
  {
   "cell_type": "code",
   "execution_count": 20,
   "metadata": {},
   "outputs": [
    {
     "name": "stdout",
     "output_type": "stream",
     "text": [
      "Train on 210 samples, validate on 60 samples\n",
      "Epoch 1/50\n",
      "210/210 [==============================] - 2s 7ms/step - loss: 4.4678 - acc: 0.5222 - val_loss: 1.3930 - val_acc: 0.5944\n",
      "Epoch 2/50\n",
      "210/210 [==============================] - 1s 4ms/step - loss: 3.6011 - acc: 0.5429 - val_loss: 1.3734 - val_acc: 0.6111\n",
      "Epoch 3/50\n",
      "210/210 [==============================] - 1s 5ms/step - loss: 3.3098 - acc: 0.5349 - val_loss: 1.8401 - val_acc: 0.5556\n",
      "Epoch 4/50\n",
      "210/210 [==============================] - 1s 4ms/step - loss: 3.2085 - acc: 0.5571 - val_loss: 1.5214 - val_acc: 0.5833\n",
      "Epoch 5/50\n",
      "210/210 [==============================] - 1s 3ms/step - loss: 3.3614 - acc: 0.5492 - val_loss: 2.1805 - val_acc: 0.5833\n",
      "Epoch 6/50\n",
      "210/210 [==============================] - 0s 2ms/step - loss: 2.8443 - acc: 0.5921 - val_loss: 1.3211 - val_acc: 0.6167\n",
      "Epoch 7/50\n",
      "210/210 [==============================] - 0s 2ms/step - loss: 2.3663 - acc: 0.6476 - val_loss: 1.5033 - val_acc: 0.7278\n",
      "Epoch 8/50\n",
      "210/210 [==============================] - 0s 2ms/step - loss: 2.5880 - acc: 0.6270 - val_loss: 1.6323 - val_acc: 0.6611\n",
      "Epoch 9/50\n",
      "210/210 [==============================] - 0s 2ms/step - loss: 2.2252 - acc: 0.6651 - val_loss: 1.4800 - val_acc: 0.6833\n",
      "Epoch 10/50\n",
      "210/210 [==============================] - 0s 2ms/step - loss: 2.1020 - acc: 0.6698 - val_loss: 1.4022 - val_acc: 0.6722\n",
      "Epoch 11/50\n",
      "210/210 [==============================] - 0s 2ms/step - loss: 2.2031 - acc: 0.6667 - val_loss: 1.2976 - val_acc: 0.7056\n",
      "Epoch 12/50\n",
      "210/210 [==============================] - 0s 2ms/step - loss: 1.9952 - acc: 0.7095 - val_loss: 1.1178 - val_acc: 0.7389\n",
      "Epoch 13/50\n",
      "210/210 [==============================] - 0s 2ms/step - loss: 2.0782 - acc: 0.7079 - val_loss: 1.3828 - val_acc: 0.7444\n",
      "Epoch 14/50\n",
      "210/210 [==============================] - 0s 2ms/step - loss: 1.8566 - acc: 0.7333 - val_loss: 1.4252 - val_acc: 0.7500\n",
      "Epoch 15/50\n",
      "210/210 [==============================] - 0s 2ms/step - loss: 1.8086 - acc: 0.7175 - val_loss: 1.9203 - val_acc: 0.7000\n",
      "Epoch 16/50\n",
      "210/210 [==============================] - 0s 2ms/step - loss: 1.8720 - acc: 0.7127 - val_loss: 1.0843 - val_acc: 0.7667\n",
      "Epoch 17/50\n",
      "210/210 [==============================] - 0s 2ms/step - loss: 1.7344 - acc: 0.7556 - val_loss: 1.3728 - val_acc: 0.7556\n",
      "Epoch 18/50\n",
      "210/210 [==============================] - 0s 2ms/step - loss: 1.6880 - acc: 0.7603 - val_loss: 0.9686 - val_acc: 0.7556\n",
      "Epoch 19/50\n",
      "210/210 [==============================] - 0s 2ms/step - loss: 1.3812 - acc: 0.7413 - val_loss: 1.0094 - val_acc: 0.7111\n",
      "Epoch 20/50\n",
      "210/210 [==============================] - 0s 2ms/step - loss: 1.3060 - acc: 0.7651 - val_loss: 1.1829 - val_acc: 0.7889\n",
      "Epoch 21/50\n",
      "210/210 [==============================] - 0s 2ms/step - loss: 1.7423 - acc: 0.7460 - val_loss: 1.1940 - val_acc: 0.8000\n",
      "Epoch 22/50\n",
      "210/210 [==============================] - 0s 2ms/step - loss: 1.5979 - acc: 0.7492 - val_loss: 1.2488 - val_acc: 0.8056\n",
      "Epoch 23/50\n",
      "210/210 [==============================] - 0s 2ms/step - loss: 1.2322 - acc: 0.7778 - val_loss: 1.1829 - val_acc: 0.7778\n",
      "Epoch 24/50\n",
      "210/210 [==============================] - 0s 2ms/step - loss: 1.2025 - acc: 0.7889 - val_loss: 1.5865 - val_acc: 0.7889\n",
      "Epoch 25/50\n",
      "210/210 [==============================] - 0s 2ms/step - loss: 1.4376 - acc: 0.7968 - val_loss: 1.1162 - val_acc: 0.7611\n",
      "Epoch 26/50\n",
      "210/210 [==============================] - 0s 2ms/step - loss: 1.5973 - acc: 0.7556 - val_loss: 1.1165 - val_acc: 0.7944\n",
      "Epoch 27/50\n",
      "210/210 [==============================] - 0s 2ms/step - loss: 1.1395 - acc: 0.8190 - val_loss: 1.3927 - val_acc: 0.7611\n",
      "Epoch 28/50\n",
      "210/210 [==============================] - 0s 2ms/step - loss: 1.3498 - acc: 0.7778 - val_loss: 1.3091 - val_acc: 0.7778\n",
      "Epoch 29/50\n",
      "210/210 [==============================] - 0s 2ms/step - loss: 1.3138 - acc: 0.7746 - val_loss: 1.2132 - val_acc: 0.7556\n",
      "Epoch 30/50\n",
      "210/210 [==============================] - 0s 2ms/step - loss: 1.1631 - acc: 0.7984 - val_loss: 0.9437 - val_acc: 0.8000\n",
      "Epoch 31/50\n",
      "210/210 [==============================] - 0s 2ms/step - loss: 1.0498 - acc: 0.8063 - val_loss: 1.2543 - val_acc: 0.7944\n",
      "Epoch 32/50\n",
      "210/210 [==============================] - 0s 2ms/step - loss: 1.1581 - acc: 0.8175 - val_loss: 1.1187 - val_acc: 0.7667\n",
      "Epoch 33/50\n",
      "210/210 [==============================] - 0s 2ms/step - loss: 0.9626 - acc: 0.8238 - val_loss: 1.0570 - val_acc: 0.7778\n",
      "Epoch 34/50\n",
      "210/210 [==============================] - 0s 2ms/step - loss: 1.0705 - acc: 0.8349 - val_loss: 1.1169 - val_acc: 0.8222\n",
      "Epoch 35/50\n",
      "210/210 [==============================] - 0s 2ms/step - loss: 1.0903 - acc: 0.8222 - val_loss: 1.1862 - val_acc: 0.8056\n",
      "Epoch 36/50\n",
      "210/210 [==============================] - 0s 2ms/step - loss: 1.0250 - acc: 0.8159 - val_loss: 0.9244 - val_acc: 0.8056\n",
      "Epoch 37/50\n",
      "210/210 [==============================] - 0s 2ms/step - loss: 0.8008 - acc: 0.8444 - val_loss: 1.1766 - val_acc: 0.7944\n",
      "Epoch 38/50\n",
      "210/210 [==============================] - 0s 2ms/step - loss: 0.7031 - acc: 0.8571 - val_loss: 0.8941 - val_acc: 0.8167\n",
      "Epoch 39/50\n",
      "210/210 [==============================] - 0s 2ms/step - loss: 0.8288 - acc: 0.8476 - val_loss: 2.2054 - val_acc: 0.7333\n",
      "Epoch 40/50\n",
      "210/210 [==============================] - 0s 2ms/step - loss: 0.9753 - acc: 0.8397 - val_loss: 1.2106 - val_acc: 0.8056\n",
      "Epoch 41/50\n",
      "210/210 [==============================] - 0s 2ms/step - loss: 0.9287 - acc: 0.8429 - val_loss: 1.0837 - val_acc: 0.8000\n",
      "Epoch 42/50\n",
      "210/210 [==============================] - 0s 2ms/step - loss: 0.9012 - acc: 0.8302 - val_loss: 1.2287 - val_acc: 0.8333\n",
      "Epoch 43/50\n",
      "210/210 [==============================] - 0s 2ms/step - loss: 0.7763 - acc: 0.8413 - val_loss: 1.5641 - val_acc: 0.7889\n",
      "Epoch 44/50\n",
      "210/210 [==============================] - ETA: 0s - loss: 0.9799 - acc: 0.863 - 0s 2ms/step - loss: 0.9353 - acc: 0.8619 - val_loss: 1.2602 - val_acc: 0.8222\n",
      "Epoch 45/50\n",
      "210/210 [==============================] - 0s 2ms/step - loss: 0.8640 - acc: 0.8460 - val_loss: 1.0453 - val_acc: 0.8333\n",
      "Epoch 46/50\n",
      "210/210 [==============================] - 0s 2ms/step - loss: 0.9570 - acc: 0.8381 - val_loss: 0.8313 - val_acc: 0.8722\n",
      "Epoch 47/50\n",
      "210/210 [==============================] - 0s 2ms/step - loss: 0.9652 - acc: 0.8460 - val_loss: 1.3627 - val_acc: 0.8222\n",
      "Epoch 48/50\n",
      "210/210 [==============================] - 0s 2ms/step - loss: 0.6405 - acc: 0.8698 - val_loss: 0.9013 - val_acc: 0.8667\n",
      "Epoch 49/50\n",
      "210/210 [==============================] - 0s 2ms/step - loss: 0.9469 - acc: 0.8413 - val_loss: 1.2380 - val_acc: 0.8167\n",
      "Epoch 50/50\n",
      "210/210 [==============================] - 0s 2ms/step - loss: 0.9140 - acc: 0.8413 - val_loss: 0.9544 - val_acc: 0.8500\n"
     ]
    }
   ],
   "source": [
    "history = model.fit(\n",
    "    train_features, \n",
    "    train_labels,\n",
    "    epochs=epochs,\n",
    "    batch_size=batch_size,\n",
    "    validation_data=(validation_features, validation_labels))"
   ]
  },
  {
   "cell_type": "code",
   "execution_count": 21,
   "metadata": {},
   "outputs": [],
   "source": [
    "#model.save('baseline.h5')"
   ]
  },
  {
   "cell_type": "code",
   "execution_count": 22,
   "metadata": {},
   "outputs": [],
   "source": [
    "# validation"
   ]
  },
  {
   "cell_type": "code",
   "execution_count": 23,
   "metadata": {},
   "outputs": [
    {
     "data": {
      "image/png": "[encoded data removed]",
      "text/plain": [
       "<Figure size 432x288 with 1 Axes>"
      ]
     },
     "metadata": {
      "needs_background": "light"
     },
     "output_type": "display_data"
    },
    {
     "data": {
      "image/png": "[encoded data removed]",
      "text/plain": [
       "<Figure size 432x288 with 1 Axes>"
      ]
     },
     "metadata": {
      "needs_background": "light"
     },
     "output_type": "display_data"
    }
   ],
   "source": [
    "import matplotlib.pyplot as plt\n",
    "\n",
    "acc = history.history['acc']\n",
    "val_acc = history.history['val_acc']\n",
    "loss = history.history['loss']\n",
    "val_loss = history.history['val_loss']\n",
    "\n",
    "epochs = range(len(acc))\n",
    "\n",
    "plt.plot(epochs, acc, 'bo', label='Training acc')\n",
    "plt.plot(epochs, val_acc, 'b', label='Validation acc')\n",
    "plt.title('Training and validation accuracy')\n",
    "plt.legend()\n",
    "\n",
    "plt.figure()\n",
    "\n",
    "plt.plot(epochs, loss, 'bo', label='Training loss')\n",
    "plt.plot(epochs, val_loss, 'b', label='Validation loss')\n",
    "plt.title('Training and validation loss')\n",
    "plt.legend()\n",
    "\n",
    "plt.show()"
   ]
  }
 ],
 "metadata": {
  "kernelspec": {
   "display_name": "Python 3",
   "language": "python",
   "name": "python3"
  },
  "language_info": {
   "codemirror_mode": {
    "name": "ipython",
    "version": 3
   },
   "file_extension": ".py",
   "mimetype": "text/x-python",
   "name": "python",
   "nbconvert_exporter": "python",
   "pygments_lexer": "ipython3",
   "version": "3.7.9"
  }
 },
 "nbformat": 4,
 "nbformat_minor": 4
}
