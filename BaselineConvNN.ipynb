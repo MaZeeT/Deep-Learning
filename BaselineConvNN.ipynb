{
 "cells": [
  {
   "cell_type": "code",
   "execution_count": 1,
   "metadata": {},
   "outputs": [
    {
     "name": "stderr",
     "output_type": "stream",
     "text": [
      "Using TensorFlow backend.\n"
     ]
    },
    {
     "data": {
      "text/plain": [
       "'2.3.1'"
      ]
     },
     "execution_count": 1,
     "metadata": {},
     "output_type": "execute_result"
    }
   ],
   "source": [
    "import os\n",
    "import keras\n",
    "\n",
    "from keras.preprocessing.image import ImageDataGenerator\n",
    "\n",
    "keras.__version__"
   ]
  },
  {
   "cell_type": "code",
   "execution_count": 2,
   "metadata": {},
   "outputs": [],
   "source": [
    "from tensorflow.compat.v1 import ConfigProto\n",
    "from tensorflow.compat.v1 import InteractiveSession\n",
    "# Limits GPU-RAM usage\n",
    "config = ConfigProto()\n",
    "config.gpu_options.allow_growth = True\n",
    "session = InteractiveSession(config=config)"
   ]
  },
  {
   "cell_type": "code",
   "execution_count": 3,
   "metadata": {},
   "outputs": [],
   "source": [
    "epochs = 50\n",
    "batch_size = 5\n",
    "target_width = 150\n",
    "target_height = 150\n",
    "target_size = (target_width, target_height)\n",
    "target_shape = (target_width, target_height, 3) # 3 for color\n",
    "base_dir = 'Course notebooks\\paintings'"
   ]
  },
  {
   "cell_type": "code",
   "execution_count": 4,
   "metadata": {},
   "outputs": [],
   "source": [
    "def get_generator(base_dir, folderName):\n",
    "    directory = os.path.join(base_dir, folderName)\n",
    "    return ImageDataGenerator(rescale=1./255).flow_from_directory(\n",
    "        directory, \n",
    "        target_size, \n",
    "        batch_size= batch_size,\n",
    "        shuffle=True,\n",
    "        class_mode='sparse'\n",
    "    )"
   ]
  },
  {
   "cell_type": "code",
   "execution_count": 5,
   "metadata": {},
   "outputs": [
    {
     "name": "stdout",
     "output_type": "stream",
     "text": [
      "Found 210 images belonging to 3 classes.\n",
      "Found 30 images belonging to 3 classes.\n",
      "Found 60 images belonging to 3 classes.\n"
     ]
    }
   ],
   "source": [
    "train_gen = get_generator(base_dir, 'train')\n",
    "test_gen = get_generator(base_dir, 'test')\n",
    "validation_gen = get_generator(base_dir, 'validation')"
   ]
  },
  {
   "cell_type": "code",
   "execution_count": 6,
   "metadata": {},
   "outputs": [],
   "source": [
    "numOfClasses = train_gen.num_classes\n",
    "\n",
    "numOfTrainSamples = train_gen.n\n",
    "numOfTestSamples = test_gen.n\n",
    "numOfValSamples = validation_gen.n"
   ]
  },
  {
   "cell_type": "code",
   "execution_count": 7,
   "metadata": {},
   "outputs": [],
   "source": [
    "# Define Conv model"
   ]
  },
  {
   "cell_type": "code",
   "execution_count": 8,
   "metadata": {},
   "outputs": [],
   "source": [
    "from keras.applications import VGG16\n",
    "\n",
    "conv_base = VGG16(weights='imagenet', \n",
    "                  include_top=False, \n",
    "                  input_shape= target_shape) # honestly, I'm not sure whether height or width comes first"
   ]
  },
  {
   "cell_type": "code",
   "execution_count": 9,
   "metadata": {},
   "outputs": [
    {
     "name": "stdout",
     "output_type": "stream",
     "text": [
      "Model: \"vgg16\"\n",
      "_________________________________________________________________\n",
      "Layer (type)                 Output Shape              Param #   \n",
      "=================================================================\n",
      "input_1 (InputLayer)         (None, 150, 150, 3)       0         \n",
      "_________________________________________________________________\n",
      "block1_conv1 (Conv2D)        (None, 150, 150, 64)      1792      \n",
      "_________________________________________________________________\n",
      "block1_conv2 (Conv2D)        (None, 150, 150, 64)      36928     \n",
      "_________________________________________________________________\n",
      "block1_pool (MaxPooling2D)   (None, 75, 75, 64)        0         \n",
      "_________________________________________________________________\n",
      "block2_conv1 (Conv2D)        (None, 75, 75, 128)       73856     \n",
      "_________________________________________________________________\n",
      "block2_conv2 (Conv2D)        (None, 75, 75, 128)       147584    \n",
      "_________________________________________________________________\n",
      "block2_pool (MaxPooling2D)   (None, 37, 37, 128)       0         \n",
      "_________________________________________________________________\n",
      "block3_conv1 (Conv2D)        (None, 37, 37, 256)       295168    \n",
      "_________________________________________________________________\n",
      "block3_conv2 (Conv2D)        (None, 37, 37, 256)       590080    \n",
      "_________________________________________________________________\n",
      "block3_conv3 (Conv2D)        (None, 37, 37, 256)       590080    \n",
      "_________________________________________________________________\n",
      "block3_pool (MaxPooling2D)   (None, 18, 18, 256)       0         \n",
      "_________________________________________________________________\n",
      "block4_conv1 (Conv2D)        (None, 18, 18, 512)       1180160   \n",
      "_________________________________________________________________\n",
      "block4_conv2 (Conv2D)        (None, 18, 18, 512)       2359808   \n",
      "_________________________________________________________________\n",
      "block4_conv3 (Conv2D)        (None, 18, 18, 512)       2359808   \n",
      "_________________________________________________________________\n",
      "block4_pool (MaxPooling2D)   (None, 9, 9, 512)         0         \n",
      "_________________________________________________________________\n",
      "block5_conv1 (Conv2D)        (None, 9, 9, 512)         2359808   \n",
      "_________________________________________________________________\n",
      "block5_conv2 (Conv2D)        (None, 9, 9, 512)         2359808   \n",
      "_________________________________________________________________\n",
      "block5_conv3 (Conv2D)        (None, 9, 9, 512)         2359808   \n",
      "_________________________________________________________________\n",
      "block5_pool (MaxPooling2D)   (None, 4, 4, 512)         0         \n",
      "=================================================================\n",
      "Total params: 14,714,688\n",
      "Trainable params: 14,714,688\n",
      "Non-trainable params: 0\n",
      "_________________________________________________________________\n"
     ]
    }
   ],
   "source": [
    "conv_base.summary()"
   ]
  },
  {
   "cell_type": "code",
   "execution_count": 10,
   "metadata": {},
   "outputs": [],
   "source": [
    "block3_pool_width = 18\n",
    "block3_pool_height = 18\n",
    "block3_pool_area = block3_pool_width * block3_pool_height\n",
    "block3_pool_no_of_filters = 256\n",
    "\n",
    "## Following not used, but included for completeness and your own possible experiments\n",
    "block5_pool_width = 4\n",
    "block5_pool_height = 4\n",
    "block5_pool_area = block3_pool_width * block3_pool_height\n",
    "block5_pool_no_of_filters = 512"
   ]
  },
  {
   "cell_type": "code",
   "execution_count": 11,
   "metadata": {},
   "outputs": [],
   "source": [
    "from keras import Model\n",
    "\n",
    "intermediate_layer_model = Model(inputs=conv_base.input, \n",
    "                                 outputs=conv_base.get_layer('block3_pool').output)\n",
    "no_of_filters_left = 100"
   ]
  },
  {
   "cell_type": "code",
   "execution_count": 12,
   "metadata": {},
   "outputs": [],
   "source": [
    "from keras.utils.np_utils import to_categorical\n",
    "\n",
    "def extract_features(generator, sample_count):\n",
    "    features = np.zeros(shape=(sample_count, block3_pool_width, block3_pool_height, block3_pool_no_of_filters))\n",
    "    labels = np.zeros(shape=(sample_count))\n",
    "    \n",
    "    i = 0\n",
    "    for inputs_batch, labels_batch in generator:\n",
    "        features_batch = intermediate_layer_model.predict(inputs_batch)\n",
    "        features[i * batch_size : (i + 1) * batch_size] = features_batch\n",
    "        labels[i * batch_size : (i + 1) * batch_size] = labels_batch\n",
    "        i += 1\n",
    "        if i * batch_size >= sample_count:\n",
    "            # Note that since generators yield data indefinitely in a loop,\n",
    "            # we must `break` after every image has been seen once.\n",
    "            break\n",
    "\n",
    "    ### Now throwing away most of the features (= results of features)\n",
    "    features = features[:,:,:,0:no_of_filters_left]\n",
    "    ### convert labels 0, 1, and 2 to [1,0,0], [0,1,0] and [0,0,1] \n",
    "    labels = to_categorical(labels)\n",
    "    return features, labels"
   ]
  },
  {
   "cell_type": "code",
   "execution_count": 13,
   "metadata": {},
   "outputs": [],
   "source": [
    "import numpy as np\n",
    "\n",
    "train_features, train_labels = extract_features(train_gen, numOfTrainSamples)\n",
    "\n",
    "validation_features, validation_labels = extract_features(validation_gen, numOfValSamples)\n",
    "\n",
    "test_features, test_labels = extract_features(test_gen, numOfTestSamples)"
   ]
  },
  {
   "cell_type": "code",
   "execution_count": 14,
   "metadata": {},
   "outputs": [],
   "source": [
    "train_features = np.reshape(train_features, (numOfTrainSamples, block3_pool_area * no_of_filters_left))\n",
    "validation_features = np.reshape(validation_features, (numOfValSamples, block3_pool_area * no_of_filters_left))\n",
    "test_features = np.reshape(test_features, (numOfTestSamples, block3_pool_area * no_of_filters_left))"
   ]
  },
  {
   "cell_type": "code",
   "execution_count": 15,
   "metadata": {},
   "outputs": [],
   "source": [
    "# Define Dense model"
   ]
  },
  {
   "cell_type": "code",
   "execution_count": 16,
   "metadata": {},
   "outputs": [],
   "source": [
    "from keras import models\n",
    "from keras.layers import Flatten, Dense, Dropout\n",
    "\n",
    "def get_model(shape, nClasses):\n",
    "    return models.Sequential([\n",
    "        Dense(16, input_dim= shape),\n",
    "        Dropout(0.5),\n",
    "        Dense(16, activation='relu'),\n",
    "        Dense(8, activation='relu'),\n",
    "        Dense(nClasses, activation='sigmoid'),\n",
    "    ])"
   ]
  },
  {
   "cell_type": "code",
   "execution_count": 17,
   "metadata": {},
   "outputs": [],
   "source": [
    "input_shape = block3_pool_area * no_of_filters_left\n",
    "model = get_model(input_shape, numOfClasses)"
   ]
  },
  {
   "cell_type": "code",
   "execution_count": 18,
   "metadata": {},
   "outputs": [],
   "source": [
    "# train model"
   ]
  },
  {
   "cell_type": "code",
   "execution_count": 19,
   "metadata": {},
   "outputs": [],
   "source": [
    "from keras import optimizers\n",
    "\n",
    "model.compile(loss=\"binary_crossentropy\", optimizer=optimizers.RMSprop(lr=2e-5), metrics=[\"acc\"])"
   ]
  },
  {
   "cell_type": "code",
   "execution_count": 20,
   "metadata": {},
   "outputs": [
    {
     "name": "stdout",
     "output_type": "stream",
     "text": [
      "Model: \"sequential_1\"\n",
      "_________________________________________________________________\n",
      "Layer (type)                 Output Shape              Param #   \n",
      "=================================================================\n",
      "dense_1 (Dense)              (None, 16)                518416    \n",
      "_________________________________________________________________\n",
      "dropout_1 (Dropout)          (None, 16)                0         \n",
      "_________________________________________________________________\n",
      "dense_2 (Dense)              (None, 16)                272       \n",
      "_________________________________________________________________\n",
      "dense_3 (Dense)              (None, 8)                 136       \n",
      "_________________________________________________________________\n",
      "dense_4 (Dense)              (None, 3)                 27        \n",
      "=================================================================\n",
      "Total params: 518,851\n",
      "Trainable params: 518,851\n",
      "Non-trainable params: 0\n",
      "_________________________________________________________________\n"
     ]
    }
   ],
   "source": [
    "model.summary()"
   ]
  },
  {
   "cell_type": "code",
   "execution_count": 21,
   "metadata": {},
   "outputs": [
    {
     "name": "stdout",
     "output_type": "stream",
     "text": [
      "Train on 210 samples, validate on 60 samples\n",
      "Epoch 1/50\n",
      "210/210 [==============================] - 0s 2ms/step - loss: 1.9841 - acc: 0.5397 - val_loss: 0.8022 - val_acc: 0.5778\n",
      "Epoch 2/50\n",
      "210/210 [==============================] - 0s 1ms/step - loss: 1.3568 - acc: 0.5730 - val_loss: 0.6799 - val_acc: 0.6556\n",
      "Epoch 3/50\n",
      "210/210 [==============================] - 0s 1ms/step - loss: 1.3368 - acc: 0.6111 - val_loss: 0.7354 - val_acc: 0.5833\n",
      "Epoch 4/50\n",
      "210/210 [==============================] - 0s 1ms/step - loss: 1.0928 - acc: 0.6317 - val_loss: 0.6952 - val_acc: 0.6667\n",
      "Epoch 5/50\n",
      "210/210 [==============================] - 0s 1ms/step - loss: 0.9979 - acc: 0.6603 - val_loss: 0.7137 - val_acc: 0.6111\n",
      "Epoch 6/50\n",
      "210/210 [==============================] - 0s 1ms/step - loss: 0.8853 - acc: 0.6651 - val_loss: 0.6643 - val_acc: 0.6833\n",
      "Epoch 7/50\n",
      "210/210 [==============================] - 0s 1ms/step - loss: 1.1247 - acc: 0.6302 - val_loss: 0.6642 - val_acc: 0.6944\n",
      "Epoch 8/50\n",
      "210/210 [==============================] - 0s 1ms/step - loss: 0.9099 - acc: 0.6651 - val_loss: 0.6099 - val_acc: 0.7278\n",
      "Epoch 9/50\n",
      "210/210 [==============================] - 0s 1ms/step - loss: 0.9591 - acc: 0.6730 - val_loss: 0.6359 - val_acc: 0.7000\n",
      "Epoch 10/50\n",
      "210/210 [==============================] - 0s 1ms/step - loss: 0.7467 - acc: 0.6905 - val_loss: 0.5966 - val_acc: 0.7278\n",
      "Epoch 11/50\n",
      "210/210 [==============================] - 0s 1ms/step - loss: 0.9557 - acc: 0.6794 - val_loss: 0.5466 - val_acc: 0.7444\n",
      "Epoch 12/50\n",
      "210/210 [==============================] - 0s 1ms/step - loss: 1.0071 - acc: 0.6635 - val_loss: 0.6187 - val_acc: 0.7167\n",
      "Epoch 13/50\n",
      "210/210 [==============================] - 0s 1ms/step - loss: 0.8053 - acc: 0.6873 - val_loss: 0.5410 - val_acc: 0.7500\n",
      "Epoch 14/50\n",
      "210/210 [==============================] - 0s 1ms/step - loss: 0.7690 - acc: 0.6968 - val_loss: 0.5115 - val_acc: 0.7611\n",
      "Epoch 15/50\n",
      "210/210 [==============================] - 0s 1ms/step - loss: 0.8565 - acc: 0.6873 - val_loss: 0.5399 - val_acc: 0.7556\n",
      "Epoch 16/50\n",
      "210/210 [==============================] - 0s 1ms/step - loss: 0.7790 - acc: 0.7175 - val_loss: 0.4925 - val_acc: 0.7611\n",
      "Epoch 17/50\n",
      "210/210 [==============================] - 0s 1ms/step - loss: 0.7521 - acc: 0.7175 - val_loss: 0.4881 - val_acc: 0.7667\n",
      "Epoch 18/50\n",
      "210/210 [==============================] - 0s 1ms/step - loss: 0.7625 - acc: 0.6968 - val_loss: 0.4995 - val_acc: 0.7611\n",
      "Epoch 19/50\n",
      "210/210 [==============================] - 0s 1ms/step - loss: 0.8341 - acc: 0.7048 - val_loss: 0.5055 - val_acc: 0.7611\n",
      "Epoch 20/50\n",
      "210/210 [==============================] - 0s 1ms/step - loss: 0.8062 - acc: 0.7206 - val_loss: 0.4760 - val_acc: 0.7722\n",
      "Epoch 21/50\n",
      "210/210 [==============================] - 0s 1ms/step - loss: 0.8591 - acc: 0.7048 - val_loss: 0.4881 - val_acc: 0.7667\n",
      "Epoch 22/50\n",
      "210/210 [==============================] - 0s 1ms/step - loss: 0.6590 - acc: 0.7159 - val_loss: 0.4856 - val_acc: 0.7722\n",
      "Epoch 23/50\n",
      "210/210 [==============================] - 0s 1ms/step - loss: 0.8031 - acc: 0.7159 - val_loss: 0.5049 - val_acc: 0.7611\n",
      "Epoch 24/50\n",
      "210/210 [==============================] - 0s 1ms/step - loss: 0.6034 - acc: 0.7365 - val_loss: 0.4735 - val_acc: 0.7722\n",
      "Epoch 25/50\n",
      "210/210 [==============================] - 0s 1ms/step - loss: 0.7203 - acc: 0.7175 - val_loss: 0.4774 - val_acc: 0.7722\n",
      "Epoch 26/50\n",
      "210/210 [==============================] - 0s 1ms/step - loss: 0.7960 - acc: 0.7413 - val_loss: 0.4722 - val_acc: 0.7722\n",
      "Epoch 27/50\n",
      "210/210 [==============================] - 0s 1ms/step - loss: 0.6879 - acc: 0.7317 - val_loss: 0.4898 - val_acc: 0.7667\n",
      "Epoch 28/50\n",
      "210/210 [==============================] - 0s 1ms/step - loss: 0.6502 - acc: 0.7413 - val_loss: 0.4719 - val_acc: 0.7722\n",
      "Epoch 29/50\n",
      "210/210 [==============================] - 0s 1ms/step - loss: 0.6465 - acc: 0.7460 - val_loss: 0.4756 - val_acc: 0.7722\n",
      "Epoch 30/50\n",
      "210/210 [==============================] - 0s 1ms/step - loss: 0.6189 - acc: 0.7492 - val_loss: 0.4889 - val_acc: 0.7556\n",
      "Epoch 31/50\n",
      "210/210 [==============================] - 0s 1ms/step - loss: 0.5797 - acc: 0.7587 - val_loss: 0.4733 - val_acc: 0.7722\n",
      "Epoch 32/50\n",
      "210/210 [==============================] - 0s 1ms/step - loss: 0.7382 - acc: 0.7270 - val_loss: 0.4744 - val_acc: 0.7722\n",
      "Epoch 33/50\n",
      "210/210 [==============================] - 0s 1ms/step - loss: 0.6732 - acc: 0.7365 - val_loss: 0.4738 - val_acc: 0.7611\n",
      "Epoch 34/50\n",
      "210/210 [==============================] - 0s 1ms/step - loss: 0.5905 - acc: 0.7444 - val_loss: 0.4733 - val_acc: 0.7722\n",
      "Epoch 35/50\n",
      "210/210 [==============================] - 0s 1ms/step - loss: 0.6552 - acc: 0.7492 - val_loss: 0.4630 - val_acc: 0.7722\n",
      "Epoch 36/50\n",
      "210/210 [==============================] - 0s 1ms/step - loss: 0.6820 - acc: 0.7365 - val_loss: 0.4829 - val_acc: 0.7667\n",
      "Epoch 37/50\n",
      "210/210 [==============================] - 0s 1ms/step - loss: 0.6851 - acc: 0.7381 - val_loss: 0.4607 - val_acc: 0.7778\n",
      "Epoch 38/50\n",
      "210/210 [==============================] - 0s 1ms/step - loss: 0.5806 - acc: 0.7492 - val_loss: 0.4659 - val_acc: 0.7667\n",
      "Epoch 39/50\n",
      "210/210 [==============================] - 0s 1ms/step - loss: 0.5971 - acc: 0.7476 - val_loss: 0.4713 - val_acc: 0.7722\n",
      "Epoch 40/50\n",
      "210/210 [==============================] - 0s 1ms/step - loss: 0.6703 - acc: 0.7429 - val_loss: 0.5189 - val_acc: 0.7444\n",
      "Epoch 41/50\n",
      "210/210 [==============================] - 0s 1ms/step - loss: 0.5549 - acc: 0.7556 - val_loss: 0.4661 - val_acc: 0.7667\n",
      "Epoch 42/50\n",
      "210/210 [==============================] - 0s 1ms/step - loss: 0.5903 - acc: 0.7794 - val_loss: 0.4659 - val_acc: 0.7722\n",
      "Epoch 43/50\n",
      "210/210 [==============================] - 0s 1ms/step - loss: 0.5738 - acc: 0.7762 - val_loss: 0.4681 - val_acc: 0.7778\n",
      "Epoch 44/50\n",
      "210/210 [==============================] - 0s 1ms/step - loss: 0.5667 - acc: 0.7540 - val_loss: 0.4679 - val_acc: 0.7667\n",
      "Epoch 45/50\n",
      "210/210 [==============================] - 0s 1ms/step - loss: 0.6067 - acc: 0.7651 - val_loss: 0.4596 - val_acc: 0.7778\n",
      "Epoch 46/50\n",
      "210/210 [==============================] - 0s 1ms/step - loss: 0.5345 - acc: 0.7651 - val_loss: 0.4594 - val_acc: 0.7778\n",
      "Epoch 47/50\n",
      "210/210 [==============================] - 0s 1ms/step - loss: 0.6329 - acc: 0.7587 - val_loss: 0.4644 - val_acc: 0.7667\n",
      "Epoch 48/50\n",
      "210/210 [==============================] - 0s 1ms/step - loss: 0.6435 - acc: 0.7683 - val_loss: 0.4597 - val_acc: 0.7778\n",
      "Epoch 49/50\n",
      "210/210 [==============================] - 0s 1ms/step - loss: 0.5830 - acc: 0.7667 - val_loss: 0.4635 - val_acc: 0.7778\n",
      "Epoch 50/50\n",
      "210/210 [==============================] - 0s 1ms/step - loss: 0.5406 - acc: 0.7667 - val_loss: 0.4761 - val_acc: 0.7667\n"
     ]
    }
   ],
   "source": [
    "history = model.fit(\n",
    "    train_features, \n",
    "    train_labels,\n",
    "    epochs=epochs,\n",
    "    batch_size=batch_size,\n",
    "    validation_data=(validation_features, validation_labels))"
   ]
  },
  {
   "cell_type": "code",
   "execution_count": 22,
   "metadata": {},
   "outputs": [],
   "source": [
    "#model.save('baseline.h5')"
   ]
  },
  {
   "cell_type": "code",
   "execution_count": 23,
   "metadata": {},
   "outputs": [],
   "source": [
    "# validation"
   ]
  },
  {
   "cell_type": "code",
   "execution_count": 24,
   "metadata": {},
   "outputs": [
    {
     "data": {
      "image/png": "[encoded data removed]",
      "text/plain": [
       "<Figure size 432x288 with 1 Axes>"
      ]
     },
     "metadata": {
      "needs_background": "light"
     },
     "output_type": "display_data"
    },
    {
     "data": {
      "image/png": "[encoded data removed]",
      "text/plain": [
       "<Figure size 432x288 with 1 Axes>"
      ]
     },
     "metadata": {
      "needs_background": "light"
     },
     "output_type": "display_data"
    }
   ],
   "source": [
    "import matplotlib.pyplot as plt\n",
    "\n",
    "acc = history.history['acc']\n",
    "val_acc = history.history['val_acc']\n",
    "loss = history.history['loss']\n",
    "val_loss = history.history['val_loss']\n",
    "\n",
    "epochs = range(len(acc))\n",
    "\n",
    "plt.plot(epochs, acc, 'bo', label='Training acc')\n",
    "plt.plot(epochs, val_acc, 'b', label='Validation acc')\n",
    "plt.title('Training and validation accuracy')\n",
    "plt.legend()\n",
    "\n",
    "plt.figure()\n",
    "\n",
    "plt.plot(epochs, loss, 'bo', label='Training loss')\n",
    "plt.plot(epochs, val_loss, 'b', label='Validation loss')\n",
    "plt.title('Training and validation loss')\n",
    "plt.legend()\n",
    "\n",
    "plt.show()"
   ]
  }
 ],
 "metadata": {
  "kernelspec": {
   "display_name": "Python 3",
   "language": "python",
   "name": "python3"
  },
  "language_info": {
   "codemirror_mode": {
    "name": "ipython",
    "version": 3
   },
   "file_extension": ".py",
   "mimetype": "text/x-python",
   "name": "python",
   "nbconvert_exporter": "python",
   "pygments_lexer": "ipython3",
   "version": "3.7.9"
  }
 },
 "nbformat": 4,
 "nbformat_minor": 4
}
