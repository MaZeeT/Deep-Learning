{
 "cells": [
  {
   "cell_type": "code",
   "execution_count": 1,
   "metadata": {},
   "outputs": [
    {
     "name": "stderr",
     "output_type": "stream",
     "text": [
      "Using TensorFlow backend.\n"
     ]
    },
    {
     "data": {
      "text/plain": [
       "'2.3.1'"
      ]
     },
     "execution_count": 1,
     "metadata": {},
     "output_type": "execute_result"
    }
   ],
   "source": [
    "import os\n",
    "import keras\n",
    "from keras import models\n",
    "from keras import layers\n",
    "from keras.preprocessing.image import ImageDataGenerator\n",
    "\n",
    "keras.__version__"
   ]
  },
  {
   "cell_type": "code",
   "execution_count": 2,
   "metadata": {},
   "outputs": [],
   "source": [
    "# import and \"clean\" data"
   ]
  },
  {
   "cell_type": "code",
   "execution_count": 3,
   "metadata": {},
   "outputs": [],
   "source": [
    "def get_generator(base_dir, folderName):\n",
    "    directory = os.path.join(base_dir, folderName)\n",
    "    return ImageDataGenerator(rescale=1./255).flow_from_directory(\n",
    "        directory, \n",
    "        target_size, \n",
    "        batch_size= batch_size\n",
    "    )"
   ]
  },
  {
   "cell_type": "code",
   "execution_count": 4,
   "metadata": {},
   "outputs": [
    {
     "name": "stdout",
     "output_type": "stream",
     "text": [
      "Found 15 images belonging to 3 classes.\n",
      "Found 195 images belonging to 3 classes.\n",
      "Found 30 images belonging to 3 classes.\n",
      "Found 60 images belonging to 3 classes.\n"
     ]
    }
   ],
   "source": [
    "priming_epochs = 10\n",
    "training_epochs = 2\n",
    "batch_size = 5\n",
    "target_width = 150\n",
    "target_height = 150\n",
    "target_size = (target_width, target_height)\n",
    "target_shape = (target_width, target_height, 3) # 3 for color\n",
    "base_dir = 'paintingsPriming'\n",
    "\n",
    "priming_gen = get_generator(base_dir, 'priming')\n",
    "train_gen = get_generator(base_dir, 'train')\n",
    "test_gen = get_generator(base_dir, 'test')\n",
    "validation_gen = get_generator(base_dir, 'validation')"
   ]
  },
  {
   "cell_type": "code",
   "execution_count": 5,
   "metadata": {},
   "outputs": [],
   "source": [
    "numOfClasses = train_gen.num_classes\n",
    "\n",
    "numOfPrimingSamples = priming_gen.n\n",
    "numOfTrainSamples = train_gen.n\n",
    "numOfTestSamples = test_gen.n\n",
    "numOfValSamples = validation_gen.n"
   ]
  },
  {
   "cell_type": "code",
   "execution_count": 6,
   "metadata": {},
   "outputs": [],
   "source": [
    "# Define model"
   ]
  },
  {
   "cell_type": "code",
   "execution_count": 7,
   "metadata": {},
   "outputs": [],
   "source": [
    "model = models.Sequential()\n",
    "model.add(layers.Flatten(input_shape=target_shape))\n",
    "model.add(layers.Dense(512, activation='relu'))\n",
    "model.add(layers.Dropout(0.5))\n",
    "model.add(layers.Dense(27, activation='relu'))\n",
    "model.add(layers.Dense(numOfClasses, activation='sigmoid'))"
   ]
  },
  {
   "cell_type": "code",
   "execution_count": 8,
   "metadata": {},
   "outputs": [],
   "source": [
    "# train model"
   ]
  },
  {
   "cell_type": "code",
   "execution_count": 9,
   "metadata": {},
   "outputs": [],
   "source": [
    "model.compile(loss=\"categorical_crossentropy\", optimizer=\"RMSprop\", metrics=[\"acc\"])"
   ]
  },
  {
   "cell_type": "code",
   "execution_count": 10,
   "metadata": {},
   "outputs": [
    {
     "name": "stdout",
     "output_type": "stream",
     "text": [
      "Model: \"sequential_1\"\n",
      "_________________________________________________________________\n",
      "Layer (type)                 Output Shape              Param #   \n",
      "=================================================================\n",
      "flatten_1 (Flatten)          (None, 67500)             0         \n",
      "_________________________________________________________________\n",
      "dense_1 (Dense)              (None, 512)               34560512  \n",
      "_________________________________________________________________\n",
      "dropout_1 (Dropout)          (None, 512)               0         \n",
      "_________________________________________________________________\n",
      "dense_2 (Dense)              (None, 27)                13851     \n",
      "_________________________________________________________________\n",
      "dense_3 (Dense)              (None, 3)                 84        \n",
      "=================================================================\n",
      "Total params: 34,574,447\n",
      "Trainable params: 34,574,447\n",
      "Non-trainable params: 0\n",
      "_________________________________________________________________\n"
     ]
    }
   ],
   "source": [
    "model.summary()"
   ]
  },
  {
   "cell_type": "code",
   "execution_count": 11,
   "metadata": {},
   "outputs": [
    {
     "name": "stdout",
     "output_type": "stream",
     "text": [
      "Epoch 1/10\n",
      "3/3 [==============================] - 2s 540ms/step - loss: 6.6260 - acc: 0.3333\n",
      "Epoch 2/10\n",
      "3/3 [==============================] - 1s 317ms/step - loss: 5.8348 - acc: 0.3333\n",
      "Epoch 3/10\n",
      "3/3 [==============================] - 1s 316ms/step - loss: 5.8348 - acc: 0.3333\n",
      "Epoch 4/10\n",
      "3/3 [==============================] - 1s 315ms/step - loss: 5.8348 - acc: 0.3333\n",
      "Epoch 5/10\n",
      "3/3 [==============================] - 1s 316ms/step - loss: 5.8348 - acc: 0.3333\n",
      "Epoch 6/10\n",
      "3/3 [==============================] - 1s 310ms/step - loss: 5.7899 - acc: 0.4000\n",
      "Epoch 7/10\n",
      "3/3 [==============================] - 1s 313ms/step - loss: 6.7707 - acc: 0.4000\n",
      "Epoch 8/10\n",
      "3/3 [==============================] - 1s 309ms/step - loss: 5.8348 - acc: 0.2667\n",
      "Epoch 9/10\n",
      "3/3 [==============================] - 1s 312ms/step - loss: 5.8557 - acc: 0.2667\n",
      "Epoch 10/10\n",
      "3/3 [==============================] - 1s 315ms/step - loss: 5.8348 - acc: 0.3333\n"
     ]
    }
   ],
   "source": [
    "history = model.fit_generator(\n",
    "    priming_gen,\n",
    "    steps_per_epoch= numOfPrimingSamples / batch_size,\n",
    "    epochs= priming_epochs\n",
    ")"
   ]
  },
  {
   "cell_type": "code",
   "execution_count": 12,
   "metadata": {},
   "outputs": [
    {
     "name": "stdout",
     "output_type": "stream",
     "text": [
      "Epoch 1/2\n",
      "39/39 [==============================] - 13s 324ms/step - loss: 5.8348 - acc: 0.3333 - val_loss: 6.8631 - val_acc: 0.3333\n",
      "Epoch 2/2\n",
      "39/39 [==============================] - 12s 316ms/step - loss: 5.8348 - acc: 0.3333 - val_loss: 9.9481 - val_acc: 0.3333\n"
     ]
    }
   ],
   "source": [
    "history = model.fit_generator(\n",
    "    train_gen,\n",
    "    validation_data= validation_gen,\n",
    "    validation_steps= numOfValSamples / batch_size,\n",
    "    steps_per_epoch= numOfTrainSamples / batch_size,\n",
    "    epochs= training_epochs\n",
    ")"
   ]
  },
  {
   "cell_type": "code",
   "execution_count": 13,
   "metadata": {},
   "outputs": [],
   "source": [
    "model.save('priming.h5')"
   ]
  },
  {
   "cell_type": "code",
   "execution_count": 14,
   "metadata": {},
   "outputs": [],
   "source": [
    "# validation"
   ]
  },
  {
   "cell_type": "code",
   "execution_count": 15,
   "metadata": {},
   "outputs": [
    {
     "data": {
      "image/png": "[encoded data removed]",
      "text/plain": [
       "<Figure size 432x288 with 1 Axes>"
      ]
     },
     "metadata": {
      "needs_background": "light"
     },
     "output_type": "display_data"
    },
    {
     "data": {
      "image/png": "[encoded data removed]",
      "text/plain": [
       "<Figure size 432x288 with 1 Axes>"
      ]
     },
     "metadata": {
      "needs_background": "light"
     },
     "output_type": "display_data"
    }
   ],
   "source": [
    "import matplotlib.pyplot as plt\n",
    "\n",
    "acc = history.history['acc']\n",
    "val_acc = history.history['val_acc']\n",
    "loss = history.history['loss']\n",
    "val_loss = history.history['val_loss']\n",
    "\n",
    "epochs = range(len(acc))\n",
    "\n",
    "plt.plot(epochs, acc, 'bo', label='Training acc')\n",
    "plt.plot(epochs, val_acc, 'b', label='Validation acc')\n",
    "plt.title('Training and validation accuracy')\n",
    "plt.legend()\n",
    "\n",
    "plt.figure()\n",
    "\n",
    "plt.plot(epochs, loss, 'bo', label='Training loss')\n",
    "plt.plot(epochs, val_loss, 'b', label='Validation loss')\n",
    "plt.title('Training and validation loss')\n",
    "plt.legend()\n",
    "\n",
    "plt.show()"
   ]
  }
 ],
 "metadata": {
  "kernelspec": {
   "display_name": "Python 3",
   "language": "python",
   "name": "python3"
  },
  "language_info": {
   "codemirror_mode": {
    "name": "ipython",
    "version": 3
   },
   "file_extension": ".py",
   "mimetype": "text/x-python",
   "name": "python",
   "nbconvert_exporter": "python",
   "pygments_lexer": "ipython3",
   "version": "3.7.9"
  }
 },
 "nbformat": 4,
 "nbformat_minor": 4
}
