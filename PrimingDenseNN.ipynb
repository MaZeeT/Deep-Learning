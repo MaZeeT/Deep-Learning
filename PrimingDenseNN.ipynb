{
 "cells": [
  {
   "cell_type": "code",
   "execution_count": 1,
   "metadata": {},
   "outputs": [
    {
     "name": "stderr",
     "output_type": "stream",
     "text": [
      "Using TensorFlow backend.\n"
     ]
    },
    {
     "data": {
      "text/plain": [
       "'2.3.1'"
      ]
     },
     "execution_count": 1,
     "metadata": {},
     "output_type": "execute_result"
    }
   ],
   "source": [
    "import os\n",
    "import keras\n",
    "from keras.preprocessing.image import ImageDataGenerator\n",
    "\n",
    "keras.__version__"
   ]
  },
  {
   "cell_type": "code",
   "execution_count": 2,
   "metadata": {},
   "outputs": [],
   "source": [
    "# import and \"clean\" data"
   ]
  },
  {
   "cell_type": "code",
   "execution_count": 3,
   "metadata": {},
   "outputs": [],
   "source": [
    "def get_generator(base_dir, folderName):\n",
    "    directory = os.path.join(base_dir, folderName)\n",
    "    return ImageDataGenerator(rescale=1./255).flow_from_directory(\n",
    "        directory, \n",
    "        target_size, \n",
    "        batch_size= batch_size,\n",
    "        shuffle=True\n",
    "    )"
   ]
  },
  {
   "cell_type": "code",
   "execution_count": 4,
   "metadata": {},
   "outputs": [
    {
     "name": "stdout",
     "output_type": "stream",
     "text": [
      "Found 14 images belonging to 3 classes.\n",
      "Found 195 images belonging to 3 classes.\n",
      "Found 30 images belonging to 3 classes.\n",
      "Found 60 images belonging to 3 classes.\n"
     ]
    }
   ],
   "source": [
    "priming_epochs = 50\n",
    "training_epochs = 3\n",
    "batch_size = 5\n",
    "target_width = 150\n",
    "target_height = 150\n",
    "target_size = (target_width, target_height)\n",
    "target_shape = (target_width, target_height, 3) # 3 for color\n",
    "base_dir = 'paintingsPriming'\n",
    "\n",
    "priming_gen = get_generator(base_dir, 'priming')\n",
    "train_gen = get_generator(base_dir, 'train')\n",
    "test_gen = get_generator(base_dir, 'test')\n",
    "validation_gen = get_generator(base_dir, 'validation')"
   ]
  },
  {
   "cell_type": "code",
   "execution_count": 5,
   "metadata": {},
   "outputs": [],
   "source": [
    "numOfClasses = train_gen.num_classes\n",
    "\n",
    "numOfPrimingSamples = priming_gen.n\n",
    "numOfTrainSamples = train_gen.n\n",
    "numOfTestSamples = test_gen.n\n",
    "numOfValSamples = validation_gen.n"
   ]
  },
  {
   "cell_type": "code",
   "execution_count": 6,
   "metadata": {},
   "outputs": [],
   "source": [
    "# Define model"
   ]
  },
  {
   "cell_type": "code",
   "execution_count": 7,
   "metadata": {},
   "outputs": [],
   "source": [
    "from keras import models\n",
    "from keras import layers\n",
    "\n",
    "model = models.Sequential()\n",
    "model.add(layers.Flatten(input_shape=target_shape))\n",
    "model.add(layers.Dense(16, activation='relu'))\n",
    "model.add(layers.Dropout(0.5))\n",
    "model.add(layers.Dense(8, activation='relu'))\n",
    "model.add(layers.Dense(numOfClasses, activation='sigmoid'))"
   ]
  },
  {
   "cell_type": "code",
   "execution_count": 8,
   "metadata": {},
   "outputs": [],
   "source": [
    "# train model"
   ]
  },
  {
   "cell_type": "code",
   "execution_count": 9,
   "metadata": {},
   "outputs": [],
   "source": [
    "model.compile(loss=\"categorical_crossentropy\", optimizer=\"RMSprop\", metrics=[\"acc\"])"
   ]
  },
  {
   "cell_type": "code",
   "execution_count": 10,
   "metadata": {},
   "outputs": [
    {
     "name": "stdout",
     "output_type": "stream",
     "text": [
      "Model: \"sequential_1\"\n",
      "_________________________________________________________________\n",
      "Layer (type)                 Output Shape              Param #   \n",
      "=================================================================\n",
      "flatten_1 (Flatten)          (None, 67500)             0         \n",
      "_________________________________________________________________\n",
      "dense_1 (Dense)              (None, 16)                1080016   \n",
      "_________________________________________________________________\n",
      "dropout_1 (Dropout)          (None, 16)                0         \n",
      "_________________________________________________________________\n",
      "dense_2 (Dense)              (None, 8)                 136       \n",
      "_________________________________________________________________\n",
      "dense_3 (Dense)              (None, 3)                 27        \n",
      "=================================================================\n",
      "Total params: 1,080,179\n",
      "Trainable params: 1,080,179\n",
      "Non-trainable params: 0\n",
      "_________________________________________________________________\n"
     ]
    }
   ],
   "source": [
    "model.summary()"
   ]
  },
  {
   "cell_type": "code",
   "execution_count": 11,
   "metadata": {},
   "outputs": [
    {
     "name": "stdout",
     "output_type": "stream",
     "text": [
      "Epoch 1/50\n",
      "3/2 [================================] - 0s 116ms/step - loss: 7.7692 - acc: 0.3571\n",
      "Epoch 2/50\n",
      "3/2 [================================] - 0s 84ms/step - loss: 7.9134 - acc: 0.4286\n",
      "Epoch 3/50\n",
      "3/2 [================================] - 0s 67ms/step - loss: 9.3368 - acc: 0.2857\n",
      "Epoch 4/50\n",
      "3/2 [================================] - 0s 66ms/step - loss: 5.3271 - acc: 0.4286\n",
      "Epoch 5/50\n",
      "3/2 [================================] - 0s 67ms/step - loss: 6.7767 - acc: 0.1429\n",
      "Epoch 6/50\n",
      "3/2 [================================] - 0s 67ms/step - loss: 4.7747 - acc: 0.5000\n",
      "Epoch 7/50\n",
      "3/2 [================================] - 0s 66ms/step - loss: 7.6077 - acc: 0.2143\n",
      "Epoch 8/50\n",
      "3/2 [================================] - 0s 66ms/step - loss: 8.0679 - acc: 0.1429\n",
      "Epoch 9/50\n",
      "3/2 [================================] - 0s 67ms/step - loss: 6.5332 - acc: 0.5000\n",
      "Epoch 10/50\n",
      "3/2 [================================] - 0s 68ms/step - loss: 4.9418 - acc: 0.5714\n",
      "Epoch 11/50\n",
      "3/2 [================================] - 0s 66ms/step - loss: 3.0446 - acc: 0.1429\n",
      "Epoch 12/50\n",
      "3/2 [================================] - 0s 99ms/step - loss: 1.1921e-07 - acc: 0.2857\n",
      "Epoch 13/50\n",
      "3/2 [================================] - 0s 67ms/step - loss: 1.1921e-07 - acc: 0.2857\n",
      "Epoch 14/50\n",
      "3/2 [================================] - 0s 99ms/step - loss: 1.1921e-07 - acc: 0.2857\n",
      "Epoch 15/50\n",
      "3/2 [================================] - 0s 65ms/step - loss: 1.1921e-07 - acc: 0.2857\n",
      "Epoch 16/50\n",
      "3/2 [================================] - 0s 66ms/step - loss: 1.1921e-07 - acc: 0.2857\n",
      "Epoch 17/50\n",
      "3/2 [================================] - 0s 67ms/step - loss: 1.1921e-07 - acc: 0.2857\n",
      "Epoch 18/50\n",
      "3/2 [================================] - 0s 66ms/step - loss: 1.1921e-07 - acc: 0.2857\n",
      "Epoch 19/50\n",
      "3/2 [================================] - 0s 66ms/step - loss: 1.1921e-07 - acc: 0.2857\n",
      "Epoch 20/50\n",
      "3/2 [================================] - 0s 66ms/step - loss: 1.1921e-07 - acc: 0.2857\n",
      "Epoch 21/50\n",
      "3/2 [================================] - 0s 67ms/step - loss: 1.1921e-07 - acc: 0.2857\n",
      "Epoch 22/50\n",
      "3/2 [================================] - 0s 67ms/step - loss: 1.1921e-07 - acc: 0.2857\n",
      "Epoch 23/50\n",
      "3/2 [================================] - 0s 67ms/step - loss: 1.1921e-07 - acc: 0.2857\n",
      "Epoch 24/50\n",
      "3/2 [================================] - 0s 67ms/step - loss: 1.1921e-07 - acc: 0.2857\n",
      "Epoch 25/50\n",
      "3/2 [================================] - 0s 66ms/step - loss: 1.1921e-07 - acc: 0.2857\n",
      "Epoch 26/50\n",
      "3/2 [================================] - 0s 66ms/step - loss: 1.1921e-07 - acc: 0.2857\n",
      "Epoch 27/50\n",
      "3/2 [================================] - 0s 66ms/step - loss: 1.1921e-07 - acc: 0.2857\n",
      "Epoch 28/50\n",
      "3/2 [================================] - 0s 67ms/step - loss: 1.1921e-07 - acc: 0.2857\n",
      "Epoch 29/50\n",
      "3/2 [================================] - 0s 66ms/step - loss: 1.1921e-07 - acc: 0.2857\n",
      "Epoch 30/50\n",
      "3/2 [================================] - 0s 67ms/step - loss: 1.1921e-07 - acc: 0.2857\n",
      "Epoch 31/50\n",
      "3/2 [================================] - 0s 66ms/step - loss: 1.1921e-07 - acc: 0.2857\n",
      "Epoch 32/50\n",
      "3/2 [================================] - 0s 66ms/step - loss: 1.1921e-07 - acc: 0.2857\n",
      "Epoch 33/50\n",
      "3/2 [================================] - 0s 66ms/step - loss: 1.1921e-07 - acc: 0.2857\n",
      "Epoch 34/50\n",
      "3/2 [================================] - 0s 66ms/step - loss: 1.1921e-07 - acc: 0.2857\n",
      "Epoch 35/50\n",
      "3/2 [================================] - 0s 67ms/step - loss: 1.1921e-07 - acc: 0.2857\n",
      "Epoch 36/50\n",
      "3/2 [================================] - 0s 66ms/step - loss: 1.1921e-07 - acc: 0.2857\n",
      "Epoch 37/50\n",
      "3/2 [================================] - 0s 66ms/step - loss: 1.1921e-07 - acc: 0.2857\n",
      "Epoch 38/50\n",
      "3/2 [================================] - 0s 67ms/step - loss: 1.1921e-07 - acc: 0.2857\n",
      "Epoch 39/50\n",
      "3/2 [================================] - 0s 68ms/step - loss: 1.1921e-07 - acc: 0.2857\n",
      "Epoch 40/50\n",
      "3/2 [================================] - 0s 65ms/step - loss: 1.1921e-07 - acc: 0.2857\n",
      "Epoch 41/50\n",
      "3/2 [================================] - 0s 66ms/step - loss: 1.1921e-07 - acc: 0.2857\n",
      "Epoch 42/50\n",
      "3/2 [================================] - 0s 67ms/step - loss: 1.1921e-07 - acc: 0.2857\n",
      "Epoch 43/50\n",
      "3/2 [================================] - 0s 66ms/step - loss: 1.1921e-07 - acc: 0.2857\n",
      "Epoch 44/50\n",
      "3/2 [================================] - 0s 67ms/step - loss: 1.1921e-07 - acc: 0.2857\n",
      "Epoch 45/50\n",
      "3/2 [================================] - 0s 66ms/step - loss: 1.1921e-07 - acc: 0.2857\n",
      "Epoch 46/50\n",
      "3/2 [================================] - 0s 67ms/step - loss: 1.1921e-07 - acc: 0.2857\n",
      "Epoch 47/50\n",
      "3/2 [================================] - 0s 66ms/step - loss: 1.1921e-07 - acc: 0.2857\n",
      "Epoch 48/50\n",
      "3/2 [================================] - 0s 66ms/step - loss: 1.1921e-07 - acc: 0.2857\n",
      "Epoch 49/50\n",
      "3/2 [================================] - 0s 66ms/step - loss: 1.1921e-07 - acc: 0.2857\n",
      "Epoch 50/50\n",
      "3/2 [================================] - 0s 67ms/step - loss: 1.1921e-07 - acc: 0.2857\n"
     ]
    }
   ],
   "source": [
    "history = model.fit_generator(\n",
    "    priming_gen,\n",
    "    steps_per_epoch= numOfPrimingSamples / batch_size,\n",
    "    epochs= priming_epochs\n",
    ")"
   ]
  },
  {
   "cell_type": "code",
   "execution_count": 12,
   "metadata": {},
   "outputs": [
    {
     "name": "stdout",
     "output_type": "stream",
     "text": [
      "Epoch 1/3\n",
      "39/39 [==============================] - 3s 86ms/step - loss: 1.1921e-07 - acc: 0.3333 - val_loss: 1.1921e-07 - val_acc: 0.3333\n",
      "Epoch 2/3\n",
      "39/39 [==============================] - 3s 84ms/step - loss: 1.1921e-07 - acc: 0.3333 - val_loss: 1.1921e-07 - val_acc: 0.3333\n",
      "Epoch 3/3\n",
      "39/39 [==============================] - 3s 86ms/step - loss: 1.1921e-07 - acc: 0.3333 - val_loss: 1.1921e-07 - val_acc: 0.3333\n"
     ]
    }
   ],
   "source": [
    "history = model.fit_generator(\n",
    "    train_gen,\n",
    "    validation_data= validation_gen,\n",
    "    validation_steps= numOfValSamples / batch_size,\n",
    "    steps_per_epoch= numOfTrainSamples / batch_size,\n",
    "    epochs= training_epochs\n",
    ")"
   ]
  },
  {
   "cell_type": "code",
   "execution_count": 13,
   "metadata": {},
   "outputs": [],
   "source": [
    "model.save('priming.h5')"
   ]
  },
  {
   "cell_type": "code",
   "execution_count": 14,
   "metadata": {},
   "outputs": [],
   "source": [
    "# validation"
   ]
  },
  {
   "cell_type": "code",
   "execution_count": 15,
   "metadata": {},
   "outputs": [
    {
     "data": {
      "image/png": "[encoded data removed]",
      "text/plain": [
       "<Figure size 432x288 with 1 Axes>"
      ]
     },
     "metadata": {
      "needs_background": "light"
     },
     "output_type": "display_data"
    },
    {
     "data": {
      "image/png": "[encoded data removed]",
      "text/plain": [
       "<Figure size 432x288 with 1 Axes>"
      ]
     },
     "metadata": {
      "needs_background": "light"
     },
     "output_type": "display_data"
    }
   ],
   "source": [
    "import matplotlib.pyplot as plt\n",
    "\n",
    "acc = history.history['acc']\n",
    "val_acc = history.history['val_acc']\n",
    "loss = history.history['loss']\n",
    "val_loss = history.history['val_loss']\n",
    "\n",
    "epochs = range(len(acc))\n",
    "\n",
    "plt.plot(epochs, acc, 'bo', label='Training acc')\n",
    "plt.plot(epochs, val_acc, 'b', label='Validation acc')\n",
    "plt.title('Training and validation accuracy')\n",
    "plt.legend()\n",
    "\n",
    "plt.figure()\n",
    "\n",
    "plt.plot(epochs, loss, 'bo', label='Training loss')\n",
    "plt.plot(epochs, val_loss, 'b', label='Validation loss')\n",
    "plt.title('Training and validation loss')\n",
    "plt.legend()\n",
    "\n",
    "plt.show()"
   ]
  }
 ],
 "metadata": {
  "kernelspec": {
   "display_name": "Python 3",
   "language": "python",
   "name": "python3"
  },
  "language_info": {
   "codemirror_mode": {
    "name": "ipython",
    "version": 3
   },
   "file_extension": ".py",
   "mimetype": "text/x-python",
   "name": "python",
   "nbconvert_exporter": "python",
   "pygments_lexer": "ipython3",
   "version": "3.7.9"
  }
 },
 "nbformat": 4,
 "nbformat_minor": 4
}
