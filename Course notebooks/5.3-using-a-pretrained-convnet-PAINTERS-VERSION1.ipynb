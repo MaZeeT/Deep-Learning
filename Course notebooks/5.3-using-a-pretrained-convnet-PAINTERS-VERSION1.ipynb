{
 "cells": [
  {
   "cell_type": "code",
   "execution_count": 1,
   "metadata": {},
   "outputs": [
    {
     "name": "stderr",
     "output_type": "stream",
     "text": [
      "Using TensorFlow backend.\n"
     ]
    },
    {
     "data": {
      "text/plain": [
       "'2.2.4'"
      ]
     },
     "execution_count": 1,
     "metadata": {},
     "output_type": "execute_result"
    }
   ],
   "source": [
    "import keras\n",
    "keras.__version__"
   ]
  },
  {
   "cell_type": "markdown",
   "metadata": {},
   "source": [
    "# Using a pre-trained convnet\n",
    "\n",
    "We use the VGG16 network, trained on ImageNet, to extract features that we use for training a network to recognize painters.\n",
    "\n",
    "The code is adapted from the notebook 5.3-using-a-pretrained-convnet.ipynb by F. Chollet.\n",
    "One main difference is that we have three different categories (Monet, Picasso, vanGogh) and not two as in the original example. This means that we cannot do with a single output node, but use three with a special encoding af the categories as explained below\n",
    "<br/><br/>\n",
    "Henning Christiansen, 25/3-2019</br>\n",
    "\n",
    "VERSION 1: USING THE ALMOST TOP LAYER\n"
   ]
  },
  {
   "cell_type": "markdown",
   "metadata": {},
   "source": [
    "First instantiate the VGG16 model;  we introduce a few symbolic constants that we can use here and later, in order to make the code easier to read and to modify."
   ]
  },
  {
   "cell_type": "code",
   "execution_count": 2,
   "metadata": {},
   "outputs": [
    {
     "data": {
      "text/plain": [
       "<keras.engine.training.Model at 0xb345f3e80>"
      ]
     },
     "execution_count": 2,
     "metadata": {},
     "output_type": "execute_result"
    }
   ],
   "source": [
    "input_width = 250\n",
    "input_height = 250\n",
    "input_area = input_width * input_height\n",
    "\n",
    "from keras.applications import VGG16\n",
    "\n",
    "conv_base = VGG16(weights='imagenet',\n",
    "                  include_top=False,\n",
    "               input_shape=(input_width, input_height, 3)) # honestly, I'm not sure whether height or width comes first\n",
    "\n",
    "conv_base"
   ]
  },
  {
   "cell_type": "markdown",
   "metadata": {},
   "source": [
    "Comment from original notebook:\n",
    "<i>We passed three arguments to the constructor:\n",
    "\n",
    "* `weights`, to specify which weight checkpoint to initialize the model from\n",
    "* `include_top`, which refers to including or not the densely-connected classifier on top of the network. By default, this \n",
    "densely-connected classifier would correspond to the 1000 classes from ImageNet. Since we intend to use our own densely-connected \n",
    "classifier (....), we don't need to include it.\n",
    "* `input_shape`, the shape of the image tensors that we will feed to the network. This argument is purely optional: if we don't pass it, \n",
    "then the network will be able to process inputs of any size</i>\n",
    "\n",
    "HC addition: UNFORTUNATELY THE LAST REMARK IS INCORRECT!!!!\n",
    "It does not work with variable size input, and you need to be consistent with the size you specify in the following.\n",
    "\n",
    "There is no way to specify which specific layers we want to include; it is either with or without the 3 fully-connected layers at the top of the network (see https://keras.io/applications/#vgg16)\n"
   ]
  },
  {
   "cell_type": "code",
   "execution_count": 3,
   "metadata": {
    "scrolled": false
   },
   "outputs": [
    {
     "name": "stdout",
     "output_type": "stream",
     "text": [
      "_________________________________________________________________\n",
      "Layer (type)                 Output Shape              Param #   \n",
      "=================================================================\n",
      "input_1 (InputLayer)         (None, 250, 250, 3)       0         \n",
      "_________________________________________________________________\n",
      "block1_conv1 (Conv2D)        (None, 250, 250, 64)      1792      \n",
      "_________________________________________________________________\n",
      "block1_conv2 (Conv2D)        (None, 250, 250, 64)      36928     \n",
      "_________________________________________________________________\n",
      "block1_pool (MaxPooling2D)   (None, 125, 125, 64)      0         \n",
      "_________________________________________________________________\n",
      "block2_conv1 (Conv2D)        (None, 125, 125, 128)     73856     \n",
      "_________________________________________________________________\n",
      "block2_conv2 (Conv2D)        (None, 125, 125, 128)     147584    \n",
      "_________________________________________________________________\n",
      "block2_pool (MaxPooling2D)   (None, 62, 62, 128)       0         \n",
      "_________________________________________________________________\n",
      "block3_conv1 (Conv2D)        (None, 62, 62, 256)       295168    \n",
      "_________________________________________________________________\n",
      "block3_conv2 (Conv2D)        (None, 62, 62, 256)       590080    \n",
      "_________________________________________________________________\n",
      "block3_conv3 (Conv2D)        (None, 62, 62, 256)       590080    \n",
      "_________________________________________________________________\n",
      "block3_pool (MaxPooling2D)   (None, 31, 31, 256)       0         \n",
      "_________________________________________________________________\n",
      "block4_conv1 (Conv2D)        (None, 31, 31, 512)       1180160   \n",
      "_________________________________________________________________\n",
      "block4_conv2 (Conv2D)        (None, 31, 31, 512)       2359808   \n",
      "_________________________________________________________________\n",
      "block4_conv3 (Conv2D)        (None, 31, 31, 512)       2359808   \n",
      "_________________________________________________________________\n",
      "block4_pool (MaxPooling2D)   (None, 15, 15, 512)       0         \n",
      "_________________________________________________________________\n",
      "block5_conv1 (Conv2D)        (None, 15, 15, 512)       2359808   \n",
      "_________________________________________________________________\n",
      "block5_conv2 (Conv2D)        (None, 15, 15, 512)       2359808   \n",
      "_________________________________________________________________\n",
      "block5_conv3 (Conv2D)        (None, 15, 15, 512)       2359808   \n",
      "_________________________________________________________________\n",
      "block5_pool (MaxPooling2D)   (None, 7, 7, 512)         0         \n",
      "=================================================================\n",
      "Total params: 14,714,688\n",
      "Trainable params: 14,714,688\n",
      "Non-trainable params: 0\n",
      "_________________________________________________________________\n"
     ]
    }
   ],
   "source": [
    "conv_base.summary()"
   ]
  },
  {
   "cell_type": "markdown",
   "metadata": {},
   "source": [
    "The \"Output Shape\" of the different layers depends in an undocumented way on the size of the input layer.\n",
    "We will need them below, so let us (sic!) manually read the constants in the printout above, and remember them as follows."
   ]
  },
  {
   "cell_type": "code",
   "execution_count": 6,
   "metadata": {},
   "outputs": [],
   "source": [
    "block5_pool_width = 7\n",
    "block5_pool_height = 7\n",
    "block5_pool_area = block5_pool_width * block5_pool_height\n",
    "block5_pool_no_of_filters = 512"
   ]
  },
  {
   "cell_type": "markdown",
   "metadata": {},
   "source": [
    "Let us now generate new training data, consisting of features generated in a feedforward fashion from\n",
    "the VGG16 model. Be aware that when we have done that, we do not need VGG16 anymore. We train out own much simpler model from the generated data. However, if we later want to apply our trained model to a specifix image (e.g., a painting that we consider to invest into), we would need VGG16 again -- and it would be nice if we wrote a little function to wrap the details. -- The code below is polished a little from the original, but not generic in the sense that we can apply it for a single image."
   ]
  },
  {
   "cell_type": "code",
   "execution_count": 7,
   "metadata": {},
   "outputs": [
    {
     "name": "stdout",
     "output_type": "stream",
     "text": [
      "Found 210 images belonging to 3 classes.\n",
      "Found 60 images belonging to 3 classes.\n",
      "Found 30 images belonging to 3 classes.\n"
     ]
    }
   ],
   "source": [
    "import os\n",
    "import numpy as np\n",
    "###import tensorflow as tf\n",
    "from keras import Model\n",
    "from keras.preprocessing.image import ImageDataGenerator\n",
    "from keras.utils.np_utils import to_categorical ## we need that as our labels cannot be represented by a single output node\n",
    "\n",
    "base_dir = '/Users/henning/Documents/Kurser/deepLearningSpring2020/PaintingsData/paintings'\n",
    "\n",
    "train_dir = os.path.join(base_dir, 'train')\n",
    "total_no_of_training_images = 210  ## Keras seems to lack the ability to count, so we set this manually:\n",
    "validation_dir = os.path.join(base_dir, 'validation')\n",
    "total_no_of_validation_images = 60\n",
    "test_dir = os.path.join(base_dir, 'test')\n",
    "total_no_of_test_images = 30\n",
    "\n",
    "datagen = ImageDataGenerator(rescale=1./255)\n",
    "batch_size = 10  ## arbitrary; I have tried both 10 and 20, but not much difference\n",
    "\n",
    "\n",
    "## Now the function that we use for generating the new training/validation/test data sets from our original images\n",
    "\n",
    "def extract_features(directory, sample_count):\n",
    "    features = np.zeros(shape=(sample_count, block5_pool_width, block5_pool_height, block5_pool_no_of_filters))\n",
    "    labels = np.zeros(shape=(sample_count))\n",
    "    generator = datagen.flow_from_directory(\n",
    "        directory,\n",
    "        target_size=(input_width, input_height),\n",
    "        batch_size=batch_size,\n",
    "        class_mode='sparse')   ## NB: the documentation's explanation of class_mode is unclear,\n",
    "                               ## and the setting 'sparse' has been found by experimentation\n",
    "\n",
    "\n",
    "    i = 0\n",
    "    for inputs_batch, labels_batch in generator:\n",
    "        features_batch = conv_base.predict(inputs_batch)\n",
    "        features[i * batch_size : (i + 1) * batch_size] = features_batch\n",
    "        labels[i * batch_size : (i + 1) * batch_size] = labels_batch\n",
    "        i += 1\n",
    "        if i * batch_size >= sample_count:\n",
    "            # Note that since generators yield data indefinitely in a loop,\n",
    "            # we must `break` after every image has been seen once.\n",
    "            break\n",
    "    labels = to_categorical(labels)\n",
    "    return features, labels\n",
    "\n",
    "## Now using the function thus defined\n",
    "train_features, train_labels = extract_features(train_dir, total_no_of_training_images)\n",
    "\n",
    "validation_features, validation_labels = extract_features(validation_dir, total_no_of_validation_images)\n",
    "\n",
    "test_features, test_labels = extract_features(test_dir, total_no_of_test_images)\n",
    "\n",
    "## This takes terribly long time due to the astronomical number of parameters in VGG16"
   ]
  },
  {
   "cell_type": "markdown",
   "metadata": {},
   "source": [
    "The extracted features are currently of multidimensional shape `(samples, block5_pool_area * block5_pool_no_of_filters)`.\n",
    "We \"flatten\" them so they fit into a Dense layer"
   ]
  },
  {
   "cell_type": "code",
   "execution_count": 8,
   "metadata": {},
   "outputs": [],
   "source": [
    "train_features = np.reshape(train_features, (total_no_of_training_images, block5_pool_area * block5_pool_no_of_filters))\n",
    "validation_features = np.reshape(validation_features, (total_no_of_validation_images, block5_pool_area * block5_pool_no_of_filters))\n",
    "test_features = np.reshape(test_features, (total_no_of_test_images, block5_pool_area * block5_pool_no_of_filters))"
   ]
  },
  {
   "cell_type": "markdown",
   "metadata": {},
   "source": [
    "At this point, we can define our densely-connected classifier (note the use of dropout for regularization), and train it on the data and \n",
    "labels that we just recorded:"
   ]
  },
  {
   "cell_type": "code",
   "execution_count": 21,
   "metadata": {},
   "outputs": [
    {
     "name": "stdout",
     "output_type": "stream",
     "text": [
      "Train on 210 samples, validate on 60 samples\n",
      "Epoch 1/50\n",
      "210/210 [==============================] - 3s 14ms/step - loss: 0.5864 - acc: 0.6730 - val_loss: 0.4377 - val_acc: 0.8222\n",
      "Epoch 2/50\n",
      "210/210 [==============================] - 1s 6ms/step - loss: 0.4329 - acc: 0.7937 - val_loss: 0.3702 - val_acc: 0.8722\n",
      "Epoch 3/50\n",
      "210/210 [==============================] - 1s 6ms/step - loss: 0.3743 - acc: 0.8333 - val_loss: 0.3367 - val_acc: 0.8667\n",
      "Epoch 4/50\n",
      "210/210 [==============================] - 1s 7ms/step - loss: 0.3191 - acc: 0.8730 - val_loss: 0.3027 - val_acc: 0.8889\n",
      "Epoch 5/50\n",
      "210/210 [==============================] - 1s 7ms/step - loss: 0.2891 - acc: 0.8905 - val_loss: 0.2777 - val_acc: 0.9111\n",
      "Epoch 6/50\n",
      "210/210 [==============================] - 1s 7ms/step - loss: 0.2757 - acc: 0.8984 - val_loss: 0.2578 - val_acc: 0.9333\n",
      "Epoch 7/50\n",
      "210/210 [==============================] - 1s 6ms/step - loss: 0.2403 - acc: 0.9143 - val_loss: 0.2381 - val_acc: 0.9278\n",
      "Epoch 8/50\n",
      "210/210 [==============================] - 1s 7ms/step - loss: 0.2456 - acc: 0.9143 - val_loss: 0.2288 - val_acc: 0.9167\n",
      "Epoch 9/50\n",
      "210/210 [==============================] - 1s 6ms/step - loss: 0.2036 - acc: 0.9349 - val_loss: 0.2167 - val_acc: 0.9278\n",
      "Epoch 10/50\n",
      "210/210 [==============================] - 1s 6ms/step - loss: 0.1914 - acc: 0.9302 - val_loss: 0.2069 - val_acc: 0.9278\n",
      "Epoch 11/50\n",
      "210/210 [==============================] - 1s 6ms/step - loss: 0.1784 - acc: 0.9333 - val_loss: 0.2015 - val_acc: 0.9222\n",
      "Epoch 12/50\n",
      "210/210 [==============================] - 1s 7ms/step - loss: 0.1659 - acc: 0.9492 - val_loss: 0.1916 - val_acc: 0.9278\n",
      "Epoch 13/50\n",
      "210/210 [==============================] - 1s 6ms/step - loss: 0.1655 - acc: 0.9476 - val_loss: 0.1861 - val_acc: 0.9278\n",
      "Epoch 14/50\n",
      "210/210 [==============================] - 1s 7ms/step - loss: 0.1519 - acc: 0.9508 - val_loss: 0.1806 - val_acc: 0.9278\n",
      "Epoch 15/50\n",
      "210/210 [==============================] - 2s 7ms/step - loss: 0.1337 - acc: 0.9730 - val_loss: 0.1735 - val_acc: 0.9389\n",
      "Epoch 16/50\n",
      "210/210 [==============================] - 2s 7ms/step - loss: 0.1203 - acc: 0.9698 - val_loss: 0.1689 - val_acc: 0.9333\n",
      "Epoch 17/50\n",
      "210/210 [==============================] - 1s 7ms/step - loss: 0.1210 - acc: 0.9762 - val_loss: 0.1634 - val_acc: 0.9389\n",
      "Epoch 18/50\n",
      "210/210 [==============================] - 1s 6ms/step - loss: 0.1128 - acc: 0.9714 - val_loss: 0.1601 - val_acc: 0.9333\n",
      "Epoch 19/50\n",
      "210/210 [==============================] - 1s 6ms/step - loss: 0.1100 - acc: 0.9714 - val_loss: 0.1558 - val_acc: 0.9333\n",
      "Epoch 20/50\n",
      "210/210 [==============================] - 1s 7ms/step - loss: 0.0926 - acc: 0.9825 - val_loss: 0.1526 - val_acc: 0.9389\n",
      "Epoch 21/50\n",
      "210/210 [==============================] - 1s 6ms/step - loss: 0.0857 - acc: 0.9857 - val_loss: 0.1539 - val_acc: 0.9278\n",
      "Epoch 22/50\n",
      "210/210 [==============================] - 1s 6ms/step - loss: 0.0773 - acc: 0.9873 - val_loss: 0.1461 - val_acc: 0.9444\n",
      "Epoch 23/50\n",
      "210/210 [==============================] - 1s 7ms/step - loss: 0.0821 - acc: 0.9905 - val_loss: 0.1451 - val_acc: 0.9333\n",
      "Epoch 24/50\n",
      "210/210 [==============================] - 1s 6ms/step - loss: 0.0731 - acc: 0.9825 - val_loss: 0.1440 - val_acc: 0.9333\n",
      "Epoch 25/50\n",
      "210/210 [==============================] - 1s 7ms/step - loss: 0.0720 - acc: 0.9873 - val_loss: 0.1453 - val_acc: 0.9333\n",
      "Epoch 26/50\n",
      "210/210 [==============================] - 1s 7ms/step - loss: 0.0621 - acc: 0.9952 - val_loss: 0.1450 - val_acc: 0.9389\n",
      "Epoch 27/50\n",
      "210/210 [==============================] - 1s 7ms/step - loss: 0.0710 - acc: 0.9873 - val_loss: 0.1362 - val_acc: 0.9389\n",
      "Epoch 28/50\n",
      "210/210 [==============================] - 1s 6ms/step - loss: 0.0593 - acc: 0.9921 - val_loss: 0.1430 - val_acc: 0.9389\n",
      "Epoch 29/50\n",
      "210/210 [==============================] - 1s 7ms/step - loss: 0.0566 - acc: 0.9952 - val_loss: 0.1370 - val_acc: 0.9278\n",
      "Epoch 30/50\n",
      "210/210 [==============================] - 1s 6ms/step - loss: 0.0506 - acc: 0.9968 - val_loss: 0.1301 - val_acc: 0.9500\n",
      "Epoch 31/50\n",
      "210/210 [==============================] - 1s 6ms/step - loss: 0.0494 - acc: 0.9921 - val_loss: 0.1304 - val_acc: 0.9444\n",
      "Epoch 32/50\n",
      "210/210 [==============================] - 1s 6ms/step - loss: 0.0537 - acc: 0.9857 - val_loss: 0.1294 - val_acc: 0.9444\n",
      "Epoch 33/50\n",
      "210/210 [==============================] - 1s 6ms/step - loss: 0.0424 - acc: 0.9984 - val_loss: 0.1279 - val_acc: 0.9444\n",
      "Epoch 34/50\n",
      "210/210 [==============================] - 1s 6ms/step - loss: 0.0434 - acc: 0.9984 - val_loss: 0.1365 - val_acc: 0.9333\n",
      "Epoch 35/50\n",
      "210/210 [==============================] - 1s 7ms/step - loss: 0.0463 - acc: 0.9889 - val_loss: 0.1327 - val_acc: 0.9389\n",
      "Epoch 36/50\n",
      "210/210 [==============================] - 1s 7ms/step - loss: 0.0437 - acc: 0.9952 - val_loss: 0.1232 - val_acc: 0.9444\n",
      "Epoch 37/50\n",
      "210/210 [==============================] - 1s 7ms/step - loss: 0.0431 - acc: 0.9984 - val_loss: 0.1242 - val_acc: 0.9444\n",
      "Epoch 38/50\n",
      "210/210 [==============================] - 1s 6ms/step - loss: 0.0379 - acc: 0.9952 - val_loss: 0.1234 - val_acc: 0.9444\n",
      "Epoch 39/50\n",
      "210/210 [==============================] - 1s 6ms/step - loss: 0.0294 - acc: 0.9984 - val_loss: 0.1253 - val_acc: 0.9500\n",
      "Epoch 40/50\n",
      "210/210 [==============================] - 1s 6ms/step - loss: 0.0342 - acc: 0.9984 - val_loss: 0.1232 - val_acc: 0.9444\n",
      "Epoch 41/50\n",
      "210/210 [==============================] - 1s 7ms/step - loss: 0.0321 - acc: 0.9952 - val_loss: 0.1378 - val_acc: 0.9333\n",
      "Epoch 42/50\n",
      "210/210 [==============================] - 1s 7ms/step - loss: 0.0351 - acc: 0.9952 - val_loss: 0.1287 - val_acc: 0.9333\n",
      "Epoch 43/50\n",
      "210/210 [==============================] - 1s 6ms/step - loss: 0.0269 - acc: 1.0000 - val_loss: 0.1166 - val_acc: 0.9444\n",
      "Epoch 44/50\n",
      "210/210 [==============================] - 1s 6ms/step - loss: 0.0279 - acc: 0.9984 - val_loss: 0.1247 - val_acc: 0.9500\n",
      "Epoch 45/50\n",
      "210/210 [==============================] - 1s 6ms/step - loss: 0.0264 - acc: 0.9968 - val_loss: 0.1273 - val_acc: 0.9444\n",
      "Epoch 46/50\n",
      "210/210 [==============================] - 1s 6ms/step - loss: 0.0251 - acc: 1.0000 - val_loss: 0.1173 - val_acc: 0.9500\n",
      "Epoch 47/50\n",
      "210/210 [==============================] - 1s 7ms/step - loss: 0.0249 - acc: 0.9968 - val_loss: 0.1229 - val_acc: 0.9500\n",
      "Epoch 48/50\n",
      "210/210 [==============================] - 1s 7ms/step - loss: 0.0200 - acc: 1.0000 - val_loss: 0.1301 - val_acc: 0.9333\n",
      "Epoch 49/50\n",
      "210/210 [==============================] - 1s 6ms/step - loss: 0.0199 - acc: 0.9984 - val_loss: 0.1137 - val_acc: 0.9556\n",
      "Epoch 50/50\n",
      "210/210 [==============================] - 1s 7ms/step - loss: 0.0226 - acc: 0.9984 - val_loss: 0.1184 - val_acc: 0.9500\n"
     ]
    }
   ],
   "source": [
    "from keras import models\n",
    "from keras import layers\n",
    "from keras import optimizers\n",
    "\n",
    "model = models.Sequential()\n",
    "\n",
    "## The no. of nodes is arbitrary; the curves with 100, 150, 256 looks more or less the same.\n",
    "model.add(layers.Dense(100, activation='relu', input_dim=block5_pool_area * block5_pool_no_of_filters))\n",
    "\n",
    "\n",
    "model.add(layers.Dropout(0.5))\n",
    "model.add(layers.Dense(3, activation='sigmoid'))  ## HC experiment 3 output nodes instead of 1\n",
    "\n",
    "model.compile(optimizer=optimizers.RMSprop(lr=2e-5),\n",
    "              loss='binary_crossentropy',\n",
    "              metrics=['acc'])\n",
    "\n",
    "history = model.fit(train_features, train_labels,\n",
    "                    epochs=50,  ## going up to 100 does not change the overall picture\n",
    "                    batch_size=batch_size,\n",
    "                    validation_data=(validation_features, validation_labels))"
   ]
  },
  {
   "cell_type": "markdown",
   "metadata": {},
   "source": [
    "Training is very fast, since we only have to deal with two `Dense` layers -- ...\n",
    "\n",
    "Let's take a look at the loss and accuracy curves during training:"
   ]
  },
  {
   "cell_type": "code",
   "execution_count": 23,
   "metadata": {},
   "outputs": [
    {
     "data": {
      "image/png": "[encoded data removed]",
      "text/plain": [
       "<Figure size 432x288 with 1 Axes>"
      ]
     },
     "metadata": {
      "needs_background": "light"
     },
     "output_type": "display_data"
    },
    {
     "data": {
      "image/png": "[encoded data removed]",
      "text/plain": [
       "<Figure size 432x288 with 1 Axes>"
      ]
     },
     "metadata": {
      "needs_background": "light"
     },
     "output_type": "display_data"
    }
   ],
   "source": [
    "import matplotlib.pyplot as plt\n",
    "\n",
    "acc = history.history['acc']\n",
    "val_acc = history.history['val_acc']\n",
    "loss = history.history['loss']\n",
    "val_loss = history.history['val_loss']\n",
    "\n",
    "epochs = range(len(acc))\n",
    "\n",
    "plt.plot(epochs, acc, 'bo', label='Training acc')\n",
    "plt.plot(epochs, val_acc, 'b', label='Validation acc')\n",
    "plt.title('Training and validation accuracy')\n",
    "plt.legend()\n",
    "\n",
    "plt.figure()\n",
    "\n",
    "plt.plot(epochs, loss, 'bo', label='Training loss')\n",
    "plt.plot(epochs, val_loss, 'b', label='Validation loss')\n",
    "plt.title('Training and validation loss')\n",
    "plt.legend()\n",
    "\n",
    "plt.show()"
   ]
  },
  {
   "cell_type": "markdown",
   "metadata": {},
   "source": [
    "Coming back to our hypothesis: <i>\"middle layes of VGG16 are better than the almost top layers for painter identification\",</i> is not really confirmed.... (compare with the graphs for the first experiment that used almost top layers)"
   ]
  },
  {
   "cell_type": "code",
   "execution_count": null,
   "metadata": {},
   "outputs": [],
   "source": [
    "model.summary()"
   ]
  }
 ],
 "metadata": {
  "kernelspec": {
   "display_name": "Python 3",
   "language": "python",
   "name": "python3"
  },
  "language_info": {
   "codemirror_mode": {
    "name": "ipython",
    "version": 3
   },
   "file_extension": ".py",
   "mimetype": "text/x-python",
   "name": "python",
   "nbconvert_exporter": "python",
   "pygments_lexer": "ipython3",
   "version": "3.6.8"
  }
 },
 "nbformat": 4,
 "nbformat_minor": 2
}
