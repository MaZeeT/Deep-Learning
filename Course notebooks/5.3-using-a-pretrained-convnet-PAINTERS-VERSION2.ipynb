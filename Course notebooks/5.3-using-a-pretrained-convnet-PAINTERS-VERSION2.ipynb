{
 "cells": [
  {
   "cell_type": "code",
   "execution_count": 1,
   "metadata": {},
   "outputs": [
    {
     "name": "stderr",
     "output_type": "stream",
     "text": [
      "Using TensorFlow backend.\n"
     ]
    },
    {
     "data": {
      "text/plain": [
       "'2.2.4'"
      ]
     },
     "execution_count": 1,
     "metadata": {},
     "output_type": "execute_result"
    }
   ],
   "source": [
    "import keras\n",
    "keras.__version__"
   ]
  },
  {
   "cell_type": "markdown",
   "metadata": {},
   "source": [
    "##### Using a pre-trained convnet\n",
    "\n",
    "We use the VGG16 network, trained on ImageNet, to extract features that we use for training a network to recognize painters.\n",
    "\n",
    "The code is adapted from the notebook 5.3-using-a-pretrained-convnet.ipynb by F. Chollet.\n",
    "One main difference is that we have three different categories (Monet, Picasso, vanGogh) ind not two as in the original example. This means that we cannot do with a single output node, but use three with a special encoding af the categories as explained below\n",
    "<br/><br/>\n",
    "Henning Christiansen, 25/3-2019</br>\n",
    "\n",
    "VERSION 2: TESTING THE HYPOTHESIS THAT TAKING \"LOW-LEVEL\" FEATURES FROM THE MIDDLE OF VGG16\n",
    "    RATHER THAT THE ALMOST TOP LAYERS WILL BE BETTER FOR IDENTIFYING PAINTERS.<br/>\n",
    "We started out using all features (=results of filters) of the chosen layer, but the number of features were far to big, so the fully connected layers on top had far too many weights, so overfittig was terrible.\n",
    "To corrects for this, we simply threw away most of the weight -- chosen arbitrarily as there is no obvious way to prefer some filters for others. \n",
    "\n"
   ]
  },
  {
   "cell_type": "markdown",
   "metadata": {},
   "source": [
    "First a little exercise on numpy arrays -- we need to know how to select a subset of filters resulting from a convolutional or maxpooling layer  "
   ]
  },
  {
   "cell_type": "code",
   "execution_count": 2,
   "metadata": {},
   "outputs": [
    {
     "data": {
      "text/plain": [
       "array([[[[10111, 10112],\n",
       "         [10121, 10122],\n",
       "         [10131,  1012]],\n",
       "\n",
       "        [[10211, 10212],\n",
       "         [10221, 10222],\n",
       "         [10231, 10232]]],\n",
       "\n",
       "\n",
       "       [[[20111, 20112],\n",
       "         [20121, 20122],\n",
       "         [20131, 20132]],\n",
       "\n",
       "        [[20211, 20212],\n",
       "         [20221, 20222],\n",
       "         [20231, 20232]]]])"
      ]
     },
     "execution_count": 2,
     "metadata": {},
     "output_type": "execute_result"
    }
   ],
   "source": [
    "### Find out how to chop an np.array\n",
    "import numpy as np\n",
    "a = np.array([[ [[10111, 10112, 10113],\n",
    "        [10121, 10122, 10123],\n",
    "        [10131, 1012, 1013] ],\n",
    "\n",
    "       [[10211, 10212, 10213],\n",
    "        [10221, 10222, 10223],\n",
    "        [10231, 10232, 10233] ] ],\n",
    "\n",
    "\n",
    "      [[[20111, 20112, 20113],\n",
    "        [20121, 20122, 20123],\n",
    "        [20131, 20132, 20133] ],\n",
    "\n",
    "       [[20211, 20212, 20213],\n",
    "        [20221, 20222, 20223],\n",
    "        [20231, 20232, 20233] ] ] ])\n",
    "a=a[:,:,:,0:2] ## reducing the last \"column\" NB: 0:2 gives 2 elements and not 3!!!!!!\n",
    "a"
   ]
  },
  {
   "cell_type": "markdown",
   "metadata": {},
   "source": [
    "First instantiate the VGG16 model;  we introduce a few symbolic constants that we can use here and leter, in order to make the code easier to read and to modify."
   ]
  },
  {
   "cell_type": "code",
   "execution_count": 3,
   "metadata": {},
   "outputs": [
    {
     "data": {
      "text/plain": [
       "<keras.engine.training.Model at 0xb3d3c0080>"
      ]
     },
     "execution_count": 3,
     "metadata": {},
     "output_type": "execute_result"
    }
   ],
   "source": [
    "input_width = 250\n",
    "input_height = 250\n",
    "input_area = input_width * input_height\n",
    "\n",
    "from keras.applications import VGG16\n",
    "\n",
    "conv_base = VGG16(weights='imagenet',\n",
    "                  include_top=False,\n",
    "               input_shape=(input_width, input_height, 3)) # honestly, I'm not sure whether height or width comes first\n",
    "\n",
    "conv_base"
   ]
  },
  {
   "cell_type": "markdown",
   "metadata": {},
   "source": [
    "Comment from original notebook:\n",
    "<i>We passed three arguments to the constructor:\n",
    "\n",
    "* `weights`, to specify which weight checkpoint to initialize the model from\n",
    "* `include_top`, which refers to including or not the densely-connected classifier on top of the network. By default, this \n",
    "densely-connected classifier would correspond to the 1000 classes from ImageNet. Since we intend to use our own densely-connected \n",
    "classifier (....), we don't need to include it.\n",
    "* `input_shape`, the shape of the image tensors that we will feed to the network. This argument is purely optional: if we don't pass it, \n",
    "then the network will be able to process inputs of any size</i>\n",
    "\n",
    "HC addition: UNFORTUNATELY THE LAST REMARK IS INCORRECT!!!!\n",
    "It does not work with variable size input, and you need to be consistent with the size you specify in the following.\n",
    "\n",
    "There is no way to specify which specific layers we want to include; it is either with or without the 3 fully-connected layers at the top of the network (see https://keras.io/applications/#vgg16)\n"
   ]
  },
  {
   "cell_type": "code",
   "execution_count": 4,
   "metadata": {
    "scrolled": false
   },
   "outputs": [
    {
     "name": "stdout",
     "output_type": "stream",
     "text": [
      "_________________________________________________________________\n",
      "Layer (type)                 Output Shape              Param #   \n",
      "=================================================================\n",
      "input_1 (InputLayer)         (None, 250, 250, 3)       0         \n",
      "_________________________________________________________________\n",
      "block1_conv1 (Conv2D)        (None, 250, 250, 64)      1792      \n",
      "_________________________________________________________________\n",
      "block1_conv2 (Conv2D)        (None, 250, 250, 64)      36928     \n",
      "_________________________________________________________________\n",
      "block1_pool (MaxPooling2D)   (None, 125, 125, 64)      0         \n",
      "_________________________________________________________________\n",
      "block2_conv1 (Conv2D)        (None, 125, 125, 128)     73856     \n",
      "_________________________________________________________________\n",
      "block2_conv2 (Conv2D)        (None, 125, 125, 128)     147584    \n",
      "_________________________________________________________________\n",
      "block2_pool (MaxPooling2D)   (None, 62, 62, 128)       0         \n",
      "_________________________________________________________________\n",
      "block3_conv1 (Conv2D)        (None, 62, 62, 256)       295168    \n",
      "_________________________________________________________________\n",
      "block3_conv2 (Conv2D)        (None, 62, 62, 256)       590080    \n",
      "_________________________________________________________________\n",
      "block3_conv3 (Conv2D)        (None, 62, 62, 256)       590080    \n",
      "_________________________________________________________________\n",
      "block3_pool (MaxPooling2D)   (None, 31, 31, 256)       0         \n",
      "_________________________________________________________________\n",
      "block4_conv1 (Conv2D)        (None, 31, 31, 512)       1180160   \n",
      "_________________________________________________________________\n",
      "block4_conv2 (Conv2D)        (None, 31, 31, 512)       2359808   \n",
      "_________________________________________________________________\n",
      "block4_conv3 (Conv2D)        (None, 31, 31, 512)       2359808   \n",
      "_________________________________________________________________\n",
      "block4_pool (MaxPooling2D)   (None, 15, 15, 512)       0         \n",
      "_________________________________________________________________\n",
      "block5_conv1 (Conv2D)        (None, 15, 15, 512)       2359808   \n",
      "_________________________________________________________________\n",
      "block5_conv2 (Conv2D)        (None, 15, 15, 512)       2359808   \n",
      "_________________________________________________________________\n",
      "block5_conv3 (Conv2D)        (None, 15, 15, 512)       2359808   \n",
      "_________________________________________________________________\n",
      "block5_pool (MaxPooling2D)   (None, 7, 7, 512)         0         \n",
      "=================================================================\n",
      "Total params: 14,714,688\n",
      "Trainable params: 14,714,688\n",
      "Non-trainable params: 0\n",
      "_________________________________________________________________\n"
     ]
    }
   ],
   "source": [
    "conv_base.summary()"
   ]
  },
  {
   "cell_type": "markdown",
   "metadata": {},
   "source": [
    "The \"Output Shape\" of the different layers depends in an undocumented way on the size of the input layer.\n",
    "We will need them below, so let us (sic!) manually read the constants in the printout above, and remember them as follows."
   ]
  },
  {
   "cell_type": "code",
   "execution_count": 5,
   "metadata": {},
   "outputs": [],
   "source": [
    "block3_pool_width = 31\n",
    "block3_pool_height = 31\n",
    "block3_pool_area = block3_pool_width * block3_pool_height\n",
    "block3_pool_no_of_filters = 256\n",
    "\n",
    "## Following not used, but included for completeness and your own possible experiments\n",
    "block5_pool_width = 7\n",
    "block5_pool_height = 7\n",
    "block5_pool_area = block3_pool_width * block3_pool_height\n",
    "block5_pool_no_of_filters = 512"
   ]
  },
  {
   "cell_type": "markdown",
   "metadata": {},
   "source": [
    "Let us now generate new training data, consisting of features generated in a feedforward fashion from\n",
    "the VGG16 model. Be aware that when we have done that, we do not need VGG16 anymore. We train out own much simpler model from the generated data. However, if we later want to apply our trained model to a specifix image (e.g., a painting that we consider to invest into), we would need VGG16 again -- and it would be nice if we wrote a little function to wrap the details. -- The code below is polished a little from the original, but not generic in the sense that we can apply it for a single image."
   ]
  },
  {
   "cell_type": "code",
   "execution_count": 20,
   "metadata": {},
   "outputs": [
    {
     "name": "stdout",
     "output_type": "stream",
     "text": [
      "Found 210 images belonging to 3 classes.\n",
      "Found 60 images belonging to 3 classes.\n",
      "Found 30 images belonging to 3 classes.\n"
     ]
    }
   ],
   "source": [
    "import os\n",
    "import numpy as np\n",
    "###import tensorflow as tf\n",
    "from keras import Model\n",
    "from keras.preprocessing.image import ImageDataGenerator\n",
    "from keras.utils.np_utils import to_categorical ## we need that as our labels cannot be represented by a single output node\n",
    "\n",
    "base_dir = '/Users/henning/Documents/Kurser/deepLearningSpring2020/PaintingsData/paintings'\n",
    "\n",
    "train_dir = os.path.join(base_dir, 'train')\n",
    "total_no_of_training_images = 210  ## Keras seems to lack the ability to count, so we set this manually:\n",
    "validation_dir = os.path.join(base_dir, 'validation')\n",
    "total_no_of_validation_images = 60\n",
    "test_dir = os.path.join(base_dir, 'test')\n",
    "total_no_of_test_images = 30\n",
    "\n",
    "datagen = ImageDataGenerator(rescale=1./255)\n",
    "batch_size = 10  ## arbitrary; I have tried both 10 and 20, but not much difference\n",
    "\n",
    "## The following is a hack that immitates that we chop off every layer that follows block3_pool\n",
    "## -- it is unclear whether it calculates all features and output of the model, or it stops when\n",
    "##    it has found what it needs\n",
    "## To understand this, lookup Model (spelled with capital M!!) and get_layer in the Keras documentation\n",
    "\n",
    "intermediate_layer_model = Model(inputs=conv_base.input,\n",
    "                                 outputs=conv_base.get_layer('block3_pool').output)\n",
    "\n",
    "## This model produces output consisting of block3_pool_area \"image elements\" or columns,\n",
    "## having block3_pool_no_of_filters filters.\n",
    "## What we will do here is to reduce the number of filters, throwing some of the away\n",
    "## -- There is no good argument to prefer some filters for others, so we just take the first\n",
    "##    ones, as determined by the folling constant\n",
    "\n",
    "###### USE THIS CONSTANT BELOW\n",
    "no_of_filters_left = 100; ## must be <= block3_pool_no_of_filters\n",
    "\n",
    "## The reason to do this is that otherwise there are far too many weigths needed to send the\n",
    "## features (=results of applying filters) into our own fully connected layer explained later.\n",
    "\n",
    "## Now the function that we use for generating the new training/validation/test data sets from our original images\n",
    "\n",
    "def extract_features(directory, sample_count):\n",
    "    features = np.zeros(shape=(sample_count, block3_pool_width, block3_pool_height, block3_pool_no_of_filters))\n",
    "    labels = np.zeros(shape=(sample_count))\n",
    "    generator = datagen.flow_from_directory(\n",
    "        directory,\n",
    "        target_size=(input_width, input_height),\n",
    "        batch_size=batch_size,\n",
    "        class_mode='sparse')   ## NB: the documentation's explanation of class_mode is unclear,\n",
    "                               ## and the setting 'sparse' has been found by experimentation\n",
    "\n",
    "\n",
    "    i = 0\n",
    "    for inputs_batch, labels_batch in generator:\n",
    "        features_batch = intermediate_layer_model.predict(inputs_batch)\n",
    "        features[i * batch_size : (i + 1) * batch_size] = features_batch\n",
    "        labels[i * batch_size : (i + 1) * batch_size] = labels_batch\n",
    "        i += 1\n",
    "        if i * batch_size >= sample_count:\n",
    "            # Note that since generators yield data indefinitely in a loop,\n",
    "            # we must `break` after every image has been seen once.\n",
    "            break\n",
    "\n",
    "    ### Now throwing away most of the features (= results of features)\n",
    "    features = features[:,:,:,0:no_of_filters_left]\n",
    "    ### convert labels 0, 1, and 2 to [1,0,0], [0,1,0] and [0,0,1] \n",
    "    labels = to_categorical(labels)\n",
    "    return features, labels\n",
    "\n",
    "## Now using the function thus defined\n",
    "train_features, train_labels = extract_features(train_dir, total_no_of_training_images)\n",
    "\n",
    "validation_features, validation_labels = extract_features(validation_dir, total_no_of_validation_images)\n",
    "\n",
    "test_features, test_labels = extract_features(test_dir, total_no_of_test_images)\n",
    "\n",
    "## This takes terribly long time due to the astronomical number of parameters in VGG16"
   ]
  },
  {
   "cell_type": "markdown",
   "metadata": {},
   "source": [
    "The extracted features are currently of multidimensional shape `(samples, block3_pool_area * no_of_filters_left)`.\n",
    "We \"flatten\" them so they fit into a Dense layer"
   ]
  },
  {
   "cell_type": "code",
   "execution_count": 21,
   "metadata": {},
   "outputs": [],
   "source": [
    "train_features = np.reshape(train_features, (total_no_of_training_images, block3_pool_area * no_of_filters_left))\n",
    "validation_features = np.reshape(validation_features, (total_no_of_validation_images, block3_pool_area * no_of_filters_left))\n",
    "test_features = np.reshape(test_features, (total_no_of_test_images, block3_pool_area * no_of_filters_left))"
   ]
  },
  {
   "cell_type": "markdown",
   "metadata": {},
   "source": [
    "At this point, we can define our densely-connected classifier (note the use of dropout for regularization), and train it on the data and \n",
    "labels that we just recorded:"
   ]
  },
  {
   "cell_type": "code",
   "execution_count": 22,
   "metadata": {},
   "outputs": [
    {
     "name": "stdout",
     "output_type": "stream",
     "text": [
      "Train on 210 samples, validate on 60 samples\n",
      "Epoch 1/50\n",
      "210/210 [==============================] - 9s 43ms/step - loss: 5.3553 - acc: 0.6159 - val_loss: 4.5594 - val_acc: 0.6778\n",
      "Epoch 2/50\n",
      "210/210 [==============================] - 7s 34ms/step - loss: 4.5788 - acc: 0.6762 - val_loss: 4.1155 - val_acc: 0.7056\n",
      "Epoch 3/50\n",
      "210/210 [==============================] - 7s 32ms/step - loss: 4.6191 - acc: 0.6730 - val_loss: 5.3465 - val_acc: 0.6667\n",
      "Epoch 4/50\n",
      "210/210 [==============================] - 7s 33ms/step - loss: 4.1163 - acc: 0.6825 - val_loss: 1.7677 - val_acc: 0.8444\n",
      "Epoch 5/50\n",
      "210/210 [==============================] - 7s 32ms/step - loss: 2.8883 - acc: 0.7667 - val_loss: 1.4005 - val_acc: 0.8444\n",
      "Epoch 6/50\n",
      "210/210 [==============================] - 7s 31ms/step - loss: 1.9861 - acc: 0.8238 - val_loss: 0.9813 - val_acc: 0.8500\n",
      "Epoch 7/50\n",
      "210/210 [==============================] - 7s 31ms/step - loss: 1.3965 - acc: 0.8476 - val_loss: 0.4954 - val_acc: 0.8889\n",
      "Epoch 8/50\n",
      "210/210 [==============================] - 7s 33ms/step - loss: 0.8219 - acc: 0.8937 - val_loss: 0.4362 - val_acc: 0.9056\n",
      "Epoch 9/50\n",
      "210/210 [==============================] - 7s 32ms/step - loss: 0.4810 - acc: 0.9206 - val_loss: 0.1956 - val_acc: 0.9333\n",
      "Epoch 10/50\n",
      "210/210 [==============================] - 7s 33ms/step - loss: 0.3895 - acc: 0.9206 - val_loss: 0.2683 - val_acc: 0.9000\n",
      "Epoch 11/50\n",
      "210/210 [==============================] - 7s 33ms/step - loss: 0.3050 - acc: 0.9397 - val_loss: 0.2217 - val_acc: 0.9111\n",
      "Epoch 12/50\n",
      "210/210 [==============================] - 7s 34ms/step - loss: 0.2333 - acc: 0.9508 - val_loss: 0.3574 - val_acc: 0.9111\n",
      "Epoch 13/50\n",
      "210/210 [==============================] - 8s 37ms/step - loss: 0.2241 - acc: 0.9429 - val_loss: 0.5205 - val_acc: 0.8500\n",
      "Epoch 14/50\n",
      "210/210 [==============================] - 8s 38ms/step - loss: 0.1405 - acc: 0.9540 - val_loss: 0.2716 - val_acc: 0.8889\n",
      "Epoch 15/50\n",
      "210/210 [==============================] - 7s 35ms/step - loss: 0.1568 - acc: 0.9556 - val_loss: 0.2939 - val_acc: 0.9056\n",
      "Epoch 16/50\n",
      "210/210 [==============================] - 9s 43ms/step - loss: 0.0911 - acc: 0.9778 - val_loss: 0.2207 - val_acc: 0.9222\n",
      "Epoch 17/50\n",
      "210/210 [==============================] - 8s 39ms/step - loss: 0.1016 - acc: 0.9714 - val_loss: 0.3639 - val_acc: 0.8722\n",
      "Epoch 18/50\n",
      "210/210 [==============================] - 8s 38ms/step - loss: 0.1393 - acc: 0.9603 - val_loss: 0.3369 - val_acc: 0.9111\n",
      "Epoch 19/50\n",
      "210/210 [==============================] - 7s 35ms/step - loss: 0.0338 - acc: 0.9905 - val_loss: 0.1604 - val_acc: 0.9333\n",
      "Epoch 20/50\n",
      "210/210 [==============================] - 7s 34ms/step - loss: 0.1059 - acc: 0.9667 - val_loss: 0.1833 - val_acc: 0.9444\n",
      "Epoch 21/50\n",
      "210/210 [==============================] - 7s 35ms/step - loss: 0.0999 - acc: 0.9714 - val_loss: 0.4079 - val_acc: 0.8833\n",
      "Epoch 22/50\n",
      "210/210 [==============================] - 7s 32ms/step - loss: 0.0602 - acc: 0.9762 - val_loss: 0.1132 - val_acc: 0.9667\n",
      "Epoch 23/50\n",
      "210/210 [==============================] - 7s 35ms/step - loss: 0.0486 - acc: 0.9921 - val_loss: 0.1859 - val_acc: 0.9389\n",
      "Epoch 24/50\n",
      "210/210 [==============================] - 6s 31ms/step - loss: 0.0699 - acc: 0.9810 - val_loss: 0.5181 - val_acc: 0.9056\n",
      "Epoch 25/50\n",
      "210/210 [==============================] - 6s 31ms/step - loss: 0.0613 - acc: 0.9778 - val_loss: 0.4438 - val_acc: 0.8833\n",
      "Epoch 26/50\n",
      "210/210 [==============================] - 6s 31ms/step - loss: 0.0115 - acc: 0.9937 - val_loss: 0.1643 - val_acc: 0.9389\n",
      "Epoch 27/50\n",
      "210/210 [==============================] - 7s 32ms/step - loss: 0.0568 - acc: 0.9873 - val_loss: 0.1876 - val_acc: 0.9667\n",
      "Epoch 28/50\n",
      "210/210 [==============================] - 7s 31ms/step - loss: 0.0346 - acc: 0.9921 - val_loss: 0.1961 - val_acc: 0.9500\n",
      "Epoch 29/50\n",
      "210/210 [==============================] - 7s 32ms/step - loss: 0.0491 - acc: 0.9825 - val_loss: 0.2153 - val_acc: 0.9389\n",
      "Epoch 30/50\n",
      "210/210 [==============================] - 6s 31ms/step - loss: 0.0672 - acc: 0.9762 - val_loss: 0.1758 - val_acc: 0.9333\n",
      "Epoch 31/50\n",
      "210/210 [==============================] - 7s 32ms/step - loss: 0.0472 - acc: 0.9921 - val_loss: 0.5100 - val_acc: 0.9111\n",
      "Epoch 32/50\n",
      "210/210 [==============================] - 7s 31ms/step - loss: 0.0151 - acc: 0.9921 - val_loss: 0.2098 - val_acc: 0.9333\n",
      "Epoch 33/50\n",
      "210/210 [==============================] - 7s 33ms/step - loss: 0.0843 - acc: 0.9857 - val_loss: 0.1715 - val_acc: 0.9500\n",
      "Epoch 34/50\n",
      "210/210 [==============================] - 7s 35ms/step - loss: 0.0118 - acc: 0.9937 - val_loss: 0.1880 - val_acc: 0.9389\n",
      "Epoch 35/50\n",
      "210/210 [==============================] - 7s 32ms/step - loss: 0.0095 - acc: 0.9952 - val_loss: 0.5073 - val_acc: 0.9111\n",
      "Epoch 36/50\n",
      "210/210 [==============================] - 7s 32ms/step - loss: 0.0359 - acc: 0.9857 - val_loss: 0.3221 - val_acc: 0.9278\n",
      "Epoch 37/50\n",
      "210/210 [==============================] - 7s 32ms/step - loss: 0.0421 - acc: 0.9873 - val_loss: 0.3163 - val_acc: 0.9111\n",
      "Epoch 38/50\n",
      "210/210 [==============================] - 7s 32ms/step - loss: 0.0484 - acc: 0.9857 - val_loss: 0.2043 - val_acc: 0.9333\n",
      "Epoch 39/50\n",
      "210/210 [==============================] - 7s 32ms/step - loss: 0.0628 - acc: 0.9905 - val_loss: 0.2007 - val_acc: 0.9222\n",
      "Epoch 40/50\n",
      "210/210 [==============================] - 7s 32ms/step - loss: 0.0828 - acc: 0.9841 - val_loss: 0.4509 - val_acc: 0.8889\n",
      "Epoch 41/50\n",
      "210/210 [==============================] - 7s 32ms/step - loss: 0.0524 - acc: 0.9889 - val_loss: 0.6520 - val_acc: 0.8833\n",
      "Epoch 42/50\n",
      "210/210 [==============================] - 7s 32ms/step - loss: 0.0068 - acc: 0.9984 - val_loss: 0.2280 - val_acc: 0.9278\n",
      "Epoch 43/50\n",
      "210/210 [==============================] - 7s 32ms/step - loss: 0.0053 - acc: 0.9968 - val_loss: 0.6991 - val_acc: 0.8889\n",
      "Epoch 44/50\n",
      "210/210 [==============================] - 7s 33ms/step - loss: 0.0514 - acc: 0.9857 - val_loss: 0.4080 - val_acc: 0.9111\n",
      "Epoch 45/50\n",
      "210/210 [==============================] - 7s 33ms/step - loss: 0.0219 - acc: 0.9921 - val_loss: 0.2177 - val_acc: 0.9444\n",
      "Epoch 46/50\n",
      "210/210 [==============================] - 7s 32ms/step - loss: 0.0080 - acc: 0.9952 - val_loss: 0.3422 - val_acc: 0.9278\n",
      "Epoch 47/50\n",
      "210/210 [==============================] - 7s 32ms/step - loss: 0.0181 - acc: 0.9952 - val_loss: 0.2231 - val_acc: 0.9444\n",
      "Epoch 48/50\n",
      "210/210 [==============================] - 7s 31ms/step - loss: 0.0204 - acc: 0.9937 - val_loss: 0.1945 - val_acc: 0.9111\n",
      "Epoch 49/50\n",
      "210/210 [==============================] - 6s 30ms/step - loss: 0.0219 - acc: 0.9952 - val_loss: 0.1697 - val_acc: 0.9444\n",
      "Epoch 50/50\n",
      "210/210 [==============================] - 7s 32ms/step - loss: 0.0537 - acc: 0.9889 - val_loss: 0.3064 - val_acc: 0.9389\n"
     ]
    }
   ],
   "source": [
    "from keras import models\n",
    "from keras import layers\n",
    "from keras import optimizers\n",
    "\n",
    "model = models.Sequential()\n",
    "\n",
    "## The no. of nodes is arbitrary; the curves with 100, 150, 256 looks more or less the same.\n",
    "\n",
    "model.add(layers.Dense(150, activation='relu', input_dim=block3_pool_area * no_of_filters_left))\n",
    "\n",
    "\n",
    "model.add(layers.Dropout(0.5))\n",
    "model.add(layers.Dense(3, activation='sigmoid'))  ## HC experiment 3 output nodes instead of 1\n",
    "\n",
    "model.compile(optimizer=optimizers.RMSprop(lr=2e-5),\n",
    "              loss='binary_crossentropy',\n",
    "              metrics=['acc'])\n",
    "\n",
    "history = model.fit(train_features, train_labels,\n",
    "                    epochs=50,  ## going up to 100 does not change the overall picture\n",
    "                    batch_size=batch_size,\n",
    "                    validation_data=(validation_features, validation_labels))"
   ]
  },
  {
   "cell_type": "markdown",
   "metadata": {},
   "source": [
    "Training is very fast, since we only have to deal with two `Dense` layers -- ...\n",
    "\n",
    "Let's take a look at the loss and accuracy curves during training:"
   ]
  },
  {
   "cell_type": "code",
   "execution_count": 23,
   "metadata": {},
   "outputs": [
    {
     "data": {
      "image/png": "[encoded data removed]",
      "text/plain": [
       "<Figure size 432x288 with 1 Axes>"
      ]
     },
     "metadata": {
      "needs_background": "light"
     },
     "output_type": "display_data"
    },
    {
     "data": {
      "image/png": "[encoded data removed]",
      "text/plain": [
       "<Figure size 432x288 with 1 Axes>"
      ]
     },
     "metadata": {
      "needs_background": "light"
     },
     "output_type": "display_data"
    }
   ],
   "source": [
    "import matplotlib.pyplot as plt\n",
    "\n",
    "acc = history.history['acc']\n",
    "val_acc = history.history['val_acc']\n",
    "loss = history.history['loss']\n",
    "val_loss = history.history['val_loss']\n",
    "\n",
    "epochs = range(len(acc))\n",
    "\n",
    "plt.plot(epochs, acc, 'bo', label='Training acc')\n",
    "plt.plot(epochs, val_acc, 'b', label='Validation acc')\n",
    "plt.title('Training and validation accuracy')\n",
    "plt.legend()\n",
    "\n",
    "plt.figure()\n",
    "\n",
    "plt.plot(epochs, loss, 'bo', label='Training loss')\n",
    "plt.plot(epochs, val_loss, 'b', label='Validation loss')\n",
    "plt.title('Training and validation loss')\n",
    "plt.legend()\n",
    "\n",
    "plt.show()"
   ]
  },
  {
   "cell_type": "markdown",
   "metadata": {},
   "source": [
    "Coming back to our hypothesis: <i>\"middle layes of VGG16 are better than the almost top layers for painter identification\",</i> is not really confirmed.... (compare with the graphs for the first experiment that used almost top layers)"
   ]
  },
  {
   "cell_type": "code",
   "execution_count": null,
   "metadata": {},
   "outputs": [],
   "source": [
    "model.summary()"
   ]
  }
 ],
 "metadata": {
  "kernelspec": {
   "display_name": "Python 3",
   "language": "python",
   "name": "python3"
  },
  "language_info": {
   "codemirror_mode": {
    "name": "ipython",
    "version": 3
   },
   "file_extension": ".py",
   "mimetype": "text/x-python",
   "name": "python",
   "nbconvert_exporter": "python",
   "pygments_lexer": "ipython3",
   "version": "3.6.8"
  }
 },
 "nbformat": 4,
 "nbformat_minor": 2
}
