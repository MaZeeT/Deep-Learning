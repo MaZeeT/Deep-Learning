{
 "cells": [
  {
   "cell_type": "code",
   "execution_count": 1,
   "metadata": {},
   "outputs": [
    {
     "name": "stderr",
     "output_type": "stream",
     "text": [
      "Using TensorFlow backend.\n"
     ]
    }
   ],
   "source": [
    "from keras import models\n",
    "from keras import layers\n",
    "\n",
    "network = models.Sequential()"
   ]
  },
  {
   "cell_type": "markdown",
   "metadata": {},
   "source": [
    "This initializes an empty net that we can start adding layers to.\n",
    "We progress as follows to build a network that can learn a function, which we know already, should be close to<br>\n",
    ">   <x,y> --> <x+y,x-y>\n",
    "\n",
    "First an input layer; see the (highly incomplete, sic!) documentation at https://keras.io/layers/core/"
   ]
  },
  {
   "cell_type": "code",
   "execution_count": 2,
   "metadata": {},
   "outputs": [],
   "source": [
    "network.add(layers.Dense(2, activation='sigmoid', use_bias=True, input_shape=(2,)))"
   ]
  },
  {
   "cell_type": "markdown",
   "metadata": {},
   "source": [
    "A Dense layer is a standard one which is connected to all nodes in the layer before and after (incl. here to the implicit input layer).<br>\n",
    "The first argument, here given as 2, indicates the number of nodes (or neurons) in the hidden layer.\n",
    "The input_shape argument is more cryptic. For now, we are satisfied by knowing that\n",
    "> input_shape=(2,)\n",
    "\n",
    "specifies a that this layer, and thus this network, takes 2 inputs (the apparently misplaced comma is correct Python syntax (sic!)).<br>\n",
    "Notice in the documentation and the textbook, the word \"Kernel\" is used for the collection (more precisely: matrix) of weights. Setting use_bias=True adds an additional constant weigth as we have seen in the lecture (and the excerpt of Mitchell's book).<br>\n",
    "A list of activation functions can be found here: https://keras.io/activations/<br>\n",
    "<br>\n",
    "So far we have built a network which, according to standard terminology, has two input nodes and three hidden nodes.<br>\n",
    "The last added layer will be the output layer, so to complete it with an output layer with two nodes, we do as follows."
   ]
  },
  {
   "cell_type": "code",
   "execution_count": 3,
   "metadata": {},
   "outputs": [],
   "source": [
    "network.add(layers.Dense(2, activation='linear'))"
   ]
  },
  {
   "cell_type": "markdown",
   "metadata": {},
   "source": [
    "The activation function 'linear' is a misnomer, it refers to the identity function, in other words it means no activation function.<br>\n",
    "But now we have completed or network, and the next step is to configure the training which is done in the \"compile\" function, which takes three arguments:\n",
    "> <i>optimizer</i>: corresponds to the backpropagation algorithm, and Keras a collection of variants; a stub of documentation is available at https://keras.io/optimizers/; see the example below of how an optimizer is created and used<br>\n",
    "<i>loss</i>: what we have referred to as the error function; independently of what it is called, it is the function that will attempted minimized during training<br>\n",
    "> <i>metrics</i>: a bit unclear if it has any influence on the training process; it is explained as a measurement that each monitored during training (unclear if monitoring here means 'printed out' or something more). Most examples in the textbook uses  <tt>metrics=['accuracy']</tt>, so we do that here.\n",
    "Unfortunately, the textbook and the Keras documentation do not give a definition of accuracy (sic!)."
   ]
  },
  {
   "cell_type": "code",
   "execution_count": 4,
   "metadata": {},
   "outputs": [],
   "source": [
    "from keras import optimizers\n",
    "sgd = optimizers.SGD(lr=0.01,  momentum=0.1)\n",
    "network.compile(optimizer =sgd, loss='mean_squared_error', metrics=['accuracy'])"
   ]
  },
  {
   "cell_type": "markdown",
   "metadata": {},
   "source": [
    "The <tt>SGD</tt> type of optimizer stands for  seems to be closest to the traditional backpropagation; its <tt>lr</tt> parameter stands for learning rate, and <tt>momentum</tt> is what it says;  (the documentation mentions other possible arguments, some are more obvious than others).<p>\n",
    "Now comes the difficult part, reading in the input data from a file (sic!)<br>\n",
    "The following assumes that we have the file backPropTraining.csv in the working directory.\n",
    "By a bit of guessing and arbitrary searching, the following code was put together"
   ]
  },
  {
   "cell_type": "code",
   "execution_count": 5,
   "metadata": {},
   "outputs": [],
   "source": [
    "from numpy import genfromtxt\n",
    "all_data = genfromtxt('backPropTraining.csv', delimiter=',')\n",
    "inputs = all_data[:,(0,1)]\n",
    "outputs = all_data[:,(2,3)]"
   ]
  },
  {
   "cell_type": "markdown",
   "metadata": {},
   "source": [
    "Try the following to test that things look right"
   ]
  },
  {
   "cell_type": "code",
   "execution_count": 6,
   "metadata": {},
   "outputs": [
    {
     "data": {
      "text/plain": [
       "array([[-0.8 , -0.9 , -1.7 ,  0.1 ],\n",
       "       [ 0.53,  0.43,  0.96,  0.1 ],\n",
       "       [ 0.63, -0.96, -0.33,  1.59],\n",
       "       ...,\n",
       "       [-0.4 , -0.17, -0.57, -0.23],\n",
       "       [ 0.21,  0.83,  1.04, -0.62],\n",
       "       [ 0.01,  0.72,  0.73, -0.71]])"
      ]
     },
     "execution_count": 6,
     "metadata": {},
     "output_type": "execute_result"
    }
   ],
   "source": [
    "all_data"
   ]
  },
  {
   "cell_type": "code",
   "execution_count": 7,
   "metadata": {},
   "outputs": [
    {
     "data": {
      "text/plain": [
       "array([[-0.8 , -0.9 ],\n",
       "       [ 0.53,  0.43],\n",
       "       [ 0.63, -0.96],\n",
       "       ...,\n",
       "       [-0.4 , -0.17],\n",
       "       [ 0.21,  0.83],\n",
       "       [ 0.01,  0.72]])"
      ]
     },
     "execution_count": 7,
     "metadata": {},
     "output_type": "execute_result"
    }
   ],
   "source": [
    "inputs"
   ]
  },
  {
   "cell_type": "code",
   "execution_count": 8,
   "metadata": {},
   "outputs": [
    {
     "data": {
      "text/plain": [
       "array([[-1.7 ,  0.1 ],\n",
       "       [ 0.96,  0.1 ],\n",
       "       [-0.33,  1.59],\n",
       "       ...,\n",
       "       [-0.57, -0.23],\n",
       "       [ 1.04, -0.62],\n",
       "       [ 0.73, -0.71]])"
      ]
     },
     "execution_count": 8,
     "metadata": {},
     "output_type": "execute_result"
    }
   ],
   "source": [
    "outputs"
   ]
  },
  {
   "cell_type": "markdown",
   "metadata": {},
   "source": [
    "To follow good practice, we split the data set into two parts, training and validation:"
   ]
  },
  {
   "cell_type": "code",
   "execution_count": 9,
   "metadata": {},
   "outputs": [],
   "source": [
    "training_inputs = inputs[0:699,:]\n",
    "validation_inputs = inputs[700:999,:]\n",
    "training_outputs = outputs[0:699,:]\n",
    "validation_outputs = outputs[700:999,:]"
   ]
  },
  {
   "cell_type": "code",
   "execution_count": 10,
   "metadata": {},
   "outputs": [
    {
     "name": "stdout",
     "output_type": "stream",
     "text": [
      "Epoch 1/100\n",
      "1000/1000 [==============================] - 0s 54us/step - loss: 0.7722 - accuracy: 0.4910\n",
      "Epoch 2/100\n",
      "1000/1000 [==============================] - 0s 14us/step - loss: 0.7485 - accuracy: 0.4980\n",
      "Epoch 3/100\n",
      "1000/1000 [==============================] - 0s 15us/step - loss: 0.7321 - accuracy: 0.6370\n",
      "Epoch 4/100\n",
      "1000/1000 [==============================] - 0s 14us/step - loss: 0.7194 - accuracy: 0.7920\n",
      "Epoch 5/100\n",
      "1000/1000 [==============================] - 0s 15us/step - loss: 0.7084 - accuracy: 0.8150\n",
      "Epoch 6/100\n",
      "1000/1000 [==============================] - 0s 14us/step - loss: 0.6978 - accuracy: 0.8420\n",
      "Epoch 7/100\n",
      "1000/1000 [==============================] - 0s 14us/step - loss: 0.6878 - accuracy: 0.8510\n",
      "Epoch 8/100\n",
      "1000/1000 [==============================] - 0s 15us/step - loss: 0.6784 - accuracy: 0.8530\n",
      "Epoch 9/100\n",
      "1000/1000 [==============================] - 0s 17us/step - loss: 0.6692 - accuracy: 0.8700\n",
      "Epoch 10/100\n",
      "1000/1000 [==============================] - 0s 17us/step - loss: 0.6604 - accuracy: 0.8710\n",
      "Epoch 11/100\n",
      "1000/1000 [==============================] - 0s 15us/step - loss: 0.6518 - accuracy: 0.8910\n",
      "Epoch 12/100\n",
      "1000/1000 [==============================] - 0s 15us/step - loss: 0.6433 - accuracy: 0.9000\n",
      "Epoch 13/100\n",
      "1000/1000 [==============================] - 0s 16us/step - loss: 0.6350 - accuracy: 0.9060\n",
      "Epoch 14/100\n",
      "1000/1000 [==============================] - 0s 15us/step - loss: 0.6267 - accuracy: 0.9110\n",
      "Epoch 15/100\n",
      "1000/1000 [==============================] - 0s 15us/step - loss: 0.6186 - accuracy: 0.9130\n",
      "Epoch 16/100\n",
      "1000/1000 [==============================] - 0s 16us/step - loss: 0.6105 - accuracy: 0.9240\n",
      "Epoch 17/100\n",
      "1000/1000 [==============================] - 0s 16us/step - loss: 0.6024 - accuracy: 0.9240\n",
      "Epoch 18/100\n",
      "1000/1000 [==============================] - 0s 16us/step - loss: 0.5943 - accuracy: 0.9330\n",
      "Epoch 19/100\n",
      "1000/1000 [==============================] - 0s 16us/step - loss: 0.5861 - accuracy: 0.9370\n",
      "Epoch 20/100\n",
      "1000/1000 [==============================] - 0s 16us/step - loss: 0.5781 - accuracy: 0.9430\n",
      "Epoch 21/100\n",
      "1000/1000 [==============================] - 0s 15us/step - loss: 0.5699 - accuracy: 0.9470\n",
      "Epoch 22/100\n",
      "1000/1000 [==============================] - 0s 16us/step - loss: 0.5615 - accuracy: 0.9510\n",
      "Epoch 23/100\n",
      "1000/1000 [==============================] - 0s 16us/step - loss: 0.5534 - accuracy: 0.9570\n",
      "Epoch 24/100\n",
      "1000/1000 [==============================] - 0s 15us/step - loss: 0.5451 - accuracy: 0.9600\n",
      "Epoch 25/100\n",
      "1000/1000 [==============================] - 0s 17us/step - loss: 0.5366 - accuracy: 0.9660\n",
      "Epoch 26/100\n",
      "1000/1000 [==============================] - 0s 15us/step - loss: 0.5284 - accuracy: 0.9630\n",
      "Epoch 27/100\n",
      "1000/1000 [==============================] - 0s 15us/step - loss: 0.5200 - accuracy: 0.9720\n",
      "Epoch 28/100\n",
      "1000/1000 [==============================] - 0s 15us/step - loss: 0.5116 - accuracy: 0.9730\n",
      "Epoch 29/100\n",
      "1000/1000 [==============================] - 0s 15us/step - loss: 0.5032 - accuracy: 0.9750\n",
      "Epoch 30/100\n",
      "1000/1000 [==============================] - 0s 15us/step - loss: 0.4950 - accuracy: 0.9810\n",
      "Epoch 31/100\n",
      "1000/1000 [==============================] - 0s 14us/step - loss: 0.4867 - accuracy: 0.9820\n",
      "Epoch 32/100\n",
      "1000/1000 [==============================] - 0s 14us/step - loss: 0.4785 - accuracy: 0.9850\n",
      "Epoch 33/100\n",
      "1000/1000 [==============================] - 0s 15us/step - loss: 0.4705 - accuracy: 0.9880\n",
      "Epoch 34/100\n",
      "1000/1000 [==============================] - 0s 16us/step - loss: 0.4625 - accuracy: 0.9870\n",
      "Epoch 35/100\n",
      "1000/1000 [==============================] - 0s 16us/step - loss: 0.4547 - accuracy: 0.9930\n",
      "Epoch 36/100\n",
      "1000/1000 [==============================] - 0s 17us/step - loss: 0.4469 - accuracy: 0.9910\n",
      "Epoch 37/100\n",
      "1000/1000 [==============================] - 0s 15us/step - loss: 0.4394 - accuracy: 0.9940\n",
      "Epoch 38/100\n",
      "1000/1000 [==============================] - 0s 15us/step - loss: 0.4320 - accuracy: 0.9940\n",
      "Epoch 39/100\n",
      "1000/1000 [==============================] - 0s 15us/step - loss: 0.4247 - accuracy: 0.9940\n",
      "Epoch 40/100\n",
      "1000/1000 [==============================] - 0s 15us/step - loss: 0.4178 - accuracy: 0.9930\n",
      "Epoch 41/100\n",
      "1000/1000 [==============================] - 0s 14us/step - loss: 0.4110 - accuracy: 0.9920\n",
      "Epoch 42/100\n",
      "1000/1000 [==============================] - 0s 16us/step - loss: 0.4042 - accuracy: 0.9910\n",
      "Epoch 43/100\n",
      "1000/1000 [==============================] - 0s 15us/step - loss: 0.3979 - accuracy: 1.0000\n",
      "Epoch 44/100\n",
      "1000/1000 [==============================] - 0s 15us/step - loss: 0.3916 - accuracy: 0.9970\n",
      "Epoch 45/100\n",
      "1000/1000 [==============================] - 0s 15us/step - loss: 0.3855 - accuracy: 0.9960\n",
      "Epoch 46/100\n",
      "1000/1000 [==============================] - 0s 14us/step - loss: 0.3798 - accuracy: 0.9970\n",
      "Epoch 47/100\n",
      "1000/1000 [==============================] - 0s 16us/step - loss: 0.3740 - accuracy: 0.9960\n",
      "Epoch 48/100\n",
      "1000/1000 [==============================] - 0s 15us/step - loss: 0.3687 - accuracy: 0.9910\n",
      "Epoch 49/100\n",
      "1000/1000 [==============================] - 0s 15us/step - loss: 0.3633 - accuracy: 0.9910\n",
      "Epoch 50/100\n",
      "1000/1000 [==============================] - 0s 15us/step - loss: 0.3583 - accuracy: 0.9900\n",
      "Epoch 51/100\n",
      "1000/1000 [==============================] - 0s 14us/step - loss: 0.3534 - accuracy: 0.9900\n",
      "Epoch 52/100\n",
      "1000/1000 [==============================] - 0s 15us/step - loss: 0.3486 - accuracy: 0.9910\n",
      "Epoch 53/100\n",
      "1000/1000 [==============================] - 0s 15us/step - loss: 0.3440 - accuracy: 0.9890\n",
      "Epoch 54/100\n",
      "1000/1000 [==============================] - 0s 14us/step - loss: 0.3394 - accuracy: 0.9890\n",
      "Epoch 55/100\n",
      "1000/1000 [==============================] - 0s 14us/step - loss: 0.3352 - accuracy: 0.9890\n",
      "Epoch 56/100\n",
      "1000/1000 [==============================] - 0s 14us/step - loss: 0.3309 - accuracy: 0.9880\n",
      "Epoch 57/100\n",
      "1000/1000 [==============================] - 0s 19us/step - loss: 0.3269 - accuracy: 0.9870\n",
      "Epoch 58/100\n",
      "1000/1000 [==============================] - 0s 15us/step - loss: 0.3228 - accuracy: 0.9880\n",
      "Epoch 59/100\n",
      "1000/1000 [==============================] - 0s 16us/step - loss: 0.3189 - accuracy: 0.9880\n",
      "Epoch 60/100\n",
      "1000/1000 [==============================] - 0s 15us/step - loss: 0.3151 - accuracy: 0.9880\n",
      "Epoch 61/100\n",
      "1000/1000 [==============================] - 0s 14us/step - loss: 0.3112 - accuracy: 0.9870\n",
      "Epoch 62/100\n",
      "1000/1000 [==============================] - 0s 13us/step - loss: 0.3075 - accuracy: 0.9880\n",
      "Epoch 63/100\n",
      "1000/1000 [==============================] - 0s 14us/step - loss: 0.3037 - accuracy: 0.9860\n",
      "Epoch 64/100\n",
      "1000/1000 [==============================] - 0s 15us/step - loss: 0.3000 - accuracy: 0.9860\n",
      "Epoch 65/100\n",
      "1000/1000 [==============================] - 0s 14us/step - loss: 0.2963 - accuracy: 0.9860\n",
      "Epoch 66/100\n",
      "1000/1000 [==============================] - 0s 15us/step - loss: 0.2926 - accuracy: 0.9860\n",
      "Epoch 67/100\n",
      "1000/1000 [==============================] - 0s 15us/step - loss: 0.2889 - accuracy: 0.9860\n",
      "Epoch 68/100\n",
      "1000/1000 [==============================] - 0s 15us/step - loss: 0.2851 - accuracy: 0.9860\n",
      "Epoch 69/100\n",
      "1000/1000 [==============================] - 0s 15us/step - loss: 0.2814 - accuracy: 0.9850\n",
      "Epoch 70/100\n",
      "1000/1000 [==============================] - 0s 15us/step - loss: 0.2776 - accuracy: 0.9850\n",
      "Epoch 71/100\n",
      "1000/1000 [==============================] - 0s 16us/step - loss: 0.2738 - accuracy: 0.9860\n",
      "Epoch 72/100\n",
      "1000/1000 [==============================] - 0s 14us/step - loss: 0.2699 - accuracy: 0.9860\n",
      "Epoch 73/100\n",
      "1000/1000 [==============================] - 0s 15us/step - loss: 0.2659 - accuracy: 0.9850\n",
      "Epoch 74/100\n",
      "1000/1000 [==============================] - 0s 15us/step - loss: 0.2620 - accuracy: 0.9850\n",
      "Epoch 75/100\n",
      "1000/1000 [==============================] - 0s 15us/step - loss: 0.2579 - accuracy: 0.9860\n",
      "Epoch 76/100\n",
      "1000/1000 [==============================] - 0s 16us/step - loss: 0.2538 - accuracy: 0.9860\n",
      "Epoch 77/100\n",
      "1000/1000 [==============================] - 0s 15us/step - loss: 0.2495 - accuracy: 0.9860\n",
      "Epoch 78/100\n",
      "1000/1000 [==============================] - 0s 16us/step - loss: 0.2453 - accuracy: 0.9850\n",
      "Epoch 79/100\n"
     ]
    },
    {
     "name": "stdout",
     "output_type": "stream",
     "text": [
      "1000/1000 [==============================] - 0s 15us/step - loss: 0.2410 - accuracy: 0.9860\n",
      "Epoch 80/100\n",
      "1000/1000 [==============================] - 0s 16us/step - loss: 0.2367 - accuracy: 0.9860\n",
      "Epoch 81/100\n",
      "1000/1000 [==============================] - 0s 15us/step - loss: 0.2323 - accuracy: 0.9860\n",
      "Epoch 82/100\n",
      "1000/1000 [==============================] - 0s 14us/step - loss: 0.2278 - accuracy: 0.9860\n",
      "Epoch 83/100\n",
      "1000/1000 [==============================] - 0s 15us/step - loss: 0.2233 - accuracy: 0.9860\n",
      "Epoch 84/100\n",
      "1000/1000 [==============================] - 0s 14us/step - loss: 0.2187 - accuracy: 0.9850\n",
      "Epoch 85/100\n",
      "1000/1000 [==============================] - 0s 14us/step - loss: 0.2141 - accuracy: 0.9860\n",
      "Epoch 86/100\n",
      "1000/1000 [==============================] - 0s 15us/step - loss: 0.2094 - accuracy: 0.9860\n",
      "Epoch 87/100\n",
      "1000/1000 [==============================] - 0s 15us/step - loss: 0.2046 - accuracy: 0.9850\n",
      "Epoch 88/100\n",
      "1000/1000 [==============================] - 0s 15us/step - loss: 0.1999 - accuracy: 0.9860\n",
      "Epoch 89/100\n",
      "1000/1000 [==============================] - 0s 14us/step - loss: 0.1951 - accuracy: 0.9860\n",
      "Epoch 90/100\n",
      "1000/1000 [==============================] - 0s 15us/step - loss: 0.1903 - accuracy: 0.9860\n",
      "Epoch 91/100\n",
      "1000/1000 [==============================] - 0s 14us/step - loss: 0.1854 - accuracy: 0.9860\n",
      "Epoch 92/100\n",
      "1000/1000 [==============================] - 0s 15us/step - loss: 0.1806 - accuracy: 0.9860\n",
      "Epoch 93/100\n",
      "1000/1000 [==============================] - 0s 14us/step - loss: 0.1757 - accuracy: 0.9860\n",
      "Epoch 94/100\n",
      "1000/1000 [==============================] - 0s 16us/step - loss: 0.1709 - accuracy: 0.9860\n",
      "Epoch 95/100\n",
      "1000/1000 [==============================] - 0s 16us/step - loss: 0.1660 - accuracy: 0.9870\n",
      "Epoch 96/100\n",
      "1000/1000 [==============================] - 0s 15us/step - loss: 0.1612 - accuracy: 0.9860\n",
      "Epoch 97/100\n",
      "1000/1000 [==============================] - 0s 15us/step - loss: 0.1564 - accuracy: 0.9860\n",
      "Epoch 98/100\n",
      "1000/1000 [==============================] - 0s 15us/step - loss: 0.1516 - accuracy: 0.9860\n",
      "Epoch 99/100\n",
      "1000/1000 [==============================] - 0s 15us/step - loss: 0.1469 - accuracy: 0.9860\n",
      "Epoch 100/100\n",
      "1000/1000 [==============================] - 0s 13us/step - loss: 0.1422 - accuracy: 0.9860\n"
     ]
    },
    {
     "data": {
      "text/plain": [
       "<keras.callbacks.callbacks.History at 0xea04dc8>"
      ]
     },
     "execution_count": 10,
     "metadata": {},
     "output_type": "execute_result"
    }
   ],
   "source": [
    "network.fit(inputs, outputs, epochs=100)"
   ]
  },
  {
   "cell_type": "markdown",
   "metadata": {},
   "source": [
    "Continue from here on you own:\n",
    "<ul>\n",
    "\t<li>Test the trained model on the validation data; can you see any signs of over training?</li>\n",
    "    <li>Generate plots that shows how fast the training converges; you may copy-paste some lines from the 3.5-classifying-movie-reviewsCORRECTED-BY-HC.ipynb notebook</li>\n",
    "\t<li>Try to vary the training set-up in different ways to see the effect on the results (loss, accuracy, overtraining, speed of convergence:\n",
    "       <ul>\n",
    "\t     <li>Different number of nodes in the hidden layer</li>\n",
    "\t     <li>With and without bias and with momentum of different magnitudea (for each of the different number of nodes in the hidden layer)</li>\n",
    "\t     <li>Try to add more hidden layers to see the effect</li>\n",
    "\t     <li>Try out different activation functions as well as different optimizers and loss functions\n",
    "           (you will probably not know what they exactly mean, but try them anyhow to see if they are useful and perhaps try to find out more about them)</li>\n",
    "       </ul>\n",
    "    </li>\n",
    "\t<li>Find a mathematical expression that defines the sort of \"accuracy\" that Keras (and our textbook) applies. You teachers searches for a good answer resulted in useless references into some weird Python code.\n",
    "    </li>\n",
    "\n",
    "</ul>\n"
   ]
  },
  {
   "cell_type": "code",
   "execution_count": null,
   "metadata": {},
   "outputs": [],
   "source": []
  }
 ],
 "metadata": {
  "kernelspec": {
   "display_name": "Python 3",
   "language": "python",
   "name": "python3"
  },
  "language_info": {
   "codemirror_mode": {
    "name": "ipython",
    "version": 3
   },
   "file_extension": ".py",
   "mimetype": "text/x-python",
   "name": "python",
   "nbconvert_exporter": "python",
   "pygments_lexer": "ipython3",
   "version": "3.7.9"
  }
 },
 "nbformat": 4,
 "nbformat_minor": 2
}
