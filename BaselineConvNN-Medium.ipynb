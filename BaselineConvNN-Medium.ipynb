{
 "cells": [
  {
   "cell_type": "code",
   "execution_count": 1,
   "metadata": {},
   "outputs": [
    {
     "name": "stderr",
     "output_type": "stream",
     "text": [
      "Using TensorFlow backend.\n"
     ]
    },
    {
     "data": {
      "text/plain": [
       "'2.3.1'"
      ]
     },
     "execution_count": 1,
     "metadata": {},
     "output_type": "execute_result"
    }
   ],
   "source": [
    "import os\n",
    "import keras\n",
    "\n",
    "from keras.preprocessing.image import ImageDataGenerator\n",
    "\n",
    "keras.__version__"
   ]
  },
  {
   "cell_type": "code",
   "execution_count": 2,
   "metadata": {},
   "outputs": [],
   "source": [
    "from tensorflow.compat.v1 import ConfigProto\n",
    "from tensorflow.compat.v1 import InteractiveSession\n",
    "# Limits GPU-RAM usage\n",
    "config = ConfigProto()\n",
    "config.gpu_options.allow_growth = True\n",
    "session = InteractiveSession(config=config)"
   ]
  },
  {
   "cell_type": "code",
   "execution_count": 3,
   "metadata": {},
   "outputs": [],
   "source": [
    "epochs = 50\n",
    "batch_size = 5\n",
    "target_width = 150\n",
    "target_height = 150\n",
    "target_size = (target_width, target_height)\n",
    "target_shape = (target_width, target_height, 3) # 3 for color\n",
    "base_dir = 'Course notebooks\\paintings'"
   ]
  },
  {
   "cell_type": "code",
   "execution_count": 4,
   "metadata": {},
   "outputs": [],
   "source": [
    "def get_generator(base_dir, folderName):\n",
    "    directory = os.path.join(base_dir, folderName)\n",
    "    return ImageDataGenerator(rescale=1./255).flow_from_directory(\n",
    "        directory, \n",
    "        target_size, \n",
    "        batch_size= batch_size,\n",
    "        shuffle=True,\n",
    "        class_mode='sparse'\n",
    "    )"
   ]
  },
  {
   "cell_type": "code",
   "execution_count": 5,
   "metadata": {},
   "outputs": [
    {
     "name": "stdout",
     "output_type": "stream",
     "text": [
      "Found 210 images belonging to 3 classes.\n",
      "Found 30 images belonging to 3 classes.\n",
      "Found 60 images belonging to 3 classes.\n"
     ]
    }
   ],
   "source": [
    "train_gen = get_generator(base_dir, 'train')\n",
    "test_gen = get_generator(base_dir, 'test')\n",
    "validation_gen = get_generator(base_dir, 'validation')"
   ]
  },
  {
   "cell_type": "code",
   "execution_count": 6,
   "metadata": {},
   "outputs": [],
   "source": [
    "numOfClasses = train_gen.num_classes\n",
    "\n",
    "numOfTrainSamples = train_gen.n\n",
    "numOfTestSamples = test_gen.n\n",
    "numOfValSamples = validation_gen.n"
   ]
  },
  {
   "cell_type": "code",
   "execution_count": 7,
   "metadata": {},
   "outputs": [],
   "source": [
    "# Define Conv model"
   ]
  },
  {
   "cell_type": "code",
   "execution_count": 8,
   "metadata": {},
   "outputs": [],
   "source": [
    "from keras.applications import VGG16\n",
    "\n",
    "conv_base = VGG16(weights='imagenet', \n",
    "                  include_top=False, \n",
    "                  input_shape= target_shape) # honestly, I'm not sure whether height or width comes first"
   ]
  },
  {
   "cell_type": "code",
   "execution_count": 9,
   "metadata": {},
   "outputs": [
    {
     "name": "stdout",
     "output_type": "stream",
     "text": [
      "Model: \"vgg16\"\n",
      "_________________________________________________________________\n",
      "Layer (type)                 Output Shape              Param #   \n",
      "=================================================================\n",
      "input_1 (InputLayer)         (None, 150, 150, 3)       0         \n",
      "_________________________________________________________________\n",
      "block1_conv1 (Conv2D)        (None, 150, 150, 64)      1792      \n",
      "_________________________________________________________________\n",
      "block1_conv2 (Conv2D)        (None, 150, 150, 64)      36928     \n",
      "_________________________________________________________________\n",
      "block1_pool (MaxPooling2D)   (None, 75, 75, 64)        0         \n",
      "_________________________________________________________________\n",
      "block2_conv1 (Conv2D)        (None, 75, 75, 128)       73856     \n",
      "_________________________________________________________________\n",
      "block2_conv2 (Conv2D)        (None, 75, 75, 128)       147584    \n",
      "_________________________________________________________________\n",
      "block2_pool (MaxPooling2D)   (None, 37, 37, 128)       0         \n",
      "_________________________________________________________________\n",
      "block3_conv1 (Conv2D)        (None, 37, 37, 256)       295168    \n",
      "_________________________________________________________________\n",
      "block3_conv2 (Conv2D)        (None, 37, 37, 256)       590080    \n",
      "_________________________________________________________________\n",
      "block3_conv3 (Conv2D)        (None, 37, 37, 256)       590080    \n",
      "_________________________________________________________________\n",
      "block3_pool (MaxPooling2D)   (None, 18, 18, 256)       0         \n",
      "_________________________________________________________________\n",
      "block4_conv1 (Conv2D)        (None, 18, 18, 512)       1180160   \n",
      "_________________________________________________________________\n",
      "block4_conv2 (Conv2D)        (None, 18, 18, 512)       2359808   \n",
      "_________________________________________________________________\n",
      "block4_conv3 (Conv2D)        (None, 18, 18, 512)       2359808   \n",
      "_________________________________________________________________\n",
      "block4_pool (MaxPooling2D)   (None, 9, 9, 512)         0         \n",
      "_________________________________________________________________\n",
      "block5_conv1 (Conv2D)        (None, 9, 9, 512)         2359808   \n",
      "_________________________________________________________________\n",
      "block5_conv2 (Conv2D)        (None, 9, 9, 512)         2359808   \n",
      "_________________________________________________________________\n",
      "block5_conv3 (Conv2D)        (None, 9, 9, 512)         2359808   \n",
      "_________________________________________________________________\n",
      "block5_pool (MaxPooling2D)   (None, 4, 4, 512)         0         \n",
      "=================================================================\n",
      "Total params: 14,714,688\n",
      "Trainable params: 14,714,688\n",
      "Non-trainable params: 0\n",
      "_________________________________________________________________\n"
     ]
    }
   ],
   "source": [
    "conv_base.summary()"
   ]
  },
  {
   "cell_type": "code",
   "execution_count": 10,
   "metadata": {},
   "outputs": [],
   "source": [
    "block3_pool_width = 18\n",
    "block3_pool_height = 18\n",
    "block3_pool_area = block3_pool_width * block3_pool_height\n",
    "block3_pool_no_of_filters = 256\n",
    "\n",
    "## Following not used, but included for completeness and your own possible experiments\n",
    "block5_pool_width = 4\n",
    "block5_pool_height = 4\n",
    "block5_pool_area = block5_pool_width * block5_pool_height\n",
    "block5_pool_no_of_filters = 512"
   ]
  },
  {
   "cell_type": "code",
   "execution_count": 11,
   "metadata": {},
   "outputs": [],
   "source": [
    "from keras import Model\n",
    "\n",
    "intermediate_layer_model = Model(inputs=conv_base.input, \n",
    "                                 outputs=conv_base.get_layer('block3_pool').output)\n",
    "no_of_filters_left = 100"
   ]
  },
  {
   "cell_type": "code",
   "execution_count": 12,
   "metadata": {},
   "outputs": [],
   "source": [
    "from keras.utils.np_utils import to_categorical\n",
    "\n",
    "def extract_features(generator, sample_count):\n",
    "    features = np.zeros(shape=(sample_count, block3_pool_width, block3_pool_height, block3_pool_no_of_filters))\n",
    "    labels = np.zeros(shape=(sample_count))\n",
    "    \n",
    "    i = 0\n",
    "    for inputs_batch, labels_batch in generator:\n",
    "        features_batch = intermediate_layer_model.predict(inputs_batch)\n",
    "        features[i * batch_size : (i + 1) * batch_size] = features_batch\n",
    "        labels[i * batch_size : (i + 1) * batch_size] = labels_batch\n",
    "        i += 1\n",
    "        if i * batch_size >= sample_count:\n",
    "            # Note that since generators yield data indefinitely in a loop,\n",
    "            # we must `break` after every image has been seen once.\n",
    "            break\n",
    "\n",
    "    ### Now throwing away most of the features (= results of features)\n",
    "    features = features[:,:,:,0:no_of_filters_left]\n",
    "    ### convert labels 0, 1, and 2 to [1,0,0], [0,1,0] and [0,0,1] \n",
    "    labels = to_categorical(labels)\n",
    "    return features, labels"
   ]
  },
  {
   "cell_type": "code",
   "execution_count": 13,
   "metadata": {},
   "outputs": [],
   "source": [
    "import numpy as np\n",
    "\n",
    "train_features, train_labels = extract_features(train_gen, numOfTrainSamples)\n",
    "\n",
    "validation_features, validation_labels = extract_features(validation_gen, numOfValSamples)\n",
    "\n",
    "test_features, test_labels = extract_features(test_gen, numOfTestSamples)"
   ]
  },
  {
   "cell_type": "code",
   "execution_count": 14,
   "metadata": {},
   "outputs": [],
   "source": [
    "train_features = np.reshape(train_features, (numOfTrainSamples, block3_pool_area * no_of_filters_left))\n",
    "validation_features = np.reshape(validation_features, (numOfValSamples, block3_pool_area * no_of_filters_left))\n",
    "test_features = np.reshape(test_features, (numOfTestSamples, block3_pool_area * no_of_filters_left))"
   ]
  },
  {
   "cell_type": "code",
   "execution_count": 15,
   "metadata": {},
   "outputs": [],
   "source": [
    "# Define Dense model"
   ]
  },
  {
   "cell_type": "code",
   "execution_count": 16,
   "metadata": {},
   "outputs": [],
   "source": [
    "from keras import models\n",
    "from keras.layers import InputLayer, Flatten, Dense, Dropout\n",
    "\n",
    "def get_model(shape, nClasses):\n",
    "    return keras.Sequential([\n",
    "        InputLayer(input_shape=shape),\n",
    "        #Flatten(),    ### Need to flatten if dense NN else if ConvNet no need to flatten.\n",
    "        Dense(32, activation='relu'),\n",
    "        Dropout(0.5),\n",
    "        Dense(8, activation='relu'),\n",
    "        Dense(nClasses, activation='sigmoid'),\n",
    "    ],)"
   ]
  },
  {
   "cell_type": "code",
   "execution_count": 17,
   "metadata": {},
   "outputs": [],
   "source": [
    "input_shape = (block3_pool_area * no_of_filters_left, ) # needs the \", \" in the end for the InputLayer in the model\n",
    "model = get_model(input_shape, numOfClasses)"
   ]
  },
  {
   "cell_type": "code",
   "execution_count": 18,
   "metadata": {},
   "outputs": [],
   "source": [
    "# train model"
   ]
  },
  {
   "cell_type": "code",
   "execution_count": 19,
   "metadata": {},
   "outputs": [],
   "source": [
    "from keras import optimizers\n",
    "\n",
    "model.compile(loss=\"binary_crossentropy\", optimizer=optimizers.RMSprop(lr=2e-5), metrics=[\"acc\"])"
   ]
  },
  {
   "cell_type": "code",
   "execution_count": 20,
   "metadata": {},
   "outputs": [
    {
     "name": "stdout",
     "output_type": "stream",
     "text": [
      "Model: \"sequential_1\"\n",
      "_________________________________________________________________\n",
      "Layer (type)                 Output Shape              Param #   \n",
      "=================================================================\n",
      "dense_1 (Dense)              (None, 32)                1036832   \n",
      "_________________________________________________________________\n",
      "dropout_1 (Dropout)          (None, 32)                0         \n",
      "_________________________________________________________________\n",
      "dense_2 (Dense)              (None, 8)                 264       \n",
      "_________________________________________________________________\n",
      "dense_3 (Dense)              (None, 3)                 27        \n",
      "=================================================================\n",
      "Total params: 1,037,123\n",
      "Trainable params: 1,037,123\n",
      "Non-trainable params: 0\n",
      "_________________________________________________________________\n"
     ]
    }
   ],
   "source": [
    "model.summary()"
   ]
  },
  {
   "cell_type": "code",
   "execution_count": 21,
   "metadata": {
    "scrolled": true
   },
   "outputs": [
    {
     "name": "stdout",
     "output_type": "stream",
     "text": [
      "Train on 210 samples, validate on 60 samples\n",
      "Epoch 1/50\n",
      "210/210 [==============================] - 1s 3ms/step - loss: 1.6650 - acc: 0.5968 - val_loss: 0.6728 - val_acc: 0.6944\n",
      "Epoch 2/50\n",
      "210/210 [==============================] - 0s 2ms/step - loss: 0.9067 - acc: 0.6143 - val_loss: 0.6253 - val_acc: 0.6611\n",
      "Epoch 3/50\n",
      "210/210 [==============================] - 0s 2ms/step - loss: 0.6785 - acc: 0.6952 - val_loss: 0.5131 - val_acc: 0.7556\n",
      "Epoch 4/50\n",
      "210/210 [==============================] - 0s 2ms/step - loss: 0.5756 - acc: 0.7397 - val_loss: 0.5668 - val_acc: 0.7222\n",
      "Epoch 5/50\n",
      "210/210 [==============================] - 0s 2ms/step - loss: 0.5552 - acc: 0.7381 - val_loss: 0.4293 - val_acc: 0.8167\n",
      "Epoch 6/50\n",
      "210/210 [==============================] - 0s 2ms/step - loss: 0.5513 - acc: 0.7683 - val_loss: 0.4433 - val_acc: 0.7778\n",
      "Epoch 7/50\n",
      "210/210 [==============================] - 0s 2ms/step - loss: 0.5088 - acc: 0.7603 - val_loss: 0.4561 - val_acc: 0.7778\n",
      "Epoch 8/50\n",
      "210/210 [==============================] - 0s 2ms/step - loss: 0.4770 - acc: 0.7905 - val_loss: 0.4175 - val_acc: 0.8333\n",
      "Epoch 9/50\n",
      "210/210 [==============================] - 0s 2ms/step - loss: 0.4020 - acc: 0.8079 - val_loss: 0.4285 - val_acc: 0.8111\n",
      "Epoch 10/50\n",
      "210/210 [==============================] - 0s 2ms/step - loss: 0.3882 - acc: 0.8000 - val_loss: 0.3563 - val_acc: 0.8611\n",
      "Epoch 11/50\n",
      "210/210 [==============================] - 0s 2ms/step - loss: 0.4267 - acc: 0.7952 - val_loss: 0.4411 - val_acc: 0.8222\n",
      "Epoch 12/50\n",
      "210/210 [==============================] - 0s 2ms/step - loss: 0.3775 - acc: 0.8286 - val_loss: 0.5863 - val_acc: 0.8333\n",
      "Epoch 13/50\n",
      "210/210 [==============================] - 0s 2ms/step - loss: 0.3925 - acc: 0.8349 - val_loss: 0.4505 - val_acc: 0.8167\n",
      "Epoch 14/50\n",
      "210/210 [==============================] - 0s 2ms/step - loss: 0.3504 - acc: 0.8413 - val_loss: 0.3896 - val_acc: 0.8389\n",
      "Epoch 15/50\n",
      "210/210 [==============================] - 0s 2ms/step - loss: 0.3107 - acc: 0.8556 - val_loss: 0.3676 - val_acc: 0.8500\n",
      "Epoch 16/50\n",
      "210/210 [==============================] - 0s 2ms/step - loss: 0.3022 - acc: 0.8603 - val_loss: 0.4213 - val_acc: 0.8278\n",
      "Epoch 17/50\n",
      "210/210 [==============================] - 0s 2ms/step - loss: 0.3166 - acc: 0.8635 - val_loss: 0.4241 - val_acc: 0.8389\n",
      "Epoch 18/50\n",
      "210/210 [==============================] - 0s 2ms/step - loss: 0.2903 - acc: 0.8873 - val_loss: 0.4315 - val_acc: 0.8056\n",
      "Epoch 19/50\n",
      "210/210 [==============================] - 0s 2ms/step - loss: 0.2986 - acc: 0.8429 - val_loss: 0.4122 - val_acc: 0.8389\n",
      "Epoch 20/50\n",
      "210/210 [==============================] - 0s 2ms/step - loss: 0.2757 - acc: 0.8937 - val_loss: 0.3701 - val_acc: 0.8500\n",
      "Epoch 21/50\n",
      "210/210 [==============================] - 0s 2ms/step - loss: 0.2745 - acc: 0.8921 - val_loss: 0.3274 - val_acc: 0.8556\n",
      "Epoch 22/50\n",
      "210/210 [==============================] - 0s 2ms/step - loss: 0.3000 - acc: 0.8841 - val_loss: 0.4342 - val_acc: 0.8333\n",
      "Epoch 23/50\n",
      "210/210 [==============================] - 0s 2ms/step - loss: 0.2294 - acc: 0.9159 - val_loss: 0.3708 - val_acc: 0.8500\n",
      "Epoch 24/50\n",
      "210/210 [==============================] - 0s 2ms/step - loss: 0.2557 - acc: 0.9048 - val_loss: 0.4064 - val_acc: 0.8333\n",
      "Epoch 25/50\n",
      "210/210 [==============================] - 0s 2ms/step - loss: 0.2794 - acc: 0.8810 - val_loss: 0.4040 - val_acc: 0.8278\n",
      "Epoch 26/50\n",
      "210/210 [==============================] - 0s 2ms/step - loss: 0.2268 - acc: 0.8810 - val_loss: 0.4224 - val_acc: 0.8722\n",
      "Epoch 27/50\n",
      "210/210 [==============================] - 0s 2ms/step - loss: 0.2602 - acc: 0.8762 - val_loss: 0.3083 - val_acc: 0.8833\n",
      "Epoch 28/50\n",
      "210/210 [==============================] - 0s 2ms/step - loss: 0.2468 - acc: 0.8968 - val_loss: 0.2573 - val_acc: 0.9000\n",
      "Epoch 29/50\n",
      "210/210 [==============================] - 0s 2ms/step - loss: 0.2510 - acc: 0.9016 - val_loss: 0.2668 - val_acc: 0.8944\n",
      "Epoch 30/50\n",
      "210/210 [==============================] - 0s 2ms/step - loss: 0.2164 - acc: 0.8984 - val_loss: 0.2193 - val_acc: 0.9167\n",
      "Epoch 31/50\n",
      "210/210 [==============================] - 0s 2ms/step - loss: 0.2055 - acc: 0.9159 - val_loss: 0.3131 - val_acc: 0.8889\n",
      "Epoch 32/50\n",
      "210/210 [==============================] - 0s 2ms/step - loss: 0.1998 - acc: 0.9222 - val_loss: 0.3213 - val_acc: 0.8556\n",
      "Epoch 33/50\n",
      "210/210 [==============================] - 0s 2ms/step - loss: 0.2294 - acc: 0.9159 - val_loss: 0.4390 - val_acc: 0.8333\n",
      "Epoch 34/50\n",
      "210/210 [==============================] - 0s 2ms/step - loss: 0.2155 - acc: 0.9063 - val_loss: 0.3066 - val_acc: 0.8722\n",
      "Epoch 35/50\n",
      "210/210 [==============================] - 0s 2ms/step - loss: 0.2171 - acc: 0.9143 - val_loss: 0.3118 - val_acc: 0.8833\n",
      "Epoch 36/50\n",
      "210/210 [==============================] - 0s 2ms/step - loss: 0.2035 - acc: 0.9159 - val_loss: 0.2918 - val_acc: 0.8944\n",
      "Epoch 37/50\n",
      "210/210 [==============================] - 0s 2ms/step - loss: 0.1928 - acc: 0.9254 - val_loss: 0.3072 - val_acc: 0.8722\n",
      "Epoch 38/50\n",
      "210/210 [==============================] - 0s 2ms/step - loss: 0.2361 - acc: 0.9048 - val_loss: 0.3053 - val_acc: 0.9000\n",
      "Epoch 39/50\n",
      "210/210 [==============================] - 0s 2ms/step - loss: 0.2135 - acc: 0.9127 - val_loss: 0.3749 - val_acc: 0.8556\n",
      "Epoch 40/50\n",
      "210/210 [==============================] - 0s 2ms/step - loss: 0.1814 - acc: 0.9333 - val_loss: 0.4634 - val_acc: 0.8389\n",
      "Epoch 41/50\n",
      "210/210 [==============================] - 0s 2ms/step - loss: 0.2117 - acc: 0.8952 - val_loss: 0.4035 - val_acc: 0.8167\n",
      "Epoch 42/50\n",
      "210/210 [==============================] - 0s 2ms/step - loss: 0.2152 - acc: 0.9095 - val_loss: 0.3508 - val_acc: 0.8556\n",
      "Epoch 43/50\n",
      "210/210 [==============================] - 0s 2ms/step - loss: 0.1777 - acc: 0.9270 - val_loss: 0.4905 - val_acc: 0.8500\n",
      "Epoch 44/50\n",
      "210/210 [==============================] - 0s 2ms/step - loss: 0.1847 - acc: 0.9206 - val_loss: 0.2996 - val_acc: 0.8722\n",
      "Epoch 45/50\n",
      "210/210 [==============================] - 0s 2ms/step - loss: 0.2111 - acc: 0.9206 - val_loss: 0.2346 - val_acc: 0.9111\n",
      "Epoch 46/50\n",
      "210/210 [==============================] - 0s 2ms/step - loss: 0.1882 - acc: 0.9317 - val_loss: 0.2938 - val_acc: 0.8833\n",
      "Epoch 47/50\n",
      "210/210 [==============================] - 0s 2ms/step - loss: 0.1577 - acc: 0.9365 - val_loss: 0.2531 - val_acc: 0.9111\n",
      "Epoch 48/50\n",
      "210/210 [==============================] - 0s 2ms/step - loss: 0.1713 - acc: 0.9175 - val_loss: 0.2778 - val_acc: 0.8889\n",
      "Epoch 49/50\n",
      "210/210 [==============================] - 0s 2ms/step - loss: 0.2169 - acc: 0.8968 - val_loss: 0.2595 - val_acc: 0.9167\n",
      "Epoch 50/50\n",
      "210/210 [==============================] - 0s 2ms/step - loss: 0.1557 - acc: 0.9349 - val_loss: 0.3136 - val_acc: 0.8778\n"
     ]
    }
   ],
   "source": [
    "history = model.fit(\n",
    "    train_features, \n",
    "    train_labels,\n",
    "    epochs=epochs,\n",
    "    batch_size=batch_size,\n",
    "    validation_data=(validation_features, validation_labels))"
   ]
  },
  {
   "cell_type": "code",
   "execution_count": 22,
   "metadata": {},
   "outputs": [],
   "source": [
    "#model.save('baseline.h5')"
   ]
  },
  {
   "cell_type": "code",
   "execution_count": 23,
   "metadata": {},
   "outputs": [],
   "source": [
    "# validation"
   ]
  },
  {
   "cell_type": "code",
   "execution_count": 26,
   "metadata": {},
   "outputs": [
    {
     "data": {
      "image/png": "[encoded data removed]",
      "text/plain": [
       "<Figure size 432x288 with 1 Axes>"
      ]
     },
     "metadata": {
      "needs_background": "light"
     },
     "output_type": "display_data"
    },
    {
     "data": {
      "image/png": "[encoded data removed]",
      "text/plain": [
       "<Figure size 432x288 with 1 Axes>"
      ]
     },
     "metadata": {
      "needs_background": "light"
     },
     "output_type": "display_data"
    }
   ],
   "source": [
    "import matplotlib.pyplot as plt\n",
    "\n",
    "acc = history.history['acc']\n",
    "val_acc = history.history['val_acc']\n",
    "loss = history.history['loss']\n",
    "val_loss = history.history['val_loss']\n",
    "\n",
    "epochs = range(len(acc))\n",
    "\n",
    "plt.plot(epochs, acc, 'bo', label='Training acc')\n",
    "plt.plot(epochs, val_acc, 'b', label='Validation acc')\n",
    "plt.title('Training and validation accuracy - params: 1,037,123')\n",
    "plt.legend()\n",
    "\n",
    "plt.figure()\n",
    "\n",
    "plt.plot(epochs, loss, 'bo', label='Training loss')\n",
    "plt.plot(epochs, val_loss, 'b', label='Validation loss')\n",
    "plt.title('Training and validation loss - params: 1,037,123')\n",
    "plt.legend()\n",
    "\n",
    "plt.show()"
   ]
  },
  {
   "cell_type": "code",
   "execution_count": null,
   "metadata": {},
   "outputs": [],
   "source": []
  }
 ],
 "metadata": {
  "kernelspec": {
   "display_name": "Python 3",
   "language": "python",
   "name": "python3"
  },
  "language_info": {
   "codemirror_mode": {
    "name": "ipython",
    "version": 3
   },
   "file_extension": ".py",
   "mimetype": "text/x-python",
   "name": "python",
   "nbconvert_exporter": "python",
   "pygments_lexer": "ipython3",
   "version": "3.7.9"
  }
 },
 "nbformat": 4,
 "nbformat_minor": 4
}
