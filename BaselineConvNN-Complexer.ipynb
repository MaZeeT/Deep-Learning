{
 "cells": [
  {
   "cell_type": "code",
   "execution_count": 1,
   "metadata": {},
   "outputs": [
    {
     "name": "stderr",
     "output_type": "stream",
     "text": [
      "Using TensorFlow backend.\n"
     ]
    },
    {
     "data": {
      "text/plain": [
       "'2.3.1'"
      ]
     },
     "execution_count": 1,
     "metadata": {},
     "output_type": "execute_result"
    }
   ],
   "source": [
    "import os\n",
    "import keras\n",
    "\n",
    "from keras.preprocessing.image import ImageDataGenerator\n",
    "\n",
    "keras.__version__"
   ]
  },
  {
   "cell_type": "code",
   "execution_count": 2,
   "metadata": {},
   "outputs": [],
   "source": [
    "from tensorflow.compat.v1 import ConfigProto\n",
    "from tensorflow.compat.v1 import InteractiveSession\n",
    "# Limits GPU-RAM usage\n",
    "config = ConfigProto()\n",
    "config.gpu_options.allow_growth = True\n",
    "session = InteractiveSession(config=config)"
   ]
  },
  {
   "cell_type": "code",
   "execution_count": 3,
   "metadata": {},
   "outputs": [],
   "source": [
    "epochs = 50\n",
    "batch_size = 5\n",
    "target_width = 150\n",
    "target_height = 150\n",
    "target_size = (target_width, target_height)\n",
    "target_shape = (target_width, target_height, 3) # 3 for color\n",
    "base_dir = 'Course notebooks\\paintings'"
   ]
  },
  {
   "cell_type": "code",
   "execution_count": 4,
   "metadata": {},
   "outputs": [],
   "source": [
    "def get_generator(base_dir, folderName):\n",
    "    directory = os.path.join(base_dir, folderName)\n",
    "    return ImageDataGenerator(rescale=1./255).flow_from_directory(\n",
    "        directory, \n",
    "        target_size, \n",
    "        batch_size= batch_size,\n",
    "        shuffle=True,\n",
    "        class_mode='sparse'\n",
    "    )"
   ]
  },
  {
   "cell_type": "code",
   "execution_count": 5,
   "metadata": {},
   "outputs": [
    {
     "name": "stdout",
     "output_type": "stream",
     "text": [
      "Found 210 images belonging to 3 classes.\n",
      "Found 30 images belonging to 3 classes.\n",
      "Found 60 images belonging to 3 classes.\n"
     ]
    }
   ],
   "source": [
    "train_gen = get_generator(base_dir, 'train')\n",
    "test_gen = get_generator(base_dir, 'test')\n",
    "validation_gen = get_generator(base_dir, 'validation')"
   ]
  },
  {
   "cell_type": "code",
   "execution_count": 6,
   "metadata": {},
   "outputs": [],
   "source": [
    "numOfClasses = train_gen.num_classes\n",
    "\n",
    "numOfTrainSamples = train_gen.n\n",
    "numOfTestSamples = test_gen.n\n",
    "numOfValSamples = validation_gen.n"
   ]
  },
  {
   "cell_type": "code",
   "execution_count": 7,
   "metadata": {},
   "outputs": [],
   "source": [
    "# Define Conv model"
   ]
  },
  {
   "cell_type": "code",
   "execution_count": 8,
   "metadata": {},
   "outputs": [],
   "source": [
    "from keras.applications import VGG16\n",
    "\n",
    "conv_base = VGG16(weights='imagenet', \n",
    "                  include_top=False, \n",
    "                  input_shape= target_shape) # honestly, I'm not sure whether height or width comes first"
   ]
  },
  {
   "cell_type": "code",
   "execution_count": 9,
   "metadata": {},
   "outputs": [
    {
     "name": "stdout",
     "output_type": "stream",
     "text": [
      "Model: \"vgg16\"\n",
      "_________________________________________________________________\n",
      "Layer (type)                 Output Shape              Param #   \n",
      "=================================================================\n",
      "input_1 (InputLayer)         (None, 150, 150, 3)       0         \n",
      "_________________________________________________________________\n",
      "block1_conv1 (Conv2D)        (None, 150, 150, 64)      1792      \n",
      "_________________________________________________________________\n",
      "block1_conv2 (Conv2D)        (None, 150, 150, 64)      36928     \n",
      "_________________________________________________________________\n",
      "block1_pool (MaxPooling2D)   (None, 75, 75, 64)        0         \n",
      "_________________________________________________________________\n",
      "block2_conv1 (Conv2D)        (None, 75, 75, 128)       73856     \n",
      "_________________________________________________________________\n",
      "block2_conv2 (Conv2D)        (None, 75, 75, 128)       147584    \n",
      "_________________________________________________________________\n",
      "block2_pool (MaxPooling2D)   (None, 37, 37, 128)       0         \n",
      "_________________________________________________________________\n",
      "block3_conv1 (Conv2D)        (None, 37, 37, 256)       295168    \n",
      "_________________________________________________________________\n",
      "block3_conv2 (Conv2D)        (None, 37, 37, 256)       590080    \n",
      "_________________________________________________________________\n",
      "block3_conv3 (Conv2D)        (None, 37, 37, 256)       590080    \n",
      "_________________________________________________________________\n",
      "block3_pool (MaxPooling2D)   (None, 18, 18, 256)       0         \n",
      "_________________________________________________________________\n",
      "block4_conv1 (Conv2D)        (None, 18, 18, 512)       1180160   \n",
      "_________________________________________________________________\n",
      "block4_conv2 (Conv2D)        (None, 18, 18, 512)       2359808   \n",
      "_________________________________________________________________\n",
      "block4_conv3 (Conv2D)        (None, 18, 18, 512)       2359808   \n",
      "_________________________________________________________________\n",
      "block4_pool (MaxPooling2D)   (None, 9, 9, 512)         0         \n",
      "_________________________________________________________________\n",
      "block5_conv1 (Conv2D)        (None, 9, 9, 512)         2359808   \n",
      "_________________________________________________________________\n",
      "block5_conv2 (Conv2D)        (None, 9, 9, 512)         2359808   \n",
      "_________________________________________________________________\n",
      "block5_conv3 (Conv2D)        (None, 9, 9, 512)         2359808   \n",
      "_________________________________________________________________\n",
      "block5_pool (MaxPooling2D)   (None, 4, 4, 512)         0         \n",
      "=================================================================\n",
      "Total params: 14,714,688\n",
      "Trainable params: 14,714,688\n",
      "Non-trainable params: 0\n",
      "_________________________________________________________________\n"
     ]
    }
   ],
   "source": [
    "conv_base.summary()"
   ]
  },
  {
   "cell_type": "code",
   "execution_count": 10,
   "metadata": {},
   "outputs": [],
   "source": [
    "block3_pool_width = 18\n",
    "block3_pool_height = 18\n",
    "block3_pool_area = block3_pool_width * block3_pool_height\n",
    "block3_pool_no_of_filters = 256\n",
    "\n",
    "## Following not used, but included for completeness and your own possible experiments\n",
    "block5_pool_width = 4\n",
    "block5_pool_height = 4\n",
    "block5_pool_area = block5_pool_width * block5_pool_height\n",
    "block5_pool_no_of_filters = 512"
   ]
  },
  {
   "cell_type": "code",
   "execution_count": 11,
   "metadata": {},
   "outputs": [],
   "source": [
    "from keras import Model\n",
    "\n",
    "intermediate_layer_model = Model(inputs=conv_base.input, \n",
    "                                 outputs=conv_base.get_layer('block3_pool').output)\n",
    "no_of_filters_left = 100"
   ]
  },
  {
   "cell_type": "code",
   "execution_count": 12,
   "metadata": {},
   "outputs": [],
   "source": [
    "from keras.utils.np_utils import to_categorical\n",
    "\n",
    "def extract_features(generator, sample_count):\n",
    "    features = np.zeros(shape=(sample_count, block3_pool_width, block3_pool_height, block3_pool_no_of_filters))\n",
    "    labels = np.zeros(shape=(sample_count))\n",
    "    \n",
    "    i = 0\n",
    "    for inputs_batch, labels_batch in generator:\n",
    "        features_batch = intermediate_layer_model.predict(inputs_batch)\n",
    "        features[i * batch_size : (i + 1) * batch_size] = features_batch\n",
    "        labels[i * batch_size : (i + 1) * batch_size] = labels_batch\n",
    "        i += 1\n",
    "        if i * batch_size >= sample_count:\n",
    "            # Note that since generators yield data indefinitely in a loop,\n",
    "            # we must `break` after every image has been seen once.\n",
    "            break\n",
    "\n",
    "    ### Now throwing away most of the features (= results of features)\n",
    "    features = features[:,:,:,0:no_of_filters_left]\n",
    "    ### convert labels 0, 1, and 2 to [1,0,0], [0,1,0] and [0,0,1] \n",
    "    labels = to_categorical(labels)\n",
    "    return features, labels"
   ]
  },
  {
   "cell_type": "code",
   "execution_count": 13,
   "metadata": {},
   "outputs": [],
   "source": [
    "import numpy as np\n",
    "\n",
    "train_features, train_labels = extract_features(train_gen, numOfTrainSamples)\n",
    "\n",
    "validation_features, validation_labels = extract_features(validation_gen, numOfValSamples)\n",
    "\n",
    "test_features, test_labels = extract_features(test_gen, numOfTestSamples)"
   ]
  },
  {
   "cell_type": "code",
   "execution_count": 14,
   "metadata": {},
   "outputs": [],
   "source": [
    "train_features = np.reshape(train_features, (numOfTrainSamples, block3_pool_area * no_of_filters_left))\n",
    "validation_features = np.reshape(validation_features, (numOfValSamples, block3_pool_area * no_of_filters_left))\n",
    "test_features = np.reshape(test_features, (numOfTestSamples, block3_pool_area * no_of_filters_left))"
   ]
  },
  {
   "cell_type": "code",
   "execution_count": 15,
   "metadata": {},
   "outputs": [],
   "source": [
    "# Define Dense model"
   ]
  },
  {
   "cell_type": "code",
   "execution_count": 16,
   "metadata": {},
   "outputs": [],
   "source": [
    "from keras import models\n",
    "from keras.layers import InputLayer, Flatten, Dense, Dropout\n",
    "\n",
    "def get_model(shape, nClasses):\n",
    "    return keras.Sequential([\n",
    "        InputLayer(input_shape=shape),\n",
    "        #Flatten(),    ### Need to flatten if dense NN else if ConvNet no need to flatten.\n",
    "        Dense(64, activation='relu'),\n",
    "        Dropout(0.5),\n",
    "        Dense(16, activation='relu'),\n",
    "        Dense(nClasses, activation='sigmoid'),\n",
    "    ],)"
   ]
  },
  {
   "cell_type": "code",
   "execution_count": 17,
   "metadata": {},
   "outputs": [],
   "source": [
    "input_shape = (block3_pool_area * no_of_filters_left, ) # needs the \", \" in the end for the InputLayer in the model\n",
    "model = get_model(input_shape, numOfClasses)"
   ]
  },
  {
   "cell_type": "code",
   "execution_count": 18,
   "metadata": {},
   "outputs": [],
   "source": [
    "# train model"
   ]
  },
  {
   "cell_type": "code",
   "execution_count": 19,
   "metadata": {},
   "outputs": [],
   "source": [
    "from keras import optimizers\n",
    "\n",
    "model.compile(loss=\"binary_crossentropy\", optimizer=optimizers.RMSprop(lr=2e-5), metrics=[\"acc\"])"
   ]
  },
  {
   "cell_type": "code",
   "execution_count": 20,
   "metadata": {},
   "outputs": [
    {
     "name": "stdout",
     "output_type": "stream",
     "text": [
      "Model: \"sequential_1\"\n",
      "_________________________________________________________________\n",
      "Layer (type)                 Output Shape              Param #   \n",
      "=================================================================\n",
      "dense_1 (Dense)              (None, 64)                2073664   \n",
      "_________________________________________________________________\n",
      "dropout_1 (Dropout)          (None, 64)                0         \n",
      "_________________________________________________________________\n",
      "dense_2 (Dense)              (None, 16)                1040      \n",
      "_________________________________________________________________\n",
      "dense_3 (Dense)              (None, 3)                 51        \n",
      "=================================================================\n",
      "Total params: 2,074,755\n",
      "Trainable params: 2,074,755\n",
      "Non-trainable params: 0\n",
      "_________________________________________________________________\n"
     ]
    }
   ],
   "source": [
    "model.summary()"
   ]
  },
  {
   "cell_type": "code",
   "execution_count": 21,
   "metadata": {
    "scrolled": true
   },
   "outputs": [
    {
     "name": "stdout",
     "output_type": "stream",
     "text": [
      "Train on 210 samples, validate on 60 samples\n",
      "Epoch 1/50\n",
      "210/210 [==============================] - 1s 5ms/step - loss: 3.5052 - acc: 0.5397 - val_loss: 1.1466 - val_acc: 0.6500\n",
      "Epoch 2/50\n",
      "210/210 [==============================] - 1s 4ms/step - loss: 1.2282 - acc: 0.6524 - val_loss: 0.6782 - val_acc: 0.6889\n",
      "Epoch 3/50\n",
      "210/210 [==============================] - 1s 4ms/step - loss: 0.8446 - acc: 0.6556 - val_loss: 0.6728 - val_acc: 0.7389\n",
      "Epoch 4/50\n",
      "210/210 [==============================] - 1s 4ms/step - loss: 0.6456 - acc: 0.7492 - val_loss: 0.4871 - val_acc: 0.7333\n",
      "Epoch 5/50\n",
      "210/210 [==============================] - 1s 4ms/step - loss: 0.5894 - acc: 0.7270 - val_loss: 0.4469 - val_acc: 0.7833\n",
      "Epoch 6/50\n",
      "210/210 [==============================] - 1s 4ms/step - loss: 0.5217 - acc: 0.7508 - val_loss: 0.4155 - val_acc: 0.7833\n",
      "Epoch 7/50\n",
      "210/210 [==============================] - 1s 4ms/step - loss: 0.4762 - acc: 0.7778 - val_loss: 0.4535 - val_acc: 0.7778\n",
      "Epoch 8/50\n",
      "210/210 [==============================] - 1s 4ms/step - loss: 0.3627 - acc: 0.8111 - val_loss: 0.6246 - val_acc: 0.7778\n",
      "Epoch 9/50\n",
      "210/210 [==============================] - 1s 4ms/step - loss: 0.3995 - acc: 0.8048 - val_loss: 0.3668 - val_acc: 0.8500\n",
      "Epoch 10/50\n",
      "210/210 [==============================] - 1s 4ms/step - loss: 0.4200 - acc: 0.8286 - val_loss: 0.3495 - val_acc: 0.8278\n",
      "Epoch 11/50\n",
      "210/210 [==============================] - 1s 4ms/step - loss: 0.3257 - acc: 0.8476 - val_loss: 0.3004 - val_acc: 0.8500\n",
      "Epoch 12/50\n",
      "210/210 [==============================] - 1s 4ms/step - loss: 0.2945 - acc: 0.8619 - val_loss: 0.4217 - val_acc: 0.7944\n",
      "Epoch 13/50\n",
      "210/210 [==============================] - 1s 4ms/step - loss: 0.3095 - acc: 0.8730 - val_loss: 0.3606 - val_acc: 0.8444\n",
      "Epoch 14/50\n",
      "210/210 [==============================] - 1s 5ms/step - loss: 0.2560 - acc: 0.8921 - val_loss: 0.3414 - val_acc: 0.8722\n",
      "Epoch 15/50\n",
      "210/210 [==============================] - 1s 4ms/step - loss: 0.2843 - acc: 0.8794 - val_loss: 0.3254 - val_acc: 0.8556\n",
      "Epoch 16/50\n",
      "210/210 [==============================] - 1s 4ms/step - loss: 0.2427 - acc: 0.8857 - val_loss: 0.3099 - val_acc: 0.8667\n",
      "Epoch 17/50\n",
      "210/210 [==============================] - 1s 4ms/step - loss: 0.2459 - acc: 0.8984 - val_loss: 0.2994 - val_acc: 0.8722\n",
      "Epoch 18/50\n",
      "210/210 [==============================] - 1s 4ms/step - loss: 0.2407 - acc: 0.8984 - val_loss: 0.3056 - val_acc: 0.8667\n",
      "Epoch 19/50\n",
      "210/210 [==============================] - 1s 4ms/step - loss: 0.1860 - acc: 0.9143 - val_loss: 0.4096 - val_acc: 0.8222\n",
      "Epoch 20/50\n",
      "210/210 [==============================] - 1s 4ms/step - loss: 0.1803 - acc: 0.9159 - val_loss: 0.4212 - val_acc: 0.8556\n",
      "Epoch 21/50\n",
      "210/210 [==============================] - 1s 4ms/step - loss: 0.2000 - acc: 0.9175 - val_loss: 0.2773 - val_acc: 0.8944\n",
      "Epoch 22/50\n",
      "210/210 [==============================] - 1s 4ms/step - loss: 0.1266 - acc: 0.9365 - val_loss: 0.3257 - val_acc: 0.8722\n",
      "Epoch 23/50\n",
      "210/210 [==============================] - 1s 4ms/step - loss: 0.2143 - acc: 0.9222 - val_loss: 0.3777 - val_acc: 0.8611\n",
      "Epoch 24/50\n",
      "210/210 [==============================] - 1s 4ms/step - loss: 0.2090 - acc: 0.9254 - val_loss: 0.3313 - val_acc: 0.8833\n",
      "Epoch 25/50\n",
      "210/210 [==============================] - 1s 4ms/step - loss: 0.1245 - acc: 0.9476 - val_loss: 0.3664 - val_acc: 0.8778\n",
      "Epoch 26/50\n",
      "210/210 [==============================] - 1s 4ms/step - loss: 0.1574 - acc: 0.9286 - val_loss: 0.2746 - val_acc: 0.8833\n",
      "Epoch 27/50\n",
      "210/210 [==============================] - 1s 4ms/step - loss: 0.1587 - acc: 0.9349 - val_loss: 0.3065 - val_acc: 0.8944\n",
      "Epoch 28/50\n",
      "210/210 [==============================] - 1s 4ms/step - loss: 0.1359 - acc: 0.9508 - val_loss: 0.3051 - val_acc: 0.8944\n",
      "Epoch 29/50\n",
      "210/210 [==============================] - 1s 4ms/step - loss: 0.1746 - acc: 0.9429 - val_loss: 0.2603 - val_acc: 0.9056\n",
      "Epoch 30/50\n",
      "210/210 [==============================] - 1s 4ms/step - loss: 0.1240 - acc: 0.9540 - val_loss: 0.2888 - val_acc: 0.9056\n",
      "Epoch 31/50\n",
      "210/210 [==============================] - 1s 4ms/step - loss: 0.1354 - acc: 0.9413 - val_loss: 0.2838 - val_acc: 0.9000\n",
      "Epoch 32/50\n",
      "210/210 [==============================] - 1s 4ms/step - loss: 0.1063 - acc: 0.9556 - val_loss: 0.2473 - val_acc: 0.9056\n",
      "Epoch 33/50\n",
      "210/210 [==============================] - 1s 4ms/step - loss: 0.1186 - acc: 0.9524 - val_loss: 0.2405 - val_acc: 0.9222\n",
      "Epoch 34/50\n",
      "210/210 [==============================] - 1s 4ms/step - loss: 0.0880 - acc: 0.9714 - val_loss: 0.2849 - val_acc: 0.9056\n",
      "Epoch 35/50\n",
      "210/210 [==============================] - 1s 4ms/step - loss: 0.0917 - acc: 0.9571 - val_loss: 0.2982 - val_acc: 0.8889\n",
      "Epoch 36/50\n",
      "210/210 [==============================] - 1s 4ms/step - loss: 0.1554 - acc: 0.9429 - val_loss: 0.3233 - val_acc: 0.8889\n",
      "Epoch 37/50\n",
      "210/210 [==============================] - 1s 4ms/step - loss: 0.1075 - acc: 0.9540 - val_loss: 0.2773 - val_acc: 0.9000\n",
      "Epoch 38/50\n",
      "210/210 [==============================] - 1s 4ms/step - loss: 0.1341 - acc: 0.9603 - val_loss: 0.2514 - val_acc: 0.9056\n",
      "Epoch 39/50\n",
      "210/210 [==============================] - 1s 4ms/step - loss: 0.1173 - acc: 0.9444 - val_loss: 0.2471 - val_acc: 0.8944\n",
      "Epoch 40/50\n",
      "210/210 [==============================] - 1s 4ms/step - loss: 0.1136 - acc: 0.9556 - val_loss: 0.2380 - val_acc: 0.9222\n",
      "Epoch 41/50\n",
      "210/210 [==============================] - 1s 4ms/step - loss: 0.1442 - acc: 0.9429 - val_loss: 0.2594 - val_acc: 0.9167\n",
      "Epoch 42/50\n",
      "210/210 [==============================] - 1s 4ms/step - loss: 0.0633 - acc: 0.9778 - val_loss: 0.3555 - val_acc: 0.8778\n",
      "Epoch 43/50\n",
      "210/210 [==============================] - 1s 4ms/step - loss: 0.1180 - acc: 0.9540 - val_loss: 0.2516 - val_acc: 0.9111\n",
      "Epoch 44/50\n",
      "210/210 [==============================] - 1s 4ms/step - loss: 0.1262 - acc: 0.9571 - val_loss: 0.2029 - val_acc: 0.9333\n",
      "Epoch 45/50\n",
      "210/210 [==============================] - 1s 4ms/step - loss: 0.0817 - acc: 0.9698 - val_loss: 0.2872 - val_acc: 0.9222\n",
      "Epoch 46/50\n",
      "210/210 [==============================] - 1s 4ms/step - loss: 0.1131 - acc: 0.9667 - val_loss: 0.3084 - val_acc: 0.8889\n",
      "Epoch 47/50\n",
      "210/210 [==============================] - 1s 5ms/step - loss: 0.0916 - acc: 0.9714 - val_loss: 0.2836 - val_acc: 0.9222\n",
      "Epoch 48/50\n",
      "210/210 [==============================] - 1s 4ms/step - loss: 0.0717 - acc: 0.9714 - val_loss: 0.4576 - val_acc: 0.8667\n",
      "Epoch 49/50\n",
      "210/210 [==============================] - 1s 4ms/step - loss: 0.1229 - acc: 0.9540 - val_loss: 0.2796 - val_acc: 0.9167\n",
      "Epoch 50/50\n",
      "210/210 [==============================] - 1s 5ms/step - loss: 0.1235 - acc: 0.9556 - val_loss: 0.3266 - val_acc: 0.8778\n"
     ]
    }
   ],
   "source": [
    "history = model.fit(\n",
    "    train_features, \n",
    "    train_labels,\n",
    "    epochs=epochs,\n",
    "    batch_size=batch_size,\n",
    "    validation_data=(validation_features, validation_labels))"
   ]
  },
  {
   "cell_type": "code",
   "execution_count": 22,
   "metadata": {},
   "outputs": [],
   "source": [
    "#model.save('baseline.h5')"
   ]
  },
  {
   "cell_type": "code",
   "execution_count": 23,
   "metadata": {},
   "outputs": [],
   "source": [
    "# validation"
   ]
  },
  {
   "cell_type": "code",
   "execution_count": 24,
   "metadata": {},
   "outputs": [
    {
     "data": {
      "image/png": "[encoded data removed]",
      "text/plain": [
       "<Figure size 432x288 with 1 Axes>"
      ]
     },
     "metadata": {
      "needs_background": "light"
     },
     "output_type": "display_data"
    },
    {
     "data": {
      "image/png": "[encoded data removed]",
      "text/plain": [
       "<Figure size 432x288 with 1 Axes>"
      ]
     },
     "metadata": {
      "needs_background": "light"
     },
     "output_type": "display_data"
    }
   ],
   "source": [
    "import matplotlib.pyplot as plt\n",
    "\n",
    "acc = history.history['acc']\n",
    "val_acc = history.history['val_acc']\n",
    "loss = history.history['loss']\n",
    "val_loss = history.history['val_loss']\n",
    "\n",
    "epochs = range(len(acc))\n",
    "\n",
    "plt.plot(epochs, acc, 'bo', label='Training acc')\n",
    "plt.plot(epochs, val_acc, 'b', label='Validation acc')\n",
    "plt.title('Training and validation accuracy - params: 2,074,755')\n",
    "plt.legend()\n",
    "\n",
    "plt.figure()\n",
    "\n",
    "plt.plot(epochs, loss, 'bo', label='Training loss')\n",
    "plt.plot(epochs, val_loss, 'b', label='Validation loss')\n",
    "plt.title('Training and validation loss - params: 2,074,755')\n",
    "plt.legend()\n",
    "\n",
    "plt.show()"
   ]
  },
  {
   "cell_type": "code",
   "execution_count": null,
   "metadata": {},
   "outputs": [],
   "source": []
  }
 ],
 "metadata": {
  "kernelspec": {
   "display_name": "Python 3",
   "language": "python",
   "name": "python3"
  },
  "language_info": {
   "codemirror_mode": {
    "name": "ipython",
    "version": 3
   },
   "file_extension": ".py",
   "mimetype": "text/x-python",
   "name": "python",
   "nbconvert_exporter": "python",
   "pygments_lexer": "ipython3",
   "version": "3.7.9"
  }
 },
 "nbformat": 4,
 "nbformat_minor": 4
}
