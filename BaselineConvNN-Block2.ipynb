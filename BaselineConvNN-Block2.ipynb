{
 "cells": [
  {
   "cell_type": "code",
   "execution_count": 1,
   "metadata": {},
   "outputs": [
    {
     "name": "stderr",
     "output_type": "stream",
     "text": [
      "Using TensorFlow backend.\n"
     ]
    },
    {
     "data": {
      "text/plain": [
       "'2.3.1'"
      ]
     },
     "execution_count": 1,
     "metadata": {},
     "output_type": "execute_result"
    }
   ],
   "source": [
    "import os\n",
    "import keras\n",
    "\n",
    "from keras.preprocessing.image import ImageDataGenerator\n",
    "\n",
    "keras.__version__"
   ]
  },
  {
   "cell_type": "code",
   "execution_count": 2,
   "metadata": {},
   "outputs": [],
   "source": [
    "from tensorflow.compat.v1 import ConfigProto\n",
    "from tensorflow.compat.v1 import InteractiveSession\n",
    "# Limits GPU-RAM usage\n",
    "config = ConfigProto()\n",
    "config.gpu_options.allow_growth = True\n",
    "session = InteractiveSession(config=config)"
   ]
  },
  {
   "cell_type": "code",
   "execution_count": 3,
   "metadata": {},
   "outputs": [],
   "source": [
    "epochs = 100\n",
    "batch_size = 5\n",
    "target_width = 150\n",
    "target_height = 150\n",
    "target_size = (target_width, target_height)\n",
    "target_shape = (target_width, target_height, 3) # 3 for color\n",
    "base_dir = 'Course notebooks\\paintings'"
   ]
  },
  {
   "cell_type": "code",
   "execution_count": 4,
   "metadata": {},
   "outputs": [],
   "source": [
    "def get_generator(base_dir, folderName):\n",
    "    directory = os.path.join(base_dir, folderName)\n",
    "    return ImageDataGenerator(rescale=1./255).flow_from_directory(\n",
    "        directory, \n",
    "        target_size, \n",
    "        batch_size= batch_size,\n",
    "        shuffle=True,\n",
    "        class_mode='sparse'\n",
    "    )"
   ]
  },
  {
   "cell_type": "code",
   "execution_count": 5,
   "metadata": {},
   "outputs": [
    {
     "name": "stdout",
     "output_type": "stream",
     "text": [
      "Found 210 images belonging to 3 classes.\n",
      "Found 30 images belonging to 3 classes.\n",
      "Found 60 images belonging to 3 classes.\n"
     ]
    }
   ],
   "source": [
    "train_gen = get_generator(base_dir, 'train')\n",
    "test_gen = get_generator(base_dir, 'test')\n",
    "validation_gen = get_generator(base_dir, 'validation')"
   ]
  },
  {
   "cell_type": "code",
   "execution_count": 6,
   "metadata": {},
   "outputs": [],
   "source": [
    "numOfClasses = train_gen.num_classes\n",
    "\n",
    "numOfTrainSamples = train_gen.n\n",
    "numOfTestSamples = test_gen.n\n",
    "numOfValSamples = validation_gen.n"
   ]
  },
  {
   "cell_type": "code",
   "execution_count": 7,
   "metadata": {},
   "outputs": [],
   "source": [
    "# Define Conv model"
   ]
  },
  {
   "cell_type": "code",
   "execution_count": 8,
   "metadata": {},
   "outputs": [],
   "source": [
    "from keras.applications import VGG16\n",
    "\n",
    "conv_base = VGG16(weights='imagenet', \n",
    "                  include_top=False, \n",
    "                  input_shape= target_shape) # honestly, I'm not sure whether height or width comes first"
   ]
  },
  {
   "cell_type": "code",
   "execution_count": 9,
   "metadata": {},
   "outputs": [
    {
     "name": "stdout",
     "output_type": "stream",
     "text": [
      "Model: \"vgg16\"\n",
      "_________________________________________________________________\n",
      "Layer (type)                 Output Shape              Param #   \n",
      "=================================================================\n",
      "input_1 (InputLayer)         (None, 150, 150, 3)       0         \n",
      "_________________________________________________________________\n",
      "block1_conv1 (Conv2D)        (None, 150, 150, 64)      1792      \n",
      "_________________________________________________________________\n",
      "block1_conv2 (Conv2D)        (None, 150, 150, 64)      36928     \n",
      "_________________________________________________________________\n",
      "block1_pool (MaxPooling2D)   (None, 75, 75, 64)        0         \n",
      "_________________________________________________________________\n",
      "block2_conv1 (Conv2D)        (None, 75, 75, 128)       73856     \n",
      "_________________________________________________________________\n",
      "block2_conv2 (Conv2D)        (None, 75, 75, 128)       147584    \n",
      "_________________________________________________________________\n",
      "block2_pool (MaxPooling2D)   (None, 37, 37, 128)       0         \n",
      "_________________________________________________________________\n",
      "block3_conv1 (Conv2D)        (None, 37, 37, 256)       295168    \n",
      "_________________________________________________________________\n",
      "block3_conv2 (Conv2D)        (None, 37, 37, 256)       590080    \n",
      "_________________________________________________________________\n",
      "block3_conv3 (Conv2D)        (None, 37, 37, 256)       590080    \n",
      "_________________________________________________________________\n",
      "block3_pool (MaxPooling2D)   (None, 18, 18, 256)       0         \n",
      "_________________________________________________________________\n",
      "block4_conv1 (Conv2D)        (None, 18, 18, 512)       1180160   \n",
      "_________________________________________________________________\n",
      "block4_conv2 (Conv2D)        (None, 18, 18, 512)       2359808   \n",
      "_________________________________________________________________\n",
      "block4_conv3 (Conv2D)        (None, 18, 18, 512)       2359808   \n",
      "_________________________________________________________________\n",
      "block4_pool (MaxPooling2D)   (None, 9, 9, 512)         0         \n",
      "_________________________________________________________________\n",
      "block5_conv1 (Conv2D)        (None, 9, 9, 512)         2359808   \n",
      "_________________________________________________________________\n",
      "block5_conv2 (Conv2D)        (None, 9, 9, 512)         2359808   \n",
      "_________________________________________________________________\n",
      "block5_conv3 (Conv2D)        (None, 9, 9, 512)         2359808   \n",
      "_________________________________________________________________\n",
      "block5_pool (MaxPooling2D)   (None, 4, 4, 512)         0         \n",
      "=================================================================\n",
      "Total params: 14,714,688\n",
      "Trainable params: 14,714,688\n",
      "Non-trainable params: 0\n",
      "_________________________________________________________________\n"
     ]
    }
   ],
   "source": [
    "conv_base.summary()"
   ]
  },
  {
   "cell_type": "code",
   "execution_count": 10,
   "metadata": {},
   "outputs": [],
   "source": [
    "block1_pool_width = 75\n",
    "block1_pool_height = 75\n",
    "block1_pool_area = block1_pool_width * block1_pool_height\n",
    "block1_pool_no_of_filters = 64\n",
    "\n",
    "block2_pool_width = 37\n",
    "block2_pool_height = 37\n",
    "block2_pool_area = block2_pool_width * block2_pool_height\n",
    "block2_pool_no_of_filters = 128\n",
    "\n",
    "block3_pool_width = 18\n",
    "block3_pool_height = 18\n",
    "block3_pool_area = block3_pool_width * block3_pool_height\n",
    "block3_pool_no_of_filters = 256\n",
    "\n",
    "block4_pool_width = 9\n",
    "block4_pool_height = 9\n",
    "block4_pool_area = block4_pool_width * block4_pool_height\n",
    "block4_pool_no_of_filters = 512\n",
    "\n",
    "## Following not used, but included for completeness and your own possible experiments\n",
    "block5_pool_width = 4\n",
    "block5_pool_height = 4\n",
    "block5_pool_area = block5_pool_width * block5_pool_height\n",
    "block5_pool_no_of_filters = 512"
   ]
  },
  {
   "cell_type": "code",
   "execution_count": 11,
   "metadata": {},
   "outputs": [],
   "source": [
    "from keras import Model\n",
    "\n",
    "intermediate_layer_model = Model(inputs=conv_base.input, \n",
    "                                 outputs=conv_base.get_layer('block2_pool').output)\n",
    "no_of_filters_left = 10"
   ]
  },
  {
   "cell_type": "code",
   "execution_count": 12,
   "metadata": {},
   "outputs": [],
   "source": [
    "from keras.utils.np_utils import to_categorical\n",
    "\n",
    "def extract_features(generator, sample_count):\n",
    "    features = np.zeros(shape=(sample_count, block2_pool_width, block2_pool_height, block2_pool_no_of_filters))\n",
    "    labels = np.zeros(shape=(sample_count))\n",
    "    \n",
    "    i = 0\n",
    "    for inputs_batch, labels_batch in generator:\n",
    "        features_batch = intermediate_layer_model.predict(inputs_batch)\n",
    "        features[i * batch_size : (i + 1) * batch_size] = features_batch\n",
    "        labels[i * batch_size : (i + 1) * batch_size] = labels_batch\n",
    "        i += 1\n",
    "        if i * batch_size >= sample_count:\n",
    "            # Note that since generators yield data indefinitely in a loop,\n",
    "            # we must `break` after every image has been seen once.\n",
    "            break\n",
    "\n",
    "    ### Now throwing away most of the features (= results of features)\n",
    "    features = features[:,:,:,0:no_of_filters_left]\n",
    "    ### convert labels 0, 1, and 2 to [1,0,0], [0,1,0] and [0,0,1] \n",
    "    labels = to_categorical(labels)\n",
    "    return features, labels"
   ]
  },
  {
   "cell_type": "code",
   "execution_count": 13,
   "metadata": {},
   "outputs": [],
   "source": [
    "import numpy as np\n",
    "\n",
    "train_features, train_labels = extract_features(train_gen, numOfTrainSamples)\n",
    "\n",
    "validation_features, validation_labels = extract_features(validation_gen, numOfValSamples)\n",
    "\n",
    "test_features, test_labels = extract_features(test_gen, numOfTestSamples)"
   ]
  },
  {
   "cell_type": "code",
   "execution_count": 14,
   "metadata": {},
   "outputs": [],
   "source": [
    "train_features = np.reshape(train_features, (numOfTrainSamples, block2_pool_area * no_of_filters_left))\n",
    "validation_features = np.reshape(validation_features, (numOfValSamples, block2_pool_area * no_of_filters_left))\n",
    "test_features = np.reshape(test_features, (numOfTestSamples, block2_pool_area * no_of_filters_left))"
   ]
  },
  {
   "cell_type": "code",
   "execution_count": 15,
   "metadata": {},
   "outputs": [],
   "source": [
    "# Define Dense model"
   ]
  },
  {
   "cell_type": "code",
   "execution_count": 16,
   "metadata": {},
   "outputs": [],
   "source": [
    "from keras import models\n",
    "from keras.layers import InputLayer, Flatten, Dense, Dropout\n",
    "\n",
    "def get_model(shape, nClasses):\n",
    "    return keras.Sequential([\n",
    "        InputLayer(input_shape=shape),\n",
    "        #Flatten(),    ### Need to flatten if dense NN else if ConvNet no need to flatten.\n",
    "        Dense(32, activation='relu'),\n",
    "        Dropout(0.5),\n",
    "        Dense(8, activation='relu'),\n",
    "        Dense(nClasses, activation='sigmoid'),\n",
    "    ],)"
   ]
  },
  {
   "cell_type": "code",
   "execution_count": 17,
   "metadata": {},
   "outputs": [],
   "source": [
    "input_shape = (block2_pool_area * no_of_filters_left, ) # needs the \", \" in the end for the InputLayer in the model\n",
    "model = get_model(input_shape, numOfClasses)"
   ]
  },
  {
   "cell_type": "code",
   "execution_count": 18,
   "metadata": {},
   "outputs": [],
   "source": [
    "# train model"
   ]
  },
  {
   "cell_type": "code",
   "execution_count": 19,
   "metadata": {},
   "outputs": [],
   "source": [
    "from keras import optimizers\n",
    "\n",
    "model.compile(loss=\"binary_crossentropy\", optimizer=optimizers.RMSprop(lr=2e-5), metrics=[\"acc\"])"
   ]
  },
  {
   "cell_type": "code",
   "execution_count": 20,
   "metadata": {},
   "outputs": [
    {
     "name": "stdout",
     "output_type": "stream",
     "text": [
      "Model: \"sequential_1\"\n",
      "_________________________________________________________________\n",
      "Layer (type)                 Output Shape              Param #   \n",
      "=================================================================\n",
      "dense_1 (Dense)              (None, 32)                438112    \n",
      "_________________________________________________________________\n",
      "dropout_1 (Dropout)          (None, 32)                0         \n",
      "_________________________________________________________________\n",
      "dense_2 (Dense)              (None, 8)                 264       \n",
      "_________________________________________________________________\n",
      "dense_3 (Dense)              (None, 3)                 27        \n",
      "=================================================================\n",
      "Total params: 438,403\n",
      "Trainable params: 438,403\n",
      "Non-trainable params: 0\n",
      "_________________________________________________________________\n"
     ]
    }
   ],
   "source": [
    "model.summary()"
   ]
  },
  {
   "cell_type": "code",
   "execution_count": 21,
   "metadata": {},
   "outputs": [
    {
     "name": "stdout",
     "output_type": "stream",
     "text": [
      "Train on 210 samples, validate on 60 samples\n",
      "Epoch 1/100\n",
      "210/210 [==============================] - 0s 1ms/step - loss: 2.1931 - acc: 0.5032 - val_loss: 0.8995 - val_acc: 0.6056\n",
      "Epoch 2/100\n",
      "210/210 [==============================] - 0s 895us/step - loss: 1.1025 - acc: 0.5270 - val_loss: 0.7257 - val_acc: 0.5222\n",
      "Epoch 3/100\n",
      "210/210 [==============================] - 0s 881us/step - loss: 0.8461 - acc: 0.5778 - val_loss: 0.6882 - val_acc: 0.5944\n",
      "Epoch 4/100\n",
      "210/210 [==============================] - 0s 924us/step - loss: 0.7424 - acc: 0.6317 - val_loss: 0.7201 - val_acc: 0.5833\n",
      "Epoch 5/100\n",
      "210/210 [==============================] - 0s 886us/step - loss: 0.7103 - acc: 0.6238 - val_loss: 0.7085 - val_acc: 0.5833\n",
      "Epoch 6/100\n",
      "210/210 [==============================] - 0s 900us/step - loss: 0.6919 - acc: 0.6460 - val_loss: 0.6526 - val_acc: 0.6333\n",
      "Epoch 7/100\n",
      "210/210 [==============================] - 0s 895us/step - loss: 0.6889 - acc: 0.6460 - val_loss: 0.6579 - val_acc: 0.6444\n",
      "Epoch 8/100\n",
      "210/210 [==============================] - 0s 895us/step - loss: 0.6490 - acc: 0.6476 - val_loss: 0.6616 - val_acc: 0.6389\n",
      "Epoch 9/100\n",
      "210/210 [==============================] - 0s 891us/step - loss: 0.6506 - acc: 0.6413 - val_loss: 0.6690 - val_acc: 0.6389\n",
      "Epoch 10/100\n",
      "210/210 [==============================] - 0s 895us/step - loss: 0.6340 - acc: 0.6603 - val_loss: 0.6788 - val_acc: 0.5833\n",
      "Epoch 11/100\n",
      "210/210 [==============================] - 0s 905us/step - loss: 0.6697 - acc: 0.6619 - val_loss: 0.6532 - val_acc: 0.6611\n",
      "Epoch 12/100\n",
      "210/210 [==============================] - 0s 914us/step - loss: 0.6207 - acc: 0.6651 - val_loss: 0.6173 - val_acc: 0.6778\n",
      "Epoch 13/100\n",
      "210/210 [==============================] - 0s 938us/step - loss: 0.6322 - acc: 0.6651 - val_loss: 0.6308 - val_acc: 0.6833\n",
      "Epoch 14/100\n",
      "210/210 [==============================] - 0s 886us/step - loss: 0.6271 - acc: 0.6714 - val_loss: 0.6415 - val_acc: 0.6722\n",
      "Epoch 15/100\n",
      "210/210 [==============================] - 0s 886us/step - loss: 0.5880 - acc: 0.6889 - val_loss: 0.6244 - val_acc: 0.7000\n",
      "Epoch 16/100\n",
      "210/210 [==============================] - 0s 895us/step - loss: 0.5676 - acc: 0.6937 - val_loss: 0.6163 - val_acc: 0.6778\n",
      "Epoch 17/100\n",
      "210/210 [==============================] - 0s 910us/step - loss: 0.5969 - acc: 0.6762 - val_loss: 0.5943 - val_acc: 0.6778\n",
      "Epoch 18/100\n",
      "210/210 [==============================] - 0s 891us/step - loss: 0.5826 - acc: 0.6921 - val_loss: 0.6033 - val_acc: 0.7056\n",
      "Epoch 19/100\n",
      "210/210 [==============================] - 0s 881us/step - loss: 0.5780 - acc: 0.6968 - val_loss: 0.6064 - val_acc: 0.6833\n",
      "Epoch 20/100\n",
      "210/210 [==============================] - 0s 881us/step - loss: 0.5711 - acc: 0.6762 - val_loss: 0.6106 - val_acc: 0.7167\n",
      "Epoch 21/100\n",
      "210/210 [==============================] - 0s 886us/step - loss: 0.5831 - acc: 0.6714 - val_loss: 0.6157 - val_acc: 0.6833\n",
      "Epoch 22/100\n",
      "210/210 [==============================] - 0s 929us/step - loss: 0.5536 - acc: 0.7048 - val_loss: 0.5819 - val_acc: 0.7000\n",
      "Epoch 23/100\n",
      "210/210 [==============================] - 0s 910us/step - loss: 0.5497 - acc: 0.7032 - val_loss: 0.6013 - val_acc: 0.7000\n",
      "Epoch 24/100\n",
      "210/210 [==============================] - 0s 914us/step - loss: 0.5191 - acc: 0.7095 - val_loss: 0.5711 - val_acc: 0.7222\n",
      "Epoch 25/100\n",
      "210/210 [==============================] - 0s 957us/step - loss: 0.5648 - acc: 0.6746 - val_loss: 0.5785 - val_acc: 0.7056\n",
      "Epoch 26/100\n",
      "210/210 [==============================] - 0s 924us/step - loss: 0.5592 - acc: 0.7063 - val_loss: 0.5833 - val_acc: 0.7000\n",
      "Epoch 27/100\n",
      "210/210 [==============================] - 0s 910us/step - loss: 0.5087 - acc: 0.7222 - val_loss: 0.5685 - val_acc: 0.7000\n",
      "Epoch 28/100\n",
      "210/210 [==============================] - 0s 976us/step - loss: 0.5438 - acc: 0.7063 - val_loss: 0.5605 - val_acc: 0.7167\n",
      "Epoch 29/100\n",
      "210/210 [==============================] - 0s 910us/step - loss: 0.5069 - acc: 0.7143 - val_loss: 0.5617 - val_acc: 0.7167\n",
      "Epoch 30/100\n",
      "210/210 [==============================] - 0s 895us/step - loss: 0.5387 - acc: 0.7159 - val_loss: 0.5562 - val_acc: 0.7167\n",
      "Epoch 31/100\n",
      "210/210 [==============================] - 0s 957us/step - loss: 0.5120 - acc: 0.7238 - val_loss: 0.5871 - val_acc: 0.7333\n",
      "Epoch 32/100\n",
      "210/210 [==============================] - 0s 905us/step - loss: 0.5160 - acc: 0.7000 - val_loss: 0.5755 - val_acc: 0.7333\n",
      "Epoch 33/100\n",
      "210/210 [==============================] - 0s 900us/step - loss: 0.5158 - acc: 0.7048 - val_loss: 0.5599 - val_acc: 0.7111\n",
      "Epoch 34/100\n",
      "210/210 [==============================] - 0s 910us/step - loss: 0.5163 - acc: 0.7175 - val_loss: 0.5545 - val_acc: 0.7333\n",
      "Epoch 35/100\n",
      "210/210 [==============================] - 0s 900us/step - loss: 0.4943 - acc: 0.7238 - val_loss: 0.5865 - val_acc: 0.7333\n",
      "Epoch 36/100\n",
      "210/210 [==============================] - 0s 886us/step - loss: 0.4808 - acc: 0.7222 - val_loss: 0.5640 - val_acc: 0.7167\n",
      "Epoch 37/100\n",
      "210/210 [==============================] - 0s 876us/step - loss: 0.5084 - acc: 0.7048 - val_loss: 0.5510 - val_acc: 0.7278\n",
      "Epoch 38/100\n",
      "210/210 [==============================] - 0s 905us/step - loss: 0.4850 - acc: 0.7238 - val_loss: 0.5293 - val_acc: 0.7444\n",
      "Epoch 39/100\n",
      "210/210 [==============================] - 0s 900us/step - loss: 0.4669 - acc: 0.7381 - val_loss: 0.5485 - val_acc: 0.7278\n",
      "Epoch 40/100\n",
      "210/210 [==============================] - 0s 881us/step - loss: 0.4852 - acc: 0.7222 - val_loss: 0.5743 - val_acc: 0.7167\n",
      "Epoch 41/100\n",
      "210/210 [==============================] - 0s 876us/step - loss: 0.4761 - acc: 0.7317 - val_loss: 0.5595 - val_acc: 0.7111\n",
      "Epoch 42/100\n",
      "210/210 [==============================] - 0s 881us/step - loss: 0.4768 - acc: 0.7460 - val_loss: 0.5679 - val_acc: 0.6944\n",
      "Epoch 43/100\n",
      "210/210 [==============================] - 0s 919us/step - loss: 0.4421 - acc: 0.7492 - val_loss: 0.5539 - val_acc: 0.7444\n",
      "Epoch 44/100\n",
      "210/210 [==============================] - 0s 891us/step - loss: 0.4564 - acc: 0.7381 - val_loss: 0.5626 - val_acc: 0.7167\n",
      "Epoch 45/100\n",
      "210/210 [==============================] - 0s 886us/step - loss: 0.4870 - acc: 0.7254 - val_loss: 0.5180 - val_acc: 0.7278\n",
      "Epoch 46/100\n",
      "210/210 [==============================] - 0s 919us/step - loss: 0.4535 - acc: 0.7508 - val_loss: 0.5232 - val_acc: 0.7444\n",
      "Epoch 47/100\n",
      "210/210 [==============================] - 0s 886us/step - loss: 0.4575 - acc: 0.7381 - val_loss: 0.5333 - val_acc: 0.7500\n",
      "Epoch 48/100\n",
      "210/210 [==============================] - 0s 905us/step - loss: 0.4653 - acc: 0.7429 - val_loss: 0.5180 - val_acc: 0.7389\n",
      "Epoch 49/100\n",
      "210/210 [==============================] - 0s 886us/step - loss: 0.4805 - acc: 0.7302 - val_loss: 0.5136 - val_acc: 0.7333\n",
      "Epoch 50/100\n",
      "210/210 [==============================] - 0s 881us/step - loss: 0.4594 - acc: 0.7381 - val_loss: 0.5400 - val_acc: 0.7333\n",
      "Epoch 51/100\n",
      "210/210 [==============================] - 0s 876us/step - loss: 0.4731 - acc: 0.7365 - val_loss: 0.5193 - val_acc: 0.7444\n",
      "Epoch 52/100\n",
      "210/210 [==============================] - 0s 886us/step - loss: 0.4472 - acc: 0.7429 - val_loss: 0.5057 - val_acc: 0.7500\n",
      "Epoch 53/100\n",
      "210/210 [==============================] - 0s 919us/step - loss: 0.4369 - acc: 0.7556 - val_loss: 0.4965 - val_acc: 0.7611\n",
      "Epoch 54/100\n",
      "210/210 [==============================] - 0s 910us/step - loss: 0.4305 - acc: 0.7460 - val_loss: 0.5261 - val_acc: 0.7556\n",
      "Epoch 55/100\n",
      "210/210 [==============================] - 0s 886us/step - loss: 0.4096 - acc: 0.7746 - val_loss: 0.5441 - val_acc: 0.7389\n",
      "Epoch 56/100\n",
      "210/210 [==============================] - 0s 876us/step - loss: 0.4542 - acc: 0.7587 - val_loss: 0.5000 - val_acc: 0.7278\n",
      "Epoch 57/100\n",
      "210/210 [==============================] - 0s 881us/step - loss: 0.4250 - acc: 0.7556 - val_loss: 0.5218 - val_acc: 0.7500\n",
      "Epoch 58/100\n",
      "210/210 [==============================] - 0s 886us/step - loss: 0.4227 - acc: 0.7587 - val_loss: 0.5253 - val_acc: 0.7389\n",
      "Epoch 59/100\n",
      "210/210 [==============================] - 0s 895us/step - loss: 0.4082 - acc: 0.7762 - val_loss: 0.5042 - val_acc: 0.7556\n",
      "Epoch 60/100\n",
      "210/210 [==============================] - 0s 886us/step - loss: 0.4475 - acc: 0.7413 - val_loss: 0.5019 - val_acc: 0.7722\n"
     ]
    },
    {
     "name": "stdout",
     "output_type": "stream",
     "text": [
      "Epoch 61/100\n",
      "210/210 [==============================] - 0s 881us/step - loss: 0.4355 - acc: 0.7524 - val_loss: 0.5245 - val_acc: 0.7444\n",
      "Epoch 62/100\n",
      "210/210 [==============================] - 0s 871us/step - loss: 0.4114 - acc: 0.7635 - val_loss: 0.4919 - val_acc: 0.7722\n",
      "Epoch 63/100\n",
      "210/210 [==============================] - 0s 871us/step - loss: 0.4150 - acc: 0.7667 - val_loss: 0.5149 - val_acc: 0.7556\n",
      "Epoch 64/100\n",
      "210/210 [==============================] - 0s 867us/step - loss: 0.4222 - acc: 0.7730 - val_loss: 0.4981 - val_acc: 0.7833\n",
      "Epoch 65/100\n",
      "210/210 [==============================] - 0s 876us/step - loss: 0.4137 - acc: 0.7603 - val_loss: 0.5400 - val_acc: 0.7500\n",
      "Epoch 66/100\n",
      "210/210 [==============================] - 0s 876us/step - loss: 0.4173 - acc: 0.7619 - val_loss: 0.5194 - val_acc: 0.7611\n",
      "Epoch 67/100\n",
      "210/210 [==============================] - 0s 871us/step - loss: 0.4031 - acc: 0.7905 - val_loss: 0.4936 - val_acc: 0.7611\n",
      "Epoch 68/100\n",
      "210/210 [==============================] - 0s 867us/step - loss: 0.4051 - acc: 0.7921 - val_loss: 0.5145 - val_acc: 0.7500\n",
      "Epoch 69/100\n",
      "210/210 [==============================] - 0s 871us/step - loss: 0.3913 - acc: 0.7714 - val_loss: 0.5323 - val_acc: 0.7500\n",
      "Epoch 70/100\n",
      "210/210 [==============================] - 0s 876us/step - loss: 0.4298 - acc: 0.7365 - val_loss: 0.4950 - val_acc: 0.7611\n",
      "Epoch 71/100\n",
      "210/210 [==============================] - 0s 876us/step - loss: 0.3937 - acc: 0.7746 - val_loss: 0.4944 - val_acc: 0.7667\n",
      "Epoch 72/100\n",
      "210/210 [==============================] - 0s 871us/step - loss: 0.3992 - acc: 0.7587 - val_loss: 0.4953 - val_acc: 0.7667\n",
      "Epoch 73/100\n",
      "210/210 [==============================] - 0s 867us/step - loss: 0.3839 - acc: 0.7778 - val_loss: 0.4898 - val_acc: 0.7556\n",
      "Epoch 74/100\n",
      "210/210 [==============================] - 0s 867us/step - loss: 0.4040 - acc: 0.7571 - val_loss: 0.5273 - val_acc: 0.7500\n",
      "Epoch 75/100\n",
      "210/210 [==============================] - 0s 871us/step - loss: 0.3791 - acc: 0.7746 - val_loss: 0.5072 - val_acc: 0.7722\n",
      "Epoch 76/100\n",
      "210/210 [==============================] - 0s 867us/step - loss: 0.3741 - acc: 0.7810 - val_loss: 0.5199 - val_acc: 0.7611\n",
      "Epoch 77/100\n",
      "210/210 [==============================] - 0s 871us/step - loss: 0.3943 - acc: 0.7683 - val_loss: 0.5431 - val_acc: 0.7500\n",
      "Epoch 78/100\n",
      "210/210 [==============================] - 0s 871us/step - loss: 0.3914 - acc: 0.7778 - val_loss: 0.5571 - val_acc: 0.7389\n",
      "Epoch 79/100\n",
      "210/210 [==============================] - 0s 871us/step - loss: 0.3950 - acc: 0.7794 - val_loss: 0.4945 - val_acc: 0.7667\n",
      "Epoch 80/100\n",
      "210/210 [==============================] - 0s 871us/step - loss: 0.3710 - acc: 0.7873 - val_loss: 0.5235 - val_acc: 0.7722\n",
      "Epoch 81/100\n",
      "210/210 [==============================] - 0s 891us/step - loss: 0.3803 - acc: 0.7794 - val_loss: 0.5198 - val_acc: 0.7556\n",
      "Epoch 82/100\n",
      "210/210 [==============================] - 0s 876us/step - loss: 0.3700 - acc: 0.7905 - val_loss: 0.4530 - val_acc: 0.7556\n",
      "Epoch 83/100\n",
      "210/210 [==============================] - 0s 867us/step - loss: 0.3801 - acc: 0.7841 - val_loss: 0.4937 - val_acc: 0.7444\n",
      "Epoch 84/100\n",
      "210/210 [==============================] - 0s 871us/step - loss: 0.3997 - acc: 0.7651 - val_loss: 0.4851 - val_acc: 0.7667\n",
      "Epoch 85/100\n",
      "210/210 [==============================] - 0s 871us/step - loss: 0.3665 - acc: 0.7794 - val_loss: 0.4818 - val_acc: 0.7778\n",
      "Epoch 86/100\n",
      "210/210 [==============================] - 0s 881us/step - loss: 0.3832 - acc: 0.7714 - val_loss: 0.4828 - val_acc: 0.7722\n",
      "Epoch 87/100\n",
      "210/210 [==============================] - 0s 900us/step - loss: 0.3699 - acc: 0.7778 - val_loss: 0.4992 - val_acc: 0.7722\n",
      "Epoch 88/100\n",
      "210/210 [==============================] - 0s 876us/step - loss: 0.3652 - acc: 0.7794 - val_loss: 0.4945 - val_acc: 0.7556\n",
      "Epoch 89/100\n",
      "210/210 [==============================] - 0s 876us/step - loss: 0.3462 - acc: 0.7984 - val_loss: 0.5155 - val_acc: 0.7778\n",
      "Epoch 90/100\n",
      "210/210 [==============================] - 0s 867us/step - loss: 0.3672 - acc: 0.7825 - val_loss: 0.4798 - val_acc: 0.7722\n",
      "Epoch 91/100\n",
      "210/210 [==============================] - 0s 867us/step - loss: 0.3730 - acc: 0.7746 - val_loss: 0.4811 - val_acc: 0.7611\n",
      "Epoch 92/100\n",
      "210/210 [==============================] - 0s 876us/step - loss: 0.3451 - acc: 0.8000 - val_loss: 0.5308 - val_acc: 0.7722\n",
      "Epoch 93/100\n",
      "210/210 [==============================] - 0s 891us/step - loss: 0.3257 - acc: 0.8032 - val_loss: 0.5557 - val_acc: 0.7611\n",
      "Epoch 94/100\n",
      "210/210 [==============================] - 0s 881us/step - loss: 0.3518 - acc: 0.7873 - val_loss: 0.4554 - val_acc: 0.7778\n",
      "Epoch 95/100\n",
      "210/210 [==============================] - 0s 876us/step - loss: 0.3526 - acc: 0.7714 - val_loss: 0.4601 - val_acc: 0.7778\n",
      "Epoch 96/100\n",
      "210/210 [==============================] - 0s 876us/step - loss: 0.3767 - acc: 0.7635 - val_loss: 0.4948 - val_acc: 0.7667\n",
      "Epoch 97/100\n",
      "210/210 [==============================] - 0s 876us/step - loss: 0.4051 - acc: 0.7667 - val_loss: 0.4747 - val_acc: 0.7778\n",
      "Epoch 98/100\n",
      "210/210 [==============================] - 0s 867us/step - loss: 0.3644 - acc: 0.7841 - val_loss: 0.5092 - val_acc: 0.7889\n",
      "Epoch 99/100\n",
      "210/210 [==============================] - 0s 871us/step - loss: 0.3712 - acc: 0.7746 - val_loss: 0.4813 - val_acc: 0.7889\n",
      "Epoch 100/100\n",
      "210/210 [==============================] - 0s 862us/step - loss: 0.3521 - acc: 0.7937 - val_loss: 0.4763 - val_acc: 0.7833\n"
     ]
    }
   ],
   "source": [
    "history = model.fit(\n",
    "    train_features, \n",
    "    train_labels,\n",
    "    epochs=epochs,\n",
    "    batch_size=batch_size,\n",
    "    validation_data=(validation_features, validation_labels))"
   ]
  },
  {
   "cell_type": "code",
   "execution_count": 22,
   "metadata": {},
   "outputs": [],
   "source": [
    "#model.save('baseline.h5')"
   ]
  },
  {
   "cell_type": "code",
   "execution_count": 23,
   "metadata": {},
   "outputs": [],
   "source": [
    "# validation"
   ]
  },
  {
   "cell_type": "code",
   "execution_count": 25,
   "metadata": {},
   "outputs": [
    {
     "data": {
      "image/png": "[encoded data removed]",
      "text/plain": [
       "<Figure size 432x288 with 1 Axes>"
      ]
     },
     "metadata": {
      "needs_background": "light"
     },
     "output_type": "display_data"
    },
    {
     "data": {
      "image/png": "[encoded data removed]",
      "text/plain": [
       "<Figure size 432x288 with 1 Axes>"
      ]
     },
     "metadata": {
      "needs_background": "light"
     },
     "output_type": "display_data"
    }
   ],
   "source": [
    "import matplotlib.pyplot as plt\n",
    "\n",
    "acc = history.history['acc']\n",
    "val_acc = history.history['val_acc']\n",
    "loss = history.history['loss']\n",
    "val_loss = history.history['val_loss']\n",
    "\n",
    "epochs = range(len(acc))\n",
    "\n",
    "plt.plot(epochs, acc, 'bo', label='Training acc')\n",
    "plt.plot(epochs, val_acc, 'b', label='Validation acc')\n",
    "plt.title('Training and validation accuracy - block 2')\n",
    "plt.legend()\n",
    "\n",
    "plt.figure()\n",
    "\n",
    "plt.plot(epochs, loss, 'bo', label='Training loss')\n",
    "plt.plot(epochs, val_loss, 'b', label='Validation loss')\n",
    "plt.title('Training and validation loss - block 2')\n",
    "plt.legend()\n",
    "\n",
    "plt.show()"
   ]
  },
  {
   "cell_type": "code",
   "execution_count": null,
   "metadata": {},
   "outputs": [],
   "source": []
  }
 ],
 "metadata": {
  "kernelspec": {
   "display_name": "Python 3",
   "language": "python",
   "name": "python3"
  },
  "language_info": {
   "codemirror_mode": {
    "name": "ipython",
    "version": 3
   },
   "file_extension": ".py",
   "mimetype": "text/x-python",
   "name": "python",
   "nbconvert_exporter": "python",
   "pygments_lexer": "ipython3",
   "version": "3.7.9"
  }
 },
 "nbformat": 4,
 "nbformat_minor": 4
}
