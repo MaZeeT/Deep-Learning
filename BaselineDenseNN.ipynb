{
 "cells": [
  {
   "cell_type": "code",
   "execution_count": 1,
   "metadata": {},
   "outputs": [
    {
     "name": "stderr",
     "output_type": "stream",
     "text": [
      "Using TensorFlow backend.\n"
     ]
    },
    {
     "data": {
      "text/plain": [
       "'2.3.1'"
      ]
     },
     "execution_count": 1,
     "metadata": {},
     "output_type": "execute_result"
    }
   ],
   "source": [
    "import os\n",
    "import keras\n",
    "from keras import models\n",
    "from keras import layers\n",
    "from keras.preprocessing.image import ImageDataGenerator\n",
    "\n",
    "keras.__version__"
   ]
  },
  {
   "cell_type": "code",
   "execution_count": 2,
   "metadata": {},
   "outputs": [],
   "source": [
    "# import and \"clean\" data"
   ]
  },
  {
   "cell_type": "code",
   "execution_count": 3,
   "metadata": {},
   "outputs": [],
   "source": [
    "def get_generator(base_dir, folderName):\n",
    "    directory = os.path.join(base_dir, folderName)\n",
    "    return ImageDataGenerator(rescale=1./255).flow_from_directory(\n",
    "        directory, \n",
    "        target_size, \n",
    "        batch_size= batch_size\n",
    "    )"
   ]
  },
  {
   "cell_type": "code",
   "execution_count": 4,
   "metadata": {},
   "outputs": [
    {
     "name": "stdout",
     "output_type": "stream",
     "text": [
      "Found 210 images belonging to 3 classes.\n",
      "Found 30 images belonging to 3 classes.\n",
      "Found 60 images belonging to 3 classes.\n"
     ]
    }
   ],
   "source": [
    "epochs = 25\n",
    "batch_size = 100\n",
    "target_width = 150\n",
    "target_height = 150\n",
    "target_size = (target_width, target_height)\n",
    "target_shape = (target_width, target_height, 3) # 3 for color\n",
    "base_dir = 'Course notebooks\\paintings'\n",
    "\n",
    "train_gen = get_generator(base_dir, 'train')\n",
    "test_gen = get_generator(base_dir, 'test')\n",
    "validation_gen = get_generator(base_dir, 'validation')"
   ]
  },
  {
   "cell_type": "code",
   "execution_count": 5,
   "metadata": {},
   "outputs": [],
   "source": [
    "numOfClasses = train_gen.num_classes\n",
    "\n",
    "numOfTrainSamples = train_gen.n\n",
    "numOfTestSamples = test_gen.n\n",
    "numOfValSamples = validation_gen.n"
   ]
  },
  {
   "cell_type": "code",
   "execution_count": 6,
   "metadata": {},
   "outputs": [],
   "source": [
    "# Define model"
   ]
  },
  {
   "cell_type": "code",
   "execution_count": 7,
   "metadata": {},
   "outputs": [],
   "source": [
    "model = models.Sequential()\n",
    "model.add(layers.Flatten(input_shape=target_shape))\n",
    "model.add(layers.Dense(64, activation='relu'))\n",
    "model.add(layers.Dropout(0.5))\n",
    "model.add(layers.Dense(16, activation='relu'))\n",
    "model.add(layers.Dense(numOfClasses, activation='sigmoid'))"
   ]
  },
  {
   "cell_type": "code",
   "execution_count": 8,
   "metadata": {},
   "outputs": [],
   "source": [
    "# train model"
   ]
  },
  {
   "cell_type": "code",
   "execution_count": 9,
   "metadata": {},
   "outputs": [],
   "source": [
    "model.compile(loss=\"categorical_crossentropy\", optimizer=\"RMSprop\", metrics=[\"acc\"])"
   ]
  },
  {
   "cell_type": "code",
   "execution_count": 10,
   "metadata": {},
   "outputs": [
    {
     "name": "stdout",
     "output_type": "stream",
     "text": [
      "Model: \"sequential_1\"\n",
      "_________________________________________________________________\n",
      "Layer (type)                 Output Shape              Param #   \n",
      "=================================================================\n",
      "flatten_1 (Flatten)          (None, 67500)             0         \n",
      "_________________________________________________________________\n",
      "dense_1 (Dense)              (None, 64)                4320064   \n",
      "_________________________________________________________________\n",
      "dropout_1 (Dropout)          (None, 64)                0         \n",
      "_________________________________________________________________\n",
      "dense_2 (Dense)              (None, 16)                1040      \n",
      "_________________________________________________________________\n",
      "dense_3 (Dense)              (None, 3)                 51        \n",
      "=================================================================\n",
      "Total params: 4,321,155\n",
      "Trainable params: 4,321,155\n",
      "Non-trainable params: 0\n",
      "_________________________________________________________________\n"
     ]
    }
   ],
   "source": [
    "model.summary()"
   ]
  },
  {
   "cell_type": "code",
   "execution_count": 11,
   "metadata": {},
   "outputs": [
    {
     "name": "stdout",
     "output_type": "stream",
     "text": [
      "Epoch 1/25\n",
      "3/2 [==========================================] - 3s 1s/step - loss: 4.9890 - acc: 0.3143 - val_loss: 5.8348 - val_acc: 0.3333\n",
      "Epoch 2/25\n",
      "3/2 [==========================================] - 4s 1s/step - loss: 4.3478 - acc: 0.3286 - val_loss: 1.7073 - val_acc: 0.3333\n",
      "Epoch 3/25\n",
      "3/2 [==========================================] - 3s 1s/step - loss: 3.4536 - acc: 0.3524 - val_loss: 1.0986 - val_acc: 0.3333\n",
      "Epoch 4/25\n",
      "3/2 [==========================================] - 4s 1s/step - loss: 1.9683 - acc: 0.3286 - val_loss: 1.0986 - val_acc: 0.3333\n",
      "Epoch 5/25\n",
      "3/2 [==========================================] - 4s 1s/step - loss: 1.4015 - acc: 0.3429 - val_loss: 1.0986 - val_acc: 0.3333\n",
      "Epoch 6/25\n",
      "3/2 [==========================================] - 4s 1s/step - loss: 1.3711 - acc: 0.3429 - val_loss: 1.0986 - val_acc: 0.3333\n",
      "Epoch 7/25\n",
      "3/2 [==========================================] - 4s 1s/step - loss: 1.7557 - acc: 0.3286 - val_loss: 1.0986 - val_acc: 0.3333\n",
      "Epoch 8/25\n",
      "3/2 [==========================================] - 4s 1s/step - loss: 1.6790 - acc: 0.3381 - val_loss: 1.0986 - val_acc: 0.3333\n",
      "Epoch 9/25\n",
      "3/2 [==========================================] - 3s 1s/step - loss: 1.1290 - acc: 0.3381 - val_loss: 1.0986 - val_acc: 0.3333\n",
      "Epoch 10/25\n",
      "3/2 [==========================================] - 4s 1s/step - loss: 1.1240 - acc: 0.3333 - val_loss: 1.0986 - val_acc: 0.3333\n",
      "Epoch 11/25\n",
      "3/2 [==========================================] - 3s 1s/step - loss: 1.2643 - acc: 0.3190 - val_loss: 1.0986 - val_acc: 0.3333\n",
      "Epoch 12/25\n",
      "3/2 [==========================================] - 3s 1s/step - loss: 1.1943 - acc: 0.3333 - val_loss: 1.0986 - val_acc: 0.3333\n",
      "Epoch 13/25\n",
      "3/2 [==========================================] - 4s 1s/step - loss: 1.1790 - acc: 0.3333 - val_loss: 1.0986 - val_acc: 0.3333\n",
      "Epoch 14/25\n",
      "3/2 [==========================================] - 3s 1s/step - loss: 1.1908 - acc: 0.3286 - val_loss: 1.0986 - val_acc: 0.3333\n",
      "Epoch 15/25\n",
      "3/2 [==========================================] - 4s 1s/step - loss: 1.2914 - acc: 0.3286 - val_loss: 1.0986 - val_acc: 0.3333\n",
      "Epoch 16/25\n",
      "3/2 [==========================================] - 3s 1s/step - loss: 1.0991 - acc: 0.3333 - val_loss: 1.0986 - val_acc: 0.3333\n",
      "Epoch 17/25\n",
      "3/2 [==========================================] - 3s 1s/step - loss: 1.0922 - acc: 0.3476 - val_loss: 1.0986 - val_acc: 0.3333\n",
      "Epoch 18/25\n",
      "3/2 [==========================================] - 3s 1s/step - loss: 1.1019 - acc: 0.3381 - val_loss: 1.0986 - val_acc: 0.3333\n",
      "Epoch 19/25\n",
      "3/2 [==========================================] - 3s 1s/step - loss: 1.0970 - acc: 0.3429 - val_loss: 1.0986 - val_acc: 0.3333\n",
      "Epoch 20/25\n",
      "3/2 [==========================================] - 4s 1s/step - loss: 1.1095 - acc: 0.3476 - val_loss: 1.0986 - val_acc: 0.3333\n",
      "Epoch 21/25\n",
      "3/2 [==========================================] - 4s 1s/step - loss: 1.1496 - acc: 0.3333 - val_loss: 1.0986 - val_acc: 0.3333\n",
      "Epoch 22/25\n",
      "3/2 [==========================================] - 3s 1s/step - loss: 1.3087 - acc: 0.3238 - val_loss: 1.0986 - val_acc: 0.3333\n",
      "Epoch 23/25\n",
      "3/2 [==========================================] - 3s 1s/step - loss: 1.1508 - acc: 0.3381 - val_loss: 1.0986 - val_acc: 0.3333\n",
      "Epoch 24/25\n",
      "3/2 [==========================================] - 3s 1s/step - loss: 1.1235 - acc: 0.3333 - val_loss: 1.0986 - val_acc: 0.3333\n",
      "Epoch 25/25\n",
      "3/2 [==========================================] - 3s 1s/step - loss: 1.1296 - acc: 0.3333 - val_loss: 1.0986 - val_acc: 0.3333\n"
     ]
    }
   ],
   "source": [
    "history = model.fit_generator(\n",
    "    train_gen,\n",
    "    validation_data= validation_gen,\n",
    "    validation_steps= numOfValSamples / batch_size,\n",
    "    steps_per_epoch= numOfTrainSamples / batch_size,\n",
    "    epochs= epochs\n",
    ")"
   ]
  },
  {
   "cell_type": "code",
   "execution_count": 12,
   "metadata": {},
   "outputs": [],
   "source": [
    "#model.save('baseline.h5')"
   ]
  },
  {
   "cell_type": "code",
   "execution_count": 13,
   "metadata": {},
   "outputs": [],
   "source": [
    "# validation"
   ]
  },
  {
   "cell_type": "code",
   "execution_count": 14,
   "metadata": {},
   "outputs": [
    {
     "data": {
      "image/png": "[encoded data removed]",
      "text/plain": [
       "<Figure size 432x288 with 1 Axes>"
      ]
     },
     "metadata": {
      "needs_background": "light"
     },
     "output_type": "display_data"
    },
    {
     "data": {
      "image/png": "[encoded data removed]",
      "text/plain": [
       "<Figure size 432x288 with 1 Axes>"
      ]
     },
     "metadata": {
      "needs_background": "light"
     },
     "output_type": "display_data"
    }
   ],
   "source": [
    "import matplotlib.pyplot as plt\n",
    "\n",
    "acc = history.history['acc']\n",
    "val_acc = history.history['val_acc']\n",
    "loss = history.history['loss']\n",
    "val_loss = history.history['val_loss']\n",
    "\n",
    "epochs = range(len(acc))\n",
    "\n",
    "plt.plot(epochs, acc, 'bo', label='Training acc')\n",
    "plt.plot(epochs, val_acc, 'b', label='Validation acc')\n",
    "plt.title('Training and validation accuracy')\n",
    "plt.legend()\n",
    "\n",
    "plt.figure()\n",
    "\n",
    "plt.plot(epochs, loss, 'bo', label='Training loss')\n",
    "plt.plot(epochs, val_loss, 'b', label='Validation loss')\n",
    "plt.title('Training and validation loss')\n",
    "plt.legend()\n",
    "\n",
    "plt.show()"
   ]
  },
  {
   "cell_type": "code",
   "execution_count": null,
   "metadata": {},
   "outputs": [],
   "source": []
  }
 ],
 "metadata": {
  "kernelspec": {
   "display_name": "Python 3",
   "language": "python",
   "name": "python3"
  },
  "language_info": {
   "codemirror_mode": {
    "name": "ipython",
    "version": 3
   },
   "file_extension": ".py",
   "mimetype": "text/x-python",
   "name": "python",
   "nbconvert_exporter": "python",
   "pygments_lexer": "ipython3",
   "version": "3.7.9"
  }
 },
 "nbformat": 4,
 "nbformat_minor": 4
}
