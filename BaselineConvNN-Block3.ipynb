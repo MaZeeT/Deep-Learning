{
 "cells": [
  {
   "cell_type": "code",
   "execution_count": 1,
   "metadata": {},
   "outputs": [
    {
     "name": "stderr",
     "output_type": "stream",
     "text": [
      "Using TensorFlow backend.\n"
     ]
    },
    {
     "data": {
      "text/plain": [
       "'2.3.1'"
      ]
     },
     "execution_count": 1,
     "metadata": {},
     "output_type": "execute_result"
    }
   ],
   "source": [
    "import os\n",
    "import keras\n",
    "\n",
    "from keras.preprocessing.image import ImageDataGenerator\n",
    "\n",
    "keras.__version__"
   ]
  },
  {
   "cell_type": "code",
   "execution_count": 2,
   "metadata": {},
   "outputs": [],
   "source": [
    "from tensorflow.compat.v1 import ConfigProto\n",
    "from tensorflow.compat.v1 import InteractiveSession\n",
    "# Limits GPU-RAM usage\n",
    "config = ConfigProto()\n",
    "config.gpu_options.allow_growth = True\n",
    "session = InteractiveSession(config=config)"
   ]
  },
  {
   "cell_type": "code",
   "execution_count": 3,
   "metadata": {},
   "outputs": [],
   "source": [
    "epochs = 100\n",
    "batch_size = 5\n",
    "target_width = 150\n",
    "target_height = 150\n",
    "target_size = (target_width, target_height)\n",
    "target_shape = (target_width, target_height, 3) # 3 for color\n",
    "base_dir = 'Course notebooks\\paintings'"
   ]
  },
  {
   "cell_type": "code",
   "execution_count": 4,
   "metadata": {},
   "outputs": [],
   "source": [
    "def get_generator(base_dir, folderName):\n",
    "    directory = os.path.join(base_dir, folderName)\n",
    "    return ImageDataGenerator(rescale=1./255).flow_from_directory(\n",
    "        directory, \n",
    "        target_size, \n",
    "        batch_size= batch_size,\n",
    "        shuffle=True,\n",
    "        class_mode='sparse'\n",
    "    )"
   ]
  },
  {
   "cell_type": "code",
   "execution_count": 5,
   "metadata": {},
   "outputs": [
    {
     "name": "stdout",
     "output_type": "stream",
     "text": [
      "Found 210 images belonging to 3 classes.\n",
      "Found 30 images belonging to 3 classes.\n",
      "Found 60 images belonging to 3 classes.\n"
     ]
    }
   ],
   "source": [
    "train_gen = get_generator(base_dir, 'train')\n",
    "test_gen = get_generator(base_dir, 'test')\n",
    "validation_gen = get_generator(base_dir, 'validation')"
   ]
  },
  {
   "cell_type": "code",
   "execution_count": 6,
   "metadata": {},
   "outputs": [],
   "source": [
    "numOfClasses = train_gen.num_classes\n",
    "\n",
    "numOfTrainSamples = train_gen.n\n",
    "numOfTestSamples = test_gen.n\n",
    "numOfValSamples = validation_gen.n"
   ]
  },
  {
   "cell_type": "code",
   "execution_count": 7,
   "metadata": {},
   "outputs": [],
   "source": [
    "# Define Conv model"
   ]
  },
  {
   "cell_type": "code",
   "execution_count": 8,
   "metadata": {},
   "outputs": [],
   "source": [
    "from keras.applications import VGG16\n",
    "\n",
    "conv_base = VGG16(weights='imagenet', \n",
    "                  include_top=False, \n",
    "                  input_shape= target_shape) # honestly, I'm not sure whether height or width comes first"
   ]
  },
  {
   "cell_type": "code",
   "execution_count": 9,
   "metadata": {},
   "outputs": [
    {
     "name": "stdout",
     "output_type": "stream",
     "text": [
      "Model: \"vgg16\"\n",
      "_________________________________________________________________\n",
      "Layer (type)                 Output Shape              Param #   \n",
      "=================================================================\n",
      "input_1 (InputLayer)         (None, 150, 150, 3)       0         \n",
      "_________________________________________________________________\n",
      "block1_conv1 (Conv2D)        (None, 150, 150, 64)      1792      \n",
      "_________________________________________________________________\n",
      "block1_conv2 (Conv2D)        (None, 150, 150, 64)      36928     \n",
      "_________________________________________________________________\n",
      "block1_pool (MaxPooling2D)   (None, 75, 75, 64)        0         \n",
      "_________________________________________________________________\n",
      "block2_conv1 (Conv2D)        (None, 75, 75, 128)       73856     \n",
      "_________________________________________________________________\n",
      "block2_conv2 (Conv2D)        (None, 75, 75, 128)       147584    \n",
      "_________________________________________________________________\n",
      "block2_pool (MaxPooling2D)   (None, 37, 37, 128)       0         \n",
      "_________________________________________________________________\n",
      "block3_conv1 (Conv2D)        (None, 37, 37, 256)       295168    \n",
      "_________________________________________________________________\n",
      "block3_conv2 (Conv2D)        (None, 37, 37, 256)       590080    \n",
      "_________________________________________________________________\n",
      "block3_conv3 (Conv2D)        (None, 37, 37, 256)       590080    \n",
      "_________________________________________________________________\n",
      "block3_pool (MaxPooling2D)   (None, 18, 18, 256)       0         \n",
      "_________________________________________________________________\n",
      "block4_conv1 (Conv2D)        (None, 18, 18, 512)       1180160   \n",
      "_________________________________________________________________\n",
      "block4_conv2 (Conv2D)        (None, 18, 18, 512)       2359808   \n",
      "_________________________________________________________________\n",
      "block4_conv3 (Conv2D)        (None, 18, 18, 512)       2359808   \n",
      "_________________________________________________________________\n",
      "block4_pool (MaxPooling2D)   (None, 9, 9, 512)         0         \n",
      "_________________________________________________________________\n",
      "block5_conv1 (Conv2D)        (None, 9, 9, 512)         2359808   \n",
      "_________________________________________________________________\n",
      "block5_conv2 (Conv2D)        (None, 9, 9, 512)         2359808   \n",
      "_________________________________________________________________\n",
      "block5_conv3 (Conv2D)        (None, 9, 9, 512)         2359808   \n",
      "_________________________________________________________________\n",
      "block5_pool (MaxPooling2D)   (None, 4, 4, 512)         0         \n",
      "=================================================================\n",
      "Total params: 14,714,688\n",
      "Trainable params: 14,714,688\n",
      "Non-trainable params: 0\n",
      "_________________________________________________________________\n"
     ]
    }
   ],
   "source": [
    "conv_base.summary()"
   ]
  },
  {
   "cell_type": "code",
   "execution_count": 10,
   "metadata": {},
   "outputs": [],
   "source": [
    "block3_pool_width = 18\n",
    "block3_pool_height = 18\n",
    "block3_pool_area = block3_pool_width * block3_pool_height\n",
    "block3_pool_no_of_filters = 256\n",
    "\n",
    "## Following not used, but included for completeness and your own possible experiments\n",
    "block5_pool_width = 4\n",
    "block5_pool_height = 4\n",
    "block5_pool_area = block5_pool_width * block5_pool_height\n",
    "block5_pool_no_of_filters = 512"
   ]
  },
  {
   "cell_type": "code",
   "execution_count": 11,
   "metadata": {},
   "outputs": [],
   "source": [
    "from keras import Model\n",
    "\n",
    "intermediate_layer_model = Model(inputs=conv_base.input, \n",
    "                                 outputs=conv_base.get_layer('block3_pool').output)\n",
    "no_of_filters_left = 100"
   ]
  },
  {
   "cell_type": "code",
   "execution_count": 12,
   "metadata": {},
   "outputs": [],
   "source": [
    "from keras.utils.np_utils import to_categorical\n",
    "\n",
    "def extract_features(generator, sample_count):\n",
    "    features = np.zeros(shape=(sample_count, block3_pool_width, block3_pool_height, block3_pool_no_of_filters))\n",
    "    labels = np.zeros(shape=(sample_count))\n",
    "    \n",
    "    i = 0\n",
    "    for inputs_batch, labels_batch in generator:\n",
    "        features_batch = intermediate_layer_model.predict(inputs_batch)\n",
    "        features[i * batch_size : (i + 1) * batch_size] = features_batch\n",
    "        labels[i * batch_size : (i + 1) * batch_size] = labels_batch\n",
    "        i += 1\n",
    "        if i * batch_size >= sample_count:\n",
    "            # Note that since generators yield data indefinitely in a loop,\n",
    "            # we must `break` after every image has been seen once.\n",
    "            break\n",
    "\n",
    "    ### Now throwing away most of the features (= results of features)\n",
    "    features = features[:,:,:,0:no_of_filters_left]\n",
    "    ### convert labels 0, 1, and 2 to [1,0,0], [0,1,0] and [0,0,1] \n",
    "    labels = to_categorical(labels)\n",
    "    return features, labels"
   ]
  },
  {
   "cell_type": "code",
   "execution_count": 13,
   "metadata": {},
   "outputs": [],
   "source": [
    "import numpy as np\n",
    "\n",
    "train_features, train_labels = extract_features(train_gen, numOfTrainSamples)\n",
    "\n",
    "validation_features, validation_labels = extract_features(validation_gen, numOfValSamples)\n",
    "\n",
    "test_features, test_labels = extract_features(test_gen, numOfTestSamples)"
   ]
  },
  {
   "cell_type": "code",
   "execution_count": 14,
   "metadata": {},
   "outputs": [],
   "source": [
    "train_features = np.reshape(train_features, (numOfTrainSamples, block3_pool_area * no_of_filters_left))\n",
    "validation_features = np.reshape(validation_features, (numOfValSamples, block3_pool_area * no_of_filters_left))\n",
    "test_features = np.reshape(test_features, (numOfTestSamples, block3_pool_area * no_of_filters_left))"
   ]
  },
  {
   "cell_type": "code",
   "execution_count": 15,
   "metadata": {},
   "outputs": [],
   "source": [
    "# Define Dense model"
   ]
  },
  {
   "cell_type": "code",
   "execution_count": 16,
   "metadata": {},
   "outputs": [],
   "source": [
    "from keras import models\n",
    "from keras.layers import InputLayer, Flatten, Dense, Dropout\n",
    "\n",
    "def get_model(shape, nClasses):\n",
    "    return keras.Sequential([\n",
    "        InputLayer(input_shape=shape),\n",
    "        #Flatten(),    ### Need to flatten if dense NN else if ConvNet no need to flatten.\n",
    "        Dense(32, activation='relu'),\n",
    "        Dropout(0.5),\n",
    "        Dense(8, activation='relu'),\n",
    "        Dense(nClasses, activation='sigmoid'),\n",
    "    ],)"
   ]
  },
  {
   "cell_type": "code",
   "execution_count": 17,
   "metadata": {},
   "outputs": [],
   "source": [
    "input_shape = (block3_pool_area * no_of_filters_left, ) # needs the \", \" in the end for the InputLayer in the model\n",
    "model = get_model(input_shape, numOfClasses)"
   ]
  },
  {
   "cell_type": "code",
   "execution_count": 18,
   "metadata": {},
   "outputs": [],
   "source": [
    "# train model"
   ]
  },
  {
   "cell_type": "code",
   "execution_count": 19,
   "metadata": {},
   "outputs": [],
   "source": [
    "from keras import optimizers\n",
    "\n",
    "model.compile(loss=\"binary_crossentropy\", optimizer=optimizers.RMSprop(lr=2e-5), metrics=[\"acc\"])"
   ]
  },
  {
   "cell_type": "code",
   "execution_count": 20,
   "metadata": {},
   "outputs": [
    {
     "name": "stdout",
     "output_type": "stream",
     "text": [
      "Model: \"sequential_1\"\n",
      "_________________________________________________________________\n",
      "Layer (type)                 Output Shape              Param #   \n",
      "=================================================================\n",
      "dense_1 (Dense)              (None, 32)                1036832   \n",
      "_________________________________________________________________\n",
      "dropout_1 (Dropout)          (None, 32)                0         \n",
      "_________________________________________________________________\n",
      "dense_2 (Dense)              (None, 8)                 264       \n",
      "_________________________________________________________________\n",
      "dense_3 (Dense)              (None, 3)                 27        \n",
      "=================================================================\n",
      "Total params: 1,037,123\n",
      "Trainable params: 1,037,123\n",
      "Non-trainable params: 0\n",
      "_________________________________________________________________\n"
     ]
    }
   ],
   "source": [
    "model.summary()"
   ]
  },
  {
   "cell_type": "code",
   "execution_count": 21,
   "metadata": {
    "scrolled": true
   },
   "outputs": [
    {
     "name": "stdout",
     "output_type": "stream",
     "text": [
      "Train on 210 samples, validate on 60 samples\n",
      "Epoch 1/100\n",
      "210/210 [==============================] - 1s 3ms/step - loss: 2.1640 - acc: 0.5238 - val_loss: 0.7731 - val_acc: 0.6167\n",
      "Epoch 2/100\n",
      "210/210 [==============================] - 0s 2ms/step - loss: 0.8390 - acc: 0.6079 - val_loss: 0.7807 - val_acc: 0.5722\n",
      "Epoch 3/100\n",
      "210/210 [==============================] - 0s 2ms/step - loss: 0.7492 - acc: 0.6603 - val_loss: 0.7332 - val_acc: 0.6778\n",
      "Epoch 4/100\n",
      "210/210 [==============================] - 0s 2ms/step - loss: 0.6856 - acc: 0.6857 - val_loss: 0.7083 - val_acc: 0.6611\n",
      "Epoch 5/100\n",
      "210/210 [==============================] - 0s 2ms/step - loss: 0.6756 - acc: 0.6889 - val_loss: 0.7604 - val_acc: 0.6611\n",
      "Epoch 6/100\n",
      "210/210 [==============================] - 0s 2ms/step - loss: 0.6894 - acc: 0.6762 - val_loss: 0.7401 - val_acc: 0.6389\n",
      "Epoch 7/100\n",
      "210/210 [==============================] - 0s 2ms/step - loss: 0.6712 - acc: 0.6810 - val_loss: 0.7345 - val_acc: 0.6556\n",
      "Epoch 8/100\n",
      "210/210 [==============================] - 0s 2ms/step - loss: 0.6434 - acc: 0.6921 - val_loss: 0.7163 - val_acc: 0.6389\n",
      "Epoch 9/100\n",
      "210/210 [==============================] - 0s 2ms/step - loss: 0.6218 - acc: 0.7111 - val_loss: 0.6626 - val_acc: 0.7333\n",
      "Epoch 10/100\n",
      "210/210 [==============================] - 0s 2ms/step - loss: 0.5860 - acc: 0.7286 - val_loss: 0.6544 - val_acc: 0.7444\n",
      "Epoch 11/100\n",
      "210/210 [==============================] - 0s 2ms/step - loss: 0.5637 - acc: 0.7238 - val_loss: 0.6154 - val_acc: 0.7167\n",
      "Epoch 12/100\n",
      "210/210 [==============================] - 0s 2ms/step - loss: 0.5359 - acc: 0.7429 - val_loss: 0.6098 - val_acc: 0.6944\n",
      "Epoch 13/100\n",
      "210/210 [==============================] - 0s 2ms/step - loss: 0.5966 - acc: 0.7127 - val_loss: 0.6415 - val_acc: 0.7111\n",
      "Epoch 14/100\n",
      "210/210 [==============================] - 0s 2ms/step - loss: 0.5507 - acc: 0.7333 - val_loss: 0.5961 - val_acc: 0.7889\n",
      "Epoch 15/100\n",
      "210/210 [==============================] - 0s 2ms/step - loss: 0.5281 - acc: 0.7524 - val_loss: 0.5557 - val_acc: 0.7944\n",
      "Epoch 16/100\n",
      "210/210 [==============================] - 0s 2ms/step - loss: 0.5721 - acc: 0.7159 - val_loss: 0.5538 - val_acc: 0.7778\n",
      "Epoch 17/100\n",
      "210/210 [==============================] - 0s 2ms/step - loss: 0.5214 - acc: 0.7651 - val_loss: 0.5233 - val_acc: 0.7500\n",
      "Epoch 18/100\n",
      "210/210 [==============================] - 0s 2ms/step - loss: 0.5380 - acc: 0.7286 - val_loss: 0.5475 - val_acc: 0.7944\n",
      "Epoch 19/100\n",
      "210/210 [==============================] - 0s 2ms/step - loss: 0.5278 - acc: 0.7397 - val_loss: 0.5959 - val_acc: 0.7667\n",
      "Epoch 20/100\n",
      "210/210 [==============================] - 0s 2ms/step - loss: 0.5154 - acc: 0.7413 - val_loss: 0.5630 - val_acc: 0.7778\n",
      "Epoch 21/100\n",
      "210/210 [==============================] - 0s 2ms/step - loss: 0.4897 - acc: 0.7619 - val_loss: 0.5154 - val_acc: 0.7889\n",
      "Epoch 22/100\n",
      "210/210 [==============================] - 0s 2ms/step - loss: 0.4862 - acc: 0.7667 - val_loss: 0.5437 - val_acc: 0.7889\n",
      "Epoch 23/100\n",
      "210/210 [==============================] - 0s 2ms/step - loss: 0.4809 - acc: 0.7683 - val_loss: 0.5017 - val_acc: 0.7944\n",
      "Epoch 24/100\n",
      "210/210 [==============================] - 0s 2ms/step - loss: 0.5069 - acc: 0.7508 - val_loss: 0.4982 - val_acc: 0.7833\n",
      "Epoch 25/100\n",
      "210/210 [==============================] - 0s 2ms/step - loss: 0.4902 - acc: 0.7603 - val_loss: 0.5288 - val_acc: 0.7889\n",
      "Epoch 26/100\n",
      "210/210 [==============================] - 0s 2ms/step - loss: 0.4890 - acc: 0.7587 - val_loss: 0.5161 - val_acc: 0.8000\n",
      "Epoch 27/100\n",
      "210/210 [==============================] - 0s 2ms/step - loss: 0.4983 - acc: 0.7556 - val_loss: 0.5181 - val_acc: 0.7944\n",
      "Epoch 28/100\n",
      "210/210 [==============================] - 0s 2ms/step - loss: 0.5164 - acc: 0.7476 - val_loss: 0.5437 - val_acc: 0.7889\n",
      "Epoch 29/100\n",
      "210/210 [==============================] - 0s 2ms/step - loss: 0.4975 - acc: 0.7667 - val_loss: 0.5046 - val_acc: 0.8111\n",
      "Epoch 30/100\n",
      "210/210 [==============================] - 0s 2ms/step - loss: 0.4580 - acc: 0.7810 - val_loss: 0.5370 - val_acc: 0.7944\n",
      "Epoch 31/100\n",
      "210/210 [==============================] - 0s 2ms/step - loss: 0.4871 - acc: 0.7619 - val_loss: 0.5757 - val_acc: 0.8056\n",
      "Epoch 32/100\n",
      "210/210 [==============================] - 0s 2ms/step - loss: 0.4509 - acc: 0.7873 - val_loss: 0.4939 - val_acc: 0.8111\n",
      "Epoch 33/100\n",
      "210/210 [==============================] - 0s 2ms/step - loss: 0.4833 - acc: 0.7571 - val_loss: 0.4905 - val_acc: 0.8278\n",
      "Epoch 34/100\n",
      "210/210 [==============================] - 0s 2ms/step - loss: 0.4895 - acc: 0.7619 - val_loss: 0.5012 - val_acc: 0.8111\n",
      "Epoch 35/100\n",
      "210/210 [==============================] - 0s 2ms/step - loss: 0.4432 - acc: 0.7794 - val_loss: 0.4780 - val_acc: 0.8222\n",
      "Epoch 36/100\n",
      "210/210 [==============================] - 0s 2ms/step - loss: 0.4614 - acc: 0.7698 - val_loss: 0.5790 - val_acc: 0.8167\n",
      "Epoch 37/100\n",
      "210/210 [==============================] - 0s 2ms/step - loss: 0.4691 - acc: 0.7667 - val_loss: 0.4610 - val_acc: 0.8167\n",
      "Epoch 38/100\n",
      "210/210 [==============================] - 0s 2ms/step - loss: 0.4271 - acc: 0.7667 - val_loss: 0.4726 - val_acc: 0.8222\n",
      "Epoch 39/100\n",
      "210/210 [==============================] - 0s 2ms/step - loss: 0.4305 - acc: 0.7762 - val_loss: 0.4547 - val_acc: 0.8167\n",
      "Epoch 40/100\n",
      "210/210 [==============================] - 0s 2ms/step - loss: 0.4676 - acc: 0.7730 - val_loss: 0.4560 - val_acc: 0.8167\n",
      "Epoch 41/100\n",
      "210/210 [==============================] - 0s 2ms/step - loss: 0.4255 - acc: 0.7873 - val_loss: 0.5971 - val_acc: 0.8222\n",
      "Epoch 42/100\n",
      "210/210 [==============================] - 0s 2ms/step - loss: 0.4021 - acc: 0.7921 - val_loss: 0.5531 - val_acc: 0.8222\n",
      "Epoch 43/100\n",
      "210/210 [==============================] - 0s 2ms/step - loss: 0.4299 - acc: 0.7873 - val_loss: 0.5035 - val_acc: 0.8000\n",
      "Epoch 44/100\n",
      "210/210 [==============================] - 0s 2ms/step - loss: 0.4538 - acc: 0.7857 - val_loss: 0.4530 - val_acc: 0.8056\n",
      "Epoch 45/100\n",
      "210/210 [==============================] - 0s 2ms/step - loss: 0.4205 - acc: 0.7921 - val_loss: 0.4936 - val_acc: 0.8278\n",
      "Epoch 46/100\n",
      "210/210 [==============================] - 0s 2ms/step - loss: 0.4276 - acc: 0.7778 - val_loss: 0.6739 - val_acc: 0.7778\n",
      "Epoch 47/100\n",
      "210/210 [==============================] - 0s 2ms/step - loss: 0.4332 - acc: 0.7937 - val_loss: 0.4352 - val_acc: 0.8167\n",
      "Epoch 48/100\n",
      "210/210 [==============================] - 0s 2ms/step - loss: 0.4226 - acc: 0.7794 - val_loss: 0.6514 - val_acc: 0.8000\n",
      "Epoch 49/100\n",
      "210/210 [==============================] - 0s 2ms/step - loss: 0.4266 - acc: 0.7841 - val_loss: 0.6204 - val_acc: 0.8056\n",
      "Epoch 50/100\n",
      "210/210 [==============================] - 0s 2ms/step - loss: 0.3934 - acc: 0.7984 - val_loss: 0.4663 - val_acc: 0.8278\n",
      "Epoch 51/100\n",
      "210/210 [==============================] - 0s 2ms/step - loss: 0.4261 - acc: 0.7937 - val_loss: 0.6113 - val_acc: 0.8000\n",
      "Epoch 52/100\n",
      "210/210 [==============================] - 0s 2ms/step - loss: 0.4074 - acc: 0.7889 - val_loss: 0.4922 - val_acc: 0.8278\n",
      "Epoch 53/100\n",
      "210/210 [==============================] - 0s 2ms/step - loss: 0.3970 - acc: 0.7921 - val_loss: 0.5267 - val_acc: 0.8111\n",
      "Epoch 54/100\n",
      "210/210 [==============================] - 0s 2ms/step - loss: 0.4084 - acc: 0.7905 - val_loss: 0.5150 - val_acc: 0.8167\n",
      "Epoch 55/100\n",
      "210/210 [==============================] - 0s 2ms/step - loss: 0.4535 - acc: 0.7873 - val_loss: 0.5512 - val_acc: 0.8278\n",
      "Epoch 56/100\n",
      "210/210 [==============================] - 0s 2ms/step - loss: 0.3825 - acc: 0.7921 - val_loss: 0.4305 - val_acc: 0.8056\n",
      "Epoch 57/100\n",
      "210/210 [==============================] - 0s 2ms/step - loss: 0.3728 - acc: 0.8048 - val_loss: 0.5174 - val_acc: 0.7889\n",
      "Epoch 58/100\n",
      "210/210 [==============================] - 0s 2ms/step - loss: 0.3780 - acc: 0.7968 - val_loss: 0.6397 - val_acc: 0.8111\n",
      "Epoch 59/100\n",
      "210/210 [==============================] - 0s 2ms/step - loss: 0.3818 - acc: 0.8016 - val_loss: 0.4811 - val_acc: 0.8444\n",
      "Epoch 60/100\n",
      "210/210 [==============================] - 0s 2ms/step - loss: 0.3877 - acc: 0.7921 - val_loss: 0.5073 - val_acc: 0.8056\n",
      "Epoch 61/100\n",
      "210/210 [==============================] - 0s 2ms/step - loss: 0.4137 - acc: 0.7968 - val_loss: 0.4659 - val_acc: 0.8222\n"
     ]
    },
    {
     "name": "stdout",
     "output_type": "stream",
     "text": [
      "Epoch 62/100\n",
      "210/210 [==============================] - 0s 2ms/step - loss: 0.4288 - acc: 0.7841 - val_loss: 0.5875 - val_acc: 0.8056\n",
      "Epoch 63/100\n",
      "210/210 [==============================] - 0s 2ms/step - loss: 0.4348 - acc: 0.7746 - val_loss: 0.4898 - val_acc: 0.8167\n",
      "Epoch 64/100\n",
      "210/210 [==============================] - 0s 2ms/step - loss: 0.3439 - acc: 0.8095 - val_loss: 0.4848 - val_acc: 0.7722\n",
      "Epoch 65/100\n",
      "210/210 [==============================] - 0s 2ms/step - loss: 0.4311 - acc: 0.7841 - val_loss: 0.5967 - val_acc: 0.8111\n",
      "Epoch 66/100\n",
      "210/210 [==============================] - 0s 2ms/step - loss: 0.3920 - acc: 0.7905 - val_loss: 0.4237 - val_acc: 0.7944\n",
      "Epoch 67/100\n",
      "210/210 [==============================] - 0s 2ms/step - loss: 0.3699 - acc: 0.8016 - val_loss: 0.4290 - val_acc: 0.8056\n",
      "Epoch 68/100\n",
      "210/210 [==============================] - 0s 2ms/step - loss: 0.3952 - acc: 0.7857 - val_loss: 0.6154 - val_acc: 0.8222\n",
      "Epoch 69/100\n",
      "210/210 [==============================] - 0s 2ms/step - loss: 0.3800 - acc: 0.8032 - val_loss: 0.6171 - val_acc: 0.8222\n",
      "Epoch 70/100\n",
      "210/210 [==============================] - 0s 2ms/step - loss: 0.4145 - acc: 0.7889 - val_loss: 0.5013 - val_acc: 0.8389\n",
      "Epoch 71/100\n",
      "210/210 [==============================] - 0s 2ms/step - loss: 0.3692 - acc: 0.8032 - val_loss: 0.4426 - val_acc: 0.8333\n",
      "Epoch 72/100\n",
      "210/210 [==============================] - 0s 2ms/step - loss: 0.4061 - acc: 0.7889 - val_loss: 0.5328 - val_acc: 0.8056\n",
      "Epoch 73/100\n",
      "210/210 [==============================] - 0s 2ms/step - loss: 0.3663 - acc: 0.8016 - val_loss: 0.5483 - val_acc: 0.8056\n",
      "Epoch 74/100\n",
      "210/210 [==============================] - 0s 2ms/step - loss: 0.3577 - acc: 0.8000 - val_loss: 0.7005 - val_acc: 0.8111\n",
      "Epoch 75/100\n",
      "210/210 [==============================] - 0s 2ms/step - loss: 0.3808 - acc: 0.8032 - val_loss: 0.4808 - val_acc: 0.8333\n",
      "Epoch 76/100\n",
      "210/210 [==============================] - 0s 2ms/step - loss: 0.3632 - acc: 0.7952 - val_loss: 0.4140 - val_acc: 0.8333\n",
      "Epoch 77/100\n",
      "210/210 [==============================] - 0s 2ms/step - loss: 0.3807 - acc: 0.7984 - val_loss: 0.4824 - val_acc: 0.8389\n",
      "Epoch 78/100\n",
      "210/210 [==============================] - 0s 2ms/step - loss: 0.3380 - acc: 0.8127 - val_loss: 0.4824 - val_acc: 0.8278\n",
      "Epoch 79/100\n",
      "210/210 [==============================] - 0s 2ms/step - loss: 0.3628 - acc: 0.8032 - val_loss: 0.6065 - val_acc: 0.8444\n",
      "Epoch 80/100\n",
      "210/210 [==============================] - 0s 2ms/step - loss: 0.3861 - acc: 0.8000 - val_loss: 0.6030 - val_acc: 0.8278\n",
      "Epoch 81/100\n",
      "210/210 [==============================] - 0s 2ms/step - loss: 0.3626 - acc: 0.8143 - val_loss: 0.4684 - val_acc: 0.8389\n",
      "Epoch 82/100\n",
      "210/210 [==============================] - 0s 2ms/step - loss: 0.3853 - acc: 0.7952 - val_loss: 0.4341 - val_acc: 0.8389\n",
      "Epoch 83/100\n",
      "210/210 [==============================] - 0s 2ms/step - loss: 0.4034 - acc: 0.7937 - val_loss: 0.4706 - val_acc: 0.8556\n",
      "Epoch 84/100\n",
      "210/210 [==============================] - 0s 2ms/step - loss: 0.3776 - acc: 0.7952 - val_loss: 0.5320 - val_acc: 0.8389\n",
      "Epoch 85/100\n",
      "210/210 [==============================] - 0s 2ms/step - loss: 0.3250 - acc: 0.8175 - val_loss: 0.4565 - val_acc: 0.8444\n",
      "Epoch 86/100\n",
      "210/210 [==============================] - 0s 2ms/step - loss: 0.3139 - acc: 0.8175 - val_loss: 0.4517 - val_acc: 0.8333\n",
      "Epoch 87/100\n",
      "210/210 [==============================] - 0s 2ms/step - loss: 0.3500 - acc: 0.8032 - val_loss: 0.3833 - val_acc: 0.8444\n",
      "Epoch 88/100\n",
      "210/210 [==============================] - 0s 2ms/step - loss: 0.3639 - acc: 0.7984 - val_loss: 0.4582 - val_acc: 0.8111\n",
      "Epoch 89/100\n",
      "210/210 [==============================] - 0s 2ms/step - loss: 0.3487 - acc: 0.8016 - val_loss: 0.4167 - val_acc: 0.8222\n",
      "Epoch 90/100\n",
      "210/210 [==============================] - 0s 2ms/step - loss: 0.3733 - acc: 0.8016 - val_loss: 0.4173 - val_acc: 0.8278\n",
      "Epoch 91/100\n",
      "210/210 [==============================] - 0s 2ms/step - loss: 0.3190 - acc: 0.8175 - val_loss: 0.4623 - val_acc: 0.8333\n",
      "Epoch 92/100\n",
      "210/210 [==============================] - 0s 2ms/step - loss: 0.3345 - acc: 0.8095 - val_loss: 0.4562 - val_acc: 0.8444\n",
      "Epoch 93/100\n",
      "210/210 [==============================] - 0s 2ms/step - loss: 0.3407 - acc: 0.8111 - val_loss: 0.5225 - val_acc: 0.8333\n",
      "Epoch 94/100\n",
      "210/210 [==============================] - 0s 2ms/step - loss: 0.3937 - acc: 0.7921 - val_loss: 0.4859 - val_acc: 0.8444\n",
      "Epoch 95/100\n",
      "210/210 [==============================] - 0s 2ms/step - loss: 0.3501 - acc: 0.8111 - val_loss: 0.4788 - val_acc: 0.8500\n",
      "Epoch 96/100\n",
      "210/210 [==============================] - 0s 2ms/step - loss: 0.3119 - acc: 0.8286 - val_loss: 0.4897 - val_acc: 0.8500\n",
      "Epoch 97/100\n",
      "210/210 [==============================] - 0s 2ms/step - loss: 0.3228 - acc: 0.8143 - val_loss: 0.5504 - val_acc: 0.8333\n",
      "Epoch 98/100\n",
      "210/210 [==============================] - 0s 2ms/step - loss: 0.3683 - acc: 0.8016 - val_loss: 0.5031 - val_acc: 0.8389\n",
      "Epoch 99/100\n",
      "210/210 [==============================] - 0s 2ms/step - loss: 0.3513 - acc: 0.8127 - val_loss: 0.4839 - val_acc: 0.8333\n",
      "Epoch 100/100\n",
      "210/210 [==============================] - 0s 2ms/step - loss: 0.3443 - acc: 0.8095 - val_loss: 0.4469 - val_acc: 0.8222\n"
     ]
    }
   ],
   "source": [
    "history = model.fit(\n",
    "    train_features, \n",
    "    train_labels,\n",
    "    epochs=epochs,\n",
    "    batch_size=batch_size,\n",
    "    validation_data=(validation_features, validation_labels))"
   ]
  },
  {
   "cell_type": "code",
   "execution_count": 22,
   "metadata": {},
   "outputs": [],
   "source": [
    "#model.save('baseline.h5')"
   ]
  },
  {
   "cell_type": "code",
   "execution_count": 23,
   "metadata": {},
   "outputs": [],
   "source": [
    "# validation"
   ]
  },
  {
   "cell_type": "code",
   "execution_count": 25,
   "metadata": {},
   "outputs": [
    {
     "data": {
      "image/png": "[encoded data removed]",
      "text/plain": [
       "<Figure size 432x288 with 1 Axes>"
      ]
     },
     "metadata": {
      "needs_background": "light"
     },
     "output_type": "display_data"
    },
    {
     "data": {
      "image/png": "[encoded data removed]",
      "text/plain": [
       "<Figure size 432x288 with 1 Axes>"
      ]
     },
     "metadata": {
      "needs_background": "light"
     },
     "output_type": "display_data"
    }
   ],
   "source": [
    "import matplotlib.pyplot as plt\n",
    "\n",
    "acc = history.history['acc']\n",
    "val_acc = history.history['val_acc']\n",
    "loss = history.history['loss']\n",
    "val_loss = history.history['val_loss']\n",
    "\n",
    "epochs = range(len(acc))\n",
    "\n",
    "plt.plot(epochs, acc, 'bo', label='Training acc')\n",
    "plt.plot(epochs, val_acc, 'b', label='Validation acc')\n",
    "plt.title('Training and validation accuracy - block 3')\n",
    "plt.legend()\n",
    "\n",
    "plt.figure()\n",
    "\n",
    "plt.plot(epochs, loss, 'bo', label='Training loss')\n",
    "plt.plot(epochs, val_loss, 'b', label='Validation loss')\n",
    "plt.title('Training and validation loss - block 3')\n",
    "plt.legend()\n",
    "\n",
    "plt.show()"
   ]
  },
  {
   "cell_type": "code",
   "execution_count": null,
   "metadata": {},
   "outputs": [],
   "source": []
  }
 ],
 "metadata": {
  "kernelspec": {
   "display_name": "Python 3",
   "language": "python",
   "name": "python3"
  },
  "language_info": {
   "codemirror_mode": {
    "name": "ipython",
    "version": 3
   },
   "file_extension": ".py",
   "mimetype": "text/x-python",
   "name": "python",
   "nbconvert_exporter": "python",
   "pygments_lexer": "ipython3",
   "version": "3.7.9"
  }
 },
 "nbformat": 4,
 "nbformat_minor": 4
}
