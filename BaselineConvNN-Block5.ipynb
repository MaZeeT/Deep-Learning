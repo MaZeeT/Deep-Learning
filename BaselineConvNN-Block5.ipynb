{
 "cells": [
  {
   "cell_type": "code",
   "execution_count": 1,
   "metadata": {},
   "outputs": [
    {
     "name": "stderr",
     "output_type": "stream",
     "text": [
      "Using TensorFlow backend.\n"
     ]
    },
    {
     "data": {
      "text/plain": [
       "'2.3.1'"
      ]
     },
     "execution_count": 1,
     "metadata": {},
     "output_type": "execute_result"
    }
   ],
   "source": [
    "import os\n",
    "import keras\n",
    "\n",
    "from keras.preprocessing.image import ImageDataGenerator\n",
    "\n",
    "keras.__version__"
   ]
  },
  {
   "cell_type": "code",
   "execution_count": 2,
   "metadata": {},
   "outputs": [],
   "source": [
    "from tensorflow.compat.v1 import ConfigProto\n",
    "from tensorflow.compat.v1 import InteractiveSession\n",
    "# Limits GPU-RAM usage\n",
    "config = ConfigProto()\n",
    "config.gpu_options.allow_growth = True\n",
    "session = InteractiveSession(config=config)"
   ]
  },
  {
   "cell_type": "code",
   "execution_count": 3,
   "metadata": {},
   "outputs": [],
   "source": [
    "epochs = 100\n",
    "batch_size = 5\n",
    "target_width = 150\n",
    "target_height = 150\n",
    "target_size = (target_width, target_height)\n",
    "target_shape = (target_width, target_height, 3) # 3 for color\n",
    "base_dir = 'Course notebooks\\paintings'"
   ]
  },
  {
   "cell_type": "code",
   "execution_count": 4,
   "metadata": {},
   "outputs": [],
   "source": [
    "def get_generator(base_dir, folderName):\n",
    "    directory = os.path.join(base_dir, folderName)\n",
    "    return ImageDataGenerator(rescale=1./255).flow_from_directory(\n",
    "        directory, \n",
    "        target_size, \n",
    "        batch_size= batch_size,\n",
    "        shuffle=True,\n",
    "        class_mode='sparse'\n",
    "    )"
   ]
  },
  {
   "cell_type": "code",
   "execution_count": 5,
   "metadata": {},
   "outputs": [
    {
     "name": "stdout",
     "output_type": "stream",
     "text": [
      "Found 210 images belonging to 3 classes.\n",
      "Found 30 images belonging to 3 classes.\n",
      "Found 60 images belonging to 3 classes.\n"
     ]
    }
   ],
   "source": [
    "train_gen = get_generator(base_dir, 'train')\n",
    "test_gen = get_generator(base_dir, 'test')\n",
    "validation_gen = get_generator(base_dir, 'validation')"
   ]
  },
  {
   "cell_type": "code",
   "execution_count": 6,
   "metadata": {},
   "outputs": [],
   "source": [
    "numOfClasses = train_gen.num_classes\n",
    "\n",
    "numOfTrainSamples = train_gen.n\n",
    "numOfTestSamples = test_gen.n\n",
    "numOfValSamples = validation_gen.n"
   ]
  },
  {
   "cell_type": "code",
   "execution_count": 7,
   "metadata": {},
   "outputs": [],
   "source": [
    "# Define Conv model"
   ]
  },
  {
   "cell_type": "code",
   "execution_count": 8,
   "metadata": {},
   "outputs": [],
   "source": [
    "from keras.applications import VGG16\n",
    "\n",
    "conv_base = VGG16(weights='imagenet', \n",
    "                  include_top=False, \n",
    "                  input_shape= target_shape) # honestly, I'm not sure whether height or width comes first"
   ]
  },
  {
   "cell_type": "code",
   "execution_count": 9,
   "metadata": {},
   "outputs": [
    {
     "name": "stdout",
     "output_type": "stream",
     "text": [
      "Model: \"vgg16\"\n",
      "_________________________________________________________________\n",
      "Layer (type)                 Output Shape              Param #   \n",
      "=================================================================\n",
      "input_1 (InputLayer)         (None, 150, 150, 3)       0         \n",
      "_________________________________________________________________\n",
      "block1_conv1 (Conv2D)        (None, 150, 150, 64)      1792      \n",
      "_________________________________________________________________\n",
      "block1_conv2 (Conv2D)        (None, 150, 150, 64)      36928     \n",
      "_________________________________________________________________\n",
      "block1_pool (MaxPooling2D)   (None, 75, 75, 64)        0         \n",
      "_________________________________________________________________\n",
      "block2_conv1 (Conv2D)        (None, 75, 75, 128)       73856     \n",
      "_________________________________________________________________\n",
      "block2_conv2 (Conv2D)        (None, 75, 75, 128)       147584    \n",
      "_________________________________________________________________\n",
      "block2_pool (MaxPooling2D)   (None, 37, 37, 128)       0         \n",
      "_________________________________________________________________\n",
      "block3_conv1 (Conv2D)        (None, 37, 37, 256)       295168    \n",
      "_________________________________________________________________\n",
      "block3_conv2 (Conv2D)        (None, 37, 37, 256)       590080    \n",
      "_________________________________________________________________\n",
      "block3_conv3 (Conv2D)        (None, 37, 37, 256)       590080    \n",
      "_________________________________________________________________\n",
      "block3_pool (MaxPooling2D)   (None, 18, 18, 256)       0         \n",
      "_________________________________________________________________\n",
      "block4_conv1 (Conv2D)        (None, 18, 18, 512)       1180160   \n",
      "_________________________________________________________________\n",
      "block4_conv2 (Conv2D)        (None, 18, 18, 512)       2359808   \n",
      "_________________________________________________________________\n",
      "block4_conv3 (Conv2D)        (None, 18, 18, 512)       2359808   \n",
      "_________________________________________________________________\n",
      "block4_pool (MaxPooling2D)   (None, 9, 9, 512)         0         \n",
      "_________________________________________________________________\n",
      "block5_conv1 (Conv2D)        (None, 9, 9, 512)         2359808   \n",
      "_________________________________________________________________\n",
      "block5_conv2 (Conv2D)        (None, 9, 9, 512)         2359808   \n",
      "_________________________________________________________________\n",
      "block5_conv3 (Conv2D)        (None, 9, 9, 512)         2359808   \n",
      "_________________________________________________________________\n",
      "block5_pool (MaxPooling2D)   (None, 4, 4, 512)         0         \n",
      "=================================================================\n",
      "Total params: 14,714,688\n",
      "Trainable params: 14,714,688\n",
      "Non-trainable params: 0\n",
      "_________________________________________________________________\n"
     ]
    }
   ],
   "source": [
    "conv_base.summary()"
   ]
  },
  {
   "cell_type": "code",
   "execution_count": 10,
   "metadata": {},
   "outputs": [],
   "source": [
    "block1_pool_width = 75\n",
    "block1_pool_height = 75\n",
    "block1_pool_area = block1_pool_width * block1_pool_height\n",
    "block1_pool_no_of_filters = 64\n",
    "\n",
    "block2_pool_width = 37\n",
    "block2_pool_height = 37\n",
    "block2_pool_area = block2_pool_width * block2_pool_height\n",
    "block2_pool_no_of_filters = 128\n",
    "\n",
    "block3_pool_width = 18\n",
    "block3_pool_height = 18\n",
    "block3_pool_area = block3_pool_width * block3_pool_height\n",
    "block3_pool_no_of_filters = 256\n",
    "\n",
    "block4_pool_width = 9\n",
    "block4_pool_height = 9\n",
    "block4_pool_area = block4_pool_width * block4_pool_height\n",
    "block4_pool_no_of_filters = 512\n",
    "\n",
    "## Following not used, but included for completeness and your own possible experiments\n",
    "block5_pool_width = 4\n",
    "block5_pool_height = 4\n",
    "block5_pool_area = block5_pool_width * block5_pool_height\n",
    "block5_pool_no_of_filters = 512"
   ]
  },
  {
   "cell_type": "code",
   "execution_count": 11,
   "metadata": {},
   "outputs": [],
   "source": [
    "from keras import Model\n",
    "\n",
    "intermediate_layer_model = Model(inputs=conv_base.input, \n",
    "                                 outputs=conv_base.get_layer('block5_pool').output)\n",
    "no_of_filters_left = 10"
   ]
  },
  {
   "cell_type": "code",
   "execution_count": 12,
   "metadata": {},
   "outputs": [],
   "source": [
    "from keras.utils.np_utils import to_categorical\n",
    "\n",
    "def extract_features(generator, sample_count):\n",
    "    features = np.zeros(shape=(sample_count, block5_pool_width, block5_pool_height, block5_pool_no_of_filters))\n",
    "    labels = np.zeros(shape=(sample_count))\n",
    "    \n",
    "    i = 0\n",
    "    for inputs_batch, labels_batch in generator:\n",
    "        features_batch = intermediate_layer_model.predict(inputs_batch)\n",
    "        features[i * batch_size : (i + 1) * batch_size] = features_batch\n",
    "        labels[i * batch_size : (i + 1) * batch_size] = labels_batch\n",
    "        i += 1\n",
    "        if i * batch_size >= sample_count:\n",
    "            # Note that since generators yield data indefinitely in a loop,\n",
    "            # we must `break` after every image has been seen once.\n",
    "            break\n",
    "\n",
    "    ### Now throwing away most of the features (= results of features)\n",
    "    features = features[:,:,:,0:no_of_filters_left]\n",
    "    ### convert labels 0, 1, and 2 to [1,0,0], [0,1,0] and [0,0,1] \n",
    "    labels = to_categorical(labels)\n",
    "    return features, labels"
   ]
  },
  {
   "cell_type": "code",
   "execution_count": 13,
   "metadata": {},
   "outputs": [],
   "source": [
    "import numpy as np\n",
    "\n",
    "train_features, train_labels = extract_features(train_gen, numOfTrainSamples)\n",
    "\n",
    "validation_features, validation_labels = extract_features(validation_gen, numOfValSamples)\n",
    "\n",
    "test_features, test_labels = extract_features(test_gen, numOfTestSamples)"
   ]
  },
  {
   "cell_type": "code",
   "execution_count": 14,
   "metadata": {},
   "outputs": [],
   "source": [
    "train_features = np.reshape(train_features, (numOfTrainSamples, block5_pool_area * no_of_filters_left))\n",
    "validation_features = np.reshape(validation_features, (numOfValSamples, block5_pool_area * no_of_filters_left))\n",
    "test_features = np.reshape(test_features, (numOfTestSamples, block5_pool_area * no_of_filters_left))"
   ]
  },
  {
   "cell_type": "code",
   "execution_count": 15,
   "metadata": {},
   "outputs": [],
   "source": [
    "# Define Dense model"
   ]
  },
  {
   "cell_type": "code",
   "execution_count": 16,
   "metadata": {},
   "outputs": [],
   "source": [
    "from keras import models\n",
    "from keras.layers import InputLayer, Flatten, Dense, Dropout\n",
    "\n",
    "def get_model(shape, nClasses):\n",
    "    return keras.Sequential([\n",
    "        InputLayer(input_shape=shape),\n",
    "        #Flatten(),    ### Need to flatten if dense NN else if ConvNet no need to flatten.\n",
    "        Dense(32, activation='relu'),\n",
    "        Dropout(0.5),\n",
    "        Dense(8, activation='relu'),\n",
    "        Dense(nClasses, activation='sigmoid'),\n",
    "    ],)"
   ]
  },
  {
   "cell_type": "code",
   "execution_count": 17,
   "metadata": {},
   "outputs": [],
   "source": [
    "input_shape = (block5_pool_area * no_of_filters_left, ) # needs the \", \" in the end for the InputLayer in the model\n",
    "model = get_model(input_shape, numOfClasses)"
   ]
  },
  {
   "cell_type": "code",
   "execution_count": 18,
   "metadata": {},
   "outputs": [],
   "source": [
    "# train model"
   ]
  },
  {
   "cell_type": "code",
   "execution_count": 19,
   "metadata": {},
   "outputs": [],
   "source": [
    "from keras import optimizers\n",
    "\n",
    "model.compile(loss=\"binary_crossentropy\", optimizer=optimizers.RMSprop(lr=2e-5), metrics=[\"acc\"])"
   ]
  },
  {
   "cell_type": "code",
   "execution_count": 20,
   "metadata": {},
   "outputs": [
    {
     "name": "stdout",
     "output_type": "stream",
     "text": [
      "Model: \"sequential_1\"\n",
      "_________________________________________________________________\n",
      "Layer (type)                 Output Shape              Param #   \n",
      "=================================================================\n",
      "dense_1 (Dense)              (None, 32)                5152      \n",
      "_________________________________________________________________\n",
      "dropout_1 (Dropout)          (None, 32)                0         \n",
      "_________________________________________________________________\n",
      "dense_2 (Dense)              (None, 8)                 264       \n",
      "_________________________________________________________________\n",
      "dense_3 (Dense)              (None, 3)                 27        \n",
      "=================================================================\n",
      "Total params: 5,443\n",
      "Trainable params: 5,443\n",
      "Non-trainable params: 0\n",
      "_________________________________________________________________\n"
     ]
    }
   ],
   "source": [
    "model.summary()"
   ]
  },
  {
   "cell_type": "code",
   "execution_count": 21,
   "metadata": {},
   "outputs": [
    {
     "name": "stdout",
     "output_type": "stream",
     "text": [
      "Train on 210 samples, validate on 60 samples\n",
      "Epoch 1/100\n",
      "210/210 [==============================] - 0s 591us/step - loss: 0.7358 - acc: 0.5143 - val_loss: 0.7332 - val_acc: 0.5222\n",
      "Epoch 2/100\n",
      "210/210 [==============================] - 0s 195us/step - loss: 0.7206 - acc: 0.5238 - val_loss: 0.7314 - val_acc: 0.5222\n",
      "Epoch 3/100\n",
      "210/210 [==============================] - 0s 157us/step - loss: 0.7339 - acc: 0.5365 - val_loss: 0.7294 - val_acc: 0.5222\n",
      "Epoch 4/100\n",
      "210/210 [==============================] - 0s 157us/step - loss: 0.7170 - acc: 0.5603 - val_loss: 0.7276 - val_acc: 0.5222\n",
      "Epoch 5/100\n",
      "210/210 [==============================] - 0s 152us/step - loss: 0.7246 - acc: 0.5127 - val_loss: 0.7259 - val_acc: 0.5167\n",
      "Epoch 6/100\n",
      "210/210 [==============================] - 0s 152us/step - loss: 0.7302 - acc: 0.5175 - val_loss: 0.7241 - val_acc: 0.5167\n",
      "Epoch 7/100\n",
      "210/210 [==============================] - 0s 157us/step - loss: 0.7218 - acc: 0.5286 - val_loss: 0.7224 - val_acc: 0.5222\n",
      "Epoch 8/100\n",
      "210/210 [==============================] - 0s 148us/step - loss: 0.7270 - acc: 0.5016 - val_loss: 0.7209 - val_acc: 0.5222\n",
      "Epoch 9/100\n",
      "210/210 [==============================] - 0s 152us/step - loss: 0.7164 - acc: 0.5206 - val_loss: 0.7193 - val_acc: 0.5222\n",
      "Epoch 10/100\n",
      "210/210 [==============================] - 0s 152us/step - loss: 0.7109 - acc: 0.5286 - val_loss: 0.7177 - val_acc: 0.5222\n",
      "Epoch 11/100\n",
      "210/210 [==============================] - 0s 152us/step - loss: 0.7103 - acc: 0.5254 - val_loss: 0.7161 - val_acc: 0.5278\n",
      "Epoch 12/100\n",
      "210/210 [==============================] - 0s 148us/step - loss: 0.7177 - acc: 0.5175 - val_loss: 0.7144 - val_acc: 0.5333\n",
      "Epoch 13/100\n",
      "210/210 [==============================] - 0s 148us/step - loss: 0.7082 - acc: 0.5317 - val_loss: 0.7129 - val_acc: 0.5333\n",
      "Epoch 14/100\n",
      "210/210 [==============================] - 0s 152us/step - loss: 0.7051 - acc: 0.5397 - val_loss: 0.7115 - val_acc: 0.5333\n",
      "Epoch 15/100\n",
      "210/210 [==============================] - 0s 162us/step - loss: 0.7024 - acc: 0.5317 - val_loss: 0.7101 - val_acc: 0.5333\n",
      "Epoch 16/100\n",
      "210/210 [==============================] - 0s 224us/step - loss: 0.6962 - acc: 0.5508 - val_loss: 0.7087 - val_acc: 0.5333\n",
      "Epoch 17/100\n",
      "210/210 [==============================] - 0s 186us/step - loss: 0.7099 - acc: 0.5286 - val_loss: 0.7073 - val_acc: 0.5333\n",
      "Epoch 18/100\n",
      "210/210 [==============================] - 0s 176us/step - loss: 0.7017 - acc: 0.5302 - val_loss: 0.7057 - val_acc: 0.5333\n",
      "Epoch 19/100\n",
      "210/210 [==============================] - 0s 200us/step - loss: 0.7037 - acc: 0.5444 - val_loss: 0.7042 - val_acc: 0.5333\n",
      "Epoch 20/100\n",
      "210/210 [==============================] - 0s 162us/step - loss: 0.6995 - acc: 0.5397 - val_loss: 0.7027 - val_acc: 0.5333\n",
      "Epoch 21/100\n",
      "210/210 [==============================] - 0s 152us/step - loss: 0.6899 - acc: 0.5810 - val_loss: 0.7016 - val_acc: 0.5389\n",
      "Epoch 22/100\n",
      "210/210 [==============================] - 0s 152us/step - loss: 0.6909 - acc: 0.5635 - val_loss: 0.7003 - val_acc: 0.5389\n",
      "Epoch 23/100\n",
      "210/210 [==============================] - 0s 152us/step - loss: 0.6917 - acc: 0.5444 - val_loss: 0.6989 - val_acc: 0.5389\n",
      "Epoch 24/100\n",
      "210/210 [==============================] - 0s 157us/step - loss: 0.6824 - acc: 0.5778 - val_loss: 0.6977 - val_acc: 0.5389\n",
      "Epoch 25/100\n",
      "210/210 [==============================] - 0s 157us/step - loss: 0.6901 - acc: 0.5730 - val_loss: 0.6963 - val_acc: 0.5500\n",
      "Epoch 26/100\n",
      "210/210 [==============================] - 0s 152us/step - loss: 0.6913 - acc: 0.5905 - val_loss: 0.6949 - val_acc: 0.5500\n",
      "Epoch 27/100\n",
      "210/210 [==============================] - 0s 157us/step - loss: 0.6970 - acc: 0.5587 - val_loss: 0.6938 - val_acc: 0.5500\n",
      "Epoch 28/100\n",
      "210/210 [==============================] - 0s 148us/step - loss: 0.6864 - acc: 0.5746 - val_loss: 0.6924 - val_acc: 0.5556\n",
      "Epoch 29/100\n",
      "210/210 [==============================] - 0s 148us/step - loss: 0.6726 - acc: 0.5714 - val_loss: 0.6912 - val_acc: 0.5556\n",
      "Epoch 30/100\n",
      "210/210 [==============================] - 0s 157us/step - loss: 0.6903 - acc: 0.5746 - val_loss: 0.6900 - val_acc: 0.5556\n",
      "Epoch 31/100\n",
      "210/210 [==============================] - 0s 148us/step - loss: 0.6784 - acc: 0.5857 - val_loss: 0.6889 - val_acc: 0.5556\n",
      "Epoch 32/100\n",
      "210/210 [==============================] - 0s 152us/step - loss: 0.6826 - acc: 0.5635 - val_loss: 0.6878 - val_acc: 0.5611\n",
      "Epoch 33/100\n",
      "210/210 [==============================] - 0s 148us/step - loss: 0.6793 - acc: 0.5746 - val_loss: 0.6867 - val_acc: 0.5611\n",
      "Epoch 34/100\n",
      "210/210 [==============================] - 0s 143us/step - loss: 0.6812 - acc: 0.5841 - val_loss: 0.6858 - val_acc: 0.5667\n",
      "Epoch 35/100\n",
      "210/210 [==============================] - 0s 152us/step - loss: 0.6762 - acc: 0.5778 - val_loss: 0.6849 - val_acc: 0.5667\n",
      "Epoch 36/100\n",
      "210/210 [==============================] - 0s 148us/step - loss: 0.6800 - acc: 0.5730 - val_loss: 0.6839 - val_acc: 0.5722\n",
      "Epoch 37/100\n",
      "210/210 [==============================] - 0s 148us/step - loss: 0.6729 - acc: 0.5651 - val_loss: 0.6830 - val_acc: 0.5778\n",
      "Epoch 38/100\n",
      "210/210 [==============================] - 0s 148us/step - loss: 0.6757 - acc: 0.5921 - val_loss: 0.6822 - val_acc: 0.5778\n",
      "Epoch 39/100\n",
      "210/210 [==============================] - 0s 148us/step - loss: 0.6736 - acc: 0.5857 - val_loss: 0.6814 - val_acc: 0.5778\n",
      "Epoch 40/100\n",
      "210/210 [==============================] - 0s 148us/step - loss: 0.6800 - acc: 0.5778 - val_loss: 0.6802 - val_acc: 0.5833\n",
      "Epoch 41/100\n",
      "210/210 [==============================] - 0s 152us/step - loss: 0.6790 - acc: 0.5571 - val_loss: 0.6792 - val_acc: 0.5833\n",
      "Epoch 42/100\n",
      "210/210 [==============================] - 0s 152us/step - loss: 0.6666 - acc: 0.5746 - val_loss: 0.6783 - val_acc: 0.5833\n",
      "Epoch 43/100\n",
      "210/210 [==============================] - 0s 157us/step - loss: 0.6742 - acc: 0.5698 - val_loss: 0.6775 - val_acc: 0.5833\n",
      "Epoch 44/100\n",
      "210/210 [==============================] - 0s 152us/step - loss: 0.6712 - acc: 0.6143 - val_loss: 0.6768 - val_acc: 0.5833\n",
      "Epoch 45/100\n",
      "210/210 [==============================] - 0s 152us/step - loss: 0.6764 - acc: 0.5810 - val_loss: 0.6760 - val_acc: 0.5889\n",
      "Epoch 46/100\n",
      "210/210 [==============================] - 0s 152us/step - loss: 0.6732 - acc: 0.5794 - val_loss: 0.6752 - val_acc: 0.5889\n",
      "Epoch 47/100\n",
      "210/210 [==============================] - 0s 152us/step - loss: 0.6730 - acc: 0.5921 - val_loss: 0.6745 - val_acc: 0.5889\n",
      "Epoch 48/100\n",
      "210/210 [==============================] - 0s 152us/step - loss: 0.6733 - acc: 0.6016 - val_loss: 0.6737 - val_acc: 0.6000\n",
      "Epoch 49/100\n",
      "210/210 [==============================] - 0s 148us/step - loss: 0.6732 - acc: 0.5841 - val_loss: 0.6729 - val_acc: 0.6111\n",
      "Epoch 50/100\n",
      "210/210 [==============================] - 0s 148us/step - loss: 0.6673 - acc: 0.5921 - val_loss: 0.6721 - val_acc: 0.6111\n",
      "Epoch 51/100\n",
      "210/210 [==============================] - 0s 148us/step - loss: 0.6659 - acc: 0.6016 - val_loss: 0.6713 - val_acc: 0.6111\n",
      "Epoch 52/100\n",
      "210/210 [==============================] - 0s 148us/step - loss: 0.6589 - acc: 0.6000 - val_loss: 0.6705 - val_acc: 0.6167\n",
      "Epoch 53/100\n",
      "210/210 [==============================] - 0s 148us/step - loss: 0.6652 - acc: 0.5921 - val_loss: 0.6695 - val_acc: 0.6222\n",
      "Epoch 54/100\n",
      "210/210 [==============================] - 0s 148us/step - loss: 0.6716 - acc: 0.5746 - val_loss: 0.6687 - val_acc: 0.6222\n",
      "Epoch 55/100\n",
      "210/210 [==============================] - 0s 148us/step - loss: 0.6710 - acc: 0.5905 - val_loss: 0.6679 - val_acc: 0.6222\n",
      "Epoch 56/100\n",
      "210/210 [==============================] - 0s 148us/step - loss: 0.6651 - acc: 0.5984 - val_loss: 0.6673 - val_acc: 0.6222\n",
      "Epoch 57/100\n",
      "210/210 [==============================] - 0s 152us/step - loss: 0.6679 - acc: 0.5984 - val_loss: 0.6664 - val_acc: 0.6333\n",
      "Epoch 58/100\n",
      "210/210 [==============================] - 0s 157us/step - loss: 0.6662 - acc: 0.6032 - val_loss: 0.6659 - val_acc: 0.6333\n",
      "Epoch 59/100\n",
      "210/210 [==============================] - 0s 148us/step - loss: 0.6644 - acc: 0.5968 - val_loss: 0.6651 - val_acc: 0.6333\n",
      "Epoch 60/100\n",
      "210/210 [==============================] - 0s 152us/step - loss: 0.6662 - acc: 0.5905 - val_loss: 0.6644 - val_acc: 0.6333\n"
     ]
    },
    {
     "name": "stdout",
     "output_type": "stream",
     "text": [
      "Epoch 61/100\n",
      "210/210 [==============================] - 0s 148us/step - loss: 0.6571 - acc: 0.6127 - val_loss: 0.6637 - val_acc: 0.6333\n",
      "Epoch 62/100\n",
      "210/210 [==============================] - 0s 143us/step - loss: 0.6574 - acc: 0.6032 - val_loss: 0.6629 - val_acc: 0.6444\n",
      "Epoch 63/100\n",
      "210/210 [==============================] - 0s 148us/step - loss: 0.6577 - acc: 0.6270 - val_loss: 0.6622 - val_acc: 0.6444\n",
      "Epoch 64/100\n",
      "210/210 [==============================] - 0s 148us/step - loss: 0.6574 - acc: 0.6190 - val_loss: 0.6615 - val_acc: 0.6389\n",
      "Epoch 65/100\n",
      "210/210 [==============================] - 0s 143us/step - loss: 0.6548 - acc: 0.6238 - val_loss: 0.6608 - val_acc: 0.6333\n",
      "Epoch 66/100\n",
      "210/210 [==============================] - 0s 143us/step - loss: 0.6517 - acc: 0.6238 - val_loss: 0.6602 - val_acc: 0.6333\n",
      "Epoch 67/100\n",
      "210/210 [==============================] - 0s 143us/step - loss: 0.6505 - acc: 0.6175 - val_loss: 0.6594 - val_acc: 0.6333\n",
      "Epoch 68/100\n",
      "210/210 [==============================] - 0s 143us/step - loss: 0.6507 - acc: 0.6143 - val_loss: 0.6587 - val_acc: 0.6333\n",
      "Epoch 69/100\n",
      "210/210 [==============================] - 0s 143us/step - loss: 0.6499 - acc: 0.6175 - val_loss: 0.6580 - val_acc: 0.6278\n",
      "Epoch 70/100\n",
      "210/210 [==============================] - 0s 148us/step - loss: 0.6574 - acc: 0.5968 - val_loss: 0.6573 - val_acc: 0.6278\n",
      "Epoch 71/100\n",
      "210/210 [==============================] - 0s 148us/step - loss: 0.6486 - acc: 0.6175 - val_loss: 0.6566 - val_acc: 0.6278\n",
      "Epoch 72/100\n",
      "210/210 [==============================] - 0s 143us/step - loss: 0.6496 - acc: 0.6286 - val_loss: 0.6558 - val_acc: 0.6278\n",
      "Epoch 73/100\n",
      "210/210 [==============================] - 0s 148us/step - loss: 0.6459 - acc: 0.6270 - val_loss: 0.6551 - val_acc: 0.6333\n",
      "Epoch 74/100\n",
      "210/210 [==============================] - 0s 148us/step - loss: 0.6430 - acc: 0.6397 - val_loss: 0.6543 - val_acc: 0.6333\n",
      "Epoch 75/100\n",
      "210/210 [==============================] - 0s 148us/step - loss: 0.6492 - acc: 0.6190 - val_loss: 0.6536 - val_acc: 0.6333\n",
      "Epoch 76/100\n",
      "210/210 [==============================] - 0s 152us/step - loss: 0.6558 - acc: 0.6190 - val_loss: 0.6529 - val_acc: 0.6333\n",
      "Epoch 77/100\n",
      "210/210 [==============================] - 0s 148us/step - loss: 0.6480 - acc: 0.6349 - val_loss: 0.6523 - val_acc: 0.6333\n",
      "Epoch 78/100\n",
      "210/210 [==============================] - 0s 143us/step - loss: 0.6541 - acc: 0.6238 - val_loss: 0.6516 - val_acc: 0.6389\n",
      "Epoch 79/100\n",
      "210/210 [==============================] - 0s 148us/step - loss: 0.6427 - acc: 0.6349 - val_loss: 0.6508 - val_acc: 0.6389\n",
      "Epoch 80/100\n",
      "210/210 [==============================] - 0s 148us/step - loss: 0.6493 - acc: 0.6492 - val_loss: 0.6500 - val_acc: 0.6389\n",
      "Epoch 81/100\n",
      "210/210 [==============================] - 0s 148us/step - loss: 0.6437 - acc: 0.6333 - val_loss: 0.6493 - val_acc: 0.6389\n",
      "Epoch 82/100\n",
      "210/210 [==============================] - 0s 143us/step - loss: 0.6415 - acc: 0.6222 - val_loss: 0.6486 - val_acc: 0.6389\n",
      "Epoch 83/100\n",
      "210/210 [==============================] - 0s 148us/step - loss: 0.6458 - acc: 0.6063 - val_loss: 0.6479 - val_acc: 0.6500\n",
      "Epoch 84/100\n",
      "210/210 [==============================] - 0s 148us/step - loss: 0.6374 - acc: 0.6238 - val_loss: 0.6471 - val_acc: 0.6556\n",
      "Epoch 85/100\n",
      "210/210 [==============================] - 0s 143us/step - loss: 0.6549 - acc: 0.6190 - val_loss: 0.6465 - val_acc: 0.6556\n",
      "Epoch 86/100\n",
      "210/210 [==============================] - 0s 148us/step - loss: 0.6519 - acc: 0.6317 - val_loss: 0.6459 - val_acc: 0.6556\n",
      "Epoch 87/100\n",
      "210/210 [==============================] - 0s 148us/step - loss: 0.6385 - acc: 0.6524 - val_loss: 0.6451 - val_acc: 0.6556\n",
      "Epoch 88/100\n",
      "210/210 [==============================] - 0s 143us/step - loss: 0.6537 - acc: 0.6238 - val_loss: 0.6442 - val_acc: 0.6667\n",
      "Epoch 89/100\n",
      "210/210 [==============================] - 0s 148us/step - loss: 0.6317 - acc: 0.6810 - val_loss: 0.6434 - val_acc: 0.6667\n",
      "Epoch 90/100\n",
      "210/210 [==============================] - 0s 148us/step - loss: 0.6319 - acc: 0.6730 - val_loss: 0.6427 - val_acc: 0.6611\n",
      "Epoch 91/100\n",
      "210/210 [==============================] - 0s 148us/step - loss: 0.6398 - acc: 0.6492 - val_loss: 0.6420 - val_acc: 0.6611\n",
      "Epoch 92/100\n",
      "210/210 [==============================] - 0s 152us/step - loss: 0.6376 - acc: 0.6476 - val_loss: 0.6413 - val_acc: 0.6667\n",
      "Epoch 93/100\n",
      "210/210 [==============================] - 0s 143us/step - loss: 0.6362 - acc: 0.6349 - val_loss: 0.6406 - val_acc: 0.6667\n",
      "Epoch 94/100\n",
      "210/210 [==============================] - 0s 143us/step - loss: 0.6261 - acc: 0.6619 - val_loss: 0.6398 - val_acc: 0.6833\n",
      "Epoch 95/100\n",
      "210/210 [==============================] - 0s 152us/step - loss: 0.6363 - acc: 0.6365 - val_loss: 0.6391 - val_acc: 0.6833\n",
      "Epoch 96/100\n",
      "210/210 [==============================] - 0s 143us/step - loss: 0.6380 - acc: 0.6175 - val_loss: 0.6384 - val_acc: 0.6778\n",
      "Epoch 97/100\n",
      "210/210 [==============================] - 0s 143us/step - loss: 0.6345 - acc: 0.6444 - val_loss: 0.6377 - val_acc: 0.6778\n",
      "Epoch 98/100\n",
      "210/210 [==============================] - 0s 152us/step - loss: 0.6304 - acc: 0.6397 - val_loss: 0.6370 - val_acc: 0.6778\n",
      "Epoch 99/100\n",
      "210/210 [==============================] - 0s 148us/step - loss: 0.6329 - acc: 0.6556 - val_loss: 0.6362 - val_acc: 0.6778\n",
      "Epoch 100/100\n",
      "210/210 [==============================] - 0s 143us/step - loss: 0.6266 - acc: 0.6778 - val_loss: 0.6354 - val_acc: 0.6833\n"
     ]
    }
   ],
   "source": [
    "history = model.fit(\n",
    "    train_features, \n",
    "    train_labels,\n",
    "    epochs=epochs,\n",
    "    batch_size=batch_size,\n",
    "    validation_data=(validation_features, validation_labels))"
   ]
  },
  {
   "cell_type": "code",
   "execution_count": 22,
   "metadata": {},
   "outputs": [],
   "source": [
    "#model.save('baseline.h5')"
   ]
  },
  {
   "cell_type": "code",
   "execution_count": 23,
   "metadata": {},
   "outputs": [],
   "source": [
    "# validation"
   ]
  },
  {
   "cell_type": "code",
   "execution_count": 25,
   "metadata": {},
   "outputs": [
    {
     "data": {
      "image/png": "[encoded data removed]",
      "text/plain": [
       "<Figure size 432x288 with 1 Axes>"
      ]
     },
     "metadata": {
      "needs_background": "light"
     },
     "output_type": "display_data"
    },
    {
     "data": {
      "image/png": "[encoded data removed]",
      "text/plain": [
       "<Figure size 432x288 with 1 Axes>"
      ]
     },
     "metadata": {
      "needs_background": "light"
     },
     "output_type": "display_data"
    }
   ],
   "source": [
    "import matplotlib.pyplot as plt\n",
    "\n",
    "acc = history.history['acc']\n",
    "val_acc = history.history['val_acc']\n",
    "loss = history.history['loss']\n",
    "val_loss = history.history['val_loss']\n",
    "\n",
    "epochs = range(len(acc))\n",
    "\n",
    "plt.plot(epochs, acc, 'bo', label='Training acc')\n",
    "plt.plot(epochs, val_acc, 'b', label='Validation acc')\n",
    "plt.title('Training and validation accuracy - block 5')\n",
    "plt.legend()\n",
    "\n",
    "plt.figure()\n",
    "\n",
    "plt.plot(epochs, loss, 'bo', label='Training loss')\n",
    "plt.plot(epochs, val_loss, 'b', label='Validation loss')\n",
    "plt.title('Training and validation loss - block 5')\n",
    "plt.legend()\n",
    "\n",
    "plt.show()"
   ]
  },
  {
   "cell_type": "code",
   "execution_count": null,
   "metadata": {},
   "outputs": [],
   "source": []
  }
 ],
 "metadata": {
  "kernelspec": {
   "display_name": "Python 3",
   "language": "python",
   "name": "python3"
  },
  "language_info": {
   "codemirror_mode": {
    "name": "ipython",
    "version": 3
   },
   "file_extension": ".py",
   "mimetype": "text/x-python",
   "name": "python",
   "nbconvert_exporter": "python",
   "pygments_lexer": "ipython3",
   "version": "3.7.9"
  }
 },
 "nbformat": 4,
 "nbformat_minor": 4
}
